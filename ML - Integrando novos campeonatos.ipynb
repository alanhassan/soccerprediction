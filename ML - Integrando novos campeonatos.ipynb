{
 "cells": [
  {
   "cell_type": "code",
   "execution_count": null,
   "id": "02d76452",
   "metadata": {},
   "outputs": [],
   "source": []
  },
  {
   "cell_type": "code",
   "execution_count": 5,
   "id": "ed2a70ae",
   "metadata": {},
   "outputs": [
    {
     "name": "stdout",
     "output_type": "stream",
     "text": [
      "2.1.1\n"
     ]
    }
   ],
   "source": [
    "# importando os pacoteshttp://localhost:8888/notebooks/TCC_0323.ipynb#\n",
    "import warnings\n",
    "warnings.filterwarnings(\"ignore\")\n",
    "import pandas as pd\n",
    "import numpy as np\n",
    "import matplotlib.pyplot as plt\n",
    "import seaborn as sns\n",
    "sns.set_theme(style='whitegrid')\n",
    "import pandas as pd\n",
    "print(pd.__version__)"
   ]
  },
  {
   "cell_type": "code",
   "execution_count": 6,
   "id": "6bbd9607",
   "metadata": {},
   "outputs": [
    {
     "name": "stdout",
     "output_type": "stream",
     "text": [
      "^C\n"
     ]
    },
    {
     "name": "stdout",
     "output_type": "stream",
     "text": [
      "Requirement already satisfied: seaborn in c:\\users\\alan.hassan\\appdata\\local\\programs\\python\\python312\\lib\\site-packages (0.13.0)\n",
      "Requirement already satisfied: numpy!=1.24.0,>=1.20 in c:\\users\\alan.hassan\\appdata\\local\\programs\\python\\python312\\lib\\site-packages (from seaborn) (1.26.1)\n",
      "Requirement already satisfied: pandas>=1.2 in c:\\users\\alan.hassan\\appdata\\local\\programs\\python\\python312\\lib\\site-packages (from seaborn) (2.1.1)\n",
      "Requirement already satisfied: matplotlib!=3.6.1,>=3.3 in c:\\users\\alan.hassan\\appdata\\local\\programs\\python\\python312\\lib\\site-packages (from seaborn) (3.8.0)\n",
      "Requirement already satisfied: contourpy>=1.0.1 in c:\\users\\alan.hassan\\appdata\\local\\programs\\python\\python312\\lib\\site-packages (from matplotlib!=3.6.1,>=3.3->seaborn) (1.1.1)\n",
      "Requirement already satisfied: cycler>=0.10 in c:\\users\\alan.hassan\\appdata\\local\\programs\\python\\python312\\lib\\site-packages (from matplotlib!=3.6.1,>=3.3->seaborn) (0.12.1)\n",
      "Requirement already satisfied: fonttools>=4.22.0 in c:\\users\\alan.hassan\\appdata\\local\\programs\\python\\python312\\lib\\site-packages (from matplotlib!=3.6.1,>=3.3->seaborn) (4.43.1)\n",
      "Requirement already satisfied: kiwisolver>=1.0.1 in c:\\users\\alan.hassan\\appdata\\local\\programs\\python\\python312\\lib\\site-packages (from matplotlib!=3.6.1,>=3.3->seaborn) (1.4.5)\n",
      "Requirement already satisfied: packaging>=20.0 in c:\\users\\alan.hassan\\appdata\\local\\programs\\python\\python312\\lib\\site-packages (from matplotlib!=3.6.1,>=3.3->seaborn) (23.2)\n",
      "Requirement already satisfied: pillow>=6.2.0 in c:\\users\\alan.hassan\\appdata\\local\\programs\\python\\python312\\lib\\site-packages (from matplotlib!=3.6.1,>=3.3->seaborn) (10.1.0)\n",
      "Requirement already satisfied: pyparsing>=2.3.1 in c:\\users\\alan.hassan\\appdata\\local\\programs\\python\\python312\\lib\\site-packages (from matplotlib!=3.6.1,>=3.3->seaborn) (3.1.1)\n",
      "Requirement already satisfied: python-dateutil>=2.7 in c:\\users\\alan.hassan\\appdata\\local\\programs\\python\\python312\\lib\\site-packages (from matplotlib!=3.6.1,>=3.3->seaborn) (2.8.2)\n",
      "Requirement already satisfied: pytz>=2020.1 in c:\\users\\alan.hassan\\appdata\\local\\programs\\python\\python312\\lib\\site-packages (from pandas>=1.2->seaborn) (2023.3.post1)\n",
      "Requirement already satisfied: tzdata>=2022.1 in c:\\users\\alan.hassan\\appdata\\local\\programs\\python\\python312\\lib\\site-packages (from pandas>=1.2->seaborn) (2023.3)\n",
      "Requirement already satisfied: six>=1.5 in c:\\users\\alan.hassan\\appdata\\local\\programs\\python\\python312\\lib\\site-packages (from python-dateutil>=2.7->matplotlib!=3.6.1,>=3.3->seaborn) (1.16.0)\n"
     ]
    }
   ],
   "source": [
    "!pip3 install seaborn\n"
   ]
  },
  {
   "cell_type": "code",
   "execution_count": null,
   "id": "ef5de44f",
   "metadata": {},
   "outputs": [],
   "source": [
    "# configuração da exibição\n",
    "pd.set_option('display.max_rows', 500)\n",
    "pd.set_option('display.max_columns', 500)"
   ]
  },
  {
   "cell_type": "code",
   "execution_count": null,
   "id": "db516fe0",
   "metadata": {},
   "outputs": [],
   "source": [
    "# importando a base de treino (dados de 2017 até 2022)\n",
    "df = pd.read_excel('leagues.xlsx')"
   ]
  },
  {
   "cell_type": "code",
   "execution_count": null,
   "id": "ae1242a6",
   "metadata": {},
   "outputs": [
    {
     "data": {
      "text/plain": [
       "date                   datetime64[ns]\n",
       "comp                           object\n",
       "team                           object\n",
       "opponent                       object\n",
       "venue                          object\n",
       "gf                             object\n",
       "ga                             object\n",
       "result                         object\n",
       "Points last season_           float64\n",
       "dtype: object"
      ]
     },
     "execution_count": 10,
     "metadata": {},
     "output_type": "execute_result"
    }
   ],
   "source": [
    "df.dtypes"
   ]
  },
  {
   "cell_type": "code",
   "execution_count": null,
   "id": "7d4b6d00",
   "metadata": {},
   "outputs": [
    {
     "data": {
      "text/plain": [
       "array(['Série A', 'La Liga', 'Premier League', 'Serie A', 'Ligue 1',\n",
       "       'Bundesliga', 'Primeira Liga', 'Eredivisie', 'A-League',\n",
       "       'Pro League A'], dtype=object)"
      ]
     },
     "execution_count": 12,
     "metadata": {},
     "output_type": "execute_result"
    }
   ],
   "source": [
    "df.comp.unique()"
   ]
  },
  {
   "cell_type": "code",
   "execution_count": null,
   "id": "9676dad3",
   "metadata": {},
   "outputs": [
    {
     "name": "stdout",
     "output_type": "stream",
     "text": [
      "date                   datetime64[ns]\n",
      "comp                           object\n",
      "team                           object\n",
      "opponent                       object\n",
      "venue                          object\n",
      "gf                            float64\n",
      "ga                            float64\n",
      "result                         object\n",
      "Points last season_           float64\n",
      "dtype: object\n"
     ]
    }
   ],
   "source": [
    "# Convert specific columns from 'object' to 'float'\n",
    "columns_to_convert = ['gf', 'ga']\n",
    "\n",
    "# Use pd.to_numeric to convert columns to float\n",
    "df[columns_to_convert] = df[columns_to_convert].apply(pd.to_numeric, errors='coerce')\n",
    "\n",
    "# 'errors' parameter is set to 'coerce' to handle non-numeric values by converting them to NaN\n",
    "\n",
    "# Now, the specified columns are of data type 'float'\n",
    "print(df.dtypes)"
   ]
  },
  {
   "cell_type": "code",
   "execution_count": null,
   "id": "4fb2a8ba",
   "metadata": {},
   "outputs": [],
   "source": [
    "#df = df[df['date']<= '2022-07-01']"
   ]
  },
  {
   "cell_type": "code",
   "execution_count": null,
   "id": "a32235f9",
   "metadata": {},
   "outputs": [],
   "source": [
    "# inserindo uma coluna com a pontuação obtida em cada partida\n",
    "df['pont'] = df['result'].replace({'L': 0, 'D': 1, 'W':3})"
   ]
  },
  {
   "cell_type": "code",
   "execution_count": null,
   "id": "c7b5f1dd",
   "metadata": {},
   "outputs": [
    {
     "data": {
      "text/html": [
       "<div>\n",
       "<style scoped>\n",
       "    .dataframe tbody tr th:only-of-type {\n",
       "        vertical-align: middle;\n",
       "    }\n",
       "\n",
       "    .dataframe tbody tr th {\n",
       "        vertical-align: top;\n",
       "    }\n",
       "\n",
       "    .dataframe thead th {\n",
       "        text-align: right;\n",
       "    }\n",
       "</style>\n",
       "<table border=\"1\" class=\"dataframe\">\n",
       "  <thead>\n",
       "    <tr style=\"text-align: right;\">\n",
       "      <th></th>\n",
       "      <th>date</th>\n",
       "      <th>comp</th>\n",
       "      <th>team</th>\n",
       "      <th>opponent</th>\n",
       "      <th>venue</th>\n",
       "      <th>gf</th>\n",
       "      <th>ga</th>\n",
       "      <th>result</th>\n",
       "      <th>Points last season_</th>\n",
       "      <th>pont</th>\n",
       "    </tr>\n",
       "  </thead>\n",
       "  <tbody>\n",
       "    <tr>\n",
       "      <th>22613</th>\n",
       "      <td>2017-05-13</td>\n",
       "      <td>Série A</td>\n",
       "      <td>Flamengo</td>\n",
       "      <td>Atletico Mineiro</td>\n",
       "      <td>Home</td>\n",
       "      <td>1.0</td>\n",
       "      <td>1.0</td>\n",
       "      <td>D</td>\n",
       "      <td>71.0</td>\n",
       "      <td>1</td>\n",
       "    </tr>\n",
       "    <tr>\n",
       "      <th>22615</th>\n",
       "      <td>2017-05-13</td>\n",
       "      <td>Série A</td>\n",
       "      <td>Atletico Mineiro</td>\n",
       "      <td>Flamengo</td>\n",
       "      <td>Away</td>\n",
       "      <td>1.0</td>\n",
       "      <td>1.0</td>\n",
       "      <td>D</td>\n",
       "      <td>62.0</td>\n",
       "      <td>1</td>\n",
       "    </tr>\n",
       "    <tr>\n",
       "      <th>22614</th>\n",
       "      <td>2017-05-13</td>\n",
       "      <td>Série A</td>\n",
       "      <td>Chapecoense</td>\n",
       "      <td>Corinthians</td>\n",
       "      <td>Away</td>\n",
       "      <td>1.0</td>\n",
       "      <td>1.0</td>\n",
       "      <td>D</td>\n",
       "      <td>52.0</td>\n",
       "      <td>1</td>\n",
       "    </tr>\n",
       "    <tr>\n",
       "      <th>22612</th>\n",
       "      <td>2017-05-13</td>\n",
       "      <td>Série A</td>\n",
       "      <td>Corinthians</td>\n",
       "      <td>Chapecoense</td>\n",
       "      <td>Home</td>\n",
       "      <td>1.0</td>\n",
       "      <td>1.0</td>\n",
       "      <td>D</td>\n",
       "      <td>55.0</td>\n",
       "      <td>1</td>\n",
       "    </tr>\n",
       "    <tr>\n",
       "      <th>22607</th>\n",
       "      <td>2017-05-14</td>\n",
       "      <td>Série A</td>\n",
       "      <td>Fluminense</td>\n",
       "      <td>Santos</td>\n",
       "      <td>Home</td>\n",
       "      <td>3.0</td>\n",
       "      <td>2.0</td>\n",
       "      <td>W</td>\n",
       "      <td>50.0</td>\n",
       "      <td>3</td>\n",
       "    </tr>\n",
       "  </tbody>\n",
       "</table>\n",
       "</div>"
      ],
      "text/plain": [
       "            date     comp              team          opponent venue   gf   ga  \\\n",
       "22613 2017-05-13  Série A          Flamengo  Atletico Mineiro  Home  1.0  1.0   \n",
       "22615 2017-05-13  Série A  Atletico Mineiro          Flamengo  Away  1.0  1.0   \n",
       "22614 2017-05-13  Série A       Chapecoense       Corinthians  Away  1.0  1.0   \n",
       "22612 2017-05-13  Série A       Corinthians       Chapecoense  Home  1.0  1.0   \n",
       "22607 2017-05-14  Série A        Fluminense            Santos  Home  3.0  2.0   \n",
       "\n",
       "      result  Points last season_  pont  \n",
       "22613      D                 71.0     1  \n",
       "22615      D                 62.0     1  \n",
       "22614      D                 52.0     1  \n",
       "22612      D                 55.0     1  \n",
       "22607      W                 50.0     3  "
      ]
     },
     "execution_count": 17,
     "metadata": {},
     "output_type": "execute_result"
    }
   ],
   "source": [
    "df.head()"
   ]
  },
  {
   "cell_type": "code",
   "execution_count": null,
   "id": "49880a86",
   "metadata": {},
   "outputs": [],
   "source": [
    "# último resultado do confronto entre os times\n",
    "# sort the DataFrame by date\n",
    "df = df.sort_values(by='date')\n",
    "\n",
    "# group the DataFrame by the home team and away team\n",
    "grouped = df.groupby(['team', 'opponent'])"
   ]
  },
  {
   "cell_type": "code",
   "execution_count": null,
   "id": "0018be00",
   "metadata": {},
   "outputs": [],
   "source": [
    "grouped_df = grouped['pont'].apply(lambda x: x.rolling(2, closed='right').sum()).reset_index(drop=True)"
   ]
  },
  {
   "cell_type": "code",
   "execution_count": null,
   "id": "621ae932",
   "metadata": {},
   "outputs": [],
   "source": [
    "df['last_2_results_sum'] = grouped_df"
   ]
  },
  {
   "cell_type": "code",
   "execution_count": null,
   "id": "eaa7fd39",
   "metadata": {},
   "outputs": [
    {
     "data": {
      "text/plain": [
       "(38874, 11)"
      ]
     },
     "execution_count": 36,
     "metadata": {},
     "output_type": "execute_result"
    }
   ],
   "source": [
    "df.shape"
   ]
  },
  {
   "cell_type": "code",
   "execution_count": null,
   "id": "c7682349",
   "metadata": {},
   "outputs": [
    {
     "data": {
      "text/html": [
       "<div>\n",
       "<style scoped>\n",
       "    .dataframe tbody tr th:only-of-type {\n",
       "        vertical-align: middle;\n",
       "    }\n",
       "\n",
       "    .dataframe tbody tr th {\n",
       "        vertical-align: top;\n",
       "    }\n",
       "\n",
       "    .dataframe thead th {\n",
       "        text-align: right;\n",
       "    }\n",
       "</style>\n",
       "<table border=\"1\" class=\"dataframe\">\n",
       "  <thead>\n",
       "    <tr style=\"text-align: right;\">\n",
       "      <th></th>\n",
       "      <th>date</th>\n",
       "      <th>comp</th>\n",
       "      <th>team</th>\n",
       "      <th>opponent</th>\n",
       "      <th>venue</th>\n",
       "      <th>gf</th>\n",
       "      <th>ga</th>\n",
       "      <th>result</th>\n",
       "      <th>Points last season_</th>\n",
       "      <th>pont</th>\n",
       "      <th>last_2_results_sum</th>\n",
       "    </tr>\n",
       "  </thead>\n",
       "  <tbody>\n",
       "    <tr>\n",
       "      <th>0</th>\n",
       "      <td>2017-05-13</td>\n",
       "      <td>Série A</td>\n",
       "      <td>Flamengo</td>\n",
       "      <td>Atletico Mineiro</td>\n",
       "      <td>Home</td>\n",
       "      <td>1.0</td>\n",
       "      <td>1.0</td>\n",
       "      <td>D</td>\n",
       "      <td>71.0</td>\n",
       "      <td>1</td>\n",
       "      <td>NaN</td>\n",
       "    </tr>\n",
       "    <tr>\n",
       "      <th>1</th>\n",
       "      <td>2017-05-13</td>\n",
       "      <td>Série A</td>\n",
       "      <td>Atletico Mineiro</td>\n",
       "      <td>Flamengo</td>\n",
       "      <td>Away</td>\n",
       "      <td>1.0</td>\n",
       "      <td>1.0</td>\n",
       "      <td>D</td>\n",
       "      <td>62.0</td>\n",
       "      <td>1</td>\n",
       "      <td>0.0</td>\n",
       "    </tr>\n",
       "    <tr>\n",
       "      <th>2</th>\n",
       "      <td>2017-05-13</td>\n",
       "      <td>Série A</td>\n",
       "      <td>Chapecoense</td>\n",
       "      <td>Corinthians</td>\n",
       "      <td>Away</td>\n",
       "      <td>1.0</td>\n",
       "      <td>1.0</td>\n",
       "      <td>D</td>\n",
       "      <td>52.0</td>\n",
       "      <td>1</td>\n",
       "      <td>0.0</td>\n",
       "    </tr>\n",
       "    <tr>\n",
       "      <th>3</th>\n",
       "      <td>2017-05-13</td>\n",
       "      <td>Série A</td>\n",
       "      <td>Corinthians</td>\n",
       "      <td>Chapecoense</td>\n",
       "      <td>Home</td>\n",
       "      <td>1.0</td>\n",
       "      <td>1.0</td>\n",
       "      <td>D</td>\n",
       "      <td>55.0</td>\n",
       "      <td>1</td>\n",
       "      <td>3.0</td>\n",
       "    </tr>\n",
       "    <tr>\n",
       "      <th>4</th>\n",
       "      <td>2017-05-14</td>\n",
       "      <td>Série A</td>\n",
       "      <td>Gremio</td>\n",
       "      <td>Botafogo RJ</td>\n",
       "      <td>Home</td>\n",
       "      <td>2.0</td>\n",
       "      <td>0.0</td>\n",
       "      <td>W</td>\n",
       "      <td>53.0</td>\n",
       "      <td>3</td>\n",
       "      <td>3.0</td>\n",
       "    </tr>\n",
       "  </tbody>\n",
       "</table>\n",
       "</div>"
      ],
      "text/plain": [
       "        date     comp              team          opponent venue   gf   ga  \\\n",
       "0 2017-05-13  Série A          Flamengo  Atletico Mineiro  Home  1.0  1.0   \n",
       "1 2017-05-13  Série A  Atletico Mineiro          Flamengo  Away  1.0  1.0   \n",
       "2 2017-05-13  Série A       Chapecoense       Corinthians  Away  1.0  1.0   \n",
       "3 2017-05-13  Série A       Corinthians       Chapecoense  Home  1.0  1.0   \n",
       "4 2017-05-14  Série A            Gremio       Botafogo RJ  Home  2.0  0.0   \n",
       "\n",
       "  result  Points last season_  pont  last_2_results_sum  \n",
       "0      D                 71.0     1                 NaN  \n",
       "1      D                 62.0     1                 0.0  \n",
       "2      D                 52.0     1                 0.0  \n",
       "3      D                 55.0     1                 3.0  \n",
       "4      W                 53.0     3                 3.0  "
      ]
     },
     "execution_count": 37,
     "metadata": {},
     "output_type": "execute_result"
    }
   ],
   "source": [
    "df.head()"
   ]
  },
  {
   "cell_type": "code",
   "execution_count": null,
   "id": "9ce1e9b4",
   "metadata": {},
   "outputs": [],
   "source": [
    "def rolling_sum(group, cols, new_cols, venue):\n",
    "    group = group.sort_values('date')\n",
    "    group = group[group['venue'] == venue]\n",
    "    rolling_stats = group[cols].rolling(3, closed='left').sum()\n",
    "    group[new_cols] = rolling_stats\n",
    "    group = group.dropna(subset=new_cols)\n",
    "    return group"
   ]
  },
  {
   "cell_type": "code",
   "execution_count": null,
   "id": "5e4e318e",
   "metadata": {},
   "outputs": [],
   "source": [
    "df_rolling_home = df.groupby('team').apply(lambda x: rolling_sum(x, ['gf', 'ga', 'pont'], ['gf_rolling', 'ga_rolling', 'pont_rolling'], 'Home'))\n",
    "df_rolling_home = df_rolling_home.droplevel('team')"
   ]
  },
  {
   "cell_type": "code",
   "execution_count": null,
   "id": "22f37790",
   "metadata": {},
   "outputs": [],
   "source": [
    "df_rolling_away = df.groupby('team').apply(lambda x: rolling_sum(x, ['gf', 'ga', 'pont'], ['gf_rolling', 'ga_rolling', 'pont_rolling'], 'Away'))\n",
    "df_rolling_away = df_rolling_away.droplevel('team')"
   ]
  },
  {
   "cell_type": "code",
   "execution_count": null,
   "id": "99ca74b5",
   "metadata": {},
   "outputs": [],
   "source": [
    "# incluindo variáveis rolling do time jogando fora de casa\n",
    "df_rolling = df_rolling_home.merge(df_rolling_away, left_on=['date', 'comp', 'opponent'], right_on=['date', 'comp', 'team'], suffixes=('_home','_away'), how='inner')"
   ]
  },
  {
   "cell_type": "code",
   "execution_count": null,
   "id": "bdcfad78",
   "metadata": {},
   "outputs": [],
   "source": [
    "df_rolling = df_rolling[['date', 'comp', 'team_home', 'gf_rolling_home', 'ga_rolling_home', 'Points last season__home', \n",
    "                         'pont_rolling_home', 'last_2_results_sum_home',\n",
    "                         'opponent_home', 'gf_rolling_away', 'ga_rolling_away', 'Points last season__away',\n",
    "                         'pont_rolling_away', 'result_home']]"
   ]
  },
  {
   "cell_type": "code",
   "execution_count": null,
   "id": "a8fb7be1",
   "metadata": {},
   "outputs": [],
   "source": [
    "df_rolling.rename(columns={\"team_home\": \"home\", \"opponent_home\": \"away\", \"result_home\": \"result\", \"last_2_results_sum_home\": \"last_2_results\"}, inplace=True)"
   ]
  },
  {
   "cell_type": "code",
   "execution_count": null,
   "id": "5a99d123",
   "metadata": {},
   "outputs": [],
   "source": [
    "# substituindo valores do denominador do ratio que são 0 por 1, para não dar erro na divisão\n",
    "df_rolling['pont_rolling_away'].replace(0, 1, inplace=True)\n",
    "df_rolling['gf_rolling_away'].replace(0, 1, inplace=True)\n",
    "df_rolling['ga_rolling_away'].replace(0, 1, inplace=True)"
   ]
  },
  {
   "cell_type": "code",
   "execution_count": null,
   "id": "c74993f2",
   "metadata": {},
   "outputs": [],
   "source": [
    "# inserindo coluna com a relação dos indicadores do time1 e time2\n",
    "df_rolling['gf_rolling_ratio'] = df_rolling['gf_rolling_home']/df_rolling['gf_rolling_away']\n",
    "df_rolling['ga_rolling_ratio'] = df_rolling['ga_rolling_home']/df_rolling['ga_rolling_away']\n",
    "df_rolling['points_last_season_ratio'] = df_rolling['Points last season__home']/df_rolling['Points last season__away']\n",
    "df_rolling['pont_rolling_ratio'] = df_rolling['pont_rolling_home']/df_rolling['pont_rolling_away']"
   ]
  },
  {
   "cell_type": "code",
   "execution_count": null,
   "id": "59c09e48",
   "metadata": {},
   "outputs": [
    {
     "data": {
      "text/html": [
       "<div>\n",
       "<style scoped>\n",
       "    .dataframe tbody tr th:only-of-type {\n",
       "        vertical-align: middle;\n",
       "    }\n",
       "\n",
       "    .dataframe tbody tr th {\n",
       "        vertical-align: top;\n",
       "    }\n",
       "\n",
       "    .dataframe thead th {\n",
       "        text-align: right;\n",
       "    }\n",
       "</style>\n",
       "<table border=\"1\" class=\"dataframe\">\n",
       "  <thead>\n",
       "    <tr style=\"text-align: right;\">\n",
       "      <th></th>\n",
       "      <th>date</th>\n",
       "      <th>comp</th>\n",
       "      <th>home</th>\n",
       "      <th>gf_rolling_home</th>\n",
       "      <th>ga_rolling_home</th>\n",
       "      <th>Points last season__home</th>\n",
       "      <th>pont_rolling_home</th>\n",
       "      <th>last_2_results</th>\n",
       "      <th>away</th>\n",
       "      <th>gf_rolling_away</th>\n",
       "      <th>ga_rolling_away</th>\n",
       "      <th>Points last season__away</th>\n",
       "      <th>pont_rolling_away</th>\n",
       "      <th>result</th>\n",
       "      <th>gf_rolling_ratio</th>\n",
       "      <th>ga_rolling_ratio</th>\n",
       "      <th>points_last_season_ratio</th>\n",
       "      <th>pont_rolling_ratio</th>\n",
       "    </tr>\n",
       "  </thead>\n",
       "  <tbody>\n",
       "    <tr>\n",
       "      <th>0</th>\n",
       "      <td>2017-10-15</td>\n",
       "      <td>Eredivisie</td>\n",
       "      <td>ADO Den Haag</td>\n",
       "      <td>3.0</td>\n",
       "      <td>3.0</td>\n",
       "      <td>38.0</td>\n",
       "      <td>4.0</td>\n",
       "      <td>4.0</td>\n",
       "      <td>Excelsior</td>\n",
       "      <td>6.0</td>\n",
       "      <td>3.0</td>\n",
       "      <td>37.0</td>\n",
       "      <td>7.0</td>\n",
       "      <td>L</td>\n",
       "      <td>0.50</td>\n",
       "      <td>1.000000</td>\n",
       "      <td>1.027027</td>\n",
       "      <td>0.571429</td>\n",
       "    </tr>\n",
       "    <tr>\n",
       "      <th>1</th>\n",
       "      <td>2017-11-05</td>\n",
       "      <td>Eredivisie</td>\n",
       "      <td>ADO Den Haag</td>\n",
       "      <td>3.0</td>\n",
       "      <td>3.0</td>\n",
       "      <td>38.0</td>\n",
       "      <td>4.0</td>\n",
       "      <td>6.0</td>\n",
       "      <td>Feyenoord</td>\n",
       "      <td>5.0</td>\n",
       "      <td>2.0</td>\n",
       "      <td>82.0</td>\n",
       "      <td>4.0</td>\n",
       "      <td>D</td>\n",
       "      <td>0.60</td>\n",
       "      <td>1.500000</td>\n",
       "      <td>0.463415</td>\n",
       "      <td>1.000000</td>\n",
       "    </tr>\n",
       "    <tr>\n",
       "      <th>2</th>\n",
       "      <td>2017-11-19</td>\n",
       "      <td>Eredivisie</td>\n",
       "      <td>ADO Den Haag</td>\n",
       "      <td>4.0</td>\n",
       "      <td>4.0</td>\n",
       "      <td>38.0</td>\n",
       "      <td>4.0</td>\n",
       "      <td>4.0</td>\n",
       "      <td>Heracles Almelo</td>\n",
       "      <td>2.0</td>\n",
       "      <td>7.0</td>\n",
       "      <td>43.0</td>\n",
       "      <td>1.0</td>\n",
       "      <td>W</td>\n",
       "      <td>2.00</td>\n",
       "      <td>0.571429</td>\n",
       "      <td>0.883721</td>\n",
       "      <td>4.000000</td>\n",
       "    </tr>\n",
       "    <tr>\n",
       "      <th>3</th>\n",
       "      <td>2017-12-02</td>\n",
       "      <td>Eredivisie</td>\n",
       "      <td>ADO Den Haag</td>\n",
       "      <td>7.0</td>\n",
       "      <td>5.0</td>\n",
       "      <td>38.0</td>\n",
       "      <td>4.0</td>\n",
       "      <td>4.0</td>\n",
       "      <td>Groningen</td>\n",
       "      <td>4.0</td>\n",
       "      <td>7.0</td>\n",
       "      <td>43.0</td>\n",
       "      <td>1.0</td>\n",
       "      <td>L</td>\n",
       "      <td>1.75</td>\n",
       "      <td>0.714286</td>\n",
       "      <td>0.883721</td>\n",
       "      <td>4.000000</td>\n",
       "    </tr>\n",
       "    <tr>\n",
       "      <th>4</th>\n",
       "      <td>2017-12-13</td>\n",
       "      <td>Eredivisie</td>\n",
       "      <td>ADO Den Haag</td>\n",
       "      <td>6.0</td>\n",
       "      <td>6.0</td>\n",
       "      <td>38.0</td>\n",
       "      <td>4.0</td>\n",
       "      <td>6.0</td>\n",
       "      <td>Roda JC Kerkrade</td>\n",
       "      <td>1.0</td>\n",
       "      <td>9.0</td>\n",
       "      <td>33.0</td>\n",
       "      <td>1.0</td>\n",
       "      <td>W</td>\n",
       "      <td>6.00</td>\n",
       "      <td>0.666667</td>\n",
       "      <td>1.151515</td>\n",
       "      <td>4.000000</td>\n",
       "    </tr>\n",
       "  </tbody>\n",
       "</table>\n",
       "</div>"
      ],
      "text/plain": [
       "        date        comp          home  gf_rolling_home  ga_rolling_home  \\\n",
       "0 2017-10-15  Eredivisie  ADO Den Haag              3.0              3.0   \n",
       "1 2017-11-05  Eredivisie  ADO Den Haag              3.0              3.0   \n",
       "2 2017-11-19  Eredivisie  ADO Den Haag              4.0              4.0   \n",
       "3 2017-12-02  Eredivisie  ADO Den Haag              7.0              5.0   \n",
       "4 2017-12-13  Eredivisie  ADO Den Haag              6.0              6.0   \n",
       "\n",
       "   Points last season__home  pont_rolling_home  last_2_results  \\\n",
       "0                      38.0                4.0             4.0   \n",
       "1                      38.0                4.0             6.0   \n",
       "2                      38.0                4.0             4.0   \n",
       "3                      38.0                4.0             4.0   \n",
       "4                      38.0                4.0             6.0   \n",
       "\n",
       "               away  gf_rolling_away  ga_rolling_away  \\\n",
       "0         Excelsior              6.0              3.0   \n",
       "1         Feyenoord              5.0              2.0   \n",
       "2   Heracles Almelo              2.0              7.0   \n",
       "3         Groningen              4.0              7.0   \n",
       "4  Roda JC Kerkrade              1.0              9.0   \n",
       "\n",
       "   Points last season__away  pont_rolling_away result  gf_rolling_ratio  \\\n",
       "0                      37.0                7.0      L              0.50   \n",
       "1                      82.0                4.0      D              0.60   \n",
       "2                      43.0                1.0      W              2.00   \n",
       "3                      43.0                1.0      L              1.75   \n",
       "4                      33.0                1.0      W              6.00   \n",
       "\n",
       "   ga_rolling_ratio  points_last_season_ratio  pont_rolling_ratio  \n",
       "0          1.000000                  1.027027            0.571429  \n",
       "1          1.500000                  0.463415            1.000000  \n",
       "2          0.571429                  0.883721            4.000000  \n",
       "3          0.714286                  0.883721            4.000000  \n",
       "4          0.666667                  1.151515            4.000000  "
      ]
     },
     "execution_count": 46,
     "metadata": {},
     "output_type": "execute_result"
    }
   ],
   "source": [
    "df_rolling.head()"
   ]
  },
  {
   "cell_type": "code",
   "execution_count": null,
   "id": "8e4c5109",
   "metadata": {},
   "outputs": [],
   "source": [
    "df_rolling = df_rolling[['date', 'comp', 'home', 'away', 'result', 'last_2_results', 'gf_rolling_ratio', 'ga_rolling_ratio', 'points_last_season_ratio',\n",
    "                        'pont_rolling_ratio']]"
   ]
  },
  {
   "cell_type": "code",
   "execution_count": null,
   "id": "3b7dbc5b",
   "metadata": {},
   "outputs": [
    {
     "data": {
      "text/plain": [
       "(18362, 10)"
      ]
     },
     "execution_count": 48,
     "metadata": {},
     "output_type": "execute_result"
    }
   ],
   "source": [
    "df_rolling.shape"
   ]
  },
  {
   "cell_type": "code",
   "execution_count": null,
   "id": "2d61f309",
   "metadata": {},
   "outputs": [],
   "source": [
    "df_rolling = df_rolling[~df_rolling['last_2_results'].isna()]"
   ]
  },
  {
   "cell_type": "code",
   "execution_count": null,
   "id": "177c7628",
   "metadata": {},
   "outputs": [
    {
     "data": {
      "text/plain": [
       "(15581, 10)"
      ]
     },
     "execution_count": 50,
     "metadata": {},
     "output_type": "execute_result"
    }
   ],
   "source": [
    "df_rolling.shape"
   ]
  },
  {
   "cell_type": "code",
   "execution_count": null,
   "id": "47a4f8d1",
   "metadata": {},
   "outputs": [
    {
     "data": {
      "text/plain": [
       "date                        0\n",
       "comp                        0\n",
       "home                        0\n",
       "away                        0\n",
       "result                      0\n",
       "last_2_results              0\n",
       "gf_rolling_ratio            0\n",
       "ga_rolling_ratio            0\n",
       "points_last_season_ratio    0\n",
       "pont_rolling_ratio          0\n",
       "dtype: int64"
      ]
     },
     "execution_count": 51,
     "metadata": {},
     "output_type": "execute_result"
    }
   ],
   "source": [
    "# verificando valores missing\n",
    "df_rolling.isna().sum().sort_values(ascending=False)"
   ]
  },
  {
   "cell_type": "code",
   "execution_count": null,
   "id": "1accf4ac",
   "metadata": {},
   "outputs": [
    {
     "data": {
      "text/plain": [
       "array([False])"
      ]
     },
     "execution_count": 52,
     "metadata": {},
     "output_type": "execute_result"
    }
   ],
   "source": [
    "# verificando se há linhas duplicadas na base\n",
    "df_rolling.duplicated().unique()"
   ]
  },
  {
   "cell_type": "code",
   "execution_count": null,
   "id": "feaa6e02",
   "metadata": {},
   "outputs": [],
   "source": [
    "# criando a coluna 'target' --> Vitóra = 1, Não vitória = 0\n",
    "\n",
    "conditions = [df_rolling['result'] == 'W', df_rolling['result'] == 'D', df_rolling['result'] == 'L']\n",
    "    \n",
    "values = [1, 0, 0]\n",
    "    \n",
    "df_rolling['target'] = np.select(conditions, values)"
   ]
  },
  {
   "cell_type": "code",
   "execution_count": null,
   "id": "9754eeac",
   "metadata": {},
   "outputs": [
    {
     "data": {
      "text/plain": [
       "result\n",
       "W    6907\n",
       "L    4796\n",
       "D    3878\n",
       "Name: count, dtype: int64"
      ]
     },
     "execution_count": 54,
     "metadata": {},
     "output_type": "execute_result"
    }
   ],
   "source": [
    "df_rolling['result'].value_counts()"
   ]
  },
  {
   "cell_type": "code",
   "execution_count": null,
   "id": "821434c1",
   "metadata": {},
   "outputs": [
    {
     "data": {
      "text/html": [
       "<div>\n",
       "<style scoped>\n",
       "    .dataframe tbody tr th:only-of-type {\n",
       "        vertical-align: middle;\n",
       "    }\n",
       "\n",
       "    .dataframe tbody tr th {\n",
       "        vertical-align: top;\n",
       "    }\n",
       "\n",
       "    .dataframe thead th {\n",
       "        text-align: right;\n",
       "    }\n",
       "</style>\n",
       "<table border=\"1\" class=\"dataframe\">\n",
       "  <thead>\n",
       "    <tr style=\"text-align: right;\">\n",
       "      <th></th>\n",
       "      <th>date</th>\n",
       "      <th>comp</th>\n",
       "      <th>home</th>\n",
       "      <th>away</th>\n",
       "      <th>result</th>\n",
       "      <th>last_2_results</th>\n",
       "      <th>gf_rolling_ratio</th>\n",
       "      <th>ga_rolling_ratio</th>\n",
       "      <th>points_last_season_ratio</th>\n",
       "      <th>pont_rolling_ratio</th>\n",
       "      <th>target</th>\n",
       "    </tr>\n",
       "  </thead>\n",
       "  <tbody>\n",
       "    <tr>\n",
       "      <th>0</th>\n",
       "      <td>2017-10-15</td>\n",
       "      <td>Eredivisie</td>\n",
       "      <td>ADO Den Haag</td>\n",
       "      <td>Excelsior</td>\n",
       "      <td>L</td>\n",
       "      <td>4.0</td>\n",
       "      <td>0.50</td>\n",
       "      <td>1.000000</td>\n",
       "      <td>1.027027</td>\n",
       "      <td>0.571429</td>\n",
       "      <td>0</td>\n",
       "    </tr>\n",
       "    <tr>\n",
       "      <th>1</th>\n",
       "      <td>2017-11-05</td>\n",
       "      <td>Eredivisie</td>\n",
       "      <td>ADO Den Haag</td>\n",
       "      <td>Feyenoord</td>\n",
       "      <td>D</td>\n",
       "      <td>6.0</td>\n",
       "      <td>0.60</td>\n",
       "      <td>1.500000</td>\n",
       "      <td>0.463415</td>\n",
       "      <td>1.000000</td>\n",
       "      <td>0</td>\n",
       "    </tr>\n",
       "    <tr>\n",
       "      <th>2</th>\n",
       "      <td>2017-11-19</td>\n",
       "      <td>Eredivisie</td>\n",
       "      <td>ADO Den Haag</td>\n",
       "      <td>Heracles Almelo</td>\n",
       "      <td>W</td>\n",
       "      <td>4.0</td>\n",
       "      <td>2.00</td>\n",
       "      <td>0.571429</td>\n",
       "      <td>0.883721</td>\n",
       "      <td>4.000000</td>\n",
       "      <td>1</td>\n",
       "    </tr>\n",
       "    <tr>\n",
       "      <th>3</th>\n",
       "      <td>2017-12-02</td>\n",
       "      <td>Eredivisie</td>\n",
       "      <td>ADO Den Haag</td>\n",
       "      <td>Groningen</td>\n",
       "      <td>L</td>\n",
       "      <td>4.0</td>\n",
       "      <td>1.75</td>\n",
       "      <td>0.714286</td>\n",
       "      <td>0.883721</td>\n",
       "      <td>4.000000</td>\n",
       "      <td>0</td>\n",
       "    </tr>\n",
       "    <tr>\n",
       "      <th>4</th>\n",
       "      <td>2017-12-13</td>\n",
       "      <td>Eredivisie</td>\n",
       "      <td>ADO Den Haag</td>\n",
       "      <td>Roda JC Kerkrade</td>\n",
       "      <td>W</td>\n",
       "      <td>6.0</td>\n",
       "      <td>6.00</td>\n",
       "      <td>0.666667</td>\n",
       "      <td>1.151515</td>\n",
       "      <td>4.000000</td>\n",
       "      <td>1</td>\n",
       "    </tr>\n",
       "  </tbody>\n",
       "</table>\n",
       "</div>"
      ],
      "text/plain": [
       "        date        comp          home              away result  \\\n",
       "0 2017-10-15  Eredivisie  ADO Den Haag         Excelsior      L   \n",
       "1 2017-11-05  Eredivisie  ADO Den Haag         Feyenoord      D   \n",
       "2 2017-11-19  Eredivisie  ADO Den Haag   Heracles Almelo      W   \n",
       "3 2017-12-02  Eredivisie  ADO Den Haag         Groningen      L   \n",
       "4 2017-12-13  Eredivisie  ADO Den Haag  Roda JC Kerkrade      W   \n",
       "\n",
       "   last_2_results  gf_rolling_ratio  ga_rolling_ratio  \\\n",
       "0             4.0              0.50          1.000000   \n",
       "1             6.0              0.60          1.500000   \n",
       "2             4.0              2.00          0.571429   \n",
       "3             4.0              1.75          0.714286   \n",
       "4             6.0              6.00          0.666667   \n",
       "\n",
       "   points_last_season_ratio  pont_rolling_ratio  target  \n",
       "0                  1.027027            0.571429       0  \n",
       "1                  0.463415            1.000000       0  \n",
       "2                  0.883721            4.000000       1  \n",
       "3                  0.883721            4.000000       0  \n",
       "4                  1.151515            4.000000       1  "
      ]
     },
     "execution_count": 59,
     "metadata": {},
     "output_type": "execute_result"
    }
   ],
   "source": [
    "df_rolling.head()"
   ]
  },
  {
   "cell_type": "code",
   "execution_count": null,
   "id": "58598270",
   "metadata": {},
   "outputs": [
    {
     "data": {
      "text/plain": [
       "last_2_results              0.000696\n",
       "gf_rolling_ratio            0.150624\n",
       "ga_rolling_ratio           -0.122461\n",
       "points_last_season_ratio    0.292910\n",
       "pont_rolling_ratio          0.158586\n",
       "target                      1.000000\n",
       "Name: target, dtype: float64"
      ]
     },
     "execution_count": 63,
     "metadata": {},
     "output_type": "execute_result"
    }
   ],
   "source": [
    "df_rolling[['last_2_results', 'gf_rolling_ratio', 'ga_rolling_ratio', 'points_last_season_ratio', 'pont_rolling_ratio', 'target']].corr()['target']"
   ]
  },
  {
   "cell_type": "markdown",
   "id": "58598270",
   "metadata": {},
   "source": [
    "### Como o objetivo é predizer qual time tem mais chance de saír vencedor, vamos considerar apenas as partidas onde houve um vencedor. Por esse motivo, vamos excluir os empates da base."
   ]
  },
  {
   "cell_type": "code",
   "execution_count": null,
   "id": "2205ca1e",
   "metadata": {},
   "outputs": [],
   "source": [
    "df_rolling = df_rolling[df_rolling['result'] != 'D']"
   ]
  },
  {
   "cell_type": "code",
   "execution_count": null,
   "id": "3beb020b",
   "metadata": {},
   "outputs": [],
   "source": [
    "# filtrando as colunas que serão utilizadas\n",
    "df_ml = df_rolling[['date', 'home', 'away', 'gf_rolling_ratio', 'ga_rolling_ratio',\n",
    "                    'points_last_season_ratio', \n",
    "                    'pont_rolling_ratio',\n",
    "                    'result', 'last_2_results', 'target']]"
   ]
  },
  {
   "cell_type": "code",
   "execution_count": null,
   "id": "3dac6920",
   "metadata": {},
   "outputs": [
    {
     "data": {
      "text/plain": [
       "target\n",
       "1    6907\n",
       "0    4796\n",
       "Name: count, dtype: int64"
      ]
     },
     "execution_count": 66,
     "metadata": {},
     "output_type": "execute_result"
    }
   ],
   "source": [
    "df_ml['target'].value_counts()"
   ]
  },
  {
   "cell_type": "code",
   "execution_count": null,
   "id": "4a5d3214",
   "metadata": {},
   "outputs": [
    {
     "data": {
      "text/plain": [
       "target\n",
       "1    0.590191\n",
       "0    0.409809\n",
       "Name: proportion, dtype: float64"
      ]
     },
     "execution_count": 67,
     "metadata": {},
     "output_type": "execute_result"
    }
   ],
   "source": [
    "df_ml['target'].value_counts(normalize=True)"
   ]
  },
  {
   "cell_type": "code",
   "execution_count": null,
   "id": "cf630c8b",
   "metadata": {},
   "outputs": [
    {
     "data": {
      "text/html": [
       "<div>\n",
       "<style scoped>\n",
       "    .dataframe tbody tr th:only-of-type {\n",
       "        vertical-align: middle;\n",
       "    }\n",
       "\n",
       "    .dataframe tbody tr th {\n",
       "        vertical-align: top;\n",
       "    }\n",
       "\n",
       "    .dataframe thead th {\n",
       "        text-align: right;\n",
       "    }\n",
       "</style>\n",
       "<table border=\"1\" class=\"dataframe\">\n",
       "  <thead>\n",
       "    <tr style=\"text-align: right;\">\n",
       "      <th></th>\n",
       "      <th>date</th>\n",
       "      <th>home</th>\n",
       "      <th>away</th>\n",
       "      <th>gf_rolling_ratio</th>\n",
       "      <th>ga_rolling_ratio</th>\n",
       "      <th>points_last_season_ratio</th>\n",
       "      <th>pont_rolling_ratio</th>\n",
       "      <th>result</th>\n",
       "      <th>last_2_results</th>\n",
       "      <th>target</th>\n",
       "    </tr>\n",
       "  </thead>\n",
       "  <tbody>\n",
       "    <tr>\n",
       "      <th>0</th>\n",
       "      <td>2017-10-15</td>\n",
       "      <td>ADO Den Haag</td>\n",
       "      <td>Excelsior</td>\n",
       "      <td>0.500000</td>\n",
       "      <td>1.000000</td>\n",
       "      <td>1.027027</td>\n",
       "      <td>0.571429</td>\n",
       "      <td>L</td>\n",
       "      <td>4.0</td>\n",
       "      <td>0</td>\n",
       "    </tr>\n",
       "    <tr>\n",
       "      <th>2</th>\n",
       "      <td>2017-11-19</td>\n",
       "      <td>ADO Den Haag</td>\n",
       "      <td>Heracles Almelo</td>\n",
       "      <td>2.000000</td>\n",
       "      <td>0.571429</td>\n",
       "      <td>0.883721</td>\n",
       "      <td>4.000000</td>\n",
       "      <td>W</td>\n",
       "      <td>4.0</td>\n",
       "      <td>1</td>\n",
       "    </tr>\n",
       "    <tr>\n",
       "      <th>3</th>\n",
       "      <td>2017-12-02</td>\n",
       "      <td>ADO Den Haag</td>\n",
       "      <td>Groningen</td>\n",
       "      <td>1.750000</td>\n",
       "      <td>0.714286</td>\n",
       "      <td>0.883721</td>\n",
       "      <td>4.000000</td>\n",
       "      <td>L</td>\n",
       "      <td>4.0</td>\n",
       "      <td>0</td>\n",
       "    </tr>\n",
       "    <tr>\n",
       "      <th>4</th>\n",
       "      <td>2017-12-13</td>\n",
       "      <td>ADO Den Haag</td>\n",
       "      <td>Roda JC Kerkrade</td>\n",
       "      <td>6.000000</td>\n",
       "      <td>0.666667</td>\n",
       "      <td>1.151515</td>\n",
       "      <td>4.000000</td>\n",
       "      <td>W</td>\n",
       "      <td>6.0</td>\n",
       "      <td>1</td>\n",
       "    </tr>\n",
       "    <tr>\n",
       "      <th>5</th>\n",
       "      <td>2017-12-22</td>\n",
       "      <td>ADO Den Haag</td>\n",
       "      <td>Zwolle</td>\n",
       "      <td>1.000000</td>\n",
       "      <td>1.500000</td>\n",
       "      <td>1.085714</td>\n",
       "      <td>0.666667</td>\n",
       "      <td>W</td>\n",
       "      <td>4.0</td>\n",
       "      <td>1</td>\n",
       "    </tr>\n",
       "    <tr>\n",
       "      <th>...</th>\n",
       "      <td>...</td>\n",
       "      <td>...</td>\n",
       "      <td>...</td>\n",
       "      <td>...</td>\n",
       "      <td>...</td>\n",
       "      <td>...</td>\n",
       "      <td>...</td>\n",
       "      <td>...</td>\n",
       "      <td>...</td>\n",
       "      <td>...</td>\n",
       "    </tr>\n",
       "    <tr>\n",
       "      <th>18353</th>\n",
       "      <td>2021-12-18</td>\n",
       "      <td>Zwolle</td>\n",
       "      <td>Twente</td>\n",
       "      <td>0.200000</td>\n",
       "      <td>0.500000</td>\n",
       "      <td>0.926829</td>\n",
       "      <td>0.166667</td>\n",
       "      <td>L</td>\n",
       "      <td>2.0</td>\n",
       "      <td>0</td>\n",
       "    </tr>\n",
       "    <tr>\n",
       "      <th>18357</th>\n",
       "      <td>2022-03-13</td>\n",
       "      <td>Zwolle</td>\n",
       "      <td>Feyenoord</td>\n",
       "      <td>0.571429</td>\n",
       "      <td>0.666667</td>\n",
       "      <td>0.644068</td>\n",
       "      <td>0.833333</td>\n",
       "      <td>L</td>\n",
       "      <td>6.0</td>\n",
       "      <td>0</td>\n",
       "    </tr>\n",
       "    <tr>\n",
       "      <th>18358</th>\n",
       "      <td>2022-04-03</td>\n",
       "      <td>Zwolle</td>\n",
       "      <td>Go Ahead Eagles</td>\n",
       "      <td>1.000000</td>\n",
       "      <td>0.800000</td>\n",
       "      <td>0.987013</td>\n",
       "      <td>2.000000</td>\n",
       "      <td>L</td>\n",
       "      <td>1.0</td>\n",
       "      <td>0</td>\n",
       "    </tr>\n",
       "    <tr>\n",
       "      <th>18359</th>\n",
       "      <td>2022-04-10</td>\n",
       "      <td>Zwolle</td>\n",
       "      <td>AZ Alkmaar</td>\n",
       "      <td>0.222222</td>\n",
       "      <td>1.000000</td>\n",
       "      <td>0.535211</td>\n",
       "      <td>0.142857</td>\n",
       "      <td>W</td>\n",
       "      <td>4.0</td>\n",
       "      <td>1</td>\n",
       "    </tr>\n",
       "    <tr>\n",
       "      <th>18361</th>\n",
       "      <td>2022-05-15</td>\n",
       "      <td>Zwolle</td>\n",
       "      <td>PSV Eindhoven</td>\n",
       "      <td>0.428571</td>\n",
       "      <td>0.500000</td>\n",
       "      <td>0.527778</td>\n",
       "      <td>0.800000</td>\n",
       "      <td>L</td>\n",
       "      <td>3.0</td>\n",
       "      <td>0</td>\n",
       "    </tr>\n",
       "  </tbody>\n",
       "</table>\n",
       "<p>11703 rows × 10 columns</p>\n",
       "</div>"
      ],
      "text/plain": [
       "            date          home              away  gf_rolling_ratio  \\\n",
       "0     2017-10-15  ADO Den Haag         Excelsior          0.500000   \n",
       "2     2017-11-19  ADO Den Haag   Heracles Almelo          2.000000   \n",
       "3     2017-12-02  ADO Den Haag         Groningen          1.750000   \n",
       "4     2017-12-13  ADO Den Haag  Roda JC Kerkrade          6.000000   \n",
       "5     2017-12-22  ADO Den Haag            Zwolle          1.000000   \n",
       "...          ...           ...               ...               ...   \n",
       "18353 2021-12-18        Zwolle            Twente          0.200000   \n",
       "18357 2022-03-13        Zwolle         Feyenoord          0.571429   \n",
       "18358 2022-04-03        Zwolle   Go Ahead Eagles          1.000000   \n",
       "18359 2022-04-10        Zwolle        AZ Alkmaar          0.222222   \n",
       "18361 2022-05-15        Zwolle     PSV Eindhoven          0.428571   \n",
       "\n",
       "       ga_rolling_ratio  points_last_season_ratio  pont_rolling_ratio result  \\\n",
       "0              1.000000                  1.027027            0.571429      L   \n",
       "2              0.571429                  0.883721            4.000000      W   \n",
       "3              0.714286                  0.883721            4.000000      L   \n",
       "4              0.666667                  1.151515            4.000000      W   \n",
       "5              1.500000                  1.085714            0.666667      W   \n",
       "...                 ...                       ...                 ...    ...   \n",
       "18353          0.500000                  0.926829            0.166667      L   \n",
       "18357          0.666667                  0.644068            0.833333      L   \n",
       "18358          0.800000                  0.987013            2.000000      L   \n",
       "18359          1.000000                  0.535211            0.142857      W   \n",
       "18361          0.500000                  0.527778            0.800000      L   \n",
       "\n",
       "       last_2_results  target  \n",
       "0                 4.0       0  \n",
       "2                 4.0       1  \n",
       "3                 4.0       0  \n",
       "4                 6.0       1  \n",
       "5                 4.0       1  \n",
       "...               ...     ...  \n",
       "18353             2.0       0  \n",
       "18357             6.0       0  \n",
       "18358             1.0       0  \n",
       "18359             4.0       1  \n",
       "18361             3.0       0  \n",
       "\n",
       "[11703 rows x 10 columns]"
      ]
     },
     "execution_count": 68,
     "metadata": {},
     "output_type": "execute_result"
    }
   ],
   "source": [
    "df_ml"
   ]
  },
  {
   "cell_type": "code",
   "execution_count": null,
   "id": "387f2856",
   "metadata": {},
   "outputs": [
    {
     "name": "stdout",
     "output_type": "stream",
     "text": [
      "(9947, 5)\n",
      "(9947,)\n",
      "(1756, 5)\n",
      "(1756,)\n"
     ]
    },
    {
     "data": {
      "text/plain": [
       "(None, None)"
      ]
     },
     "execution_count": 69,
     "metadata": {},
     "output_type": "execute_result"
    }
   ],
   "source": [
    "# separando a base em treino e teste\n",
    "from sklearn.model_selection import train_test_split\n",
    "\n",
    "train_size=0.85\n",
    "\n",
    "X = df_ml.drop(columns = ['target', 'result', 'date', 'home', 'away']).copy()\n",
    "y = df_ml['target']\n",
    "\n",
    "X_train, X_test, y_train, y_test = train_test_split(X,y, train_size=train_size, random_state=20)\n",
    "\n",
    "print(X_train.shape), print(y_train.shape)\n",
    "print(X_test.shape), print(y_test.shape)"
   ]
  },
  {
   "cell_type": "code",
   "execution_count": null,
   "id": "95653309",
   "metadata": {},
   "outputs": [
    {
     "data": {
      "text/plain": [
       "target\n",
       "1    0.590429\n",
       "0    0.409571\n",
       "Name: proportion, dtype: float64"
      ]
     },
     "execution_count": 70,
     "metadata": {},
     "output_type": "execute_result"
    }
   ],
   "source": [
    "y_train.value_counts(normalize=True)"
   ]
  },
  {
   "cell_type": "code",
   "execution_count": null,
   "id": "c1c291d7",
   "metadata": {},
   "outputs": [
    {
     "data": {
      "text/plain": [
       "target\n",
       "1    0.588838\n",
       "0    0.411162\n",
       "Name: proportion, dtype: float64"
      ]
     },
     "execution_count": 71,
     "metadata": {},
     "output_type": "execute_result"
    }
   ],
   "source": [
    "y_test.value_counts(normalize=True)"
   ]
  },
  {
   "cell_type": "markdown",
   "id": "c1c291d7",
   "metadata": {},
   "source": [
    "# Modelos de Machine Learning"
   ]
  },
  {
   "cell_type": "code",
   "execution_count": null,
   "id": "debfacfb",
   "metadata": {},
   "outputs": [],
   "source": [
    "# Função para trazer as medidas\n",
    "def medidas(y_test, y_pred_best):\n",
    "    print(f'precision:{precision_score(y_test, y_pred_best):.2f}')\n",
    "    print(f'accuracy:{accuracy_score(y_test, y_pred_best):.2f}')\n",
    "    print(f'recall:{recall_score(y_test, y_pred_best):.2f}')\n",
    "    print(f'f1_score:{f1_score(y_test, y_pred_best):.2f}')\n",
    "    print(f'roc_auc_score:{roc_auc_score(y_test, y_pred_best):.2f}')"
   ]
  },
  {
   "cell_type": "markdown",
   "id": "debfacfb",
   "metadata": {},
   "source": [
    "## Regressão Logística"
   ]
  },
  {
   "cell_type": "code",
   "execution_count": null,
   "id": "ecce6d86",
   "metadata": {},
   "outputs": [],
   "source": [
    "from sklearn.linear_model import LogisticRegression\n",
    "from sklearn.pipeline import Pipeline\n",
    "from sklearn.metrics import ConfusionMatrixDisplay\n",
    "from sklearn.model_selection import GridSearchCV\n",
    "from sklearn.preprocessing import StandardScaler\n",
    "from feature_engine.wrappers import SklearnTransformerWrapper\n",
    "from sklearn.metrics import accuracy_score, precision_score, recall_score, f1_score, roc_auc_score\n",
    "from sklearn.model_selection import cross_val_score\n",
    "from sklearn.model_selection import RepeatedStratifiedKFold\n",
    "from numpy import mean\n",
    "from numpy import std"
   ]
  },
  {
   "cell_type": "code",
   "execution_count": null,
   "id": "d47247c7",
   "metadata": {},
   "outputs": [
    {
     "data": {
      "text/plain": [
       "Index(['gf_rolling_ratio', 'ga_rolling_ratio', 'points_last_season_ratio',\n",
       "       'pont_rolling_ratio', 'last_2_results'],\n",
       "      dtype='object')"
      ]
     },
     "execution_count": 79,
     "metadata": {},
     "output_type": "execute_result"
    }
   ],
   "source": [
    "X_train.columns"
   ]
  },
  {
   "cell_type": "code",
   "execution_count": null,
   "id": "7b4dc85c",
   "metadata": {},
   "outputs": [],
   "source": [
    "std_scaller = [('numeric_scaler', SklearnTransformerWrapper(variables=['gf_rolling_ratio', 'ga_rolling_ratio', 'points_last_season_ratio',\n",
    "                                                                       'pont_rolling_ratio',\n",
    "                                                                       'last_2_results'], transformer=StandardScaler()))]\n",
    "\n",
    "pipeline = Pipeline(steps= std_scaller + [('logit', LogisticRegression())])"
   ]
  },
  {
   "cell_type": "code",
   "execution_count": null,
   "id": "630e9a7b",
   "metadata": {},
   "outputs": [
    {
     "data": {
      "text/html": [
       "<style>#sk-container-id-1 {color: black;}#sk-container-id-1 pre{padding: 0;}#sk-container-id-1 div.sk-toggleable {background-color: white;}#sk-container-id-1 label.sk-toggleable__label {cursor: pointer;display: block;width: 100%;margin-bottom: 0;padding: 0.3em;box-sizing: border-box;text-align: center;}#sk-container-id-1 label.sk-toggleable__label-arrow:before {content: \"▸\";float: left;margin-right: 0.25em;color: #696969;}#sk-container-id-1 label.sk-toggleable__label-arrow:hover:before {color: black;}#sk-container-id-1 div.sk-estimator:hover label.sk-toggleable__label-arrow:before {color: black;}#sk-container-id-1 div.sk-toggleable__content {max-height: 0;max-width: 0;overflow: hidden;text-align: left;background-color: #f0f8ff;}#sk-container-id-1 div.sk-toggleable__content pre {margin: 0.2em;color: black;border-radius: 0.25em;background-color: #f0f8ff;}#sk-container-id-1 input.sk-toggleable__control:checked~div.sk-toggleable__content {max-height: 200px;max-width: 100%;overflow: auto;}#sk-container-id-1 input.sk-toggleable__control:checked~label.sk-toggleable__label-arrow:before {content: \"▾\";}#sk-container-id-1 div.sk-estimator input.sk-toggleable__control:checked~label.sk-toggleable__label {background-color: #d4ebff;}#sk-container-id-1 div.sk-label input.sk-toggleable__control:checked~label.sk-toggleable__label {background-color: #d4ebff;}#sk-container-id-1 input.sk-hidden--visually {border: 0;clip: rect(1px 1px 1px 1px);clip: rect(1px, 1px, 1px, 1px);height: 1px;margin: -1px;overflow: hidden;padding: 0;position: absolute;width: 1px;}#sk-container-id-1 div.sk-estimator {font-family: monospace;background-color: #f0f8ff;border: 1px dotted black;border-radius: 0.25em;box-sizing: border-box;margin-bottom: 0.5em;}#sk-container-id-1 div.sk-estimator:hover {background-color: #d4ebff;}#sk-container-id-1 div.sk-parallel-item::after {content: \"\";width: 100%;border-bottom: 1px solid gray;flex-grow: 1;}#sk-container-id-1 div.sk-label:hover label.sk-toggleable__label {background-color: #d4ebff;}#sk-container-id-1 div.sk-serial::before {content: \"\";position: absolute;border-left: 1px solid gray;box-sizing: border-box;top: 0;bottom: 0;left: 50%;z-index: 0;}#sk-container-id-1 div.sk-serial {display: flex;flex-direction: column;align-items: center;background-color: white;padding-right: 0.2em;padding-left: 0.2em;position: relative;}#sk-container-id-1 div.sk-item {position: relative;z-index: 1;}#sk-container-id-1 div.sk-parallel {display: flex;align-items: stretch;justify-content: center;background-color: white;position: relative;}#sk-container-id-1 div.sk-item::before, #sk-container-id-1 div.sk-parallel-item::before {content: \"\";position: absolute;border-left: 1px solid gray;box-sizing: border-box;top: 0;bottom: 0;left: 50%;z-index: -1;}#sk-container-id-1 div.sk-parallel-item {display: flex;flex-direction: column;z-index: 1;position: relative;background-color: white;}#sk-container-id-1 div.sk-parallel-item:first-child::after {align-self: flex-end;width: 50%;}#sk-container-id-1 div.sk-parallel-item:last-child::after {align-self: flex-start;width: 50%;}#sk-container-id-1 div.sk-parallel-item:only-child::after {width: 0;}#sk-container-id-1 div.sk-dashed-wrapped {border: 1px dashed gray;margin: 0 0.4em 0.5em 0.4em;box-sizing: border-box;padding-bottom: 0.4em;background-color: white;}#sk-container-id-1 div.sk-label label {font-family: monospace;font-weight: bold;display: inline-block;line-height: 1.2em;}#sk-container-id-1 div.sk-label-container {text-align: center;}#sk-container-id-1 div.sk-container {/* jupyter's `normalize.less` sets `[hidden] { display: none; }` but bootstrap.min.css set `[hidden] { display: none !important; }` so we also need the `!important` here to be able to override the default hidden behavior on the sphinx rendered scikit-learn.org. See: https://github.com/scikit-learn/scikit-learn/issues/21755 */display: inline-block !important;position: relative;}#sk-container-id-1 div.sk-text-repr-fallback {display: none;}</style><div id=\"sk-container-id-1\" class=\"sk-top-container\"><div class=\"sk-text-repr-fallback\"><pre>Pipeline(steps=[(&#x27;numeric_scaler&#x27;,\n",
       "                 SklearnTransformerWrapper(transformer=StandardScaler(),\n",
       "                                           variables=[&#x27;gf_rolling_ratio&#x27;,\n",
       "                                                      &#x27;ga_rolling_ratio&#x27;,\n",
       "                                                      &#x27;points_last_season_ratio&#x27;,\n",
       "                                                      &#x27;pont_rolling_ratio&#x27;,\n",
       "                                                      &#x27;last_2_results&#x27;])),\n",
       "                (&#x27;logit&#x27;, LogisticRegression())])</pre><b>In a Jupyter environment, please rerun this cell to show the HTML representation or trust the notebook. <br />On GitHub, the HTML representation is unable to render, please try loading this page with nbviewer.org.</b></div><div class=\"sk-container\" hidden><div class=\"sk-item sk-dashed-wrapped\"><div class=\"sk-label-container\"><div class=\"sk-label sk-toggleable\"><input class=\"sk-toggleable__control sk-hidden--visually\" id=\"sk-estimator-id-1\" type=\"checkbox\" ><label for=\"sk-estimator-id-1\" class=\"sk-toggleable__label sk-toggleable__label-arrow\">Pipeline</label><div class=\"sk-toggleable__content\"><pre>Pipeline(steps=[(&#x27;numeric_scaler&#x27;,\n",
       "                 SklearnTransformerWrapper(transformer=StandardScaler(),\n",
       "                                           variables=[&#x27;gf_rolling_ratio&#x27;,\n",
       "                                                      &#x27;ga_rolling_ratio&#x27;,\n",
       "                                                      &#x27;points_last_season_ratio&#x27;,\n",
       "                                                      &#x27;pont_rolling_ratio&#x27;,\n",
       "                                                      &#x27;last_2_results&#x27;])),\n",
       "                (&#x27;logit&#x27;, LogisticRegression())])</pre></div></div></div><div class=\"sk-serial\"><div class=\"sk-item sk-dashed-wrapped\"><div class=\"sk-label-container\"><div class=\"sk-label sk-toggleable\"><input class=\"sk-toggleable__control sk-hidden--visually\" id=\"sk-estimator-id-2\" type=\"checkbox\" ><label for=\"sk-estimator-id-2\" class=\"sk-toggleable__label sk-toggleable__label-arrow\">numeric_scaler: SklearnTransformerWrapper</label><div class=\"sk-toggleable__content\"><pre>SklearnTransformerWrapper(transformer=StandardScaler(),\n",
       "                          variables=[&#x27;gf_rolling_ratio&#x27;, &#x27;ga_rolling_ratio&#x27;,\n",
       "                                     &#x27;points_last_season_ratio&#x27;,\n",
       "                                     &#x27;pont_rolling_ratio&#x27;, &#x27;last_2_results&#x27;])</pre></div></div></div><div class=\"sk-parallel\"><div class=\"sk-parallel-item\"><div class=\"sk-item\"><div class=\"sk-label-container\"><div class=\"sk-label sk-toggleable\"><input class=\"sk-toggleable__control sk-hidden--visually\" id=\"sk-estimator-id-3\" type=\"checkbox\" ><label for=\"sk-estimator-id-3\" class=\"sk-toggleable__label sk-toggleable__label-arrow\">transformer: StandardScaler</label><div class=\"sk-toggleable__content\"><pre>StandardScaler()</pre></div></div></div><div class=\"sk-serial\"><div class=\"sk-item\"><div class=\"sk-estimator sk-toggleable\"><input class=\"sk-toggleable__control sk-hidden--visually\" id=\"sk-estimator-id-4\" type=\"checkbox\" ><label for=\"sk-estimator-id-4\" class=\"sk-toggleable__label sk-toggleable__label-arrow\">StandardScaler</label><div class=\"sk-toggleable__content\"><pre>StandardScaler()</pre></div></div></div></div></div></div></div></div><div class=\"sk-item\"><div class=\"sk-estimator sk-toggleable\"><input class=\"sk-toggleable__control sk-hidden--visually\" id=\"sk-estimator-id-5\" type=\"checkbox\" ><label for=\"sk-estimator-id-5\" class=\"sk-toggleable__label sk-toggleable__label-arrow\">LogisticRegression</label><div class=\"sk-toggleable__content\"><pre>LogisticRegression()</pre></div></div></div></div></div></div></div>"
      ],
      "text/plain": [
       "Pipeline(steps=[('numeric_scaler',\n",
       "                 SklearnTransformerWrapper(transformer=StandardScaler(),\n",
       "                                           variables=['gf_rolling_ratio',\n",
       "                                                      'ga_rolling_ratio',\n",
       "                                                      'points_last_season_ratio',\n",
       "                                                      'pont_rolling_ratio',\n",
       "                                                      'last_2_results'])),\n",
       "                ('logit', LogisticRegression())])"
      ]
     },
     "execution_count": 81,
     "metadata": {},
     "output_type": "execute_result"
    }
   ],
   "source": [
    "pipeline.fit(X_train, y_train)"
   ]
  },
  {
   "cell_type": "code",
   "execution_count": null,
   "id": "895edcfc",
   "metadata": {},
   "outputs": [],
   "source": [
    "y_pred = pipeline.predict(X_test)"
   ]
  },
  {
   "cell_type": "code",
   "execution_count": null,
   "id": "8036eb66",
   "metadata": {},
   "outputs": [
    {
     "data": {
      "text/plain": [
       "0.6977973568281939"
      ]
     },
     "execution_count": 83,
     "metadata": {},
     "output_type": "execute_result"
    }
   ],
   "source": [
    "precision_score(y_test, y_pred)"
   ]
  },
  {
   "cell_type": "code",
   "execution_count": null,
   "id": "9d0568f1",
   "metadata": {},
   "outputs": [
    {
     "data": {
      "text/plain": [
       "0.6668564920273349"
      ]
     },
     "execution_count": 84,
     "metadata": {},
     "output_type": "execute_result"
    }
   ],
   "source": [
    "accuracy_score(y_test, y_pred)"
   ]
  },
  {
   "cell_type": "code",
   "execution_count": null,
   "id": "8c2c9c75",
   "metadata": {},
   "outputs": [
    {
     "data": {
      "text/plain": [
       "0.7659574468085106"
      ]
     },
     "execution_count": 85,
     "metadata": {},
     "output_type": "execute_result"
    }
   ],
   "source": [
    "recall_score(y_test, y_pred)"
   ]
  },
  {
   "cell_type": "code",
   "execution_count": null,
   "id": "90875bfc",
   "metadata": {},
   "outputs": [
    {
     "data": {
      "text/plain": [
       "0.7302904564315352"
      ]
     },
     "execution_count": 86,
     "metadata": {},
     "output_type": "execute_result"
    }
   ],
   "source": [
    "f1_score(y_test, y_pred)"
   ]
  },
  {
   "cell_type": "code",
   "execution_count": null,
   "id": "30519cbf",
   "metadata": {},
   "outputs": [
    {
     "data": {
      "text/plain": [
       "0.6454440973654741"
      ]
     },
     "execution_count": 87,
     "metadata": {},
     "output_type": "execute_result"
    }
   ],
   "source": [
    "roc_auc_score(y_test, y_pred)"
   ]
  },
  {
   "cell_type": "code",
   "execution_count": null,
   "id": "c8df7273",
   "metadata": {},
   "outputs": [
    {
     "data": {
      "text/plain": [
       "<sklearn.metrics._plot.confusion_matrix.ConfusionMatrixDisplay at 0x1e2a98228d0>"
      ]
     },
     "execution_count": 90,
     "metadata": {},
     "output_type": "execute_result"
    },
    {
     "data": {
      "image/png": "[encoded data removed]",
      "text/plain": [
       "<Figure size 640x480 with 2 Axes>"
      ]
     },
     "metadata": {},
     "output_type": "display_data"
    }
   ],
   "source": [
    "ConfusionMatrixDisplay.from_estimator(pipeline, X_test, y_test)"
   ]
  },
  {
   "cell_type": "code",
   "execution_count": null,
   "id": "3ad0d27f",
   "metadata": {},
   "outputs": [
    {
     "data": {
      "text/html": [
       "<style>#sk-container-id-2 {color: black;}#sk-container-id-2 pre{padding: 0;}#sk-container-id-2 div.sk-toggleable {background-color: white;}#sk-container-id-2 label.sk-toggleable__label {cursor: pointer;display: block;width: 100%;margin-bottom: 0;padding: 0.3em;box-sizing: border-box;text-align: center;}#sk-container-id-2 label.sk-toggleable__label-arrow:before {content: \"▸\";float: left;margin-right: 0.25em;color: #696969;}#sk-container-id-2 label.sk-toggleable__label-arrow:hover:before {color: black;}#sk-container-id-2 div.sk-estimator:hover label.sk-toggleable__label-arrow:before {color: black;}#sk-container-id-2 div.sk-toggleable__content {max-height: 0;max-width: 0;overflow: hidden;text-align: left;background-color: #f0f8ff;}#sk-container-id-2 div.sk-toggleable__content pre {margin: 0.2em;color: black;border-radius: 0.25em;background-color: #f0f8ff;}#sk-container-id-2 input.sk-toggleable__control:checked~div.sk-toggleable__content {max-height: 200px;max-width: 100%;overflow: auto;}#sk-container-id-2 input.sk-toggleable__control:checked~label.sk-toggleable__label-arrow:before {content: \"▾\";}#sk-container-id-2 div.sk-estimator input.sk-toggleable__control:checked~label.sk-toggleable__label {background-color: #d4ebff;}#sk-container-id-2 div.sk-label input.sk-toggleable__control:checked~label.sk-toggleable__label {background-color: #d4ebff;}#sk-container-id-2 input.sk-hidden--visually {border: 0;clip: rect(1px 1px 1px 1px);clip: rect(1px, 1px, 1px, 1px);height: 1px;margin: -1px;overflow: hidden;padding: 0;position: absolute;width: 1px;}#sk-container-id-2 div.sk-estimator {font-family: monospace;background-color: #f0f8ff;border: 1px dotted black;border-radius: 0.25em;box-sizing: border-box;margin-bottom: 0.5em;}#sk-container-id-2 div.sk-estimator:hover {background-color: #d4ebff;}#sk-container-id-2 div.sk-parallel-item::after {content: \"\";width: 100%;border-bottom: 1px solid gray;flex-grow: 1;}#sk-container-id-2 div.sk-label:hover label.sk-toggleable__label {background-color: #d4ebff;}#sk-container-id-2 div.sk-serial::before {content: \"\";position: absolute;border-left: 1px solid gray;box-sizing: border-box;top: 0;bottom: 0;left: 50%;z-index: 0;}#sk-container-id-2 div.sk-serial {display: flex;flex-direction: column;align-items: center;background-color: white;padding-right: 0.2em;padding-left: 0.2em;position: relative;}#sk-container-id-2 div.sk-item {position: relative;z-index: 1;}#sk-container-id-2 div.sk-parallel {display: flex;align-items: stretch;justify-content: center;background-color: white;position: relative;}#sk-container-id-2 div.sk-item::before, #sk-container-id-2 div.sk-parallel-item::before {content: \"\";position: absolute;border-left: 1px solid gray;box-sizing: border-box;top: 0;bottom: 0;left: 50%;z-index: -1;}#sk-container-id-2 div.sk-parallel-item {display: flex;flex-direction: column;z-index: 1;position: relative;background-color: white;}#sk-container-id-2 div.sk-parallel-item:first-child::after {align-self: flex-end;width: 50%;}#sk-container-id-2 div.sk-parallel-item:last-child::after {align-self: flex-start;width: 50%;}#sk-container-id-2 div.sk-parallel-item:only-child::after {width: 0;}#sk-container-id-2 div.sk-dashed-wrapped {border: 1px dashed gray;margin: 0 0.4em 0.5em 0.4em;box-sizing: border-box;padding-bottom: 0.4em;background-color: white;}#sk-container-id-2 div.sk-label label {font-family: monospace;font-weight: bold;display: inline-block;line-height: 1.2em;}#sk-container-id-2 div.sk-label-container {text-align: center;}#sk-container-id-2 div.sk-container {/* jupyter's `normalize.less` sets `[hidden] { display: none; }` but bootstrap.min.css set `[hidden] { display: none !important; }` so we also need the `!important` here to be able to override the default hidden behavior on the sphinx rendered scikit-learn.org. See: https://github.com/scikit-learn/scikit-learn/issues/21755 */display: inline-block !important;position: relative;}#sk-container-id-2 div.sk-text-repr-fallback {display: none;}</style><div id=\"sk-container-id-2\" class=\"sk-top-container\"><div class=\"sk-text-repr-fallback\"><pre>Pipeline(steps=[(&#x27;numeric_scaler&#x27;,\n",
       "                 SklearnTransformerWrapper(transformer=StandardScaler(),\n",
       "                                           variables=[&#x27;gf_rolling_ratio&#x27;,\n",
       "                                                      &#x27;ga_rolling_ratio&#x27;,\n",
       "                                                      &#x27;points_last_season_ratio&#x27;,\n",
       "                                                      &#x27;pont_rolling_ratio&#x27;,\n",
       "                                                      &#x27;last_2_results&#x27;])),\n",
       "                (&#x27;logit&#x27;, LogisticRegression())])</pre><b>In a Jupyter environment, please rerun this cell to show the HTML representation or trust the notebook. <br />On GitHub, the HTML representation is unable to render, please try loading this page with nbviewer.org.</b></div><div class=\"sk-container\" hidden><div class=\"sk-item sk-dashed-wrapped\"><div class=\"sk-label-container\"><div class=\"sk-label sk-toggleable\"><input class=\"sk-toggleable__control sk-hidden--visually\" id=\"sk-estimator-id-6\" type=\"checkbox\" ><label for=\"sk-estimator-id-6\" class=\"sk-toggleable__label sk-toggleable__label-arrow\">Pipeline</label><div class=\"sk-toggleable__content\"><pre>Pipeline(steps=[(&#x27;numeric_scaler&#x27;,\n",
       "                 SklearnTransformerWrapper(transformer=StandardScaler(),\n",
       "                                           variables=[&#x27;gf_rolling_ratio&#x27;,\n",
       "                                                      &#x27;ga_rolling_ratio&#x27;,\n",
       "                                                      &#x27;points_last_season_ratio&#x27;,\n",
       "                                                      &#x27;pont_rolling_ratio&#x27;,\n",
       "                                                      &#x27;last_2_results&#x27;])),\n",
       "                (&#x27;logit&#x27;, LogisticRegression())])</pre></div></div></div><div class=\"sk-serial\"><div class=\"sk-item sk-dashed-wrapped\"><div class=\"sk-label-container\"><div class=\"sk-label sk-toggleable\"><input class=\"sk-toggleable__control sk-hidden--visually\" id=\"sk-estimator-id-7\" type=\"checkbox\" ><label for=\"sk-estimator-id-7\" class=\"sk-toggleable__label sk-toggleable__label-arrow\">numeric_scaler: SklearnTransformerWrapper</label><div class=\"sk-toggleable__content\"><pre>SklearnTransformerWrapper(transformer=StandardScaler(),\n",
       "                          variables=[&#x27;gf_rolling_ratio&#x27;, &#x27;ga_rolling_ratio&#x27;,\n",
       "                                     &#x27;points_last_season_ratio&#x27;,\n",
       "                                     &#x27;pont_rolling_ratio&#x27;, &#x27;last_2_results&#x27;])</pre></div></div></div><div class=\"sk-parallel\"><div class=\"sk-parallel-item\"><div class=\"sk-item\"><div class=\"sk-label-container\"><div class=\"sk-label sk-toggleable\"><input class=\"sk-toggleable__control sk-hidden--visually\" id=\"sk-estimator-id-8\" type=\"checkbox\" ><label for=\"sk-estimator-id-8\" class=\"sk-toggleable__label sk-toggleable__label-arrow\">transformer: StandardScaler</label><div class=\"sk-toggleable__content\"><pre>StandardScaler()</pre></div></div></div><div class=\"sk-serial\"><div class=\"sk-item\"><div class=\"sk-estimator sk-toggleable\"><input class=\"sk-toggleable__control sk-hidden--visually\" id=\"sk-estimator-id-9\" type=\"checkbox\" ><label for=\"sk-estimator-id-9\" class=\"sk-toggleable__label sk-toggleable__label-arrow\">StandardScaler</label><div class=\"sk-toggleable__content\"><pre>StandardScaler()</pre></div></div></div></div></div></div></div></div><div class=\"sk-item\"><div class=\"sk-estimator sk-toggleable\"><input class=\"sk-toggleable__control sk-hidden--visually\" id=\"sk-estimator-id-10\" type=\"checkbox\" ><label for=\"sk-estimator-id-10\" class=\"sk-toggleable__label sk-toggleable__label-arrow\">LogisticRegression</label><div class=\"sk-toggleable__content\"><pre>LogisticRegression()</pre></div></div></div></div></div></div></div>"
      ],
      "text/plain": [
       "Pipeline(steps=[('numeric_scaler',\n",
       "                 SklearnTransformerWrapper(transformer=StandardScaler(),\n",
       "                                           variables=['gf_rolling_ratio',\n",
       "                                                      'ga_rolling_ratio',\n",
       "                                                      'points_last_season_ratio',\n",
       "                                                      'pont_rolling_ratio',\n",
       "                                                      'last_2_results'])),\n",
       "                ('logit', LogisticRegression())])"
      ]
     },
     "execution_count": 91,
     "metadata": {},
     "output_type": "execute_result"
    }
   ],
   "source": [
    "pipeline"
   ]
  },
  {
   "cell_type": "code",
   "execution_count": null,
   "id": "643293c8",
   "metadata": {},
   "outputs": [
    {
     "data": {
      "text/plain": [
       "array([[ 0.17309413, -0.18504879,  0.79811464,  0.051757  ,  0.01384473]])"
      ]
     },
     "execution_count": 92,
     "metadata": {},
     "output_type": "execute_result"
    }
   ],
   "source": [
    "pipeline[1].coef_"
   ]
  },
  {
   "cell_type": "code",
   "execution_count": null,
   "id": "c408bcca",
   "metadata": {},
   "outputs": [
    {
     "data": {
      "text/plain": [
       "array([0.46596276])"
      ]
     },
     "execution_count": 93,
     "metadata": {},
     "output_type": "execute_result"
    }
   ],
   "source": [
    "pipeline[1].intercept_"
   ]
  },
  {
   "cell_type": "code",
   "execution_count": null,
   "id": "a90437b5",
   "metadata": {},
   "outputs": [
    {
     "name": "stdout",
     "output_type": "stream",
     "text": [
      "Fitting 5 folds for each of 48 candidates, totalling 240 fits\n",
      "\n",
      "====================================================================================================\n",
      "{'logit__C': 0.01, 'logit__class_weight': None, 'logit__fit_intercept': True, 'logit__penalty': 'l2'}\n",
      "====================================================================================================\n",
      "\n"
     ]
    }
   ],
   "source": [
    "# Grid Search\n",
    "parametros = {\n",
    "    'logit__penalty': ['l1', 'l2'],\n",
    "    'logit__C': [0.001, 0.01, 0.1, 1, 10, 100],\n",
    "    'logit__class_weight': ['balanced', None],\n",
    "    'logit__fit_intercept': [True, False]\n",
    "}\n",
    "grid_search = GridSearchCV(pipeline, parametros, scoring='accuracy', cv=5, n_jobs=-1, verbose=1)\n",
    "grid_search.fit(X_train, y_train)\n",
    "\n",
    "print()\n",
    "print('='*100)\n",
    "print(grid_search.best_params_)\n",
    "print('='*100)\n",
    "print()"
   ]
  },
  {
   "cell_type": "code",
   "execution_count": null,
   "id": "73bb27a8",
   "metadata": {},
   "outputs": [],
   "source": [
    "best_lr_pipeline = Pipeline(steps= std_scaller + [('logit', LogisticRegression(C=0.01, class_weight=None, fit_intercept=True, penalty='l2'))])"
   ]
  },
  {
   "cell_type": "code",
   "execution_count": null,
   "id": "f87f9b2d",
   "metadata": {},
   "outputs": [
    {
     "data": {
      "text/html": [
       "<style>#sk-container-id-3 {color: black;}#sk-container-id-3 pre{padding: 0;}#sk-container-id-3 div.sk-toggleable {background-color: white;}#sk-container-id-3 label.sk-toggleable__label {cursor: pointer;display: block;width: 100%;margin-bottom: 0;padding: 0.3em;box-sizing: border-box;text-align: center;}#sk-container-id-3 label.sk-toggleable__label-arrow:before {content: \"▸\";float: left;margin-right: 0.25em;color: #696969;}#sk-container-id-3 label.sk-toggleable__label-arrow:hover:before {color: black;}#sk-container-id-3 div.sk-estimator:hover label.sk-toggleable__label-arrow:before {color: black;}#sk-container-id-3 div.sk-toggleable__content {max-height: 0;max-width: 0;overflow: hidden;text-align: left;background-color: #f0f8ff;}#sk-container-id-3 div.sk-toggleable__content pre {margin: 0.2em;color: black;border-radius: 0.25em;background-color: #f0f8ff;}#sk-container-id-3 input.sk-toggleable__control:checked~div.sk-toggleable__content {max-height: 200px;max-width: 100%;overflow: auto;}#sk-container-id-3 input.sk-toggleable__control:checked~label.sk-toggleable__label-arrow:before {content: \"▾\";}#sk-container-id-3 div.sk-estimator input.sk-toggleable__control:checked~label.sk-toggleable__label {background-color: #d4ebff;}#sk-container-id-3 div.sk-label input.sk-toggleable__control:checked~label.sk-toggleable__label {background-color: #d4ebff;}#sk-container-id-3 input.sk-hidden--visually {border: 0;clip: rect(1px 1px 1px 1px);clip: rect(1px, 1px, 1px, 1px);height: 1px;margin: -1px;overflow: hidden;padding: 0;position: absolute;width: 1px;}#sk-container-id-3 div.sk-estimator {font-family: monospace;background-color: #f0f8ff;border: 1px dotted black;border-radius: 0.25em;box-sizing: border-box;margin-bottom: 0.5em;}#sk-container-id-3 div.sk-estimator:hover {background-color: #d4ebff;}#sk-container-id-3 div.sk-parallel-item::after {content: \"\";width: 100%;border-bottom: 1px solid gray;flex-grow: 1;}#sk-container-id-3 div.sk-label:hover label.sk-toggleable__label {background-color: #d4ebff;}#sk-container-id-3 div.sk-serial::before {content: \"\";position: absolute;border-left: 1px solid gray;box-sizing: border-box;top: 0;bottom: 0;left: 50%;z-index: 0;}#sk-container-id-3 div.sk-serial {display: flex;flex-direction: column;align-items: center;background-color: white;padding-right: 0.2em;padding-left: 0.2em;position: relative;}#sk-container-id-3 div.sk-item {position: relative;z-index: 1;}#sk-container-id-3 div.sk-parallel {display: flex;align-items: stretch;justify-content: center;background-color: white;position: relative;}#sk-container-id-3 div.sk-item::before, #sk-container-id-3 div.sk-parallel-item::before {content: \"\";position: absolute;border-left: 1px solid gray;box-sizing: border-box;top: 0;bottom: 0;left: 50%;z-index: -1;}#sk-container-id-3 div.sk-parallel-item {display: flex;flex-direction: column;z-index: 1;position: relative;background-color: white;}#sk-container-id-3 div.sk-parallel-item:first-child::after {align-self: flex-end;width: 50%;}#sk-container-id-3 div.sk-parallel-item:last-child::after {align-self: flex-start;width: 50%;}#sk-container-id-3 div.sk-parallel-item:only-child::after {width: 0;}#sk-container-id-3 div.sk-dashed-wrapped {border: 1px dashed gray;margin: 0 0.4em 0.5em 0.4em;box-sizing: border-box;padding-bottom: 0.4em;background-color: white;}#sk-container-id-3 div.sk-label label {font-family: monospace;font-weight: bold;display: inline-block;line-height: 1.2em;}#sk-container-id-3 div.sk-label-container {text-align: center;}#sk-container-id-3 div.sk-container {/* jupyter's `normalize.less` sets `[hidden] { display: none; }` but bootstrap.min.css set `[hidden] { display: none !important; }` so we also need the `!important` here to be able to override the default hidden behavior on the sphinx rendered scikit-learn.org. See: https://github.com/scikit-learn/scikit-learn/issues/21755 */display: inline-block !important;position: relative;}#sk-container-id-3 div.sk-text-repr-fallback {display: none;}</style><div id=\"sk-container-id-3\" class=\"sk-top-container\"><div class=\"sk-text-repr-fallback\"><pre>Pipeline(steps=[(&#x27;numeric_scaler&#x27;,\n",
       "                 SklearnTransformerWrapper(transformer=StandardScaler(),\n",
       "                                           variables=[&#x27;gf_rolling_ratio&#x27;,\n",
       "                                                      &#x27;ga_rolling_ratio&#x27;,\n",
       "                                                      &#x27;points_last_season_ratio&#x27;,\n",
       "                                                      &#x27;pont_rolling_ratio&#x27;,\n",
       "                                                      &#x27;last_2_results&#x27;])),\n",
       "                (&#x27;logit&#x27;, LogisticRegression(C=0.01))])</pre><b>In a Jupyter environment, please rerun this cell to show the HTML representation or trust the notebook. <br />On GitHub, the HTML representation is unable to render, please try loading this page with nbviewer.org.</b></div><div class=\"sk-container\" hidden><div class=\"sk-item sk-dashed-wrapped\"><div class=\"sk-label-container\"><div class=\"sk-label sk-toggleable\"><input class=\"sk-toggleable__control sk-hidden--visually\" id=\"sk-estimator-id-11\" type=\"checkbox\" ><label for=\"sk-estimator-id-11\" class=\"sk-toggleable__label sk-toggleable__label-arrow\">Pipeline</label><div class=\"sk-toggleable__content\"><pre>Pipeline(steps=[(&#x27;numeric_scaler&#x27;,\n",
       "                 SklearnTransformerWrapper(transformer=StandardScaler(),\n",
       "                                           variables=[&#x27;gf_rolling_ratio&#x27;,\n",
       "                                                      &#x27;ga_rolling_ratio&#x27;,\n",
       "                                                      &#x27;points_last_season_ratio&#x27;,\n",
       "                                                      &#x27;pont_rolling_ratio&#x27;,\n",
       "                                                      &#x27;last_2_results&#x27;])),\n",
       "                (&#x27;logit&#x27;, LogisticRegression(C=0.01))])</pre></div></div></div><div class=\"sk-serial\"><div class=\"sk-item sk-dashed-wrapped\"><div class=\"sk-label-container\"><div class=\"sk-label sk-toggleable\"><input class=\"sk-toggleable__control sk-hidden--visually\" id=\"sk-estimator-id-12\" type=\"checkbox\" ><label for=\"sk-estimator-id-12\" class=\"sk-toggleable__label sk-toggleable__label-arrow\">numeric_scaler: SklearnTransformerWrapper</label><div class=\"sk-toggleable__content\"><pre>SklearnTransformerWrapper(transformer=StandardScaler(),\n",
       "                          variables=[&#x27;gf_rolling_ratio&#x27;, &#x27;ga_rolling_ratio&#x27;,\n",
       "                                     &#x27;points_last_season_ratio&#x27;,\n",
       "                                     &#x27;pont_rolling_ratio&#x27;, &#x27;last_2_results&#x27;])</pre></div></div></div><div class=\"sk-parallel\"><div class=\"sk-parallel-item\"><div class=\"sk-item\"><div class=\"sk-label-container\"><div class=\"sk-label sk-toggleable\"><input class=\"sk-toggleable__control sk-hidden--visually\" id=\"sk-estimator-id-13\" type=\"checkbox\" ><label for=\"sk-estimator-id-13\" class=\"sk-toggleable__label sk-toggleable__label-arrow\">transformer: StandardScaler</label><div class=\"sk-toggleable__content\"><pre>StandardScaler()</pre></div></div></div><div class=\"sk-serial\"><div class=\"sk-item\"><div class=\"sk-estimator sk-toggleable\"><input class=\"sk-toggleable__control sk-hidden--visually\" id=\"sk-estimator-id-14\" type=\"checkbox\" ><label for=\"sk-estimator-id-14\" class=\"sk-toggleable__label sk-toggleable__label-arrow\">StandardScaler</label><div class=\"sk-toggleable__content\"><pre>StandardScaler()</pre></div></div></div></div></div></div></div></div><div class=\"sk-item\"><div class=\"sk-estimator sk-toggleable\"><input class=\"sk-toggleable__control sk-hidden--visually\" id=\"sk-estimator-id-15\" type=\"checkbox\" ><label for=\"sk-estimator-id-15\" class=\"sk-toggleable__label sk-toggleable__label-arrow\">LogisticRegression</label><div class=\"sk-toggleable__content\"><pre>LogisticRegression(C=0.01)</pre></div></div></div></div></div></div></div>"
      ],
      "text/plain": [
       "Pipeline(steps=[('numeric_scaler',\n",
       "                 SklearnTransformerWrapper(transformer=StandardScaler(),\n",
       "                                           variables=['gf_rolling_ratio',\n",
       "                                                      'ga_rolling_ratio',\n",
       "                                                      'points_last_season_ratio',\n",
       "                                                      'pont_rolling_ratio',\n",
       "                                                      'last_2_results'])),\n",
       "                ('logit', LogisticRegression(C=0.01))])"
      ]
     },
     "execution_count": 96,
     "metadata": {},
     "output_type": "execute_result"
    }
   ],
   "source": [
    "best_lr_pipeline.fit(X_train, y_train)"
   ]
  },
  {
   "cell_type": "code",
   "execution_count": null,
   "id": "bf76f43e",
   "metadata": {},
   "outputs": [],
   "source": [
    "y_pred_best = best_lr_pipeline.predict(X_test)"
   ]
  },
  {
   "cell_type": "code",
   "execution_count": null,
   "id": "e757166e",
   "metadata": {},
   "outputs": [],
   "source": [
    "precision_score_lr = precision_score(y_test, y_pred_best)\n",
    "accuracy_score_lr = accuracy_score(y_test, y_pred_best)\n",
    "recall_score_lr = recall_score(y_test, y_pred_best)\n",
    "f1_score_lr = f1_score(y_test, y_pred_best)\n",
    "roc_auc_score_lr = roc_auc_score(y_test, y_pred_best)"
   ]
  },
  {
   "cell_type": "code",
   "execution_count": null,
   "id": "5c7f8b2b",
   "metadata": {},
   "outputs": [
    {
     "data": {
      "text/plain": [
       "0.695993031358885"
      ]
     },
     "execution_count": 99,
     "metadata": {},
     "output_type": "execute_result"
    }
   ],
   "source": [
    "precision_score_lr"
   ]
  },
  {
   "cell_type": "code",
   "execution_count": null,
   "id": "06c83b25",
   "metadata": {},
   "outputs": [
    {
     "data": {
      "text/plain": [
       "0.6674259681093394"
      ]
     },
     "execution_count": 100,
     "metadata": {},
     "output_type": "execute_result"
    }
   ],
   "source": [
    "accuracy_score_lr"
   ]
  },
  {
   "cell_type": "code",
   "execution_count": null,
   "id": "dfbc4a61",
   "metadata": {},
   "outputs": [
    {
     "data": {
      "text/plain": [
       "0.7727272727272727"
      ]
     },
     "execution_count": 101,
     "metadata": {},
     "output_type": "execute_result"
    }
   ],
   "source": [
    "recall_score_lr"
   ]
  },
  {
   "cell_type": "code",
   "execution_count": null,
   "id": "e63a28ef",
   "metadata": {},
   "outputs": [
    {
     "data": {
      "text/plain": [
       "0.7323556370302474"
      ]
     },
     "execution_count": 102,
     "metadata": {},
     "output_type": "execute_result"
    }
   ],
   "source": [
    "f1_score_lr"
   ]
  },
  {
   "cell_type": "code",
   "execution_count": null,
   "id": "c15c1984",
   "metadata": {},
   "outputs": [
    {
     "data": {
      "text/plain": [
       "0.6446738856711156"
      ]
     },
     "execution_count": 103,
     "metadata": {},
     "output_type": "execute_result"
    }
   ],
   "source": [
    "roc_auc_score_lr"
   ]
  },
  {
   "cell_type": "code",
   "execution_count": null,
   "id": "efeb1479",
   "metadata": {},
   "outputs": [
    {
     "data": {
      "text/plain": [
       "<sklearn.metrics._plot.confusion_matrix.ConfusionMatrixDisplay at 0x1e2a4ee0350>"
      ]
     },
     "execution_count": 104,
     "metadata": {},
     "output_type": "execute_result"
    },
    {
     "data": {
      "image/png": "[encoded data removed]",
      "text/plain": [
       "<Figure size 640x480 with 2 Axes>"
      ]
     },
     "metadata": {},
     "output_type": "display_data"
    }
   ],
   "source": [
    "ConfusionMatrixDisplay.from_estimator(best_lr_pipeline, X_test, y_test, values_format='d')"
   ]
  },
  {
   "cell_type": "code",
   "execution_count": null,
   "id": "af3a4ae5",
   "metadata": {},
   "outputs": [
    {
     "data": {
      "text/plain": [
       "array([[ 0.16560486, -0.17811968,  0.74130275,  0.0664392 ,  0.01288216]])"
      ]
     },
     "execution_count": 105,
     "metadata": {},
     "output_type": "execute_result"
    }
   ],
   "source": [
    "best_lr_pipeline[1].coef_"
   ]
  },
  {
   "cell_type": "markdown",
   "id": "af3a4ae5",
   "metadata": {},
   "source": [
    "## SVM"
   ]
  },
  {
   "cell_type": "code",
   "execution_count": null,
   "id": "19809623",
   "metadata": {},
   "outputs": [],
   "source": [
    "from sklearn.svm import SVC"
   ]
  },
  {
   "cell_type": "code",
   "execution_count": null,
   "id": "29d34730",
   "metadata": {},
   "outputs": [],
   "source": [
    "std_scaller = [('numeric_scaler', SklearnTransformerWrapper(variables=['gf_rolling_ratio', 'ga_rolling_ratio', 'points_last_season_ratio',\n",
    "       #'FIFA_23_Overall_ratio',\n",
    "                                                                       'pont_rolling_ratio', 'last_2_results'], transformer=StandardScaler()))]\n",
    "\n",
    "pipeline_svc = Pipeline(steps= std_scaller + [('svc', SVC())])"
   ]
  },
  {
   "cell_type": "code",
   "execution_count": null,
   "id": "b99c4906",
   "metadata": {},
   "outputs": [
    {
     "data": {
      "text/html": [
       "<style>#sk-container-id-4 {color: black;}#sk-container-id-4 pre{padding: 0;}#sk-container-id-4 div.sk-toggleable {background-color: white;}#sk-container-id-4 label.sk-toggleable__label {cursor: pointer;display: block;width: 100%;margin-bottom: 0;padding: 0.3em;box-sizing: border-box;text-align: center;}#sk-container-id-4 label.sk-toggleable__label-arrow:before {content: \"▸\";float: left;margin-right: 0.25em;color: #696969;}#sk-container-id-4 label.sk-toggleable__label-arrow:hover:before {color: black;}#sk-container-id-4 div.sk-estimator:hover label.sk-toggleable__label-arrow:before {color: black;}#sk-container-id-4 div.sk-toggleable__content {max-height: 0;max-width: 0;overflow: hidden;text-align: left;background-color: #f0f8ff;}#sk-container-id-4 div.sk-toggleable__content pre {margin: 0.2em;color: black;border-radius: 0.25em;background-color: #f0f8ff;}#sk-container-id-4 input.sk-toggleable__control:checked~div.sk-toggleable__content {max-height: 200px;max-width: 100%;overflow: auto;}#sk-container-id-4 input.sk-toggleable__control:checked~label.sk-toggleable__label-arrow:before {content: \"▾\";}#sk-container-id-4 div.sk-estimator input.sk-toggleable__control:checked~label.sk-toggleable__label {background-color: #d4ebff;}#sk-container-id-4 div.sk-label input.sk-toggleable__control:checked~label.sk-toggleable__label {background-color: #d4ebff;}#sk-container-id-4 input.sk-hidden--visually {border: 0;clip: rect(1px 1px 1px 1px);clip: rect(1px, 1px, 1px, 1px);height: 1px;margin: -1px;overflow: hidden;padding: 0;position: absolute;width: 1px;}#sk-container-id-4 div.sk-estimator {font-family: monospace;background-color: #f0f8ff;border: 1px dotted black;border-radius: 0.25em;box-sizing: border-box;margin-bottom: 0.5em;}#sk-container-id-4 div.sk-estimator:hover {background-color: #d4ebff;}#sk-container-id-4 div.sk-parallel-item::after {content: \"\";width: 100%;border-bottom: 1px solid gray;flex-grow: 1;}#sk-container-id-4 div.sk-label:hover label.sk-toggleable__label {background-color: #d4ebff;}#sk-container-id-4 div.sk-serial::before {content: \"\";position: absolute;border-left: 1px solid gray;box-sizing: border-box;top: 0;bottom: 0;left: 50%;z-index: 0;}#sk-container-id-4 div.sk-serial {display: flex;flex-direction: column;align-items: center;background-color: white;padding-right: 0.2em;padding-left: 0.2em;position: relative;}#sk-container-id-4 div.sk-item {position: relative;z-index: 1;}#sk-container-id-4 div.sk-parallel {display: flex;align-items: stretch;justify-content: center;background-color: white;position: relative;}#sk-container-id-4 div.sk-item::before, #sk-container-id-4 div.sk-parallel-item::before {content: \"\";position: absolute;border-left: 1px solid gray;box-sizing: border-box;top: 0;bottom: 0;left: 50%;z-index: -1;}#sk-container-id-4 div.sk-parallel-item {display: flex;flex-direction: column;z-index: 1;position: relative;background-color: white;}#sk-container-id-4 div.sk-parallel-item:first-child::after {align-self: flex-end;width: 50%;}#sk-container-id-4 div.sk-parallel-item:last-child::after {align-self: flex-start;width: 50%;}#sk-container-id-4 div.sk-parallel-item:only-child::after {width: 0;}#sk-container-id-4 div.sk-dashed-wrapped {border: 1px dashed gray;margin: 0 0.4em 0.5em 0.4em;box-sizing: border-box;padding-bottom: 0.4em;background-color: white;}#sk-container-id-4 div.sk-label label {font-family: monospace;font-weight: bold;display: inline-block;line-height: 1.2em;}#sk-container-id-4 div.sk-label-container {text-align: center;}#sk-container-id-4 div.sk-container {/* jupyter's `normalize.less` sets `[hidden] { display: none; }` but bootstrap.min.css set `[hidden] { display: none !important; }` so we also need the `!important` here to be able to override the default hidden behavior on the sphinx rendered scikit-learn.org. See: https://github.com/scikit-learn/scikit-learn/issues/21755 */display: inline-block !important;position: relative;}#sk-container-id-4 div.sk-text-repr-fallback {display: none;}</style><div id=\"sk-container-id-4\" class=\"sk-top-container\"><div class=\"sk-text-repr-fallback\"><pre>Pipeline(steps=[(&#x27;numeric_scaler&#x27;,\n",
       "                 SklearnTransformerWrapper(transformer=StandardScaler(),\n",
       "                                           variables=[&#x27;gf_rolling_ratio&#x27;,\n",
       "                                                      &#x27;ga_rolling_ratio&#x27;,\n",
       "                                                      &#x27;points_last_season_ratio&#x27;,\n",
       "                                                      &#x27;pont_rolling_ratio&#x27;,\n",
       "                                                      &#x27;last_2_results&#x27;])),\n",
       "                (&#x27;svc&#x27;, SVC())])</pre><b>In a Jupyter environment, please rerun this cell to show the HTML representation or trust the notebook. <br />On GitHub, the HTML representation is unable to render, please try loading this page with nbviewer.org.</b></div><div class=\"sk-container\" hidden><div class=\"sk-item sk-dashed-wrapped\"><div class=\"sk-label-container\"><div class=\"sk-label sk-toggleable\"><input class=\"sk-toggleable__control sk-hidden--visually\" id=\"sk-estimator-id-16\" type=\"checkbox\" ><label for=\"sk-estimator-id-16\" class=\"sk-toggleable__label sk-toggleable__label-arrow\">Pipeline</label><div class=\"sk-toggleable__content\"><pre>Pipeline(steps=[(&#x27;numeric_scaler&#x27;,\n",
       "                 SklearnTransformerWrapper(transformer=StandardScaler(),\n",
       "                                           variables=[&#x27;gf_rolling_ratio&#x27;,\n",
       "                                                      &#x27;ga_rolling_ratio&#x27;,\n",
       "                                                      &#x27;points_last_season_ratio&#x27;,\n",
       "                                                      &#x27;pont_rolling_ratio&#x27;,\n",
       "                                                      &#x27;last_2_results&#x27;])),\n",
       "                (&#x27;svc&#x27;, SVC())])</pre></div></div></div><div class=\"sk-serial\"><div class=\"sk-item sk-dashed-wrapped\"><div class=\"sk-label-container\"><div class=\"sk-label sk-toggleable\"><input class=\"sk-toggleable__control sk-hidden--visually\" id=\"sk-estimator-id-17\" type=\"checkbox\" ><label for=\"sk-estimator-id-17\" class=\"sk-toggleable__label sk-toggleable__label-arrow\">numeric_scaler: SklearnTransformerWrapper</label><div class=\"sk-toggleable__content\"><pre>SklearnTransformerWrapper(transformer=StandardScaler(),\n",
       "                          variables=[&#x27;gf_rolling_ratio&#x27;, &#x27;ga_rolling_ratio&#x27;,\n",
       "                                     &#x27;points_last_season_ratio&#x27;,\n",
       "                                     &#x27;pont_rolling_ratio&#x27;, &#x27;last_2_results&#x27;])</pre></div></div></div><div class=\"sk-parallel\"><div class=\"sk-parallel-item\"><div class=\"sk-item\"><div class=\"sk-label-container\"><div class=\"sk-label sk-toggleable\"><input class=\"sk-toggleable__control sk-hidden--visually\" id=\"sk-estimator-id-18\" type=\"checkbox\" ><label for=\"sk-estimator-id-18\" class=\"sk-toggleable__label sk-toggleable__label-arrow\">transformer: StandardScaler</label><div class=\"sk-toggleable__content\"><pre>StandardScaler()</pre></div></div></div><div class=\"sk-serial\"><div class=\"sk-item\"><div class=\"sk-estimator sk-toggleable\"><input class=\"sk-toggleable__control sk-hidden--visually\" id=\"sk-estimator-id-19\" type=\"checkbox\" ><label for=\"sk-estimator-id-19\" class=\"sk-toggleable__label sk-toggleable__label-arrow\">StandardScaler</label><div class=\"sk-toggleable__content\"><pre>StandardScaler()</pre></div></div></div></div></div></div></div></div><div class=\"sk-item\"><div class=\"sk-estimator sk-toggleable\"><input class=\"sk-toggleable__control sk-hidden--visually\" id=\"sk-estimator-id-20\" type=\"checkbox\" ><label for=\"sk-estimator-id-20\" class=\"sk-toggleable__label sk-toggleable__label-arrow\">SVC</label><div class=\"sk-toggleable__content\"><pre>SVC()</pre></div></div></div></div></div></div></div>"
      ],
      "text/plain": [
       "Pipeline(steps=[('numeric_scaler',\n",
       "                 SklearnTransformerWrapper(transformer=StandardScaler(),\n",
       "                                           variables=['gf_rolling_ratio',\n",
       "                                                      'ga_rolling_ratio',\n",
       "                                                      'points_last_season_ratio',\n",
       "                                                      'pont_rolling_ratio',\n",
       "                                                      'last_2_results'])),\n",
       "                ('svc', SVC())])"
      ]
     },
     "execution_count": 108,
     "metadata": {},
     "output_type": "execute_result"
    }
   ],
   "source": [
    "pipeline_svc.fit(X_train, y_train)"
   ]
  },
  {
   "cell_type": "code",
   "execution_count": null,
   "id": "7cbbe8e3",
   "metadata": {},
   "outputs": [],
   "source": [
    "y_pred = pipeline_svc.predict(X_test)"
   ]
  },
  {
   "cell_type": "code",
   "execution_count": null,
   "id": "4436c5d0",
   "metadata": {},
   "outputs": [
    {
     "data": {
      "text/plain": [
       "0.679549114331723"
      ]
     },
     "execution_count": 110,
     "metadata": {},
     "output_type": "execute_result"
    }
   ],
   "source": [
    "precision_score(y_test, y_pred)"
   ]
  },
  {
   "cell_type": "code",
   "execution_count": null,
   "id": "c920a7a9",
   "metadata": {},
   "outputs": [
    {
     "data": {
      "text/plain": [
       "0.6651480637813212"
      ]
     },
     "execution_count": 111,
     "metadata": {},
     "output_type": "execute_result"
    }
   ],
   "source": [
    "accuracy_score(y_test, y_pred)"
   ]
  },
  {
   "cell_type": "code",
   "execution_count": null,
   "id": "a36f1688",
   "metadata": {},
   "outputs": [
    {
     "data": {
      "text/plain": [
       "<sklearn.metrics._plot.confusion_matrix.ConfusionMatrixDisplay at 0x1e2a4f23da0>"
      ]
     },
     "execution_count": 113,
     "metadata": {},
     "output_type": "execute_result"
    },
    {
     "data": {
      "image/png": "[encoded data removed]",
      "text/plain": [
       "<Figure size 640x480 with 2 Axes>"
      ]
     },
     "metadata": {},
     "output_type": "display_data"
    }
   ],
   "source": [
    "ConfusionMatrixDisplay.from_estimator(pipeline_svc, X_test, y_test, values_format='d')"
   ]
  },
  {
   "cell_type": "code",
   "execution_count": null,
   "id": "9ae77853",
   "metadata": {},
   "outputs": [
    {
     "name": "stdout",
     "output_type": "stream",
     "text": [
      "Fitting 5 folds for each of 32 candidates, totalling 160 fits\n",
      "\n",
      "====================================================================================================\n",
      "{'svc__C': 1, 'svc__class_weight': None, 'svc__gamma': 'scale', 'svc__kernel': 'rbf'}\n",
      "====================================================================================================\n",
      "\n"
     ]
    }
   ],
   "source": [
    "parametros = {\n",
    "    'svc__C': [0.01, 0.1, 1, 10], # [0.001, 0.01, 0.1, 1, 10, 100],\n",
    "    'svc__gamma': ['scale', 'auto'], # ['scale', 'auto'],\n",
    "    'svc__kernel': ['rbf', 'poly'], # ['rbf', 'poly', 'linear', 'sigmoid'],\n",
    "    'svc__class_weight': ['balanced', None]\n",
    "}\n",
    "grid_search = GridSearchCV(pipeline_svc, parametros, scoring='accuracy', cv=5, n_jobs=-1, verbose=1)\n",
    "grid_search.fit(X_train, y_train)\n",
    "\n",
    "print()\n",
    "print('='*100)\n",
    "print(grid_search.best_params_)\n",
    "print('='*100)\n",
    "print()"
   ]
  },
  {
   "cell_type": "code",
   "execution_count": null,
   "id": "604441ed",
   "metadata": {},
   "outputs": [],
   "source": [
    "best_svc_pipeline = Pipeline(steps= std_scaller + [('svc', SVC(C=1, class_weight=None, gamma='scale', kernel='rbf'))])"
   ]
  },
  {
   "cell_type": "code",
   "execution_count": null,
   "id": "aa5f5a4f",
   "metadata": {},
   "outputs": [
    {
     "data": {
      "text/html": [
       "<style>#sk-container-id-5 {color: black;}#sk-container-id-5 pre{padding: 0;}#sk-container-id-5 div.sk-toggleable {background-color: white;}#sk-container-id-5 label.sk-toggleable__label {cursor: pointer;display: block;width: 100%;margin-bottom: 0;padding: 0.3em;box-sizing: border-box;text-align: center;}#sk-container-id-5 label.sk-toggleable__label-arrow:before {content: \"▸\";float: left;margin-right: 0.25em;color: #696969;}#sk-container-id-5 label.sk-toggleable__label-arrow:hover:before {color: black;}#sk-container-id-5 div.sk-estimator:hover label.sk-toggleable__label-arrow:before {color: black;}#sk-container-id-5 div.sk-toggleable__content {max-height: 0;max-width: 0;overflow: hidden;text-align: left;background-color: #f0f8ff;}#sk-container-id-5 div.sk-toggleable__content pre {margin: 0.2em;color: black;border-radius: 0.25em;background-color: #f0f8ff;}#sk-container-id-5 input.sk-toggleable__control:checked~div.sk-toggleable__content {max-height: 200px;max-width: 100%;overflow: auto;}#sk-container-id-5 input.sk-toggleable__control:checked~label.sk-toggleable__label-arrow:before {content: \"▾\";}#sk-container-id-5 div.sk-estimator input.sk-toggleable__control:checked~label.sk-toggleable__label {background-color: #d4ebff;}#sk-container-id-5 div.sk-label input.sk-toggleable__control:checked~label.sk-toggleable__label {background-color: #d4ebff;}#sk-container-id-5 input.sk-hidden--visually {border: 0;clip: rect(1px 1px 1px 1px);clip: rect(1px, 1px, 1px, 1px);height: 1px;margin: -1px;overflow: hidden;padding: 0;position: absolute;width: 1px;}#sk-container-id-5 div.sk-estimator {font-family: monospace;background-color: #f0f8ff;border: 1px dotted black;border-radius: 0.25em;box-sizing: border-box;margin-bottom: 0.5em;}#sk-container-id-5 div.sk-estimator:hover {background-color: #d4ebff;}#sk-container-id-5 div.sk-parallel-item::after {content: \"\";width: 100%;border-bottom: 1px solid gray;flex-grow: 1;}#sk-container-id-5 div.sk-label:hover label.sk-toggleable__label {background-color: #d4ebff;}#sk-container-id-5 div.sk-serial::before {content: \"\";position: absolute;border-left: 1px solid gray;box-sizing: border-box;top: 0;bottom: 0;left: 50%;z-index: 0;}#sk-container-id-5 div.sk-serial {display: flex;flex-direction: column;align-items: center;background-color: white;padding-right: 0.2em;padding-left: 0.2em;position: relative;}#sk-container-id-5 div.sk-item {position: relative;z-index: 1;}#sk-container-id-5 div.sk-parallel {display: flex;align-items: stretch;justify-content: center;background-color: white;position: relative;}#sk-container-id-5 div.sk-item::before, #sk-container-id-5 div.sk-parallel-item::before {content: \"\";position: absolute;border-left: 1px solid gray;box-sizing: border-box;top: 0;bottom: 0;left: 50%;z-index: -1;}#sk-container-id-5 div.sk-parallel-item {display: flex;flex-direction: column;z-index: 1;position: relative;background-color: white;}#sk-container-id-5 div.sk-parallel-item:first-child::after {align-self: flex-end;width: 50%;}#sk-container-id-5 div.sk-parallel-item:last-child::after {align-self: flex-start;width: 50%;}#sk-container-id-5 div.sk-parallel-item:only-child::after {width: 0;}#sk-container-id-5 div.sk-dashed-wrapped {border: 1px dashed gray;margin: 0 0.4em 0.5em 0.4em;box-sizing: border-box;padding-bottom: 0.4em;background-color: white;}#sk-container-id-5 div.sk-label label {font-family: monospace;font-weight: bold;display: inline-block;line-height: 1.2em;}#sk-container-id-5 div.sk-label-container {text-align: center;}#sk-container-id-5 div.sk-container {/* jupyter's `normalize.less` sets `[hidden] { display: none; }` but bootstrap.min.css set `[hidden] { display: none !important; }` so we also need the `!important` here to be able to override the default hidden behavior on the sphinx rendered scikit-learn.org. See: https://github.com/scikit-learn/scikit-learn/issues/21755 */display: inline-block !important;position: relative;}#sk-container-id-5 div.sk-text-repr-fallback {display: none;}</style><div id=\"sk-container-id-5\" class=\"sk-top-container\"><div class=\"sk-text-repr-fallback\"><pre>Pipeline(steps=[(&#x27;numeric_scaler&#x27;,\n",
       "                 SklearnTransformerWrapper(transformer=StandardScaler(),\n",
       "                                           variables=[&#x27;gf_rolling_ratio&#x27;,\n",
       "                                                      &#x27;ga_rolling_ratio&#x27;,\n",
       "                                                      &#x27;points_last_season_ratio&#x27;,\n",
       "                                                      &#x27;pont_rolling_ratio&#x27;,\n",
       "                                                      &#x27;last_2_results&#x27;])),\n",
       "                (&#x27;svc&#x27;, SVC(C=1))])</pre><b>In a Jupyter environment, please rerun this cell to show the HTML representation or trust the notebook. <br />On GitHub, the HTML representation is unable to render, please try loading this page with nbviewer.org.</b></div><div class=\"sk-container\" hidden><div class=\"sk-item sk-dashed-wrapped\"><div class=\"sk-label-container\"><div class=\"sk-label sk-toggleable\"><input class=\"sk-toggleable__control sk-hidden--visually\" id=\"sk-estimator-id-21\" type=\"checkbox\" ><label for=\"sk-estimator-id-21\" class=\"sk-toggleable__label sk-toggleable__label-arrow\">Pipeline</label><div class=\"sk-toggleable__content\"><pre>Pipeline(steps=[(&#x27;numeric_scaler&#x27;,\n",
       "                 SklearnTransformerWrapper(transformer=StandardScaler(),\n",
       "                                           variables=[&#x27;gf_rolling_ratio&#x27;,\n",
       "                                                      &#x27;ga_rolling_ratio&#x27;,\n",
       "                                                      &#x27;points_last_season_ratio&#x27;,\n",
       "                                                      &#x27;pont_rolling_ratio&#x27;,\n",
       "                                                      &#x27;last_2_results&#x27;])),\n",
       "                (&#x27;svc&#x27;, SVC(C=1))])</pre></div></div></div><div class=\"sk-serial\"><div class=\"sk-item sk-dashed-wrapped\"><div class=\"sk-label-container\"><div class=\"sk-label sk-toggleable\"><input class=\"sk-toggleable__control sk-hidden--visually\" id=\"sk-estimator-id-22\" type=\"checkbox\" ><label for=\"sk-estimator-id-22\" class=\"sk-toggleable__label sk-toggleable__label-arrow\">numeric_scaler: SklearnTransformerWrapper</label><div class=\"sk-toggleable__content\"><pre>SklearnTransformerWrapper(transformer=StandardScaler(),\n",
       "                          variables=[&#x27;gf_rolling_ratio&#x27;, &#x27;ga_rolling_ratio&#x27;,\n",
       "                                     &#x27;points_last_season_ratio&#x27;,\n",
       "                                     &#x27;pont_rolling_ratio&#x27;, &#x27;last_2_results&#x27;])</pre></div></div></div><div class=\"sk-parallel\"><div class=\"sk-parallel-item\"><div class=\"sk-item\"><div class=\"sk-label-container\"><div class=\"sk-label sk-toggleable\"><input class=\"sk-toggleable__control sk-hidden--visually\" id=\"sk-estimator-id-23\" type=\"checkbox\" ><label for=\"sk-estimator-id-23\" class=\"sk-toggleable__label sk-toggleable__label-arrow\">transformer: StandardScaler</label><div class=\"sk-toggleable__content\"><pre>StandardScaler()</pre></div></div></div><div class=\"sk-serial\"><div class=\"sk-item\"><div class=\"sk-estimator sk-toggleable\"><input class=\"sk-toggleable__control sk-hidden--visually\" id=\"sk-estimator-id-24\" type=\"checkbox\" ><label for=\"sk-estimator-id-24\" class=\"sk-toggleable__label sk-toggleable__label-arrow\">StandardScaler</label><div class=\"sk-toggleable__content\"><pre>StandardScaler()</pre></div></div></div></div></div></div></div></div><div class=\"sk-item\"><div class=\"sk-estimator sk-toggleable\"><input class=\"sk-toggleable__control sk-hidden--visually\" id=\"sk-estimator-id-25\" type=\"checkbox\" ><label for=\"sk-estimator-id-25\" class=\"sk-toggleable__label sk-toggleable__label-arrow\">SVC</label><div class=\"sk-toggleable__content\"><pre>SVC(C=1)</pre></div></div></div></div></div></div></div>"
      ],
      "text/plain": [
       "Pipeline(steps=[('numeric_scaler',\n",
       "                 SklearnTransformerWrapper(transformer=StandardScaler(),\n",
       "                                           variables=['gf_rolling_ratio',\n",
       "                                                      'ga_rolling_ratio',\n",
       "                                                      'points_last_season_ratio',\n",
       "                                                      'pont_rolling_ratio',\n",
       "                                                      'last_2_results'])),\n",
       "                ('svc', SVC(C=1))])"
      ]
     },
     "execution_count": 116,
     "metadata": {},
     "output_type": "execute_result"
    }
   ],
   "source": [
    "best_svc_pipeline.fit(X_train, y_train)"
   ]
  },
  {
   "cell_type": "code",
   "execution_count": null,
   "id": "33cba12c",
   "metadata": {},
   "outputs": [],
   "source": [
    "y_pred_best = best_svc_pipeline.predict(X_test)"
   ]
  },
  {
   "cell_type": "code",
   "execution_count": null,
   "id": "d5f86800",
   "metadata": {},
   "outputs": [],
   "source": [
    "precision_score_svm = precision_score(y_test, y_pred_best)\n",
    "accuracy_score_svm = accuracy_score(y_test, y_pred_best)\n",
    "recall_score_svm = recall_score(y_test, y_pred_best)\n",
    "f1_score_svm = f1_score(y_test, y_pred_best)\n",
    "roc_auc_score_svm = roc_auc_score(y_test, y_pred_best)"
   ]
  },
  {
   "cell_type": "code",
   "execution_count": null,
   "id": "52e23344",
   "metadata": {},
   "outputs": [
    {
     "data": {
      "text/plain": [
       "<sklearn.metrics._plot.confusion_matrix.ConfusionMatrixDisplay at 0x1e2a4f53650>"
      ]
     },
     "execution_count": 119,
     "metadata": {},
     "output_type": "execute_result"
    },
    {
     "data": {
      "image/png": "[encoded data removed]",
      "text/plain": [
       "<Figure size 640x480 with 2 Axes>"
      ]
     },
     "metadata": {},
     "output_type": "display_data"
    }
   ],
   "source": [
    "ConfusionMatrixDisplay.from_estimator(best_svc_pipeline, X_test, y_test, values_format='d')"
   ]
  },
  {
   "cell_type": "code",
   "execution_count": null,
   "id": "577b6ab6",
   "metadata": {},
   "outputs": [
    {
     "data": {
      "text/plain": [
       "0.6651480637813212"
      ]
     },
     "execution_count": 120,
     "metadata": {},
     "output_type": "execute_result"
    }
   ],
   "source": [
    "accuracy_score_svm"
   ]
  },
  {
   "cell_type": "code",
   "execution_count": null,
   "id": "98005726",
   "metadata": {},
   "outputs": [
    {
     "data": {
      "text/plain": [
       "0.679549114331723"
      ]
     },
     "execution_count": 121,
     "metadata": {},
     "output_type": "execute_result"
    }
   ],
   "source": [
    "precision_score_svm"
   ]
  },
  {
   "cell_type": "code",
   "execution_count": null,
   "id": "caa90015",
   "metadata": {},
   "outputs": [
    {
     "data": {
      "text/plain": [
       "0.816247582205029"
      ]
     },
     "execution_count": 122,
     "metadata": {},
     "output_type": "execute_result"
    }
   ],
   "source": [
    "recall_score_svm"
   ]
  },
  {
   "cell_type": "code",
   "execution_count": null,
   "id": "6896acc6",
   "metadata": {},
   "outputs": [
    {
     "data": {
      "text/plain": [
       "0.7416520210896309"
      ]
     },
     "execution_count": 123,
     "metadata": {},
     "output_type": "execute_result"
    }
   ],
   "source": [
    "f1_score_svm"
   ]
  },
  {
   "cell_type": "code",
   "execution_count": null,
   "id": "036fe8e9",
   "metadata": {},
   "outputs": [
    {
     "data": {
      "text/plain": [
       "0.6325005224044535"
      ]
     },
     "execution_count": 124,
     "metadata": {},
     "output_type": "execute_result"
    }
   ],
   "source": [
    "roc_auc_score_svm"
   ]
  },
  {
   "cell_type": "markdown",
   "id": "036fe8e9",
   "metadata": {},
   "source": [
    "## Decision Tree"
   ]
  },
  {
   "cell_type": "code",
   "execution_count": null,
   "id": "598a4450",
   "metadata": {},
   "outputs": [],
   "source": [
    "from sklearn.tree import DecisionTreeClassifier"
   ]
  },
  {
   "cell_type": "code",
   "execution_count": null,
   "id": "391a8c1e",
   "metadata": {},
   "outputs": [],
   "source": [
    "dt = DecisionTreeClassifier()"
   ]
  },
  {
   "cell_type": "code",
   "execution_count": null,
   "id": "22473117",
   "metadata": {},
   "outputs": [
    {
     "data": {
      "text/html": [
       "<style>#sk-container-id-6 {color: black;}#sk-container-id-6 pre{padding: 0;}#sk-container-id-6 div.sk-toggleable {background-color: white;}#sk-container-id-6 label.sk-toggleable__label {cursor: pointer;display: block;width: 100%;margin-bottom: 0;padding: 0.3em;box-sizing: border-box;text-align: center;}#sk-container-id-6 label.sk-toggleable__label-arrow:before {content: \"▸\";float: left;margin-right: 0.25em;color: #696969;}#sk-container-id-6 label.sk-toggleable__label-arrow:hover:before {color: black;}#sk-container-id-6 div.sk-estimator:hover label.sk-toggleable__label-arrow:before {color: black;}#sk-container-id-6 div.sk-toggleable__content {max-height: 0;max-width: 0;overflow: hidden;text-align: left;background-color: #f0f8ff;}#sk-container-id-6 div.sk-toggleable__content pre {margin: 0.2em;color: black;border-radius: 0.25em;background-color: #f0f8ff;}#sk-container-id-6 input.sk-toggleable__control:checked~div.sk-toggleable__content {max-height: 200px;max-width: 100%;overflow: auto;}#sk-container-id-6 input.sk-toggleable__control:checked~label.sk-toggleable__label-arrow:before {content: \"▾\";}#sk-container-id-6 div.sk-estimator input.sk-toggleable__control:checked~label.sk-toggleable__label {background-color: #d4ebff;}#sk-container-id-6 div.sk-label input.sk-toggleable__control:checked~label.sk-toggleable__label {background-color: #d4ebff;}#sk-container-id-6 input.sk-hidden--visually {border: 0;clip: rect(1px 1px 1px 1px);clip: rect(1px, 1px, 1px, 1px);height: 1px;margin: -1px;overflow: hidden;padding: 0;position: absolute;width: 1px;}#sk-container-id-6 div.sk-estimator {font-family: monospace;background-color: #f0f8ff;border: 1px dotted black;border-radius: 0.25em;box-sizing: border-box;margin-bottom: 0.5em;}#sk-container-id-6 div.sk-estimator:hover {background-color: #d4ebff;}#sk-container-id-6 div.sk-parallel-item::after {content: \"\";width: 100%;border-bottom: 1px solid gray;flex-grow: 1;}#sk-container-id-6 div.sk-label:hover label.sk-toggleable__label {background-color: #d4ebff;}#sk-container-id-6 div.sk-serial::before {content: \"\";position: absolute;border-left: 1px solid gray;box-sizing: border-box;top: 0;bottom: 0;left: 50%;z-index: 0;}#sk-container-id-6 div.sk-serial {display: flex;flex-direction: column;align-items: center;background-color: white;padding-right: 0.2em;padding-left: 0.2em;position: relative;}#sk-container-id-6 div.sk-item {position: relative;z-index: 1;}#sk-container-id-6 div.sk-parallel {display: flex;align-items: stretch;justify-content: center;background-color: white;position: relative;}#sk-container-id-6 div.sk-item::before, #sk-container-id-6 div.sk-parallel-item::before {content: \"\";position: absolute;border-left: 1px solid gray;box-sizing: border-box;top: 0;bottom: 0;left: 50%;z-index: -1;}#sk-container-id-6 div.sk-parallel-item {display: flex;flex-direction: column;z-index: 1;position: relative;background-color: white;}#sk-container-id-6 div.sk-parallel-item:first-child::after {align-self: flex-end;width: 50%;}#sk-container-id-6 div.sk-parallel-item:last-child::after {align-self: flex-start;width: 50%;}#sk-container-id-6 div.sk-parallel-item:only-child::after {width: 0;}#sk-container-id-6 div.sk-dashed-wrapped {border: 1px dashed gray;margin: 0 0.4em 0.5em 0.4em;box-sizing: border-box;padding-bottom: 0.4em;background-color: white;}#sk-container-id-6 div.sk-label label {font-family: monospace;font-weight: bold;display: inline-block;line-height: 1.2em;}#sk-container-id-6 div.sk-label-container {text-align: center;}#sk-container-id-6 div.sk-container {/* jupyter's `normalize.less` sets `[hidden] { display: none; }` but bootstrap.min.css set `[hidden] { display: none !important; }` so we also need the `!important` here to be able to override the default hidden behavior on the sphinx rendered scikit-learn.org. See: https://github.com/scikit-learn/scikit-learn/issues/21755 */display: inline-block !important;position: relative;}#sk-container-id-6 div.sk-text-repr-fallback {display: none;}</style><div id=\"sk-container-id-6\" class=\"sk-top-container\"><div class=\"sk-text-repr-fallback\"><pre>DecisionTreeClassifier()</pre><b>In a Jupyter environment, please rerun this cell to show the HTML representation or trust the notebook. <br />On GitHub, the HTML representation is unable to render, please try loading this page with nbviewer.org.</b></div><div class=\"sk-container\" hidden><div class=\"sk-item\"><div class=\"sk-estimator sk-toggleable\"><input class=\"sk-toggleable__control sk-hidden--visually\" id=\"sk-estimator-id-26\" type=\"checkbox\" checked><label for=\"sk-estimator-id-26\" class=\"sk-toggleable__label sk-toggleable__label-arrow\">DecisionTreeClassifier</label><div class=\"sk-toggleable__content\"><pre>DecisionTreeClassifier()</pre></div></div></div></div></div>"
      ],
      "text/plain": [
       "DecisionTreeClassifier()"
      ]
     },
     "execution_count": 127,
     "metadata": {},
     "output_type": "execute_result"
    }
   ],
   "source": [
    "dt.fit(X_train, y_train)"
   ]
  },
  {
   "cell_type": "code",
   "execution_count": null,
   "id": "73b65d9b",
   "metadata": {},
   "outputs": [],
   "source": [
    "y_pred = dt.predict(X_test)"
   ]
  },
  {
   "cell_type": "code",
   "execution_count": null,
   "id": "3200fa63",
   "metadata": {},
   "outputs": [
    {
     "data": {
      "text/plain": [
       "0.6375968992248062"
      ]
     },
     "execution_count": 129,
     "metadata": {},
     "output_type": "execute_result"
    }
   ],
   "source": [
    "precision_score(y_test, y_pred)"
   ]
  },
  {
   "cell_type": "code",
   "execution_count": null,
   "id": "bfd2193e",
   "metadata": {},
   "outputs": [
    {
     "data": {
      "text/plain": [
       "0.5728929384965832"
      ]
     },
     "execution_count": 130,
     "metadata": {},
     "output_type": "execute_result"
    }
   ],
   "source": [
    "accuracy_score(y_test, y_pred)"
   ]
  },
  {
   "cell_type": "code",
   "execution_count": null,
   "id": "3a665ed8",
   "metadata": {},
   "outputs": [
    {
     "data": {
      "text/plain": [
       "0.6363636363636364"
      ]
     },
     "execution_count": 131,
     "metadata": {},
     "output_type": "execute_result"
    }
   ],
   "source": [
    "recall_score(y_test, y_pred)"
   ]
  },
  {
   "cell_type": "code",
   "execution_count": null,
   "id": "a7d2ef4b",
   "metadata": {},
   "outputs": [
    {
     "data": {
      "text/plain": [
       "0.6369796708615683"
      ]
     },
     "execution_count": 132,
     "metadata": {},
     "output_type": "execute_result"
    }
   ],
   "source": [
    "f1_score(y_test, y_pred)"
   ]
  },
  {
   "cell_type": "code",
   "execution_count": null,
   "id": "74f8d61d",
   "metadata": {},
   "outputs": [
    {
     "data": {
      "text/plain": [
       "0.5591790480987157"
      ]
     },
     "execution_count": 133,
     "metadata": {},
     "output_type": "execute_result"
    }
   ],
   "source": [
    "roc_auc_score(y_test, y_pred)"
   ]
  },
  {
   "cell_type": "code",
   "execution_count": null,
   "id": "6e6a8793",
   "metadata": {},
   "outputs": [
    {
     "data": {
      "text/plain": [
       "<sklearn.metrics._plot.confusion_matrix.ConfusionMatrixDisplay at 0x1e2b9e8a660>"
      ]
     },
     "execution_count": 134,
     "metadata": {},
     "output_type": "execute_result"
    },
    {
     "data": {
      "image/png": "[encoded data removed]",
      "text/plain": [
       "<Figure size 640x480 with 2 Axes>"
      ]
     },
     "metadata": {},
     "output_type": "display_data"
    }
   ],
   "source": [
    "ConfusionMatrixDisplay.from_estimator(dt, X_test, y_test, values_format='d')"
   ]
  },
  {
   "cell_type": "code",
   "execution_count": null,
   "id": "1c5ddf0e",
   "metadata": {},
   "outputs": [
    {
     "name": "stdout",
     "output_type": "stream",
     "text": [
      "Fitting 5 folds for each of 144 candidates, totalling 720 fits\n",
      "\n",
      "====================================================================================================\n",
      "{'class_weight': 'balanced', 'criterion': 'entropy', 'max_depth': 4, 'min_samples_split': 2}\n",
      "====================================================================================================\n",
      "\n"
     ]
    }
   ],
   "source": [
    "parametros = {\n",
    "  'max_depth': [2, 3, 4, 5, 6, 7, 8, 9, 10],\n",
    "  'criterion': ['gini', 'entropy'],\n",
    "  'class_weight': ['balanced', 'None'],\n",
    "  'min_samples_split': [2, 3, 4, 5],\n",
    "}\n",
    "\n",
    "grid_search = GridSearchCV(DecisionTreeClassifier(), parametros, scoring='accuracy', cv=5, n_jobs=-1, verbose=1)\n",
    "grid_search.fit(X_train, y_train)\n",
    "\n",
    "print()\n",
    "print('='*100)\n",
    "print(grid_search.best_params_)\n",
    "print('='*100)\n",
    "print()"
   ]
  },
  {
   "cell_type": "code",
   "execution_count": null,
   "id": "032bd394",
   "metadata": {},
   "outputs": [],
   "source": [
    "best_dt = DecisionTreeClassifier(class_weight='balanced', criterion='gini', max_depth=4, min_samples_split=2)"
   ]
  },
  {
   "cell_type": "code",
   "execution_count": null,
   "id": "99c40a07",
   "metadata": {},
   "outputs": [
    {
     "data": {
      "text/html": [
       "<style>#sk-container-id-7 {color: black;}#sk-container-id-7 pre{padding: 0;}#sk-container-id-7 div.sk-toggleable {background-color: white;}#sk-container-id-7 label.sk-toggleable__label {cursor: pointer;display: block;width: 100%;margin-bottom: 0;padding: 0.3em;box-sizing: border-box;text-align: center;}#sk-container-id-7 label.sk-toggleable__label-arrow:before {content: \"▸\";float: left;margin-right: 0.25em;color: #696969;}#sk-container-id-7 label.sk-toggleable__label-arrow:hover:before {color: black;}#sk-container-id-7 div.sk-estimator:hover label.sk-toggleable__label-arrow:before {color: black;}#sk-container-id-7 div.sk-toggleable__content {max-height: 0;max-width: 0;overflow: hidden;text-align: left;background-color: #f0f8ff;}#sk-container-id-7 div.sk-toggleable__content pre {margin: 0.2em;color: black;border-radius: 0.25em;background-color: #f0f8ff;}#sk-container-id-7 input.sk-toggleable__control:checked~div.sk-toggleable__content {max-height: 200px;max-width: 100%;overflow: auto;}#sk-container-id-7 input.sk-toggleable__control:checked~label.sk-toggleable__label-arrow:before {content: \"▾\";}#sk-container-id-7 div.sk-estimator input.sk-toggleable__control:checked~label.sk-toggleable__label {background-color: #d4ebff;}#sk-container-id-7 div.sk-label input.sk-toggleable__control:checked~label.sk-toggleable__label {background-color: #d4ebff;}#sk-container-id-7 input.sk-hidden--visually {border: 0;clip: rect(1px 1px 1px 1px);clip: rect(1px, 1px, 1px, 1px);height: 1px;margin: -1px;overflow: hidden;padding: 0;position: absolute;width: 1px;}#sk-container-id-7 div.sk-estimator {font-family: monospace;background-color: #f0f8ff;border: 1px dotted black;border-radius: 0.25em;box-sizing: border-box;margin-bottom: 0.5em;}#sk-container-id-7 div.sk-estimator:hover {background-color: #d4ebff;}#sk-container-id-7 div.sk-parallel-item::after {content: \"\";width: 100%;border-bottom: 1px solid gray;flex-grow: 1;}#sk-container-id-7 div.sk-label:hover label.sk-toggleable__label {background-color: #d4ebff;}#sk-container-id-7 div.sk-serial::before {content: \"\";position: absolute;border-left: 1px solid gray;box-sizing: border-box;top: 0;bottom: 0;left: 50%;z-index: 0;}#sk-container-id-7 div.sk-serial {display: flex;flex-direction: column;align-items: center;background-color: white;padding-right: 0.2em;padding-left: 0.2em;position: relative;}#sk-container-id-7 div.sk-item {position: relative;z-index: 1;}#sk-container-id-7 div.sk-parallel {display: flex;align-items: stretch;justify-content: center;background-color: white;position: relative;}#sk-container-id-7 div.sk-item::before, #sk-container-id-7 div.sk-parallel-item::before {content: \"\";position: absolute;border-left: 1px solid gray;box-sizing: border-box;top: 0;bottom: 0;left: 50%;z-index: -1;}#sk-container-id-7 div.sk-parallel-item {display: flex;flex-direction: column;z-index: 1;position: relative;background-color: white;}#sk-container-id-7 div.sk-parallel-item:first-child::after {align-self: flex-end;width: 50%;}#sk-container-id-7 div.sk-parallel-item:last-child::after {align-self: flex-start;width: 50%;}#sk-container-id-7 div.sk-parallel-item:only-child::after {width: 0;}#sk-container-id-7 div.sk-dashed-wrapped {border: 1px dashed gray;margin: 0 0.4em 0.5em 0.4em;box-sizing: border-box;padding-bottom: 0.4em;background-color: white;}#sk-container-id-7 div.sk-label label {font-family: monospace;font-weight: bold;display: inline-block;line-height: 1.2em;}#sk-container-id-7 div.sk-label-container {text-align: center;}#sk-container-id-7 div.sk-container {/* jupyter's `normalize.less` sets `[hidden] { display: none; }` but bootstrap.min.css set `[hidden] { display: none !important; }` so we also need the `!important` here to be able to override the default hidden behavior on the sphinx rendered scikit-learn.org. See: https://github.com/scikit-learn/scikit-learn/issues/21755 */display: inline-block !important;position: relative;}#sk-container-id-7 div.sk-text-repr-fallback {display: none;}</style><div id=\"sk-container-id-7\" class=\"sk-top-container\"><div class=\"sk-text-repr-fallback\"><pre>DecisionTreeClassifier(class_weight=&#x27;balanced&#x27;, max_depth=4)</pre><b>In a Jupyter environment, please rerun this cell to show the HTML representation or trust the notebook. <br />On GitHub, the HTML representation is unable to render, please try loading this page with nbviewer.org.</b></div><div class=\"sk-container\" hidden><div class=\"sk-item\"><div class=\"sk-estimator sk-toggleable\"><input class=\"sk-toggleable__control sk-hidden--visually\" id=\"sk-estimator-id-27\" type=\"checkbox\" checked><label for=\"sk-estimator-id-27\" class=\"sk-toggleable__label sk-toggleable__label-arrow\">DecisionTreeClassifier</label><div class=\"sk-toggleable__content\"><pre>DecisionTreeClassifier(class_weight=&#x27;balanced&#x27;, max_depth=4)</pre></div></div></div></div></div>"
      ],
      "text/plain": [
       "DecisionTreeClassifier(class_weight='balanced', max_depth=4)"
      ]
     },
     "execution_count": 137,
     "metadata": {},
     "output_type": "execute_result"
    }
   ],
   "source": [
    "best_dt.fit(X_train, y_train)"
   ]
  },
  {
   "cell_type": "code",
   "execution_count": null,
   "id": "1fd408e6",
   "metadata": {},
   "outputs": [],
   "source": [
    "y_pred_best = best_dt.predict(X_test)"
   ]
  },
  {
   "cell_type": "code",
   "execution_count": null,
   "id": "7b587a62",
   "metadata": {},
   "outputs": [],
   "source": [
    "precision_score_dt = precision_score(y_test, y_pred_best)\n",
    "accuracy_score_dt = accuracy_score(y_test, y_pred_best)\n",
    "recall_score_dt = recall_score(y_test, y_pred_best)\n",
    "f1_score_dt = f1_score(y_test, y_pred_best)\n",
    "roc_auc_score_dt = roc_auc_score(y_test, y_pred_best)"
   ]
  },
  {
   "cell_type": "code",
   "execution_count": null,
   "id": "7c651359",
   "metadata": {},
   "outputs": [
    {
     "data": {
      "text/plain": [
       "<sklearn.metrics._plot.confusion_matrix.ConfusionMatrixDisplay at 0x1e2bae9f920>"
      ]
     },
     "execution_count": 141,
     "metadata": {},
     "output_type": "execute_result"
    },
    {
     "data": {
      "image/png": "[encoded data removed]",
      "text/plain": [
       "<Figure size 640x480 with 2 Axes>"
      ]
     },
     "metadata": {},
     "output_type": "display_data"
    }
   ],
   "source": [
    "ConfusionMatrixDisplay.from_estimator(best_dt, X_test, y_test, values_format='d')"
   ]
  },
  {
   "cell_type": "code",
   "execution_count": null,
   "id": "8baff146",
   "metadata": {},
   "outputs": [
    {
     "data": {
      "text/plain": [
       "0.7320471596998929"
      ]
     },
     "execution_count": 142,
     "metadata": {},
     "output_type": "execute_result"
    }
   ],
   "source": [
    "precision_score_dt"
   ]
  },
  {
   "cell_type": "code",
   "execution_count": null,
   "id": "fd83d1dd",
   "metadata": {},
   "outputs": [
    {
     "data": {
      "text/plain": [
       "0.657744874715262"
      ]
     },
     "execution_count": 143,
     "metadata": {},
     "output_type": "execute_result"
    }
   ],
   "source": [
    "accuracy_score_dt"
   ]
  },
  {
   "cell_type": "code",
   "execution_count": null,
   "id": "d157001d",
   "metadata": {},
   "outputs": [
    {
     "data": {
      "text/plain": [
       "0.660541586073501"
      ]
     },
     "execution_count": 144,
     "metadata": {},
     "output_type": "execute_result"
    }
   ],
   "source": [
    "recall_score_dt"
   ]
  },
  {
   "cell_type": "code",
   "execution_count": null,
   "id": "f5ee6b93",
   "metadata": {},
   "outputs": [
    {
     "data": {
      "text/plain": [
       "0.6944585663446874"
      ]
     },
     "execution_count": 145,
     "metadata": {},
     "output_type": "execute_result"
    }
   ],
   "source": [
    "f1_score_dt"
   ]
  },
  {
   "cell_type": "code",
   "execution_count": null,
   "id": "ac59cd58",
   "metadata": {},
   "outputs": [
    {
     "data": {
      "text/plain": [
       "0.6571405991309333"
      ]
     },
     "execution_count": 146,
     "metadata": {},
     "output_type": "execute_result"
    }
   ],
   "source": [
    "roc_auc_score_dt"
   ]
  },
  {
   "cell_type": "code",
   "execution_count": null,
   "id": "0f640179",
   "metadata": {},
   "outputs": [
    {
     "data": {
      "image/png": "[encoded data removed]",
      "text/plain": [
       "<Figure size 1500x800 with 1 Axes>"
      ]
     },
     "metadata": {},
     "output_type": "display_data"
    }
   ],
   "source": [
    "from sklearn import tree\n",
    "\n",
    "fig = plt.figure(figsize=(15,8))\n",
    "_ = tree.plot_tree(best_dt, \n",
    "                   feature_names=X_train.columns,  \n",
    "                   class_names=['0','1'],\n",
    "                   filled=True)"
   ]
  },
  {
   "cell_type": "markdown",
   "id": "0f640179",
   "metadata": {},
   "source": [
    "## Random Forest"
   ]
  },
  {
   "cell_type": "code",
   "execution_count": null,
   "id": "c5f76259",
   "metadata": {},
   "outputs": [],
   "source": [
    "from sklearn.ensemble import RandomForestClassifier"
   ]
  },
  {
   "cell_type": "code",
   "execution_count": null,
   "id": "a94684a3",
   "metadata": {},
   "outputs": [],
   "source": [
    "rf = RandomForestClassifier()"
   ]
  },
  {
   "cell_type": "code",
   "execution_count": null,
   "id": "082cfcc7",
   "metadata": {},
   "outputs": [
    {
     "data": {
      "text/html": [
       "<style>#sk-container-id-8 {color: black;}#sk-container-id-8 pre{padding: 0;}#sk-container-id-8 div.sk-toggleable {background-color: white;}#sk-container-id-8 label.sk-toggleable__label {cursor: pointer;display: block;width: 100%;margin-bottom: 0;padding: 0.3em;box-sizing: border-box;text-align: center;}#sk-container-id-8 label.sk-toggleable__label-arrow:before {content: \"▸\";float: left;margin-right: 0.25em;color: #696969;}#sk-container-id-8 label.sk-toggleable__label-arrow:hover:before {color: black;}#sk-container-id-8 div.sk-estimator:hover label.sk-toggleable__label-arrow:before {color: black;}#sk-container-id-8 div.sk-toggleable__content {max-height: 0;max-width: 0;overflow: hidden;text-align: left;background-color: #f0f8ff;}#sk-container-id-8 div.sk-toggleable__content pre {margin: 0.2em;color: black;border-radius: 0.25em;background-color: #f0f8ff;}#sk-container-id-8 input.sk-toggleable__control:checked~div.sk-toggleable__content {max-height: 200px;max-width: 100%;overflow: auto;}#sk-container-id-8 input.sk-toggleable__control:checked~label.sk-toggleable__label-arrow:before {content: \"▾\";}#sk-container-id-8 div.sk-estimator input.sk-toggleable__control:checked~label.sk-toggleable__label {background-color: #d4ebff;}#sk-container-id-8 div.sk-label input.sk-toggleable__control:checked~label.sk-toggleable__label {background-color: #d4ebff;}#sk-container-id-8 input.sk-hidden--visually {border: 0;clip: rect(1px 1px 1px 1px);clip: rect(1px, 1px, 1px, 1px);height: 1px;margin: -1px;overflow: hidden;padding: 0;position: absolute;width: 1px;}#sk-container-id-8 div.sk-estimator {font-family: monospace;background-color: #f0f8ff;border: 1px dotted black;border-radius: 0.25em;box-sizing: border-box;margin-bottom: 0.5em;}#sk-container-id-8 div.sk-estimator:hover {background-color: #d4ebff;}#sk-container-id-8 div.sk-parallel-item::after {content: \"\";width: 100%;border-bottom: 1px solid gray;flex-grow: 1;}#sk-container-id-8 div.sk-label:hover label.sk-toggleable__label {background-color: #d4ebff;}#sk-container-id-8 div.sk-serial::before {content: \"\";position: absolute;border-left: 1px solid gray;box-sizing: border-box;top: 0;bottom: 0;left: 50%;z-index: 0;}#sk-container-id-8 div.sk-serial {display: flex;flex-direction: column;align-items: center;background-color: white;padding-right: 0.2em;padding-left: 0.2em;position: relative;}#sk-container-id-8 div.sk-item {position: relative;z-index: 1;}#sk-container-id-8 div.sk-parallel {display: flex;align-items: stretch;justify-content: center;background-color: white;position: relative;}#sk-container-id-8 div.sk-item::before, #sk-container-id-8 div.sk-parallel-item::before {content: \"\";position: absolute;border-left: 1px solid gray;box-sizing: border-box;top: 0;bottom: 0;left: 50%;z-index: -1;}#sk-container-id-8 div.sk-parallel-item {display: flex;flex-direction: column;z-index: 1;position: relative;background-color: white;}#sk-container-id-8 div.sk-parallel-item:first-child::after {align-self: flex-end;width: 50%;}#sk-container-id-8 div.sk-parallel-item:last-child::after {align-self: flex-start;width: 50%;}#sk-container-id-8 div.sk-parallel-item:only-child::after {width: 0;}#sk-container-id-8 div.sk-dashed-wrapped {border: 1px dashed gray;margin: 0 0.4em 0.5em 0.4em;box-sizing: border-box;padding-bottom: 0.4em;background-color: white;}#sk-container-id-8 div.sk-label label {font-family: monospace;font-weight: bold;display: inline-block;line-height: 1.2em;}#sk-container-id-8 div.sk-label-container {text-align: center;}#sk-container-id-8 div.sk-container {/* jupyter's `normalize.less` sets `[hidden] { display: none; }` but bootstrap.min.css set `[hidden] { display: none !important; }` so we also need the `!important` here to be able to override the default hidden behavior on the sphinx rendered scikit-learn.org. See: https://github.com/scikit-learn/scikit-learn/issues/21755 */display: inline-block !important;position: relative;}#sk-container-id-8 div.sk-text-repr-fallback {display: none;}</style><div id=\"sk-container-id-8\" class=\"sk-top-container\"><div class=\"sk-text-repr-fallback\"><pre>RandomForestClassifier()</pre><b>In a Jupyter environment, please rerun this cell to show the HTML representation or trust the notebook. <br />On GitHub, the HTML representation is unable to render, please try loading this page with nbviewer.org.</b></div><div class=\"sk-container\" hidden><div class=\"sk-item\"><div class=\"sk-estimator sk-toggleable\"><input class=\"sk-toggleable__control sk-hidden--visually\" id=\"sk-estimator-id-28\" type=\"checkbox\" checked><label for=\"sk-estimator-id-28\" class=\"sk-toggleable__label sk-toggleable__label-arrow\">RandomForestClassifier</label><div class=\"sk-toggleable__content\"><pre>RandomForestClassifier()</pre></div></div></div></div></div>"
      ],
      "text/plain": [
       "RandomForestClassifier()"
      ]
     },
     "execution_count": 150,
     "metadata": {},
     "output_type": "execute_result"
    }
   ],
   "source": [
    "rf.fit(X_train, y_train)"
   ]
  },
  {
   "cell_type": "code",
   "execution_count": null,
   "id": "721a2049",
   "metadata": {},
   "outputs": [],
   "source": [
    "y_pred = rf.predict(X_test)"
   ]
  },
  {
   "cell_type": "code",
   "execution_count": null,
   "id": "d69fff59",
   "metadata": {},
   "outputs": [
    {
     "data": {
      "text/plain": [
       "0.6754068716094033"
      ]
     },
     "execution_count": 152,
     "metadata": {},
     "output_type": "execute_result"
    }
   ],
   "source": [
    "precision_score(y_test, y_pred)"
   ]
  },
  {
   "cell_type": "code",
   "execution_count": null,
   "id": "71d43e1d",
   "metadata": {},
   "outputs": [
    {
     "data": {
      "text/plain": [
       "0.6321184510250569"
      ]
     },
     "execution_count": 153,
     "metadata": {},
     "output_type": "execute_result"
    }
   ],
   "source": [
    "accuracy_score(y_test, y_pred)"
   ]
  },
  {
   "cell_type": "code",
   "execution_count": null,
   "id": "2c150b79",
   "metadata": {},
   "outputs": [
    {
     "data": {
      "text/plain": [
       "<sklearn.metrics._plot.confusion_matrix.ConfusionMatrixDisplay at 0x1e2bb03c4a0>"
      ]
     },
     "execution_count": 155,
     "metadata": {},
     "output_type": "execute_result"
    },
    {
     "data": {
      "image/png": "[encoded data removed]",
      "text/plain": [
       "<Figure size 640x480 with 2 Axes>"
      ]
     },
     "metadata": {},
     "output_type": "display_data"
    }
   ],
   "source": [
    "ConfusionMatrixDisplay.from_estimator(rf, X_test, y_test, values_format='d')"
   ]
  },
  {
   "cell_type": "code",
   "execution_count": null,
   "id": "0eccca95",
   "metadata": {},
   "outputs": [
    {
     "name": "stdout",
     "output_type": "stream",
     "text": [
      "Fitting 5 folds for each of 48 candidates, totalling 240 fits\n",
      "\n",
      "====================================================================================================\n",
      "{'class_weight': None, 'max_depth': 5, 'max_features': 'sqrt', 'min_samples_leaf': 5, 'min_samples_split': 10}\n",
      "====================================================================================================\n",
      "\n"
     ]
    }
   ],
   "source": [
    "from sklearn.pipeline import Pipeline\n",
    "\n",
    "from sklearn.ensemble import RandomForestClassifier\n",
    "\n",
    "from sklearn.model_selection import GridSearchCV\n",
    "\n",
    "parametros = {\n",
    "    'max_depth': [2, 3, 4, 5, 6, 7], # 25, 30, None],\n",
    "    'max_features': ['sqrt'], # 'sqrt', 'None'],\n",
    "    'min_samples_split': [5, 10], # 5, 10, 15, 100],\n",
    "    'min_samples_leaf': [2, 5], # 5, 10],\n",
    "    'class_weight': ['balanced', None]\n",
    "}\n",
    "\n",
    "grid_search = GridSearchCV(RandomForestClassifier(), parametros, scoring='accuracy', cv=5, n_jobs=-1, verbose=1)\n",
    "grid_search.fit(X_train, y_train)\n",
    "\n",
    "print()\n",
    "print('='*100)\n",
    "print(grid_search.best_params_)\n",
    "print('='*100)\n",
    "print()"
   ]
  },
  {
   "cell_type": "code",
   "execution_count": null,
   "id": "650371ae",
   "metadata": {},
   "outputs": [],
   "source": [
    "best_rf = RandomForestClassifier(class_weight= None, max_depth= 3, max_features= 'sqrt',\n",
    "                                 min_samples_leaf= 5, min_samples_split= 10, n_estimators= 100, random_state=7)"
   ]
  },
  {
   "cell_type": "code",
   "execution_count": null,
   "id": "ff041c9a",
   "metadata": {},
   "outputs": [
    {
     "data": {
      "text/html": [
       "<style>#sk-container-id-9 {color: black;}#sk-container-id-9 pre{padding: 0;}#sk-container-id-9 div.sk-toggleable {background-color: white;}#sk-container-id-9 label.sk-toggleable__label {cursor: pointer;display: block;width: 100%;margin-bottom: 0;padding: 0.3em;box-sizing: border-box;text-align: center;}#sk-container-id-9 label.sk-toggleable__label-arrow:before {content: \"▸\";float: left;margin-right: 0.25em;color: #696969;}#sk-container-id-9 label.sk-toggleable__label-arrow:hover:before {color: black;}#sk-container-id-9 div.sk-estimator:hover label.sk-toggleable__label-arrow:before {color: black;}#sk-container-id-9 div.sk-toggleable__content {max-height: 0;max-width: 0;overflow: hidden;text-align: left;background-color: #f0f8ff;}#sk-container-id-9 div.sk-toggleable__content pre {margin: 0.2em;color: black;border-radius: 0.25em;background-color: #f0f8ff;}#sk-container-id-9 input.sk-toggleable__control:checked~div.sk-toggleable__content {max-height: 200px;max-width: 100%;overflow: auto;}#sk-container-id-9 input.sk-toggleable__control:checked~label.sk-toggleable__label-arrow:before {content: \"▾\";}#sk-container-id-9 div.sk-estimator input.sk-toggleable__control:checked~label.sk-toggleable__label {background-color: #d4ebff;}#sk-container-id-9 div.sk-label input.sk-toggleable__control:checked~label.sk-toggleable__label {background-color: #d4ebff;}#sk-container-id-9 input.sk-hidden--visually {border: 0;clip: rect(1px 1px 1px 1px);clip: rect(1px, 1px, 1px, 1px);height: 1px;margin: -1px;overflow: hidden;padding: 0;position: absolute;width: 1px;}#sk-container-id-9 div.sk-estimator {font-family: monospace;background-color: #f0f8ff;border: 1px dotted black;border-radius: 0.25em;box-sizing: border-box;margin-bottom: 0.5em;}#sk-container-id-9 div.sk-estimator:hover {background-color: #d4ebff;}#sk-container-id-9 div.sk-parallel-item::after {content: \"\";width: 100%;border-bottom: 1px solid gray;flex-grow: 1;}#sk-container-id-9 div.sk-label:hover label.sk-toggleable__label {background-color: #d4ebff;}#sk-container-id-9 div.sk-serial::before {content: \"\";position: absolute;border-left: 1px solid gray;box-sizing: border-box;top: 0;bottom: 0;left: 50%;z-index: 0;}#sk-container-id-9 div.sk-serial {display: flex;flex-direction: column;align-items: center;background-color: white;padding-right: 0.2em;padding-left: 0.2em;position: relative;}#sk-container-id-9 div.sk-item {position: relative;z-index: 1;}#sk-container-id-9 div.sk-parallel {display: flex;align-items: stretch;justify-content: center;background-color: white;position: relative;}#sk-container-id-9 div.sk-item::before, #sk-container-id-9 div.sk-parallel-item::before {content: \"\";position: absolute;border-left: 1px solid gray;box-sizing: border-box;top: 0;bottom: 0;left: 50%;z-index: -1;}#sk-container-id-9 div.sk-parallel-item {display: flex;flex-direction: column;z-index: 1;position: relative;background-color: white;}#sk-container-id-9 div.sk-parallel-item:first-child::after {align-self: flex-end;width: 50%;}#sk-container-id-9 div.sk-parallel-item:last-child::after {align-self: flex-start;width: 50%;}#sk-container-id-9 div.sk-parallel-item:only-child::after {width: 0;}#sk-container-id-9 div.sk-dashed-wrapped {border: 1px dashed gray;margin: 0 0.4em 0.5em 0.4em;box-sizing: border-box;padding-bottom: 0.4em;background-color: white;}#sk-container-id-9 div.sk-label label {font-family: monospace;font-weight: bold;display: inline-block;line-height: 1.2em;}#sk-container-id-9 div.sk-label-container {text-align: center;}#sk-container-id-9 div.sk-container {/* jupyter's `normalize.less` sets `[hidden] { display: none; }` but bootstrap.min.css set `[hidden] { display: none !important; }` so we also need the `!important` here to be able to override the default hidden behavior on the sphinx rendered scikit-learn.org. See: https://github.com/scikit-learn/scikit-learn/issues/21755 */display: inline-block !important;position: relative;}#sk-container-id-9 div.sk-text-repr-fallback {display: none;}</style><div id=\"sk-container-id-9\" class=\"sk-top-container\"><div class=\"sk-text-repr-fallback\"><pre>RandomForestClassifier(max_depth=3, min_samples_leaf=5, min_samples_split=10,\n",
       "                       random_state=7)</pre><b>In a Jupyter environment, please rerun this cell to show the HTML representation or trust the notebook. <br />On GitHub, the HTML representation is unable to render, please try loading this page with nbviewer.org.</b></div><div class=\"sk-container\" hidden><div class=\"sk-item\"><div class=\"sk-estimator sk-toggleable\"><input class=\"sk-toggleable__control sk-hidden--visually\" id=\"sk-estimator-id-29\" type=\"checkbox\" checked><label for=\"sk-estimator-id-29\" class=\"sk-toggleable__label sk-toggleable__label-arrow\">RandomForestClassifier</label><div class=\"sk-toggleable__content\"><pre>RandomForestClassifier(max_depth=3, min_samples_leaf=5, min_samples_split=10,\n",
       "                       random_state=7)</pre></div></div></div></div></div>"
      ],
      "text/plain": [
       "RandomForestClassifier(max_depth=3, min_samples_leaf=5, min_samples_split=10,\n",
       "                       random_state=7)"
      ]
     },
     "execution_count": 158,
     "metadata": {},
     "output_type": "execute_result"
    }
   ],
   "source": [
    "best_rf.fit(X_train, y_train)"
   ]
  },
  {
   "cell_type": "code",
   "execution_count": null,
   "id": "56974f38",
   "metadata": {},
   "outputs": [],
   "source": [
    "y_pred_best = best_rf.predict(X_test)"
   ]
  },
  {
   "cell_type": "code",
   "execution_count": null,
   "id": "ad1e2f19",
   "metadata": {},
   "outputs": [],
   "source": [
    "    precision_score_rf = precision_score(y_test, y_pred_best)\n",
    "    accuracy_score_rf = accuracy_score(y_test, y_pred_best)\n",
    "    recall_score_rf = recall_score(y_test, y_pred_best)\n",
    "    f1_score_rf = f1_score(y_test, y_pred_best)\n",
    "    roc_auc_score_rf = roc_auc_score(y_test, y_pred_best)"
   ]
  },
  {
   "cell_type": "code",
   "execution_count": null,
   "id": "ee7dc89d",
   "metadata": {},
   "outputs": [
    {
     "data": {
      "text/plain": [
       "<sklearn.metrics._plot.confusion_matrix.ConfusionMatrixDisplay at 0x1e2bb1f7b00>"
      ]
     },
     "execution_count": 161,
     "metadata": {},
     "output_type": "execute_result"
    },
    {
     "data": {
      "image/png": "[encoded data removed]",
      "text/plain": [
       "<Figure size 640x480 with 2 Axes>"
      ]
     },
     "metadata": {},
     "output_type": "display_data"
    }
   ],
   "source": [
    "ConfusionMatrixDisplay.from_estimator(best_rf, X_test, y_test, values_format='d')"
   ]
  },
  {
   "cell_type": "code",
   "execution_count": null,
   "id": "2d3fdc14",
   "metadata": {},
   "outputs": [
    {
     "data": {
      "text/plain": [
       "0.6757405924739792"
      ]
     },
     "execution_count": 162,
     "metadata": {},
     "output_type": "execute_result"
    }
   ],
   "source": [
    "precision_score_rf"
   ]
  },
  {
   "cell_type": "code",
   "execution_count": null,
   "id": "5652c79b",
   "metadata": {},
   "outputs": [
    {
     "data": {
      "text/plain": [
       "0.6611617312072893"
      ]
     },
     "execution_count": 163,
     "metadata": {},
     "output_type": "execute_result"
    }
   ],
   "source": [
    "accuracy_score_rf"
   ]
  },
  {
   "cell_type": "code",
   "execution_count": null,
   "id": "b50c31c9",
   "metadata": {},
   "outputs": [
    {
     "data": {
      "text/plain": [
       "0.816247582205029"
      ]
     },
     "execution_count": 164,
     "metadata": {},
     "output_type": "execute_result"
    }
   ],
   "source": [
    "recall_score_rf"
   ]
  },
  {
   "cell_type": "code",
   "execution_count": null,
   "id": "47e89dce",
   "metadata": {},
   "outputs": [
    {
     "data": {
      "text/plain": [
       "0.7393780113885239"
      ]
     },
     "execution_count": 165,
     "metadata": {},
     "output_type": "execute_result"
    }
   ],
   "source": [
    "f1_score_rf"
   ]
  },
  {
   "cell_type": "code",
   "execution_count": null,
   "id": "ef57e023",
   "metadata": {},
   "outputs": [
    {
     "data": {
      "text/plain": [
       "0.6276528769750908"
      ]
     },
     "execution_count": 166,
     "metadata": {},
     "output_type": "execute_result"
    }
   ],
   "source": [
    "roc_auc_score_rf"
   ]
  },
  {
   "cell_type": "markdown",
   "id": "ef57e023",
   "metadata": {},
   "source": [
    "## XGBoost"
   ]
  },
  {
   "cell_type": "code",
   "execution_count": null,
   "id": "81936a5c",
   "metadata": {},
   "outputs": [],
   "source": [
    "from xgboost import XGBClassifier"
   ]
  },
  {
   "cell_type": "code",
   "execution_count": null,
   "id": "bf2a08ea",
   "metadata": {},
   "outputs": [
    {
     "name": "stdout",
     "output_type": "stream",
     "text": [
      "Collecting xgboost\n",
      "  Obtaining dependency information for xgboost from https://files.pythonhosted.org/packages/11/6f/419545a6a344cfd1358a80c36a06431881d607830483ef63d7c38905cd22/xgboost-2.0.1-py3-none-win_amd64.whl.metadata\n",
      "  Downloading xgboost-2.0.1-py3-none-win_amd64.whl.metadata (2.0 kB)\n",
      "Requirement already satisfied: numpy in c:\\users\\alan.hassan\\appdata\\local\\programs\\python\\python312\\lib\\site-packages (from xgboost) (1.26.1)\n",
      "Requirement already satisfied: scipy in c:\\users\\alan.hassan\\appdata\\local\\programs\\python\\python312\\lib\\site-packages (from xgboost) (1.11.3)\n",
      "Downloading xgboost-2.0.1-py3-none-win_amd64.whl (99.7 MB)\n",
      "   ---------------------------------------- 0.0/99.7 MB ? eta -:--:--\n",
      "   ---------------------------------------- 0.0/99.7 MB 1.3 MB/s eta 0:01:18\n",
      "   ---------------------------------------- 0.2/99.7 MB 2.4 MB/s eta 0:00:41\n",
      "   ---------------------------------------- 0.3/99.7 MB 3.0 MB/s eta 0:00:34\n",
      "   ---------------------------------------- 0.5/99.7 MB 3.3 MB/s eta 0:00:31\n",
      "   ---------------------------------------- 0.7/99.7 MB 3.6 MB/s eta 0:00:28\n",
      "   ---------------------------------------- 0.8/99.7 MB 3.8 MB/s eta 0:00:27\n",
      "   ---------------------------------------- 0.8/99.7 MB 3.8 MB/s eta 0:00:27\n",
      "    --------------------------------------- 1.5/99.7 MB 4.2 MB/s eta 0:00:24\n",
      "    --------------------------------------- 1.7/99.7 MB 4.4 MB/s eta 0:00:23\n",
      "    --------------------------------------- 2.0/99.7 MB 4.5 MB/s eta 0:00:22\n",
      "    --------------------------------------- 2.2/99.7 MB 4.5 MB/s eta 0:00:22\n",
      "   - -------------------------------------- 2.5/99.7 MB 4.7 MB/s eta 0:00:21\n",
      "   - -------------------------------------- 2.7/99.7 MB 4.7 MB/s eta 0:00:21\n",
      "   - -------------------------------------- 3.0/99.7 MB 4.8 MB/s eta 0:00:21\n",
      "   - -------------------------------------- 3.3/99.7 MB 4.9 MB/s eta 0:00:20\n",
      "   - -------------------------------------- 3.5/99.7 MB 4.9 MB/s eta 0:00:20\n",
      "   - -------------------------------------- 3.8/99.7 MB 4.9 MB/s eta 0:00:20\n",
      "   - -------------------------------------- 4.1/99.7 MB 5.0 MB/s eta 0:00:20\n",
      "   - -------------------------------------- 4.3/99.7 MB 5.0 MB/s eta 0:00:19\n",
      "   - -------------------------------------- 4.6/99.7 MB 5.1 MB/s eta 0:00:19\n",
      "   - -------------------------------------- 4.9/99.7 MB 5.1 MB/s eta 0:00:19\n",
      "   -- ------------------------------------- 5.1/99.7 MB 5.1 MB/s eta 0:00:19\n",
      "   -- ------------------------------------- 5.5/99.7 MB 5.2 MB/s eta 0:00:19\n",
      "   -- ------------------------------------- 5.7/99.7 MB 5.2 MB/s eta 0:00:18\n",
      "   -- ------------------------------------- 6.0/99.7 MB 5.3 MB/s eta 0:00:18\n",
      "   -- ------------------------------------- 6.3/99.7 MB 5.3 MB/s eta 0:00:18\n",
      "   -- ------------------------------------- 6.6/99.7 MB 5.3 MB/s eta 0:00:18\n",
      "   -- ------------------------------------- 6.8/99.7 MB 5.3 MB/s eta 0:00:18\n",
      "   -- ------------------------------------- 7.1/99.7 MB 5.4 MB/s eta 0:00:18\n",
      "   -- ------------------------------------- 7.3/99.7 MB 5.4 MB/s eta 0:00:18\n",
      "   --- ------------------------------------ 7.6/99.7 MB 5.3 MB/s eta 0:00:18\n",
      "   --- ------------------------------------ 7.9/99.7 MB 5.4 MB/s eta 0:00:17\n",
      "   --- ------------------------------------ 8.1/99.7 MB 5.4 MB/s eta 0:00:18\n",
      "   --- ------------------------------------ 8.4/99.7 MB 5.4 MB/s eta 0:00:17\n",
      "   --- ------------------------------------ 8.7/99.7 MB 5.5 MB/s eta 0:00:17\n",
      "   --- ------------------------------------ 8.9/99.7 MB 5.4 MB/s eta 0:00:17\n",
      "   --- ------------------------------------ 9.2/99.7 MB 5.4 MB/s eta 0:00:17\n",
      "   --- ------------------------------------ 9.3/99.7 MB 5.3 MB/s eta 0:00:17\n",
      "   --- ------------------------------------ 9.5/99.7 MB 5.3 MB/s eta 0:00:17\n",
      "   --- ------------------------------------ 9.8/99.7 MB 5.3 MB/s eta 0:00:17\n",
      "   ---- ----------------------------------- 10.0/99.7 MB 5.3 MB/s eta 0:00:17\n",
      "   ---- ----------------------------------- 10.3/99.7 MB 5.4 MB/s eta 0:00:17\n",
      "   ---- ----------------------------------- 10.5/99.7 MB 5.5 MB/s eta 0:00:17\n",
      "   ---- ----------------------------------- 10.8/99.7 MB 5.5 MB/s eta 0:00:17\n",
      "   ---- ----------------------------------- 11.0/99.7 MB 5.5 MB/s eta 0:00:17\n",
      "   ---- ----------------------------------- 11.2/99.7 MB 5.7 MB/s eta 0:00:16\n",
      "   ---- ----------------------------------- 11.5/99.7 MB 5.6 MB/s eta 0:00:16\n",
      "   ---- ----------------------------------- 11.7/99.7 MB 5.6 MB/s eta 0:00:16\n",
      "   ---- ----------------------------------- 12.0/99.7 MB 5.5 MB/s eta 0:00:16\n",
      "   ---- ----------------------------------- 12.2/99.7 MB 5.5 MB/s eta 0:00:16\n",
      "   ----- ---------------------------------- 12.5/99.7 MB 5.5 MB/s eta 0:00:16\n",
      "   ----- ---------------------------------- 12.7/99.7 MB 5.5 MB/s eta 0:00:16\n",
      "   ----- ---------------------------------- 12.9/99.7 MB 5.5 MB/s eta 0:00:16\n",
      "   ----- ---------------------------------- 12.9/99.7 MB 5.5 MB/s eta 0:00:16\n",
      "   ----- ---------------------------------- 13.0/99.7 MB 5.3 MB/s eta 0:00:17\n",
      "   ----- ---------------------------------- 13.4/99.7 MB 5.2 MB/s eta 0:00:17\n",
      "   ----- ---------------------------------- 13.5/99.7 MB 5.2 MB/s eta 0:00:17\n",
      "   ----- ---------------------------------- 13.7/99.7 MB 5.3 MB/s eta 0:00:17\n",
      "   ----- ---------------------------------- 14.0/99.7 MB 5.2 MB/s eta 0:00:17\n",
      "   ----- ---------------------------------- 14.2/99.7 MB 5.2 MB/s eta 0:00:17\n",
      "   ----- ---------------------------------- 14.4/99.7 MB 5.2 MB/s eta 0:00:17\n",
      "   ----- ---------------------------------- 14.8/99.7 MB 5.2 MB/s eta 0:00:17\n",
      "   ----- ---------------------------------- 14.9/99.7 MB 5.2 MB/s eta 0:00:17\n",
      "   ------ --------------------------------- 15.1/99.7 MB 5.1 MB/s eta 0:00:17\n",
      "   ------ --------------------------------- 15.5/99.7 MB 5.2 MB/s eta 0:00:17\n",
      "   ------ --------------------------------- 15.6/99.7 MB 5.1 MB/s eta 0:00:17\n",
      "   ------ --------------------------------- 15.8/99.7 MB 5.1 MB/s eta 0:00:17\n",
      "   ------ --------------------------------- 15.9/99.7 MB 5.0 MB/s eta 0:00:17\n",
      "   ------ --------------------------------- 16.0/99.7 MB 4.9 MB/s eta 0:00:18\n",
      "   ------ --------------------------------- 16.2/99.7 MB 4.9 MB/s eta 0:00:18\n",
      "   ------ --------------------------------- 16.5/99.7 MB 4.9 MB/s eta 0:00:18\n",
      "   ------ --------------------------------- 16.7/99.7 MB 4.8 MB/s eta 0:00:18\n",
      "   ------ --------------------------------- 16.9/99.7 MB 4.8 MB/s eta 0:00:18\n",
      "   ------ --------------------------------- 17.2/99.7 MB 4.8 MB/s eta 0:00:18\n",
      "   ------ --------------------------------- 17.3/99.7 MB 4.7 MB/s eta 0:00:18\n",
      "   ------- -------------------------------- 17.6/99.7 MB 4.8 MB/s eta 0:00:18\n",
      "   ------- -------------------------------- 17.8/99.7 MB 4.8 MB/s eta 0:00:18\n",
      "   ------- -------------------------------- 18.0/99.7 MB 4.7 MB/s eta 0:00:18\n",
      "   ------- -------------------------------- 18.3/99.7 MB 4.8 MB/s eta 0:00:18\n",
      "   ------- -------------------------------- 18.5/99.7 MB 4.7 MB/s eta 0:00:18\n",
      "   ------- -------------------------------- 18.7/99.7 MB 4.7 MB/s eta 0:00:18\n",
      "   ------- -------------------------------- 19.0/99.7 MB 4.7 MB/s eta 0:00:18\n",
      "   ------- -------------------------------- 19.2/99.7 MB 4.7 MB/s eta 0:00:18\n",
      "   ------- -------------------------------- 19.5/99.7 MB 4.7 MB/s eta 0:00:17\n",
      "   ------- -------------------------------- 19.7/99.7 MB 4.8 MB/s eta 0:00:17\n",
      "   -------- ------------------------------- 20.0/99.7 MB 4.8 MB/s eta 0:00:17\n",
      "   -------- ------------------------------- 20.2/99.7 MB 4.7 MB/s eta 0:00:17\n",
      "   -------- ------------------------------- 20.4/99.7 MB 4.8 MB/s eta 0:00:17\n",
      "   -------- ------------------------------- 20.7/99.7 MB 4.7 MB/s eta 0:00:17\n",
      "   -------- ------------------------------- 21.0/99.7 MB 4.7 MB/s eta 0:00:17\n",
      "   -------- ------------------------------- 21.2/99.7 MB 4.8 MB/s eta 0:00:17\n",
      "   -------- ------------------------------- 21.5/99.7 MB 4.8 MB/s eta 0:00:17\n",
      "   -------- ------------------------------- 21.7/99.7 MB 4.8 MB/s eta 0:00:17\n",
      "   -------- ------------------------------- 22.0/99.7 MB 4.8 MB/s eta 0:00:17\n",
      "   -------- ------------------------------- 22.3/99.7 MB 4.8 MB/s eta 0:00:17\n",
      "   --------- ------------------------------ 22.5/99.7 MB 4.8 MB/s eta 0:00:16\n",
      "   --------- ------------------------------ 22.8/99.7 MB 4.9 MB/s eta 0:00:16\n",
      "   --------- ------------------------------ 23.1/99.7 MB 5.1 MB/s eta 0:00:16\n",
      "   --------- ------------------------------ 23.4/99.7 MB 5.1 MB/s eta 0:00:16\n",
      "   --------- ------------------------------ 23.7/99.7 MB 5.1 MB/s eta 0:00:15\n",
      "   --------- ------------------------------ 23.9/99.7 MB 5.1 MB/s eta 0:00:15\n",
      "   --------- ------------------------------ 24.2/99.7 MB 5.1 MB/s eta 0:00:15\n",
      "   --------- ------------------------------ 24.5/99.7 MB 5.1 MB/s eta 0:00:15\n",
      "   --------- ------------------------------ 24.7/99.7 MB 5.2 MB/s eta 0:00:15\n",
      "   --------- ------------------------------ 24.9/99.7 MB 5.1 MB/s eta 0:00:15\n",
      "   ---------- ----------------------------- 25.2/99.7 MB 5.2 MB/s eta 0:00:15\n",
      "   ---------- ----------------------------- 25.4/99.7 MB 5.2 MB/s eta 0:00:15\n",
      "   ---------- ----------------------------- 25.7/99.7 MB 5.2 MB/s eta 0:00:15\n",
      "   ---------- ----------------------------- 25.9/99.7 MB 5.2 MB/s eta 0:00:15\n",
      "   ---------- ----------------------------- 26.2/99.7 MB 5.3 MB/s eta 0:00:14\n",
      "   ---------- ----------------------------- 26.2/99.7 MB 5.4 MB/s eta 0:00:14\n",
      "   ---------- ----------------------------- 26.4/99.7 MB 5.3 MB/s eta 0:00:14\n",
      "   ---------- ----------------------------- 26.6/99.7 MB 5.2 MB/s eta 0:00:14\n",
      "   ---------- ----------------------------- 26.9/99.7 MB 5.4 MB/s eta 0:00:14\n",
      "   ---------- ----------------------------- 27.0/99.7 MB 5.2 MB/s eta 0:00:14\n",
      "   ---------- ----------------------------- 27.4/99.7 MB 5.2 MB/s eta 0:00:14\n",
      "   ----------- ---------------------------- 27.5/99.7 MB 5.3 MB/s eta 0:00:14\n",
      "   ----------- ---------------------------- 27.9/99.7 MB 5.3 MB/s eta 0:00:14\n",
      "   ----------- ---------------------------- 28.1/99.7 MB 5.3 MB/s eta 0:00:14\n",
      "   ----------- ---------------------------- 28.3/99.7 MB 5.3 MB/s eta 0:00:14\n",
      "   ----------- ---------------------------- 28.6/99.7 MB 5.3 MB/s eta 0:00:14\n",
      "   ----------- ---------------------------- 28.8/99.7 MB 5.3 MB/s eta 0:00:14\n",
      "   ----------- ---------------------------- 29.0/99.7 MB 5.3 MB/s eta 0:00:14\n",
      "   ----------- ---------------------------- 29.3/99.7 MB 5.3 MB/s eta 0:00:14\n",
      "   ----------- ---------------------------- 29.6/99.7 MB 5.4 MB/s eta 0:00:13\n",
      "   ----------- ---------------------------- 29.6/99.7 MB 5.4 MB/s eta 0:00:13\n",
      "   ----------- ---------------------------- 29.8/99.7 MB 5.2 MB/s eta 0:00:14\n",
      "   ------------ --------------------------- 30.0/99.7 MB 5.2 MB/s eta 0:00:14\n",
      "   ------------ --------------------------- 30.3/99.7 MB 5.2 MB/s eta 0:00:14\n",
      "   ------------ --------------------------- 30.5/99.7 MB 5.2 MB/s eta 0:00:14\n",
      "   ------------ --------------------------- 30.8/99.7 MB 5.2 MB/s eta 0:00:14\n",
      "   ------------ --------------------------- 31.0/99.7 MB 5.2 MB/s eta 0:00:14\n",
      "   ------------ --------------------------- 31.2/99.7 MB 5.2 MB/s eta 0:00:14\n",
      "   ------------ --------------------------- 31.5/99.7 MB 5.2 MB/s eta 0:00:14\n",
      "   ------------ --------------------------- 31.7/99.7 MB 5.2 MB/s eta 0:00:14\n",
      "   ------------ --------------------------- 31.8/99.7 MB 5.1 MB/s eta 0:00:14\n",
      "   ------------ --------------------------- 32.0/99.7 MB 5.1 MB/s eta 0:00:14\n",
      "   ------------ --------------------------- 32.3/99.7 MB 5.1 MB/s eta 0:00:14\n",
      "   ------------- -------------------------- 32.5/99.7 MB 5.1 MB/s eta 0:00:14\n",
      "   ------------- -------------------------- 32.8/99.7 MB 5.1 MB/s eta 0:00:14\n",
      "   ------------- -------------------------- 32.8/99.7 MB 5.0 MB/s eta 0:00:14\n",
      "   ------------- -------------------------- 33.1/99.7 MB 5.0 MB/s eta 0:00:14\n",
      "   ------------- -------------------------- 33.3/99.7 MB 4.9 MB/s eta 0:00:14\n",
      "   ------------- -------------------------- 33.4/99.7 MB 4.9 MB/s eta 0:00:14\n",
      "   ------------- -------------------------- 33.6/99.7 MB 4.9 MB/s eta 0:00:14\n",
      "   ------------- -------------------------- 33.8/99.7 MB 4.8 MB/s eta 0:00:14\n",
      "   ------------- -------------------------- 34.0/99.7 MB 4.7 MB/s eta 0:00:14\n",
      "   ------------- -------------------------- 34.3/99.7 MB 4.7 MB/s eta 0:00:14\n",
      "   ------------- -------------------------- 34.4/99.7 MB 4.7 MB/s eta 0:00:14\n",
      "   ------------- -------------------------- 34.7/99.7 MB 4.7 MB/s eta 0:00:14\n",
      "   -------------- ------------------------- 34.9/99.7 MB 4.7 MB/s eta 0:00:14\n",
      "   -------------- ------------------------- 35.1/99.7 MB 4.7 MB/s eta 0:00:14\n",
      "   -------------- ------------------------- 35.4/99.7 MB 4.7 MB/s eta 0:00:14\n",
      "   -------------- ------------------------- 35.4/99.7 MB 4.6 MB/s eta 0:00:14\n",
      "   -------------- ------------------------- 35.7/99.7 MB 4.6 MB/s eta 0:00:14\n",
      "   -------------- ------------------------- 35.7/99.7 MB 4.6 MB/s eta 0:00:14\n",
      "   -------------- ------------------------- 36.0/99.7 MB 4.6 MB/s eta 0:00:14\n",
      "   -------------- ------------------------- 36.3/99.7 MB 4.6 MB/s eta 0:00:14\n",
      "   -------------- ------------------------- 36.5/99.7 MB 4.6 MB/s eta 0:00:14\n",
      "   -------------- ------------------------- 36.7/99.7 MB 4.6 MB/s eta 0:00:14\n",
      "   -------------- ------------------------- 36.8/99.7 MB 4.6 MB/s eta 0:00:14\n",
      "   -------------- ------------------------- 37.1/99.7 MB 4.5 MB/s eta 0:00:14\n",
      "   -------------- ------------------------- 37.3/99.7 MB 4.6 MB/s eta 0:00:14\n",
      "   --------------- ------------------------ 37.6/99.7 MB 4.6 MB/s eta 0:00:14\n",
      "   --------------- ------------------------ 37.8/99.7 MB 4.6 MB/s eta 0:00:14\n",
      "   --------------- ------------------------ 38.0/99.7 MB 4.6 MB/s eta 0:00:14\n",
      "   --------------- ------------------------ 38.3/99.7 MB 4.6 MB/s eta 0:00:14\n",
      "   --------------- ------------------------ 38.5/99.7 MB 4.6 MB/s eta 0:00:14\n",
      "   --------------- ------------------------ 38.8/99.7 MB 4.6 MB/s eta 0:00:14\n",
      "   --------------- ------------------------ 39.0/99.7 MB 4.6 MB/s eta 0:00:14\n",
      "   --------------- ------------------------ 39.4/99.7 MB 4.6 MB/s eta 0:00:14\n",
      "   --------------- ------------------------ 39.6/99.7 MB 4.6 MB/s eta 0:00:14\n",
      "   --------------- ------------------------ 39.8/99.7 MB 4.7 MB/s eta 0:00:13\n",
      "   ---------------- ----------------------- 40.1/99.7 MB 4.7 MB/s eta 0:00:13\n",
      "   ---------------- ----------------------- 40.4/99.7 MB 4.8 MB/s eta 0:00:13\n",
      "   ---------------- ----------------------- 40.6/99.7 MB 4.7 MB/s eta 0:00:13\n",
      "   ---------------- ----------------------- 40.8/99.7 MB 4.7 MB/s eta 0:00:13\n",
      "   ---------------- ----------------------- 41.1/99.7 MB 4.7 MB/s eta 0:00:13\n",
      "   ---------------- ----------------------- 41.3/99.7 MB 4.7 MB/s eta 0:00:13\n",
      "   ---------------- ----------------------- 41.4/99.7 MB 4.7 MB/s eta 0:00:13\n",
      "   ---------------- ----------------------- 41.7/99.7 MB 4.7 MB/s eta 0:00:13\n",
      "   ---------------- ----------------------- 42.0/99.7 MB 4.7 MB/s eta 0:00:13\n",
      "   ---------------- ----------------------- 42.2/99.7 MB 4.8 MB/s eta 0:00:13\n",
      "   ----------------- ---------------------- 42.4/99.7 MB 4.7 MB/s eta 0:00:13\n",
      "   ----------------- ---------------------- 42.7/99.7 MB 4.7 MB/s eta 0:00:13\n",
      "   ----------------- ---------------------- 42.8/99.7 MB 4.7 MB/s eta 0:00:13\n",
      "   ----------------- ---------------------- 43.2/99.7 MB 4.9 MB/s eta 0:00:12\n",
      "   ----------------- ---------------------- 43.4/99.7 MB 4.9 MB/s eta 0:00:12\n",
      "   ----------------- ---------------------- 43.7/99.7 MB 4.9 MB/s eta 0:00:12\n",
      "   ----------------- ---------------------- 44.0/99.7 MB 5.0 MB/s eta 0:00:12\n",
      "   ----------------- ---------------------- 44.2/99.7 MB 5.0 MB/s eta 0:00:12\n",
      "   ----------------- ---------------------- 44.5/99.7 MB 5.0 MB/s eta 0:00:12\n",
      "   ----------------- ---------------------- 44.8/99.7 MB 5.0 MB/s eta 0:00:11\n",
      "   ------------------ --------------------- 45.0/99.7 MB 5.0 MB/s eta 0:00:11\n",
      "   ------------------ --------------------- 45.3/99.7 MB 5.0 MB/s eta 0:00:11\n",
      "   ------------------ --------------------- 45.6/99.7 MB 5.1 MB/s eta 0:00:11\n",
      "   ------------------ --------------------- 45.8/99.7 MB 5.2 MB/s eta 0:00:11\n",
      "   ------------------ --------------------- 46.0/99.7 MB 5.2 MB/s eta 0:00:11\n",
      "   ------------------ --------------------- 46.3/99.7 MB 5.2 MB/s eta 0:00:11\n",
      "   ------------------ --------------------- 46.5/99.7 MB 5.2 MB/s eta 0:00:11\n",
      "   ------------------ --------------------- 46.8/99.7 MB 5.3 MB/s eta 0:00:10\n",
      "   ------------------ --------------------- 46.9/99.7 MB 5.3 MB/s eta 0:00:11\n",
      "   ------------------ --------------------- 46.9/99.7 MB 5.3 MB/s eta 0:00:11\n",
      "   ------------------ --------------------- 47.1/99.7 MB 5.2 MB/s eta 0:00:11\n",
      "   ------------------- -------------------- 47.4/99.7 MB 5.2 MB/s eta 0:00:11\n",
      "   ------------------- -------------------- 47.7/99.7 MB 5.2 MB/s eta 0:00:11\n",
      "   ------------------- -------------------- 47.9/99.7 MB 5.2 MB/s eta 0:00:10\n",
      "   ------------------- -------------------- 48.1/99.7 MB 5.2 MB/s eta 0:00:10\n",
      "   ------------------- -------------------- 48.4/99.7 MB 5.2 MB/s eta 0:00:10\n",
      "   ------------------- -------------------- 48.7/99.7 MB 5.3 MB/s eta 0:00:10\n",
      "   ------------------- -------------------- 49.0/99.7 MB 5.3 MB/s eta 0:00:10\n",
      "   ------------------- -------------------- 49.2/99.7 MB 5.3 MB/s eta 0:00:10\n",
      "   ------------------- -------------------- 49.5/99.7 MB 5.2 MB/s eta 0:00:10\n",
      "   ------------------- -------------------- 49.8/99.7 MB 5.2 MB/s eta 0:00:10\n",
      "   -------------------- ------------------- 50.1/99.7 MB 5.3 MB/s eta 0:00:10\n",
      "   -------------------- ------------------- 50.3/99.7 MB 5.3 MB/s eta 0:00:10\n",
      "   -------------------- ------------------- 50.6/99.7 MB 5.3 MB/s eta 0:00:10\n",
      "   -------------------- ------------------- 50.9/99.7 MB 5.4 MB/s eta 0:00:10\n",
      "   -------------------- ------------------- 51.2/99.7 MB 5.4 MB/s eta 0:00:10\n",
      "   -------------------- ------------------- 51.4/99.7 MB 5.4 MB/s eta 0:00:10\n",
      "   -------------------- ------------------- 51.4/99.7 MB 5.2 MB/s eta 0:00:10\n",
      "   -------------------- ------------------- 51.8/99.7 MB 5.4 MB/s eta 0:00:09\n",
      "   -------------------- ------------------- 52.1/99.7 MB 5.4 MB/s eta 0:00:09\n",
      "   -------------------- ------------------- 52.3/99.7 MB 5.4 MB/s eta 0:00:09\n",
      "   --------------------- ------------------ 52.6/99.7 MB 5.4 MB/s eta 0:00:09\n",
      "   --------------------- ------------------ 52.8/99.7 MB 5.4 MB/s eta 0:00:09\n",
      "   --------------------- ------------------ 53.0/99.7 MB 5.4 MB/s eta 0:00:09\n",
      "   --------------------- ------------------ 53.0/99.7 MB 5.2 MB/s eta 0:00:09\n",
      "   --------------------- ------------------ 53.0/99.7 MB 5.2 MB/s eta 0:00:09\n",
      "   --------------------- ------------------ 53.4/99.7 MB 5.2 MB/s eta 0:00:09\n",
      "   --------------------- ------------------ 53.6/99.7 MB 5.2 MB/s eta 0:00:09\n",
      "   --------------------- ------------------ 53.6/99.7 MB 5.1 MB/s eta 0:00:10\n",
      "   --------------------- ------------------ 53.8/99.7 MB 5.0 MB/s eta 0:00:10\n",
      "   --------------------- ------------------ 53.8/99.7 MB 4.9 MB/s eta 0:00:10\n",
      "   --------------------- ------------------ 54.0/99.7 MB 4.9 MB/s eta 0:00:10\n",
      "   --------------------- ------------------ 54.0/99.7 MB 4.7 MB/s eta 0:00:10\n",
      "   --------------------- ------------------ 54.1/99.7 MB 4.7 MB/s eta 0:00:10\n",
      "   --------------------- ------------------ 54.1/99.7 MB 4.6 MB/s eta 0:00:10\n",
      "   --------------------- ------------------ 54.2/99.7 MB 4.6 MB/s eta 0:00:10\n",
      "   --------------------- ------------------ 54.4/99.7 MB 4.5 MB/s eta 0:00:11\n",
      "   --------------------- ------------------ 54.5/99.7 MB 4.5 MB/s eta 0:00:11\n",
      "   --------------------- ------------------ 54.5/99.7 MB 4.4 MB/s eta 0:00:11\n",
      "   --------------------- ------------------ 54.5/99.7 MB 4.4 MB/s eta 0:00:11\n",
      "   --------------------- ------------------ 54.5/99.7 MB 4.4 MB/s eta 0:00:11\n",
      "   --------------------- ------------------ 54.8/99.7 MB 4.2 MB/s eta 0:00:11\n",
      "   --------------------- ------------------ 54.8/99.7 MB 4.1 MB/s eta 0:00:11\n",
      "   ---------------------- ----------------- 54.9/99.7 MB 4.1 MB/s eta 0:00:11\n",
      "   ---------------------- ----------------- 55.0/99.7 MB 4.0 MB/s eta 0:00:12\n",
      "   ---------------------- ----------------- 55.0/99.7 MB 4.0 MB/s eta 0:00:12\n",
      "   ---------------------- ----------------- 55.1/99.7 MB 3.9 MB/s eta 0:00:12\n",
      "   ---------------------- ----------------- 55.1/99.7 MB 3.9 MB/s eta 0:00:12\n",
      "   ---------------------- ----------------- 55.2/99.7 MB 3.8 MB/s eta 0:00:12\n",
      "   ---------------------- ----------------- 55.3/99.7 MB 3.8 MB/s eta 0:00:12\n",
      "   ---------------------- ----------------- 55.4/99.7 MB 3.7 MB/s eta 0:00:12\n",
      "   ---------------------- ----------------- 55.4/99.7 MB 3.7 MB/s eta 0:00:12\n",
      "   ---------------------- ----------------- 55.6/99.7 MB 3.7 MB/s eta 0:00:13\n",
      "   ---------------------- ----------------- 55.6/99.7 MB 3.6 MB/s eta 0:00:13\n",
      "   ---------------------- ----------------- 55.7/99.7 MB 3.6 MB/s eta 0:00:13\n",
      "   ---------------------- ----------------- 55.8/99.7 MB 3.5 MB/s eta 0:00:13\n",
      "   ---------------------- ----------------- 55.8/99.7 MB 3.5 MB/s eta 0:00:13\n",
      "   ---------------------- ----------------- 55.9/99.7 MB 3.5 MB/s eta 0:00:13\n",
      "   ---------------------- ----------------- 56.0/99.7 MB 3.4 MB/s eta 0:00:13\n",
      "   ---------------------- ----------------- 56.0/99.7 MB 3.4 MB/s eta 0:00:13\n",
      "   ---------------------- ----------------- 56.1/99.7 MB 3.3 MB/s eta 0:00:14\n",
      "   ---------------------- ----------------- 56.2/99.7 MB 3.3 MB/s eta 0:00:14\n",
      "   ---------------------- ----------------- 56.3/99.7 MB 3.3 MB/s eta 0:00:14\n",
      "   ---------------------- ----------------- 56.4/99.7 MB 3.2 MB/s eta 0:00:14\n",
      "   ---------------------- ----------------- 56.4/99.7 MB 3.2 MB/s eta 0:00:14\n",
      "   ---------------------- ----------------- 56.5/99.7 MB 3.2 MB/s eta 0:00:14\n",
      "   ---------------------- ----------------- 56.5/99.7 MB 3.1 MB/s eta 0:00:14\n",
      "   ---------------------- ----------------- 56.7/99.7 MB 3.1 MB/s eta 0:00:14\n",
      "   ---------------------- ----------------- 56.7/99.7 MB 3.1 MB/s eta 0:00:14\n",
      "   ---------------------- ----------------- 56.8/99.7 MB 3.0 MB/s eta 0:00:15\n",
      "   ---------------------- ----------------- 56.9/99.7 MB 3.0 MB/s eta 0:00:15\n",
      "   ---------------------- ----------------- 56.9/99.7 MB 3.0 MB/s eta 0:00:15\n",
      "   ---------------------- ----------------- 57.0/99.7 MB 3.0 MB/s eta 0:00:15\n",
      "   ---------------------- ----------------- 57.1/99.7 MB 3.0 MB/s eta 0:00:15\n",
      "   ---------------------- ----------------- 57.2/99.7 MB 3.0 MB/s eta 0:00:15\n",
      "   ---------------------- ----------------- 57.3/99.7 MB 2.9 MB/s eta 0:00:15\n",
      "   ---------------------- ----------------- 57.3/99.7 MB 2.9 MB/s eta 0:00:15\n",
      "   ----------------------- ---------------- 57.4/99.7 MB 2.9 MB/s eta 0:00:15\n",
      "   ----------------------- ---------------- 57.5/99.7 MB 2.9 MB/s eta 0:00:15\n",
      "   ----------------------- ---------------- 57.6/99.7 MB 2.8 MB/s eta 0:00:15\n",
      "   ----------------------- ---------------- 57.8/99.7 MB 2.8 MB/s eta 0:00:15\n",
      "   ----------------------- ---------------- 58.0/99.7 MB 2.8 MB/s eta 0:00:15\n",
      "   ----------------------- ---------------- 58.1/99.7 MB 2.8 MB/s eta 0:00:15\n",
      "   ----------------------- ---------------- 58.3/99.7 MB 2.8 MB/s eta 0:00:15\n",
      "   ----------------------- ---------------- 58.4/99.7 MB 2.8 MB/s eta 0:00:15\n",
      "   ----------------------- ---------------- 58.6/99.7 MB 2.8 MB/s eta 0:00:15\n",
      "   ----------------------- ---------------- 58.9/99.7 MB 2.8 MB/s eta 0:00:15\n",
      "   ----------------------- ---------------- 59.0/99.7 MB 2.8 MB/s eta 0:00:15\n",
      "   ----------------------- ---------------- 59.2/99.7 MB 2.7 MB/s eta 0:00:15\n",
      "   ----------------------- ---------------- 59.4/99.7 MB 2.7 MB/s eta 0:00:15\n",
      "   ----------------------- ---------------- 59.7/99.7 MB 2.7 MB/s eta 0:00:15\n",
      "   ----------------------- ---------------- 59.8/99.7 MB 2.7 MB/s eta 0:00:15\n",
      "   ------------------------ --------------- 60.1/99.7 MB 2.7 MB/s eta 0:00:15\n",
      "   ------------------------ --------------- 60.3/99.7 MB 2.7 MB/s eta 0:00:15\n",
      "   ------------------------ --------------- 60.4/99.7 MB 2.7 MB/s eta 0:00:15\n",
      "   ------------------------ --------------- 60.7/99.7 MB 2.7 MB/s eta 0:00:15\n",
      "   ------------------------ --------------- 60.9/99.7 MB 2.7 MB/s eta 0:00:15\n",
      "   ------------------------ --------------- 61.1/99.7 MB 2.7 MB/s eta 0:00:15\n",
      "   ------------------------ --------------- 61.3/99.7 MB 2.7 MB/s eta 0:00:15\n",
      "   ------------------------ --------------- 61.4/99.7 MB 2.7 MB/s eta 0:00:15\n",
      "   ------------------------ --------------- 61.6/99.7 MB 2.6 MB/s eta 0:00:15\n",
      "   ------------------------ --------------- 61.8/99.7 MB 2.7 MB/s eta 0:00:15\n",
      "   ------------------------ --------------- 62.0/99.7 MB 2.6 MB/s eta 0:00:15\n",
      "   ------------------------ --------------- 62.3/99.7 MB 2.6 MB/s eta 0:00:15\n",
      "   ------------------------- -------------- 62.5/99.7 MB 2.6 MB/s eta 0:00:15\n",
      "   ------------------------- -------------- 62.7/99.7 MB 2.6 MB/s eta 0:00:15\n",
      "   ------------------------- -------------- 62.9/99.7 MB 2.6 MB/s eta 0:00:15\n",
      "   ------------------------- -------------- 63.1/99.7 MB 2.6 MB/s eta 0:00:14\n",
      "   ------------------------- -------------- 63.3/99.7 MB 2.7 MB/s eta 0:00:14\n",
      "   ------------------------- -------------- 63.5/99.7 MB 2.6 MB/s eta 0:00:14\n",
      "   ------------------------- -------------- 63.7/99.7 MB 2.6 MB/s eta 0:00:14\n",
      "   ------------------------- -------------- 63.9/99.7 MB 2.7 MB/s eta 0:00:14\n",
      "   ------------------------- -------------- 64.1/99.7 MB 2.7 MB/s eta 0:00:14\n",
      "   ------------------------- -------------- 64.3/99.7 MB 2.8 MB/s eta 0:00:13\n",
      "   ------------------------- -------------- 64.5/99.7 MB 2.8 MB/s eta 0:00:13\n",
      "   ------------------------- -------------- 64.6/99.7 MB 2.8 MB/s eta 0:00:13\n",
      "   ------------------------- -------------- 64.8/99.7 MB 2.9 MB/s eta 0:00:12\n",
      "   -------------------------- ------------- 65.1/99.7 MB 2.9 MB/s eta 0:00:12\n",
      "   -------------------------- ------------- 65.3/99.7 MB 3.1 MB/s eta 0:00:12\n",
      "   -------------------------- ------------- 65.5/99.7 MB 3.1 MB/s eta 0:00:12\n",
      "   -------------------------- ------------- 65.6/99.7 MB 3.2 MB/s eta 0:00:11\n",
      "   -------------------------- ------------- 65.8/99.7 MB 3.3 MB/s eta 0:00:11\n",
      "   -------------------------- ------------- 66.0/99.7 MB 3.3 MB/s eta 0:00:11\n",
      "   -------------------------- ------------- 66.1/99.7 MB 3.4 MB/s eta 0:00:10\n",
      "   -------------------------- ------------- 66.3/99.7 MB 3.4 MB/s eta 0:00:10\n",
      "   -------------------------- ------------- 66.5/99.7 MB 3.5 MB/s eta 0:00:10\n",
      "   -------------------------- ------------- 66.6/99.7 MB 3.6 MB/s eta 0:00:10\n",
      "   -------------------------- ------------- 66.9/99.7 MB 3.7 MB/s eta 0:00:09\n",
      "   -------------------------- ------------- 67.1/99.7 MB 3.8 MB/s eta 0:00:09\n",
      "   -------------------------- ------------- 67.3/99.7 MB 3.9 MB/s eta 0:00:09\n",
      "   --------------------------- ------------ 67.5/99.7 MB 4.1 MB/s eta 0:00:08\n",
      "   --------------------------- ------------ 67.7/99.7 MB 4.1 MB/s eta 0:00:08\n",
      "   --------------------------- ------------ 67.9/99.7 MB 4.2 MB/s eta 0:00:08\n",
      "   --------------------------- ------------ 68.2/99.7 MB 4.2 MB/s eta 0:00:08\n",
      "   --------------------------- ------------ 68.4/99.7 MB 4.3 MB/s eta 0:00:08\n",
      "   --------------------------- ------------ 68.6/99.7 MB 4.3 MB/s eta 0:00:08\n",
      "   --------------------------- ------------ 68.8/99.7 MB 4.3 MB/s eta 0:00:08\n",
      "   --------------------------- ------------ 69.0/99.7 MB 4.3 MB/s eta 0:00:08\n",
      "   --------------------------- ------------ 69.1/99.7 MB 4.3 MB/s eta 0:00:08\n",
      "   --------------------------- ------------ 69.4/99.7 MB 4.3 MB/s eta 0:00:08\n",
      "   --------------------------- ------------ 69.6/99.7 MB 4.4 MB/s eta 0:00:07\n",
      "   --------------------------- ------------ 69.8/99.7 MB 4.3 MB/s eta 0:00:07\n",
      "   ---------------------------- ----------- 70.1/99.7 MB 4.3 MB/s eta 0:00:07\n",
      "   ---------------------------- ----------- 70.3/99.7 MB 4.3 MB/s eta 0:00:07\n",
      "   ---------------------------- ----------- 70.5/99.7 MB 4.3 MB/s eta 0:00:07\n",
      "   ---------------------------- ----------- 70.7/99.7 MB 4.3 MB/s eta 0:00:07\n",
      "   ---------------------------- ----------- 70.9/99.7 MB 4.3 MB/s eta 0:00:07\n",
      "   ---------------------------- ----------- 71.0/99.7 MB 4.3 MB/s eta 0:00:07\n",
      "   ---------------------------- ----------- 71.3/99.7 MB 4.3 MB/s eta 0:00:07\n",
      "   ---------------------------- ----------- 71.3/99.7 MB 4.3 MB/s eta 0:00:07\n",
      "   ---------------------------- ----------- 71.6/99.7 MB 4.3 MB/s eta 0:00:07\n",
      "   ---------------------------- ----------- 71.8/99.7 MB 4.3 MB/s eta 0:00:07\n",
      "   ---------------------------- ----------- 72.0/99.7 MB 4.3 MB/s eta 0:00:07\n",
      "   ---------------------------- ----------- 72.2/99.7 MB 4.3 MB/s eta 0:00:07\n",
      "   ---------------------------- ----------- 72.2/99.7 MB 4.3 MB/s eta 0:00:07\n",
      "   ----------------------------- ---------- 72.4/99.7 MB 4.3 MB/s eta 0:00:07\n",
      "   ----------------------------- ---------- 72.6/99.7 MB 4.2 MB/s eta 0:00:07\n",
      "   ----------------------------- ---------- 72.8/99.7 MB 4.2 MB/s eta 0:00:07\n",
      "   ----------------------------- ---------- 72.9/99.7 MB 4.2 MB/s eta 0:00:07\n",
      "   ----------------------------- ---------- 73.1/99.7 MB 4.2 MB/s eta 0:00:07\n",
      "   ----------------------------- ---------- 73.3/99.7 MB 4.2 MB/s eta 0:00:07\n",
      "   ----------------------------- ---------- 73.5/99.7 MB 4.1 MB/s eta 0:00:07\n",
      "   ----------------------------- ---------- 73.6/99.7 MB 4.1 MB/s eta 0:00:07\n",
      "   ----------------------------- ---------- 73.8/99.7 MB 4.2 MB/s eta 0:00:07\n",
      "   ----------------------------- ---------- 74.1/99.7 MB 4.2 MB/s eta 0:00:07\n",
      "   ----------------------------- ---------- 74.2/99.7 MB 4.1 MB/s eta 0:00:07\n",
      "   ----------------------------- ---------- 74.4/99.7 MB 4.1 MB/s eta 0:00:07\n",
      "   ----------------------------- ---------- 74.5/99.7 MB 4.1 MB/s eta 0:00:07\n",
      "   ----------------------------- ---------- 74.7/99.7 MB 4.2 MB/s eta 0:00:07\n",
      "   ------------------------------ --------- 74.9/99.7 MB 4.1 MB/s eta 0:00:07\n",
      "   ------------------------------ --------- 75.0/99.7 MB 4.1 MB/s eta 0:00:07\n",
      "   ------------------------------ --------- 75.2/99.7 MB 4.1 MB/s eta 0:00:06\n",
      "   ------------------------------ --------- 75.3/99.7 MB 4.0 MB/s eta 0:00:07\n",
      "   ------------------------------ --------- 75.5/99.7 MB 4.0 MB/s eta 0:00:07\n",
      "   ------------------------------ --------- 75.7/99.7 MB 4.0 MB/s eta 0:00:06\n",
      "   ------------------------------ --------- 75.8/99.7 MB 4.0 MB/s eta 0:00:06\n",
      "   ------------------------------ --------- 76.0/99.7 MB 4.0 MB/s eta 0:00:06\n",
      "   ------------------------------ --------- 76.2/99.7 MB 4.0 MB/s eta 0:00:06\n",
      "   ------------------------------ --------- 76.3/99.7 MB 4.0 MB/s eta 0:00:06\n",
      "   ------------------------------ --------- 76.5/99.7 MB 4.0 MB/s eta 0:00:06\n",
      "   ------------------------------ --------- 76.7/99.7 MB 4.0 MB/s eta 0:00:06\n",
      "   ------------------------------ --------- 76.8/99.7 MB 4.0 MB/s eta 0:00:06\n",
      "   ------------------------------ --------- 77.0/99.7 MB 4.0 MB/s eta 0:00:06\n",
      "   ------------------------------ --------- 77.2/99.7 MB 4.0 MB/s eta 0:00:06\n",
      "   ------------------------------ --------- 77.3/99.7 MB 3.9 MB/s eta 0:00:06\n",
      "   ------------------------------- -------- 77.5/99.7 MB 4.0 MB/s eta 0:00:06\n",
      "   ------------------------------- -------- 77.7/99.7 MB 3.9 MB/s eta 0:00:06\n",
      "   ------------------------------- -------- 77.8/99.7 MB 3.9 MB/s eta 0:00:06\n",
      "   ------------------------------- -------- 77.9/99.7 MB 3.9 MB/s eta 0:00:06\n",
      "   ------------------------------- -------- 78.1/99.7 MB 3.9 MB/s eta 0:00:06\n",
      "   ------------------------------- -------- 78.2/99.7 MB 3.9 MB/s eta 0:00:06\n",
      "   ------------------------------- -------- 78.4/99.7 MB 3.8 MB/s eta 0:00:06\n",
      "   ------------------------------- -------- 78.5/99.7 MB 3.8 MB/s eta 0:00:06\n",
      "   ------------------------------- -------- 78.7/99.7 MB 3.8 MB/s eta 0:00:06\n",
      "   ------------------------------- -------- 78.9/99.7 MB 3.8 MB/s eta 0:00:06\n",
      "   ------------------------------- -------- 78.9/99.7 MB 3.7 MB/s eta 0:00:06\n",
      "   ------------------------------- -------- 79.1/99.7 MB 3.7 MB/s eta 0:00:06\n",
      "   ------------------------------- -------- 79.2/99.7 MB 3.7 MB/s eta 0:00:06\n",
      "   ------------------------------- -------- 79.3/99.7 MB 3.7 MB/s eta 0:00:06\n",
      "   ------------------------------- -------- 79.3/99.7 MB 3.7 MB/s eta 0:00:06\n",
      "   ------------------------------- -------- 79.5/99.7 MB 3.6 MB/s eta 0:00:06\n",
      "   ------------------------------- -------- 79.6/99.7 MB 3.6 MB/s eta 0:00:06\n",
      "   ------------------------------- -------- 79.7/99.7 MB 3.5 MB/s eta 0:00:06\n",
      "   -------------------------------- ------- 79.8/99.7 MB 3.5 MB/s eta 0:00:06\n",
      "   -------------------------------- ------- 79.9/99.7 MB 3.5 MB/s eta 0:00:06\n",
      "   -------------------------------- ------- 80.1/99.7 MB 3.5 MB/s eta 0:00:06\n",
      "   -------------------------------- ------- 80.3/99.7 MB 3.4 MB/s eta 0:00:06\n",
      "   -------------------------------- ------- 80.4/99.7 MB 3.4 MB/s eta 0:00:06\n",
      "   -------------------------------- ------- 80.5/99.7 MB 3.4 MB/s eta 0:00:06\n",
      "   -------------------------------- ------- 80.6/99.7 MB 3.4 MB/s eta 0:00:06\n",
      "   -------------------------------- ------- 80.8/99.7 MB 3.4 MB/s eta 0:00:06\n",
      "   -------------------------------- ------- 80.9/99.7 MB 3.4 MB/s eta 0:00:06\n",
      "   -------------------------------- ------- 81.1/99.7 MB 3.4 MB/s eta 0:00:06\n",
      "   -------------------------------- ------- 81.3/99.7 MB 3.3 MB/s eta 0:00:06\n",
      "   -------------------------------- ------- 81.4/99.7 MB 3.3 MB/s eta 0:00:06\n",
      "   -------------------------------- ------- 81.6/99.7 MB 3.4 MB/s eta 0:00:06\n",
      "   -------------------------------- ------- 81.7/99.7 MB 3.3 MB/s eta 0:00:06\n",
      "   -------------------------------- ------- 81.9/99.7 MB 3.3 MB/s eta 0:00:06\n",
      "   -------------------------------- ------- 82.0/99.7 MB 3.3 MB/s eta 0:00:06\n",
      "   -------------------------------- ------- 82.1/99.7 MB 3.3 MB/s eta 0:00:06\n",
      "   --------------------------------- ------ 82.3/99.7 MB 3.3 MB/s eta 0:00:06\n",
      "   --------------------------------- ------ 82.4/99.7 MB 3.3 MB/s eta 0:00:06\n",
      "   --------------------------------- ------ 82.6/99.7 MB 3.3 MB/s eta 0:00:06\n",
      "   --------------------------------- ------ 82.7/99.7 MB 3.3 MB/s eta 0:00:06\n",
      "   --------------------------------- ------ 83.0/99.7 MB 3.3 MB/s eta 0:00:06\n",
      "   --------------------------------- ------ 83.1/99.7 MB 3.3 MB/s eta 0:00:06\n",
      "   --------------------------------- ------ 83.2/99.7 MB 3.3 MB/s eta 0:00:06\n",
      "   --------------------------------- ------ 83.3/99.7 MB 3.2 MB/s eta 0:00:06\n",
      "   --------------------------------- ------ 83.4/99.7 MB 3.2 MB/s eta 0:00:06\n",
      "   --------------------------------- ------ 83.4/99.7 MB 3.2 MB/s eta 0:00:06\n",
      "   --------------------------------- ------ 83.6/99.7 MB 3.2 MB/s eta 0:00:06\n",
      "   --------------------------------- ------ 83.7/99.7 MB 3.1 MB/s eta 0:00:06\n",
      "   --------------------------------- ------ 83.8/99.7 MB 3.1 MB/s eta 0:00:06\n",
      "   --------------------------------- ------ 83.8/99.7 MB 3.1 MB/s eta 0:00:06\n",
      "   --------------------------------- ------ 83.9/99.7 MB 3.1 MB/s eta 0:00:06\n",
      "   --------------------------------- ------ 84.0/99.7 MB 3.1 MB/s eta 0:00:06\n",
      "   --------------------------------- ------ 84.1/99.7 MB 3.0 MB/s eta 0:00:06\n",
      "   --------------------------------- ------ 84.2/99.7 MB 3.0 MB/s eta 0:00:06\n",
      "   --------------------------------- ------ 84.3/99.7 MB 3.0 MB/s eta 0:00:06\n",
      "   --------------------------------- ------ 84.4/99.7 MB 3.0 MB/s eta 0:00:06\n",
      "   --------------------------------- ------ 84.5/99.7 MB 3.0 MB/s eta 0:00:06\n",
      "   --------------------------------- ------ 84.6/99.7 MB 2.9 MB/s eta 0:00:06\n",
      "   --------------------------------- ------ 84.8/99.7 MB 2.9 MB/s eta 0:00:06\n",
      "   --------------------------------- ------ 84.8/99.7 MB 2.9 MB/s eta 0:00:06\n",
      "   ---------------------------------- ----- 84.9/99.7 MB 2.9 MB/s eta 0:00:06\n",
      "   ---------------------------------- ----- 85.0/99.7 MB 2.9 MB/s eta 0:00:06\n",
      "   ---------------------------------- ----- 85.1/99.7 MB 2.9 MB/s eta 0:00:06\n",
      "   ---------------------------------- ----- 85.3/99.7 MB 2.9 MB/s eta 0:00:06\n",
      "   ---------------------------------- ----- 85.5/99.7 MB 2.9 MB/s eta 0:00:05\n",
      "   ---------------------------------- ----- 85.6/99.7 MB 2.9 MB/s eta 0:00:05\n",
      "   ---------------------------------- ----- 85.7/99.7 MB 2.9 MB/s eta 0:00:05\n",
      "   ---------------------------------- ----- 85.8/99.7 MB 2.8 MB/s eta 0:00:05\n",
      "   ---------------------------------- ----- 85.9/99.7 MB 2.8 MB/s eta 0:00:05\n",
      "   ---------------------------------- ----- 85.9/99.7 MB 2.8 MB/s eta 0:00:05\n",
      "   ---------------------------------- ----- 86.0/99.7 MB 2.8 MB/s eta 0:00:05\n",
      "   ---------------------------------- ----- 86.2/99.7 MB 2.8 MB/s eta 0:00:05\n",
      "   ---------------------------------- ----- 86.3/99.7 MB 2.8 MB/s eta 0:00:05\n",
      "   ---------------------------------- ----- 86.4/99.7 MB 2.8 MB/s eta 0:00:05\n",
      "   ---------------------------------- ----- 86.5/99.7 MB 2.8 MB/s eta 0:00:05\n",
      "   ---------------------------------- ----- 86.7/99.7 MB 2.7 MB/s eta 0:00:05\n",
      "   ---------------------------------- ----- 86.8/99.7 MB 2.8 MB/s eta 0:00:05\n",
      "   ---------------------------------- ----- 87.0/99.7 MB 2.7 MB/s eta 0:00:05\n",
      "   ---------------------------------- ----- 87.0/99.7 MB 2.8 MB/s eta 0:00:05\n",
      "   ---------------------------------- ----- 87.0/99.7 MB 2.8 MB/s eta 0:00:05\n",
      "   ---------------------------------- ----- 87.2/99.7 MB 2.7 MB/s eta 0:00:05\n",
      "   ----------------------------------- ---- 87.3/99.7 MB 2.7 MB/s eta 0:00:05\n",
      "   ----------------------------------- ---- 87.5/99.7 MB 2.7 MB/s eta 0:00:05\n",
      "   ----------------------------------- ---- 87.6/99.7 MB 2.7 MB/s eta 0:00:05\n",
      "   ----------------------------------- ---- 87.8/99.7 MB 2.7 MB/s eta 0:00:05\n",
      "   ----------------------------------- ---- 87.9/99.7 MB 2.7 MB/s eta 0:00:05\n",
      "   ----------------------------------- ---- 88.0/99.7 MB 2.7 MB/s eta 0:00:05\n",
      "   ----------------------------------- ---- 88.2/99.7 MB 2.7 MB/s eta 0:00:05\n",
      "   ----------------------------------- ---- 88.4/99.7 MB 2.7 MB/s eta 0:00:05\n",
      "   ----------------------------------- ---- 88.5/99.7 MB 2.7 MB/s eta 0:00:05\n",
      "   ----------------------------------- ---- 88.7/99.7 MB 2.7 MB/s eta 0:00:05\n",
      "   ----------------------------------- ---- 88.9/99.7 MB 2.7 MB/s eta 0:00:05\n",
      "   ----------------------------------- ---- 89.0/99.7 MB 2.7 MB/s eta 0:00:05\n",
      "   ----------------------------------- ---- 89.2/99.7 MB 2.7 MB/s eta 0:00:04\n",
      "   ----------------------------------- ---- 89.3/99.7 MB 2.7 MB/s eta 0:00:04\n",
      "   ----------------------------------- ---- 89.5/99.7 MB 2.8 MB/s eta 0:00:04\n",
      "   ----------------------------------- ---- 89.6/99.7 MB 2.8 MB/s eta 0:00:04\n",
      "   ------------------------------------ --- 89.8/99.7 MB 2.8 MB/s eta 0:00:04\n",
      "   ------------------------------------ --- 90.0/99.7 MB 2.8 MB/s eta 0:00:04\n",
      "   ------------------------------------ --- 90.2/99.7 MB 2.8 MB/s eta 0:00:04\n",
      "   ------------------------------------ --- 90.3/99.7 MB 2.8 MB/s eta 0:00:04\n",
      "   ------------------------------------ --- 90.5/99.7 MB 2.8 MB/s eta 0:00:04\n",
      "   ------------------------------------ --- 90.7/99.7 MB 2.8 MB/s eta 0:00:04\n",
      "   ------------------------------------ --- 90.9/99.7 MB 2.8 MB/s eta 0:00:04\n",
      "   ------------------------------------ --- 90.9/99.7 MB 2.8 MB/s eta 0:00:04\n",
      "   ------------------------------------ --- 91.0/99.7 MB 2.8 MB/s eta 0:00:04\n",
      "   ------------------------------------ --- 91.2/99.7 MB 2.8 MB/s eta 0:00:04\n",
      "   ------------------------------------ --- 91.4/99.7 MB 2.8 MB/s eta 0:00:03\n",
      "   ------------------------------------ --- 91.6/99.7 MB 2.8 MB/s eta 0:00:03\n",
      "   ------------------------------------ --- 91.7/99.7 MB 2.8 MB/s eta 0:00:03\n",
      "   ------------------------------------ --- 91.9/99.7 MB 2.8 MB/s eta 0:00:03\n",
      "   ------------------------------------ --- 91.9/99.7 MB 2.8 MB/s eta 0:00:03\n",
      "   ------------------------------------ --- 92.1/99.7 MB 2.8 MB/s eta 0:00:03\n",
      "   ------------------------------------ --- 92.2/99.7 MB 2.8 MB/s eta 0:00:03\n",
      "   ------------------------------------- -- 92.3/99.7 MB 2.8 MB/s eta 0:00:03\n",
      "   ------------------------------------- -- 92.5/99.7 MB 2.8 MB/s eta 0:00:03\n",
      "   ------------------------------------- -- 92.7/99.7 MB 2.8 MB/s eta 0:00:03\n",
      "   ------------------------------------- -- 92.8/99.7 MB 2.8 MB/s eta 0:00:03\n",
      "   ------------------------------------- -- 92.9/99.7 MB 2.8 MB/s eta 0:00:03\n",
      "   ------------------------------------- -- 93.0/99.7 MB 2.8 MB/s eta 0:00:03\n",
      "   ------------------------------------- -- 93.2/99.7 MB 2.8 MB/s eta 0:00:03\n",
      "   ------------------------------------- -- 93.4/99.7 MB 2.8 MB/s eta 0:00:03\n",
      "   ------------------------------------- -- 93.6/99.7 MB 2.8 MB/s eta 0:00:03\n",
      "   ------------------------------------- -- 93.7/99.7 MB 2.9 MB/s eta 0:00:03\n",
      "   ------------------------------------- -- 93.9/99.7 MB 2.8 MB/s eta 0:00:03\n",
      "   ------------------------------------- -- 94.1/99.7 MB 2.9 MB/s eta 0:00:02\n",
      "   ------------------------------------- -- 94.2/99.7 MB 2.9 MB/s eta 0:00:02\n",
      "   ------------------------------------- -- 94.4/99.7 MB 3.0 MB/s eta 0:00:02\n",
      "   ------------------------------------- -- 94.6/99.7 MB 3.0 MB/s eta 0:00:02\n",
      "   -------------------------------------- - 94.8/99.7 MB 3.1 MB/s eta 0:00:02\n",
      "   -------------------------------------- - 95.0/99.7 MB 3.1 MB/s eta 0:00:02\n",
      "   -------------------------------------- - 95.0/99.7 MB 3.0 MB/s eta 0:00:02\n",
      "   -------------------------------------- - 95.1/99.7 MB 3.1 MB/s eta 0:00:02\n",
      "   -------------------------------------- - 95.3/99.7 MB 3.1 MB/s eta 0:00:02\n",
      "   -------------------------------------- - 95.3/99.7 MB 3.1 MB/s eta 0:00:02\n",
      "   -------------------------------------- - 95.5/99.7 MB 3.1 MB/s eta 0:00:02\n",
      "   -------------------------------------- - 95.6/99.7 MB 3.1 MB/s eta 0:00:02\n",
      "   -------------------------------------- - 95.6/99.7 MB 3.0 MB/s eta 0:00:02\n",
      "   -------------------------------------- - 95.7/99.7 MB 3.0 MB/s eta 0:00:02\n",
      "   -------------------------------------- - 95.7/99.7 MB 3.0 MB/s eta 0:00:02\n",
      "   -------------------------------------- - 95.8/99.7 MB 3.0 MB/s eta 0:00:02\n",
      "   -------------------------------------- - 95.8/99.7 MB 2.9 MB/s eta 0:00:02\n",
      "   -------------------------------------- - 95.9/99.7 MB 2.9 MB/s eta 0:00:02\n",
      "   -------------------------------------- - 95.9/99.7 MB 2.9 MB/s eta 0:00:02\n",
      "   -------------------------------------- - 95.9/99.7 MB 2.9 MB/s eta 0:00:02\n",
      "   -------------------------------------- - 96.0/99.7 MB 2.8 MB/s eta 0:00:02\n",
      "   -------------------------------------- - 96.0/99.7 MB 2.8 MB/s eta 0:00:02\n",
      "   -------------------------------------- - 96.1/99.7 MB 2.8 MB/s eta 0:00:02\n",
      "   -------------------------------------- - 96.1/99.7 MB 2.8 MB/s eta 0:00:02\n",
      "   -------------------------------------- - 96.2/99.7 MB 2.8 MB/s eta 0:00:02\n",
      "   -------------------------------------- - 96.2/99.7 MB 2.8 MB/s eta 0:00:02\n",
      "   -------------------------------------- - 96.3/99.7 MB 2.7 MB/s eta 0:00:02\n",
      "   -------------------------------------- - 96.3/99.7 MB 2.7 MB/s eta 0:00:02\n",
      "   -------------------------------------- - 96.4/99.7 MB 2.7 MB/s eta 0:00:02\n",
      "   -------------------------------------- - 96.5/99.7 MB 2.7 MB/s eta 0:00:02\n",
      "   -------------------------------------- - 96.6/99.7 MB 2.7 MB/s eta 0:00:02\n",
      "   -------------------------------------- - 96.7/99.7 MB 2.7 MB/s eta 0:00:02\n",
      "   -------------------------------------- - 96.9/99.7 MB 2.7 MB/s eta 0:00:02\n",
      "   -------------------------------------- - 97.1/99.7 MB 2.7 MB/s eta 0:00:01\n",
      "   -------------------------------------- - 97.2/99.7 MB 2.8 MB/s eta 0:00:01\n",
      "   ---------------------------------------  97.5/99.7 MB 2.8 MB/s eta 0:00:01\n",
      "   ---------------------------------------  97.6/99.7 MB 2.8 MB/s eta 0:00:01\n",
      "   ---------------------------------------  97.7/99.7 MB 2.8 MB/s eta 0:00:01\n",
      "   ---------------------------------------  97.8/99.7 MB 2.8 MB/s eta 0:00:01\n",
      "   ---------------------------------------  98.0/99.7 MB 2.8 MB/s eta 0:00:01\n",
      "   ---------------------------------------  98.1/99.7 MB 2.8 MB/s eta 0:00:01\n",
      "   ---------------------------------------  98.3/99.7 MB 2.8 MB/s eta 0:00:01\n",
      "   ---------------------------------------  98.5/99.7 MB 2.8 MB/s eta 0:00:01\n",
      "   ---------------------------------------  98.7/99.7 MB 2.8 MB/s eta 0:00:01\n",
      "   ---------------------------------------  98.9/99.7 MB 2.8 MB/s eta 0:00:01\n",
      "   ---------------------------------------  99.0/99.7 MB 2.8 MB/s eta 0:00:01\n",
      "   ---------------------------------------  99.2/99.7 MB 2.8 MB/s eta 0:00:01\n",
      "   ---------------------------------------  99.3/99.7 MB 2.8 MB/s eta 0:00:01\n",
      "   ---------------------------------------  99.6/99.7 MB 2.8 MB/s eta 0:00:01\n",
      "   ---------------------------------------  99.7/99.7 MB 2.8 MB/s eta 0:00:01\n",
      "   ---------------------------------------  99.7/99.7 MB 2.8 MB/s eta 0:00:01\n",
      "   ---------------------------------------  99.7/99.7 MB 2.8 MB/s eta 0:00:01\n",
      "   ---------------------------------------  99.7/99.7 MB 2.8 MB/s eta 0:00:01\n",
      "   ---------------------------------------  99.7/99.7 MB 2.8 MB/s eta 0:00:01\n",
      "   ---------------------------------------  99.7/99.7 MB 2.8 MB/s eta 0:00:01\n",
      "   ---------------------------------------  99.7/99.7 MB 2.8 MB/s eta 0:00:01\n",
      "   ---------------------------------------  99.7/99.7 MB 2.8 MB/s eta 0:00:01\n",
      "   ---------------------------------------  99.7/99.7 MB 2.8 MB/s eta 0:00:01\n",
      "   ---------------------------------------  99.7/99.7 MB 2.8 MB/s eta 0:00:01\n",
      "   ---------------------------------------  99.7/99.7 MB 2.8 MB/s eta 0:00:01\n",
      "   ---------------------------------------  99.7/99.7 MB 2.8 MB/s eta 0:00:01\n",
      "   ---------------------------------------  99.7/99.7 MB 2.8 MB/s eta 0:00:01\n",
      "   ---------------------------------------  99.7/99.7 MB 2.8 MB/s eta 0:00:01\n",
      "   ---------------------------------------  99.7/99.7 MB 2.8 MB/s eta 0:00:01\n",
      "   ---------------------------------------  99.7/99.7 MB 2.8 MB/s eta 0:00:01\n",
      "   ---------------------------------------  99.7/99.7 MB 2.8 MB/s eta 0:00:01\n",
      "   ---------------------------------------  99.7/99.7 MB 2.8 MB/s eta 0:00:01\n",
      "   ---------------------------------------  99.7/99.7 MB 2.8 MB/s eta 0:00:01\n",
      "   ---------------------------------------  99.7/99.7 MB 2.8 MB/s eta 0:00:01\n",
      "   ---------------------------------------  99.7/99.7 MB 2.8 MB/s eta 0:00:01\n",
      "   ---------------------------------------  99.7/99.7 MB 2.8 MB/s eta 0:00:01\n",
      "   ---------------------------------------  99.7/99.7 MB 2.8 MB/s eta 0:00:01\n",
      "   ---------------------------------------  99.7/99.7 MB 2.8 MB/s eta 0:00:01\n",
      "   ---------------------------------------  99.7/99.7 MB 2.8 MB/s eta 0:00:01\n",
      "   ---------------------------------------  99.7/99.7 MB 2.8 MB/s eta 0:00:01\n",
      "   ---------------------------------------- 99.7/99.7 MB 2.1 MB/s eta 0:00:00\n",
      "Installing collected packages: xgboost\n",
      "Successfully installed xgboost-2.0.1\n"
     ]
    },
    {
     "name": "stderr",
     "output_type": "stream",
     "text": [
      "\n",
      "[notice] A new release of pip is available: 23.2.1 -> 23.3.1\n",
      "[notice] To update, run: python.exe -m pip install --upgrade pip\n"
     ]
    }
   ],
   "source": [
    "!pip install xgboost\n"
   ]
  },
  {
   "cell_type": "code",
   "execution_count": null,
   "id": "55269cf4",
   "metadata": {},
   "outputs": [],
   "source": [
    "xgb = XGBClassifier()"
   ]
  },
  {
   "cell_type": "code",
   "execution_count": null,
   "id": "04110e92",
   "metadata": {},
   "outputs": [
    {
     "data": {
      "text/html": [
       "<style>#sk-container-id-10 {color: black;}#sk-container-id-10 pre{padding: 0;}#sk-container-id-10 div.sk-toggleable {background-color: white;}#sk-container-id-10 label.sk-toggleable__label {cursor: pointer;display: block;width: 100%;margin-bottom: 0;padding: 0.3em;box-sizing: border-box;text-align: center;}#sk-container-id-10 label.sk-toggleable__label-arrow:before {content: \"▸\";float: left;margin-right: 0.25em;color: #696969;}#sk-container-id-10 label.sk-toggleable__label-arrow:hover:before {color: black;}#sk-container-id-10 div.sk-estimator:hover label.sk-toggleable__label-arrow:before {color: black;}#sk-container-id-10 div.sk-toggleable__content {max-height: 0;max-width: 0;overflow: hidden;text-align: left;background-color: #f0f8ff;}#sk-container-id-10 div.sk-toggleable__content pre {margin: 0.2em;color: black;border-radius: 0.25em;background-color: #f0f8ff;}#sk-container-id-10 input.sk-toggleable__control:checked~div.sk-toggleable__content {max-height: 200px;max-width: 100%;overflow: auto;}#sk-container-id-10 input.sk-toggleable__control:checked~label.sk-toggleable__label-arrow:before {content: \"▾\";}#sk-container-id-10 div.sk-estimator input.sk-toggleable__control:checked~label.sk-toggleable__label {background-color: #d4ebff;}#sk-container-id-10 div.sk-label input.sk-toggleable__control:checked~label.sk-toggleable__label {background-color: #d4ebff;}#sk-container-id-10 input.sk-hidden--visually {border: 0;clip: rect(1px 1px 1px 1px);clip: rect(1px, 1px, 1px, 1px);height: 1px;margin: -1px;overflow: hidden;padding: 0;position: absolute;width: 1px;}#sk-container-id-10 div.sk-estimator {font-family: monospace;background-color: #f0f8ff;border: 1px dotted black;border-radius: 0.25em;box-sizing: border-box;margin-bottom: 0.5em;}#sk-container-id-10 div.sk-estimator:hover {background-color: #d4ebff;}#sk-container-id-10 div.sk-parallel-item::after {content: \"\";width: 100%;border-bottom: 1px solid gray;flex-grow: 1;}#sk-container-id-10 div.sk-label:hover label.sk-toggleable__label {background-color: #d4ebff;}#sk-container-id-10 div.sk-serial::before {content: \"\";position: absolute;border-left: 1px solid gray;box-sizing: border-box;top: 0;bottom: 0;left: 50%;z-index: 0;}#sk-container-id-10 div.sk-serial {display: flex;flex-direction: column;align-items: center;background-color: white;padding-right: 0.2em;padding-left: 0.2em;position: relative;}#sk-container-id-10 div.sk-item {position: relative;z-index: 1;}#sk-container-id-10 div.sk-parallel {display: flex;align-items: stretch;justify-content: center;background-color: white;position: relative;}#sk-container-id-10 div.sk-item::before, #sk-container-id-10 div.sk-parallel-item::before {content: \"\";position: absolute;border-left: 1px solid gray;box-sizing: border-box;top: 0;bottom: 0;left: 50%;z-index: -1;}#sk-container-id-10 div.sk-parallel-item {display: flex;flex-direction: column;z-index: 1;position: relative;background-color: white;}#sk-container-id-10 div.sk-parallel-item:first-child::after {align-self: flex-end;width: 50%;}#sk-container-id-10 div.sk-parallel-item:last-child::after {align-self: flex-start;width: 50%;}#sk-container-id-10 div.sk-parallel-item:only-child::after {width: 0;}#sk-container-id-10 div.sk-dashed-wrapped {border: 1px dashed gray;margin: 0 0.4em 0.5em 0.4em;box-sizing: border-box;padding-bottom: 0.4em;background-color: white;}#sk-container-id-10 div.sk-label label {font-family: monospace;font-weight: bold;display: inline-block;line-height: 1.2em;}#sk-container-id-10 div.sk-label-container {text-align: center;}#sk-container-id-10 div.sk-container {/* jupyter's `normalize.less` sets `[hidden] { display: none; }` but bootstrap.min.css set `[hidden] { display: none !important; }` so we also need the `!important` here to be able to override the default hidden behavior on the sphinx rendered scikit-learn.org. See: https://github.com/scikit-learn/scikit-learn/issues/21755 */display: inline-block !important;position: relative;}#sk-container-id-10 div.sk-text-repr-fallback {display: none;}</style><div id=\"sk-container-id-10\" class=\"sk-top-container\"><div class=\"sk-text-repr-fallback\"><pre>XGBClassifier(base_score=None, booster=None, callbacks=None,\n",
       "              colsample_bylevel=None, colsample_bynode=None,\n",
       "              colsample_bytree=None, device=None, early_stopping_rounds=None,\n",
       "              enable_categorical=False, eval_metric=None, feature_types=None,\n",
       "              gamma=None, grow_policy=None, importance_type=None,\n",
       "              interaction_constraints=None, learning_rate=None, max_bin=None,\n",
       "              max_cat_threshold=None, max_cat_to_onehot=None,\n",
       "              max_delta_step=None, max_depth=None, max_leaves=None,\n",
       "              min_child_weight=None, missing=nan, monotone_constraints=None,\n",
       "              multi_strategy=None, n_estimators=None, n_jobs=None,\n",
       "              num_parallel_tree=None, random_state=None, ...)</pre><b>In a Jupyter environment, please rerun this cell to show the HTML representation or trust the notebook. <br />On GitHub, the HTML representation is unable to render, please try loading this page with nbviewer.org.</b></div><div class=\"sk-container\" hidden><div class=\"sk-item\"><div class=\"sk-estimator sk-toggleable\"><input class=\"sk-toggleable__control sk-hidden--visually\" id=\"sk-estimator-id-30\" type=\"checkbox\" checked><label for=\"sk-estimator-id-30\" class=\"sk-toggleable__label sk-toggleable__label-arrow\">XGBClassifier</label><div class=\"sk-toggleable__content\"><pre>XGBClassifier(base_score=None, booster=None, callbacks=None,\n",
       "              colsample_bylevel=None, colsample_bynode=None,\n",
       "              colsample_bytree=None, device=None, early_stopping_rounds=None,\n",
       "              enable_categorical=False, eval_metric=None, feature_types=None,\n",
       "              gamma=None, grow_policy=None, importance_type=None,\n",
       "              interaction_constraints=None, learning_rate=None, max_bin=None,\n",
       "              max_cat_threshold=None, max_cat_to_onehot=None,\n",
       "              max_delta_step=None, max_depth=None, max_leaves=None,\n",
       "              min_child_weight=None, missing=nan, monotone_constraints=None,\n",
       "              multi_strategy=None, n_estimators=None, n_jobs=None,\n",
       "              num_parallel_tree=None, random_state=None, ...)</pre></div></div></div></div></div>"
      ],
      "text/plain": [
       "XGBClassifier(base_score=None, booster=None, callbacks=None,\n",
       "              colsample_bylevel=None, colsample_bynode=None,\n",
       "              colsample_bytree=None, device=None, early_stopping_rounds=None,\n",
       "              enable_categorical=False, eval_metric=None, feature_types=None,\n",
       "              gamma=None, grow_policy=None, importance_type=None,\n",
       "              interaction_constraints=None, learning_rate=None, max_bin=None,\n",
       "              max_cat_threshold=None, max_cat_to_onehot=None,\n",
       "              max_delta_step=None, max_depth=None, max_leaves=None,\n",
       "              min_child_weight=None, missing=nan, monotone_constraints=None,\n",
       "              multi_strategy=None, n_estimators=None, n_jobs=None,\n",
       "              num_parallel_tree=None, random_state=None, ...)"
      ]
     },
     "execution_count": 173,
     "metadata": {},
     "output_type": "execute_result"
    }
   ],
   "source": [
    "xgb.fit(X_train, y_train)"
   ]
  },
  {
   "cell_type": "code",
   "execution_count": null,
   "id": "63fa2286",
   "metadata": {},
   "outputs": [],
   "source": [
    "y_pred = xgb.predict(X_test)"
   ]
  },
  {
   "cell_type": "code",
   "execution_count": null,
   "id": "cb7d7d5b",
   "metadata": {},
   "outputs": [
    {
     "data": {
      "text/plain": [
       "0.6741963509991312"
      ]
     },
     "execution_count": 175,
     "metadata": {},
     "output_type": "execute_result"
    }
   ],
   "source": [
    "precision_score(y_test, y_pred)"
   ]
  },
  {
   "cell_type": "code",
   "execution_count": null,
   "id": "4dec5ab5",
   "metadata": {},
   "outputs": [
    {
     "data": {
      "text/plain": [
       "0.6395216400911162"
      ]
     },
     "execution_count": 176,
     "metadata": {},
     "output_type": "execute_result"
    }
   ],
   "source": [
    "accuracy_score(y_test, y_pred)"
   ]
  },
  {
   "cell_type": "code",
   "execution_count": null,
   "id": "bd0f74d6",
   "metadata": {},
   "outputs": [
    {
     "data": {
      "text/plain": [
       "<sklearn.metrics._plot.confusion_matrix.ConfusionMatrixDisplay at 0x1e2bb29ba70>"
      ]
     },
     "execution_count": 178,
     "metadata": {},
     "output_type": "execute_result"
    },
    {
     "data": {
      "image/png": "[encoded data removed]",
      "text/plain": [
       "<Figure size 640x480 with 2 Axes>"
      ]
     },
     "metadata": {},
     "output_type": "display_data"
    }
   ],
   "source": [
    "ConfusionMatrixDisplay.from_estimator(xgb, X_test, y_test, values_format='d')"
   ]
  },
  {
   "cell_type": "code",
   "execution_count": null,
   "id": "6afa2870",
   "metadata": {},
   "outputs": [
    {
     "name": "stdout",
     "output_type": "stream",
     "text": [
      "Fitting 5 folds for each of 48 candidates, totalling 240 fits\n",
      "\n",
      "====================================================================================================\n",
      "{'class_weight': 'balanced', 'colsample_bytree': 0.8, 'learning_rate': 0.01, 'max_depth': 3, 'n_estimators': 500, 'subsample': 0.9}\n",
      "====================================================================================================\n",
      "\n"
     ]
    }
   ],
   "source": [
    "parametros = {\n",
    "    'learning_rate': [0.01, 0.1], #[0.1, 0.01, 0.015, 0.025, 0.05, 0.1],\n",
    "    'n_estimators': [500], # [500, 1000, 2000, 5000, 10000],\n",
    "    'max_depth': [3, 5, 9], # [3, 5, 7, 9, 12, 15, 17, 25],\n",
    "    'colsample_bytree': [0.6, 0.8], # [0.6, 0.7, 0.8, 0.9, 1.0],\n",
    "    'subsample': [0.6, 0.9], # [0.6, 0.7, 0.8, 0.9, 1.0],\n",
    "    'class_weight': ['balanced', None],\n",
    "}\n",
    "\n",
    "grid_search = GridSearchCV(XGBClassifier(), parametros, scoring='accuracy', cv=5, n_jobs=-1, verbose=1)\n",
    "grid_search.fit(X_train, y_train)\n",
    "\n",
    "print()\n",
    "print('='*100)\n",
    "print(grid_search.best_params_)\n",
    "print('='*100)\n",
    "print()"
   ]
  },
  {
   "cell_type": "code",
   "execution_count": null,
   "id": "123cc11e",
   "metadata": {},
   "outputs": [],
   "source": [
    "best_xgb = XGBClassifier(class_weight='balanced', colsample_bytree=0.8, learning_rate=0.01, max_depth=3, n_estimators=500, subsample=0.9)"
   ]
  },
  {
   "cell_type": "code",
   "execution_count": null,
   "id": "5d9bcd8e",
   "metadata": {},
   "outputs": [
    {
     "data": {
      "text/html": [
       "<style>#sk-container-id-11 {color: black;}#sk-container-id-11 pre{padding: 0;}#sk-container-id-11 div.sk-toggleable {background-color: white;}#sk-container-id-11 label.sk-toggleable__label {cursor: pointer;display: block;width: 100%;margin-bottom: 0;padding: 0.3em;box-sizing: border-box;text-align: center;}#sk-container-id-11 label.sk-toggleable__label-arrow:before {content: \"▸\";float: left;margin-right: 0.25em;color: #696969;}#sk-container-id-11 label.sk-toggleable__label-arrow:hover:before {color: black;}#sk-container-id-11 div.sk-estimator:hover label.sk-toggleable__label-arrow:before {color: black;}#sk-container-id-11 div.sk-toggleable__content {max-height: 0;max-width: 0;overflow: hidden;text-align: left;background-color: #f0f8ff;}#sk-container-id-11 div.sk-toggleable__content pre {margin: 0.2em;color: black;border-radius: 0.25em;background-color: #f0f8ff;}#sk-container-id-11 input.sk-toggleable__control:checked~div.sk-toggleable__content {max-height: 200px;max-width: 100%;overflow: auto;}#sk-container-id-11 input.sk-toggleable__control:checked~label.sk-toggleable__label-arrow:before {content: \"▾\";}#sk-container-id-11 div.sk-estimator input.sk-toggleable__control:checked~label.sk-toggleable__label {background-color: #d4ebff;}#sk-container-id-11 div.sk-label input.sk-toggleable__control:checked~label.sk-toggleable__label {background-color: #d4ebff;}#sk-container-id-11 input.sk-hidden--visually {border: 0;clip: rect(1px 1px 1px 1px);clip: rect(1px, 1px, 1px, 1px);height: 1px;margin: -1px;overflow: hidden;padding: 0;position: absolute;width: 1px;}#sk-container-id-11 div.sk-estimator {font-family: monospace;background-color: #f0f8ff;border: 1px dotted black;border-radius: 0.25em;box-sizing: border-box;margin-bottom: 0.5em;}#sk-container-id-11 div.sk-estimator:hover {background-color: #d4ebff;}#sk-container-id-11 div.sk-parallel-item::after {content: \"\";width: 100%;border-bottom: 1px solid gray;flex-grow: 1;}#sk-container-id-11 div.sk-label:hover label.sk-toggleable__label {background-color: #d4ebff;}#sk-container-id-11 div.sk-serial::before {content: \"\";position: absolute;border-left: 1px solid gray;box-sizing: border-box;top: 0;bottom: 0;left: 50%;z-index: 0;}#sk-container-id-11 div.sk-serial {display: flex;flex-direction: column;align-items: center;background-color: white;padding-right: 0.2em;padding-left: 0.2em;position: relative;}#sk-container-id-11 div.sk-item {position: relative;z-index: 1;}#sk-container-id-11 div.sk-parallel {display: flex;align-items: stretch;justify-content: center;background-color: white;position: relative;}#sk-container-id-11 div.sk-item::before, #sk-container-id-11 div.sk-parallel-item::before {content: \"\";position: absolute;border-left: 1px solid gray;box-sizing: border-box;top: 0;bottom: 0;left: 50%;z-index: -1;}#sk-container-id-11 div.sk-parallel-item {display: flex;flex-direction: column;z-index: 1;position: relative;background-color: white;}#sk-container-id-11 div.sk-parallel-item:first-child::after {align-self: flex-end;width: 50%;}#sk-container-id-11 div.sk-parallel-item:last-child::after {align-self: flex-start;width: 50%;}#sk-container-id-11 div.sk-parallel-item:only-child::after {width: 0;}#sk-container-id-11 div.sk-dashed-wrapped {border: 1px dashed gray;margin: 0 0.4em 0.5em 0.4em;box-sizing: border-box;padding-bottom: 0.4em;background-color: white;}#sk-container-id-11 div.sk-label label {font-family: monospace;font-weight: bold;display: inline-block;line-height: 1.2em;}#sk-container-id-11 div.sk-label-container {text-align: center;}#sk-container-id-11 div.sk-container {/* jupyter's `normalize.less` sets `[hidden] { display: none; }` but bootstrap.min.css set `[hidden] { display: none !important; }` so we also need the `!important` here to be able to override the default hidden behavior on the sphinx rendered scikit-learn.org. See: https://github.com/scikit-learn/scikit-learn/issues/21755 */display: inline-block !important;position: relative;}#sk-container-id-11 div.sk-text-repr-fallback {display: none;}</style><div id=\"sk-container-id-11\" class=\"sk-top-container\"><div class=\"sk-text-repr-fallback\"><pre>XGBClassifier(base_score=None, booster=None, callbacks=None,\n",
       "              class_weight=&#x27;balanced&#x27;, colsample_bylevel=None,\n",
       "              colsample_bynode=None, colsample_bytree=0.8, device=None,\n",
       "              early_stopping_rounds=None, enable_categorical=False,\n",
       "              eval_metric=None, feature_types=None, gamma=None,\n",
       "              grow_policy=None, importance_type=None,\n",
       "              interaction_constraints=None, learning_rate=0.01, max_bin=None,\n",
       "              max_cat_threshold=None, max_cat_to_onehot=None,\n",
       "              max_delta_step=None, max_depth=3, max_leaves=None,\n",
       "              min_child_weight=None, missing=nan, monotone_constraints=None,\n",
       "              multi_strategy=None, n_estimators=500, n_jobs=None,\n",
       "              num_parallel_tree=None, ...)</pre><b>In a Jupyter environment, please rerun this cell to show the HTML representation or trust the notebook. <br />On GitHub, the HTML representation is unable to render, please try loading this page with nbviewer.org.</b></div><div class=\"sk-container\" hidden><div class=\"sk-item\"><div class=\"sk-estimator sk-toggleable\"><input class=\"sk-toggleable__control sk-hidden--visually\" id=\"sk-estimator-id-31\" type=\"checkbox\" checked><label for=\"sk-estimator-id-31\" class=\"sk-toggleable__label sk-toggleable__label-arrow\">XGBClassifier</label><div class=\"sk-toggleable__content\"><pre>XGBClassifier(base_score=None, booster=None, callbacks=None,\n",
       "              class_weight=&#x27;balanced&#x27;, colsample_bylevel=None,\n",
       "              colsample_bynode=None, colsample_bytree=0.8, device=None,\n",
       "              early_stopping_rounds=None, enable_categorical=False,\n",
       "              eval_metric=None, feature_types=None, gamma=None,\n",
       "              grow_policy=None, importance_type=None,\n",
       "              interaction_constraints=None, learning_rate=0.01, max_bin=None,\n",
       "              max_cat_threshold=None, max_cat_to_onehot=None,\n",
       "              max_delta_step=None, max_depth=3, max_leaves=None,\n",
       "              min_child_weight=None, missing=nan, monotone_constraints=None,\n",
       "              multi_strategy=None, n_estimators=500, n_jobs=None,\n",
       "              num_parallel_tree=None, ...)</pre></div></div></div></div></div>"
      ],
      "text/plain": [
       "XGBClassifier(base_score=None, booster=None, callbacks=None,\n",
       "              class_weight='balanced', colsample_bylevel=None,\n",
       "              colsample_bynode=None, colsample_bytree=0.8, device=None,\n",
       "              early_stopping_rounds=None, enable_categorical=False,\n",
       "              eval_metric=None, feature_types=None, gamma=None,\n",
       "              grow_policy=None, importance_type=None,\n",
       "              interaction_constraints=None, learning_rate=0.01, max_bin=None,\n",
       "              max_cat_threshold=None, max_cat_to_onehot=None,\n",
       "              max_delta_step=None, max_depth=3, max_leaves=None,\n",
       "              min_child_weight=None, missing=nan, monotone_constraints=None,\n",
       "              multi_strategy=None, n_estimators=500, n_jobs=None,\n",
       "              num_parallel_tree=None, ...)"
      ]
     },
     "execution_count": 181,
     "metadata": {},
     "output_type": "execute_result"
    }
   ],
   "source": [
    "best_xgb.fit(X_train, y_train)"
   ]
  },
  {
   "cell_type": "code",
   "execution_count": null,
   "id": "bdcd22ad",
   "metadata": {},
   "outputs": [],
   "source": [
    "y_pred_best = best_xgb.predict(X_test)"
   ]
  },
  {
   "cell_type": "code",
   "execution_count": null,
   "id": "ff01b118",
   "metadata": {},
   "outputs": [],
   "source": [
    "precision_score_xgb = precision_score(y_test, y_pred_best)\n",
    "accuracy_score_xgb = accuracy_score(y_test, y_pred_best)\n",
    "recall_score_xgb = recall_score(y_test, y_pred_best)\n",
    "f1_score_xgb = f1_score(y_test, y_pred_best)\n",
    "roc_auc_score_xgb = roc_auc_score(y_test, y_pred_best)"
   ]
  },
  {
   "cell_type": "code",
   "execution_count": null,
   "id": "3b1ba6fb",
   "metadata": {},
   "outputs": [
    {
     "data": {
      "text/plain": [
       "<sklearn.metrics._plot.confusion_matrix.ConfusionMatrixDisplay at 0x1e2bb1f7e90>"
      ]
     },
     "execution_count": 184,
     "metadata": {},
     "output_type": "execute_result"
    },
    {
     "data": {
      "image/png": "[encoded data removed]",
      "text/plain": [
       "<Figure size 640x480 with 2 Axes>"
      ]
     },
     "metadata": {},
     "output_type": "display_data"
    }
   ],
   "source": [
    "ConfusionMatrixDisplay.from_estimator(best_xgb, X_test, y_test, values_format='d')"
   ]
  },
  {
   "cell_type": "code",
   "execution_count": null,
   "id": "4fbd9fc4",
   "metadata": {},
   "outputs": [
    {
     "data": {
      "text/plain": [
       "0.6674259681093394"
      ]
     },
     "execution_count": 185,
     "metadata": {},
     "output_type": "execute_result"
    }
   ],
   "source": [
    "accuracy_score_xgb"
   ]
  },
  {
   "cell_type": "code",
   "execution_count": null,
   "id": "067d7d8d",
   "metadata": {},
   "outputs": [
    {
     "data": {
      "text/plain": [
       "0.6887583892617449"
      ]
     },
     "execution_count": 186,
     "metadata": {},
     "output_type": "execute_result"
    }
   ],
   "source": [
    "precision_score_xgb"
   ]
  },
  {
   "cell_type": "code",
   "execution_count": null,
   "id": "692f5bf0",
   "metadata": {},
   "outputs": [
    {
     "data": {
      "text/plain": [
       "0.7940038684719536"
      ]
     },
     "execution_count": 187,
     "metadata": {},
     "output_type": "execute_result"
    }
   ],
   "source": [
    "recall_score_xgb"
   ]
  },
  {
   "cell_type": "code",
   "execution_count": null,
   "id": "b72871d1",
   "metadata": {},
   "outputs": [
    {
     "data": {
      "text/plain": [
       "0.7376460017969452"
      ]
     },
     "execution_count": 188,
     "metadata": {},
     "output_type": "execute_result"
    }
   ],
   "source": [
    "f1_score_xgb"
   ]
  },
  {
   "cell_type": "code",
   "execution_count": null,
   "id": "f003e53f",
   "metadata": {},
   "outputs": [
    {
     "data": {
      "text/plain": [
       "0.640076726479744"
      ]
     },
     "execution_count": 189,
     "metadata": {},
     "output_type": "execute_result"
    }
   ],
   "source": [
    "roc_auc_score_xgb"
   ]
  },
  {
   "cell_type": "markdown",
   "id": "f003e53f",
   "metadata": {},
   "source": [
    "## LGBM"
   ]
  },
  {
   "cell_type": "code",
   "execution_count": null,
   "id": "dc60cbea",
   "metadata": {},
   "outputs": [],
   "source": [
    "from lightgbm import LGBMClassifier"
   ]
  },
  {
   "cell_type": "code",
   "execution_count": null,
   "metadata": {},
   "outputs": [
    {
     "name": "stdout",
     "output_type": "stream",
     "text": [
      "Collecting lightgbm\n",
      "  Obtaining dependency information for lightgbm from https://files.pythonhosted.org/packages/b3/f8/ee33e36194eb03a76eccf3adac3fba51f0e56fbd20609bb531659d48d3cb/lightgbm-4.1.0-py3-none-win_amd64.whl.metadata\n",
      "  Downloading lightgbm-4.1.0-py3-none-win_amd64.whl.metadata (19 kB)\n",
      "Requirement already satisfied: numpy in c:\\users\\alan.hassan\\appdata\\local\\programs\\python\\python312\\lib\\site-packages (from lightgbm) (1.26.1)\n",
      "Requirement already satisfied: scipy in c:\\users\\alan.hassan\\appdata\\local\\programs\\python\\python312\\lib\\site-packages (from lightgbm) (1.11.3)\n",
      "Downloading lightgbm-4.1.0-py3-none-win_amd64.whl (1.3 MB)\n",
      "   ---------------------------------------- 0.0/1.3 MB ? eta -:--:--\n",
      "   - -------------------------------------- 0.0/1.3 MB 960.0 kB/s eta 0:00:02\n",
      "   -- ------------------------------------- 0.1/1.3 MB 1.1 MB/s eta 0:00:02\n",
      "   --------- ------------------------------ 0.3/1.3 MB 2.5 MB/s eta 0:00:01\n",
      "   --------- ------------------------------ 0.3/1.3 MB 2.5 MB/s eta 0:00:01\n",
      "   ----------- ---------------------------- 0.4/1.3 MB 1.6 MB/s eta 0:00:01\n",
      "   ----------------- ---------------------- 0.6/1.3 MB 2.1 MB/s eta 0:00:01\n",
      "   --------------------- ------------------ 0.7/1.3 MB 2.3 MB/s eta 0:00:01\n",
      "   ---------------------------- ----------- 0.9/1.3 MB 2.7 MB/s eta 0:00:01\n",
      "   ------------------------------------ --- 1.2/1.3 MB 2.9 MB/s eta 0:00:01\n",
      "   ---------------------------------------- 1.3/1.3 MB 2.9 MB/s eta 0:00:00\n",
      "Installing collected packages: lightgbm\n",
      "Successfully installed lightgbm-4.1.0\n"
     ]
    },
    {
     "name": "stderr",
     "output_type": "stream",
     "text": [
      "\n",
      "[notice] A new release of pip is available: 23.2.1 -> 23.3.1\n",
      "[notice] To update, run: python.exe -m pip install --upgrade pip\n"
     ]
    }
   ],
   "source": [
    "!pip install lightgbm"
   ]
  },
  {
   "cell_type": "code",
   "execution_count": null,
   "id": "273c4080",
   "metadata": {},
   "outputs": [],
   "source": [
    "lgbm = LGBMClassifier()"
   ]
  },
  {
   "cell_type": "code",
   "execution_count": null,
   "id": "5feb3b28",
   "metadata": {},
   "outputs": [
    {
     "name": "stdout",
     "output_type": "stream",
     "text": [
      "[LightGBM] [Info] Number of positive: 5873, number of negative: 4074\n",
      "[LightGBM] [Info] Auto-choosing row-wise multi-threading, the overhead of testing was 0.000098 seconds.\n",
      "You can set `force_row_wise=true` to remove the overhead.\n",
      "And if memory is not enough, you can set `force_col_wise=true`.\n",
      "[LightGBM] [Info] Total Bins 487\n",
      "[LightGBM] [Info] Number of data points in the train set: 9947, number of used features: 5\n",
      "[LightGBM] [Info] [binary:BoostFromScore]: pavg=0.590429 -> initscore=0.365740\n",
      "[LightGBM] [Info] Start training from score 0.365740\n"
     ]
    },
    {
     "data": {
      "text/html": [
       "<style>#sk-container-id-12 {color: black;}#sk-container-id-12 pre{padding: 0;}#sk-container-id-12 div.sk-toggleable {background-color: white;}#sk-container-id-12 label.sk-toggleable__label {cursor: pointer;display: block;width: 100%;margin-bottom: 0;padding: 0.3em;box-sizing: border-box;text-align: center;}#sk-container-id-12 label.sk-toggleable__label-arrow:before {content: \"▸\";float: left;margin-right: 0.25em;color: #696969;}#sk-container-id-12 label.sk-toggleable__label-arrow:hover:before {color: black;}#sk-container-id-12 div.sk-estimator:hover label.sk-toggleable__label-arrow:before {color: black;}#sk-container-id-12 div.sk-toggleable__content {max-height: 0;max-width: 0;overflow: hidden;text-align: left;background-color: #f0f8ff;}#sk-container-id-12 div.sk-toggleable__content pre {margin: 0.2em;color: black;border-radius: 0.25em;background-color: #f0f8ff;}#sk-container-id-12 input.sk-toggleable__control:checked~div.sk-toggleable__content {max-height: 200px;max-width: 100%;overflow: auto;}#sk-container-id-12 input.sk-toggleable__control:checked~label.sk-toggleable__label-arrow:before {content: \"▾\";}#sk-container-id-12 div.sk-estimator input.sk-toggleable__control:checked~label.sk-toggleable__label {background-color: #d4ebff;}#sk-container-id-12 div.sk-label input.sk-toggleable__control:checked~label.sk-toggleable__label {background-color: #d4ebff;}#sk-container-id-12 input.sk-hidden--visually {border: 0;clip: rect(1px 1px 1px 1px);clip: rect(1px, 1px, 1px, 1px);height: 1px;margin: -1px;overflow: hidden;padding: 0;position: absolute;width: 1px;}#sk-container-id-12 div.sk-estimator {font-family: monospace;background-color: #f0f8ff;border: 1px dotted black;border-radius: 0.25em;box-sizing: border-box;margin-bottom: 0.5em;}#sk-container-id-12 div.sk-estimator:hover {background-color: #d4ebff;}#sk-container-id-12 div.sk-parallel-item::after {content: \"\";width: 100%;border-bottom: 1px solid gray;flex-grow: 1;}#sk-container-id-12 div.sk-label:hover label.sk-toggleable__label {background-color: #d4ebff;}#sk-container-id-12 div.sk-serial::before {content: \"\";position: absolute;border-left: 1px solid gray;box-sizing: border-box;top: 0;bottom: 0;left: 50%;z-index: 0;}#sk-container-id-12 div.sk-serial {display: flex;flex-direction: column;align-items: center;background-color: white;padding-right: 0.2em;padding-left: 0.2em;position: relative;}#sk-container-id-12 div.sk-item {position: relative;z-index: 1;}#sk-container-id-12 div.sk-parallel {display: flex;align-items: stretch;justify-content: center;background-color: white;position: relative;}#sk-container-id-12 div.sk-item::before, #sk-container-id-12 div.sk-parallel-item::before {content: \"\";position: absolute;border-left: 1px solid gray;box-sizing: border-box;top: 0;bottom: 0;left: 50%;z-index: -1;}#sk-container-id-12 div.sk-parallel-item {display: flex;flex-direction: column;z-index: 1;position: relative;background-color: white;}#sk-container-id-12 div.sk-parallel-item:first-child::after {align-self: flex-end;width: 50%;}#sk-container-id-12 div.sk-parallel-item:last-child::after {align-self: flex-start;width: 50%;}#sk-container-id-12 div.sk-parallel-item:only-child::after {width: 0;}#sk-container-id-12 div.sk-dashed-wrapped {border: 1px dashed gray;margin: 0 0.4em 0.5em 0.4em;box-sizing: border-box;padding-bottom: 0.4em;background-color: white;}#sk-container-id-12 div.sk-label label {font-family: monospace;font-weight: bold;display: inline-block;line-height: 1.2em;}#sk-container-id-12 div.sk-label-container {text-align: center;}#sk-container-id-12 div.sk-container {/* jupyter's `normalize.less` sets `[hidden] { display: none; }` but bootstrap.min.css set `[hidden] { display: none !important; }` so we also need the `!important` here to be able to override the default hidden behavior on the sphinx rendered scikit-learn.org. See: https://github.com/scikit-learn/scikit-learn/issues/21755 */display: inline-block !important;position: relative;}#sk-container-id-12 div.sk-text-repr-fallback {display: none;}</style><div id=\"sk-container-id-12\" class=\"sk-top-container\"><div class=\"sk-text-repr-fallback\"><pre>LGBMClassifier()</pre><b>In a Jupyter environment, please rerun this cell to show the HTML representation or trust the notebook. <br />On GitHub, the HTML representation is unable to render, please try loading this page with nbviewer.org.</b></div><div class=\"sk-container\" hidden><div class=\"sk-item\"><div class=\"sk-estimator sk-toggleable\"><input class=\"sk-toggleable__control sk-hidden--visually\" id=\"sk-estimator-id-32\" type=\"checkbox\" checked><label for=\"sk-estimator-id-32\" class=\"sk-toggleable__label sk-toggleable__label-arrow\">LGBMClassifier</label><div class=\"sk-toggleable__content\"><pre>LGBMClassifier()</pre></div></div></div></div></div>"
      ],
      "text/plain": [
       "LGBMClassifier()"
      ]
     },
     "execution_count": 194,
     "metadata": {},
     "output_type": "execute_result"
    }
   ],
   "source": [
    "lgbm.fit(X_train, y_train)"
   ]
  },
  {
   "cell_type": "code",
   "execution_count": null,
   "id": "3f1ce956",
   "metadata": {},
   "outputs": [],
   "source": [
    "y_pred = lgbm.predict(X_test)"
   ]
  },
  {
   "cell_type": "code",
   "execution_count": null,
   "id": "8d09c525",
   "metadata": {},
   "outputs": [
    {
     "data": {
      "text/plain": [
       "0.6841216216216216"
      ]
     },
     "execution_count": 196,
     "metadata": {},
     "output_type": "execute_result"
    }
   ],
   "source": [
    "precision_score(y_test, y_pred)"
   ]
  },
  {
   "cell_type": "code",
   "execution_count": null,
   "id": "3805c2f7",
   "metadata": {},
   "outputs": [
    {
     "data": {
      "text/plain": [
       "0.6594533029612756"
      ]
     },
     "execution_count": 197,
     "metadata": {},
     "output_type": "execute_result"
    }
   ],
   "source": [
    "accuracy_score(y_test, y_pred)"
   ]
  },
  {
   "cell_type": "code",
   "execution_count": null,
   "id": "06a08a2c",
   "metadata": {},
   "outputs": [
    {
     "data": {
      "text/plain": [
       "<sklearn.metrics._plot.confusion_matrix.ConfusionMatrixDisplay at 0x1e2bb3e6db0>"
      ]
     },
     "execution_count": 198,
     "metadata": {},
     "output_type": "execute_result"
    },
    {
     "data": {
      "image/png": "[encoded data removed]",
      "text/plain": [
       "<Figure size 640x480 with 2 Axes>"
      ]
     },
     "metadata": {},
     "output_type": "display_data"
    }
   ],
   "source": [
    "ConfusionMatrixDisplay.from_estimator(lgbm, X_test, y_test, values_format='d')"
   ]
  },
  {
   "cell_type": "code",
   "execution_count": null,
   "id": "16a99c99",
   "metadata": {},
   "outputs": [
    {
     "name": "stdout",
     "output_type": "stream",
     "text": [
      "Fitting 5 folds for each of 12 candidates, totalling 60 fits\n",
      "[LightGBM] [Warning] Accuracy may be bad since you didn't explicitly set num_leaves OR 2^max_depth > num_leaves. (num_leaves=31).\n",
      "[LightGBM] [Warning] Accuracy may be bad since you didn't explicitly set num_leaves OR 2^max_depth > num_leaves. (num_leaves=31).\n",
      "[LightGBM] [Info] Number of positive: 5873, number of negative: 4074\n",
      "[LightGBM] [Info] Auto-choosing col-wise multi-threading, the overhead of testing was 0.000430 seconds.\n",
      "You can set `force_col_wise=true` to remove the overhead.\n",
      "[LightGBM] [Info] Total Bins 487\n",
      "[LightGBM] [Info] Number of data points in the train set: 9947, number of used features: 5\n",
      "[LightGBM] [Info] [binary:BoostFromScore]: pavg=0.590429 -> initscore=0.365740\n",
      "[LightGBM] [Info] Start training from score 0.365740\n",
      "\n",
      "====================================================================================================\n",
      "{'class_weight': None, 'colsample_bytree': 0.6, 'learning_rate': 0.01, 'max_depth': 9, 'n_estimators': 500, 'subsample': 0.8}\n",
      "====================================================================================================\n",
      "\n"
     ]
    }
   ],
   "source": [
    "parametros = {\n",
    "    'learning_rate': [0.01, 0.05], # [0.01, 0.015, 0.025, 0.05, 0.1],\n",
    "    'n_estimators': [500], # [500, 1000, 2000, 5000, 10000],\n",
    "    'max_depth': [3, 7, 9], # [3, 5, 7, 9, 12, 15, 17, 25],\n",
    "    'colsample_bytree': [0.6], # [0.6, 0.7, 0.8, 0.9, 1.0],\n",
    "    'subsample': [0.8], # [0.6, 0.7, 0.8, 0.9, 1.0],\n",
    "    'class_weight': ['balanced', None],\n",
    "}\n",
    "\n",
    "grid_search = GridSearchCV(LGBMClassifier(), parametros, scoring='accuracy', cv=5, n_jobs=-1, verbose=1)\n",
    "grid_search.fit(X_train, y_train)\n",
    "\n",
    "print()\n",
    "print('='*100)\n",
    "print(grid_search.best_params_)\n",
    "print('='*100)\n",
    "print()"
   ]
  },
  {
   "cell_type": "code",
   "execution_count": null,
   "id": "8c148ecb",
   "metadata": {},
   "outputs": [],
   "source": [
    "best_lgbm = LGBMClassifier(class_weight=None, colsample_bytree=0.6, learning_rate=0.01, max_depth=3, n_estimators=500, subsample=0.8)"
   ]
  },
  {
   "cell_type": "code",
   "execution_count": null,
   "id": "3fcc3920",
   "metadata": {},
   "outputs": [
    {
     "name": "stdout",
     "output_type": "stream",
     "text": [
      "[LightGBM] [Info] Number of positive: 5873, number of negative: 4074\n",
      "[LightGBM] [Info] Auto-choosing col-wise multi-threading, the overhead of testing was 0.000500 seconds.\n",
      "You can set `force_col_wise=true` to remove the overhead.\n",
      "[LightGBM] [Info] Total Bins 487\n",
      "[LightGBM] [Info] Number of data points in the train set: 9947, number of used features: 5\n",
      "[LightGBM] [Info] [binary:BoostFromScore]: pavg=0.590429 -> initscore=0.365740\n",
      "[LightGBM] [Info] Start training from score 0.365740\n",
      "[LightGBM] [Warning] No further splits with positive gain, best gain: -inf\n",
      "[LightGBM] [Warning] No further splits with positive gain, best gain: -inf\n",
      "[LightGBM] [Warning] No further splits with positive gain, best gain: -inf\n",
      "[LightGBM] [Warning] No further splits with positive gain, best gain: -inf\n",
      "[LightGBM] [Warning] No further splits with positive gain, best gain: -inf\n",
      "[LightGBM] [Warning] No further splits with positive gain, best gain: -inf\n",
      "[LightGBM] [Warning] No further splits with positive gain, best gain: -inf\n",
      "[LightGBM] [Warning] No further splits with positive gain, best gain: -inf\n",
      "[LightGBM] [Warning] No further splits with positive gain, best gain: -inf\n",
      "[LightGBM] [Warning] No further splits with positive gain, best gain: -inf\n",
      "[LightGBM] [Warning] No further splits with positive gain, best gain: -inf\n",
      "[LightGBM] [Warning] No further splits with positive gain, best gain: -inf\n",
      "[LightGBM] [Warning] No further splits with positive gain, best gain: -inf\n",
      "[LightGBM] [Warning] No further splits with positive gain, best gain: -inf\n",
      "[LightGBM] [Warning] No further splits with positive gain, best gain: -inf\n",
      "[LightGBM] [Warning] No further splits with positive gain, best gain: -inf\n",
      "[LightGBM] [Warning] No further splits with positive gain, best gain: -inf\n",
      "[LightGBM] [Warning] No further splits with positive gain, best gain: -inf\n",
      "[LightGBM] [Warning] No further splits with positive gain, best gain: -inf\n",
      "[LightGBM] [Warning] No further splits with positive gain, best gain: -inf\n",
      "[LightGBM] [Warning] No further splits with positive gain, best gain: -inf\n",
      "[LightGBM] [Warning] No further splits with positive gain, best gain: -inf\n",
      "[LightGBM] [Warning] No further splits with positive gain, best gain: -inf\n",
      "[LightGBM] [Warning] No further splits with positive gain, best gain: -inf\n",
      "[LightGBM] [Warning] No further splits with positive gain, best gain: -inf\n",
      "[LightGBM] [Warning] No further splits with positive gain, best gain: -inf\n",
      "[LightGBM] [Warning] No further splits with positive gain, best gain: -inf\n",
      "[LightGBM] [Warning] No further splits with positive gain, best gain: -inf\n",
      "[LightGBM] [Warning] No further splits with positive gain, best gain: -inf\n",
      "[LightGBM] [Warning] No further splits with positive gain, best gain: -inf\n",
      "[LightGBM] [Warning] No further splits with positive gain, best gain: -inf\n",
      "[LightGBM] [Warning] No further splits with positive gain, best gain: -inf\n",
      "[LightGBM] [Warning] No further splits with positive gain, best gain: -inf\n",
      "[LightGBM] [Warning] No further splits with positive gain, best gain: -inf\n",
      "[LightGBM] [Warning] No further splits with positive gain, best gain: -inf\n",
      "[LightGBM] [Warning] No further splits with positive gain, best gain: -inf\n",
      "[LightGBM] [Warning] No further splits with positive gain, best gain: -inf\n",
      "[LightGBM] [Warning] No further splits with positive gain, best gain: -inf\n",
      "[LightGBM] [Warning] No further splits with positive gain, best gain: -inf\n",
      "[LightGBM] [Warning] No further splits with positive gain, best gain: -inf\n",
      "[LightGBM] [Warning] No further splits with positive gain, best gain: -inf\n",
      "[LightGBM] [Warning] No further splits with positive gain, best gain: -inf\n",
      "[LightGBM] [Warning] No further splits with positive gain, best gain: -inf\n",
      "[LightGBM] [Warning] No further splits with positive gain, best gain: -inf\n",
      "[LightGBM] [Warning] No further splits with positive gain, best gain: -inf\n",
      "[LightGBM] [Warning] No further splits with positive gain, best gain: -inf\n",
      "[LightGBM] [Warning] No further splits with positive gain, best gain: -inf\n",
      "[LightGBM] [Warning] No further splits with positive gain, best gain: -inf\n",
      "[LightGBM] [Warning] No further splits with positive gain, best gain: -inf\n",
      "[LightGBM] [Warning] No further splits with positive gain, best gain: -inf\n",
      "[LightGBM] [Warning] No further splits with positive gain, best gain: -inf\n",
      "[LightGBM] [Warning] No further splits with positive gain, best gain: -inf\n",
      "[LightGBM] [Warning] No further splits with positive gain, best gain: -inf\n",
      "[LightGBM] [Warning] No further splits with positive gain, best gain: -inf\n",
      "[LightGBM] [Warning] No further splits with positive gain, best gain: -inf\n",
      "[LightGBM] [Warning] No further splits with positive gain, best gain: -inf\n",
      "[LightGBM] [Warning] No further splits with positive gain, best gain: -inf\n",
      "[LightGBM] [Warning] No further splits with positive gain, best gain: -inf\n",
      "[LightGBM] [Warning] No further splits with positive gain, best gain: -inf\n",
      "[LightGBM] [Warning] No further splits with positive gain, best gain: -inf\n"
     ]
    },
    {
     "data": {
      "text/html": [
       "<style>#sk-container-id-13 {color: black;}#sk-container-id-13 pre{padding: 0;}#sk-container-id-13 div.sk-toggleable {background-color: white;}#sk-container-id-13 label.sk-toggleable__label {cursor: pointer;display: block;width: 100%;margin-bottom: 0;padding: 0.3em;box-sizing: border-box;text-align: center;}#sk-container-id-13 label.sk-toggleable__label-arrow:before {content: \"▸\";float: left;margin-right: 0.25em;color: #696969;}#sk-container-id-13 label.sk-toggleable__label-arrow:hover:before {color: black;}#sk-container-id-13 div.sk-estimator:hover label.sk-toggleable__label-arrow:before {color: black;}#sk-container-id-13 div.sk-toggleable__content {max-height: 0;max-width: 0;overflow: hidden;text-align: left;background-color: #f0f8ff;}#sk-container-id-13 div.sk-toggleable__content pre {margin: 0.2em;color: black;border-radius: 0.25em;background-color: #f0f8ff;}#sk-container-id-13 input.sk-toggleable__control:checked~div.sk-toggleable__content {max-height: 200px;max-width: 100%;overflow: auto;}#sk-container-id-13 input.sk-toggleable__control:checked~label.sk-toggleable__label-arrow:before {content: \"▾\";}#sk-container-id-13 div.sk-estimator input.sk-toggleable__control:checked~label.sk-toggleable__label {background-color: #d4ebff;}#sk-container-id-13 div.sk-label input.sk-toggleable__control:checked~label.sk-toggleable__label {background-color: #d4ebff;}#sk-container-id-13 input.sk-hidden--visually {border: 0;clip: rect(1px 1px 1px 1px);clip: rect(1px, 1px, 1px, 1px);height: 1px;margin: -1px;overflow: hidden;padding: 0;position: absolute;width: 1px;}#sk-container-id-13 div.sk-estimator {font-family: monospace;background-color: #f0f8ff;border: 1px dotted black;border-radius: 0.25em;box-sizing: border-box;margin-bottom: 0.5em;}#sk-container-id-13 div.sk-estimator:hover {background-color: #d4ebff;}#sk-container-id-13 div.sk-parallel-item::after {content: \"\";width: 100%;border-bottom: 1px solid gray;flex-grow: 1;}#sk-container-id-13 div.sk-label:hover label.sk-toggleable__label {background-color: #d4ebff;}#sk-container-id-13 div.sk-serial::before {content: \"\";position: absolute;border-left: 1px solid gray;box-sizing: border-box;top: 0;bottom: 0;left: 50%;z-index: 0;}#sk-container-id-13 div.sk-serial {display: flex;flex-direction: column;align-items: center;background-color: white;padding-right: 0.2em;padding-left: 0.2em;position: relative;}#sk-container-id-13 div.sk-item {position: relative;z-index: 1;}#sk-container-id-13 div.sk-parallel {display: flex;align-items: stretch;justify-content: center;background-color: white;position: relative;}#sk-container-id-13 div.sk-item::before, #sk-container-id-13 div.sk-parallel-item::before {content: \"\";position: absolute;border-left: 1px solid gray;box-sizing: border-box;top: 0;bottom: 0;left: 50%;z-index: -1;}#sk-container-id-13 div.sk-parallel-item {display: flex;flex-direction: column;z-index: 1;position: relative;background-color: white;}#sk-container-id-13 div.sk-parallel-item:first-child::after {align-self: flex-end;width: 50%;}#sk-container-id-13 div.sk-parallel-item:last-child::after {align-self: flex-start;width: 50%;}#sk-container-id-13 div.sk-parallel-item:only-child::after {width: 0;}#sk-container-id-13 div.sk-dashed-wrapped {border: 1px dashed gray;margin: 0 0.4em 0.5em 0.4em;box-sizing: border-box;padding-bottom: 0.4em;background-color: white;}#sk-container-id-13 div.sk-label label {font-family: monospace;font-weight: bold;display: inline-block;line-height: 1.2em;}#sk-container-id-13 div.sk-label-container {text-align: center;}#sk-container-id-13 div.sk-container {/* jupyter's `normalize.less` sets `[hidden] { display: none; }` but bootstrap.min.css set `[hidden] { display: none !important; }` so we also need the `!important` here to be able to override the default hidden behavior on the sphinx rendered scikit-learn.org. See: https://github.com/scikit-learn/scikit-learn/issues/21755 */display: inline-block !important;position: relative;}#sk-container-id-13 div.sk-text-repr-fallback {display: none;}</style><div id=\"sk-container-id-13\" class=\"sk-top-container\"><div class=\"sk-text-repr-fallback\"><pre>LGBMClassifier(colsample_bytree=0.6, learning_rate=0.01, max_depth=3,\n",
       "               n_estimators=500, subsample=0.8)</pre><b>In a Jupyter environment, please rerun this cell to show the HTML representation or trust the notebook. <br />On GitHub, the HTML representation is unable to render, please try loading this page with nbviewer.org.</b></div><div class=\"sk-container\" hidden><div class=\"sk-item\"><div class=\"sk-estimator sk-toggleable\"><input class=\"sk-toggleable__control sk-hidden--visually\" id=\"sk-estimator-id-33\" type=\"checkbox\" checked><label for=\"sk-estimator-id-33\" class=\"sk-toggleable__label sk-toggleable__label-arrow\">LGBMClassifier</label><div class=\"sk-toggleable__content\"><pre>LGBMClassifier(colsample_bytree=0.6, learning_rate=0.01, max_depth=3,\n",
       "               n_estimators=500, subsample=0.8)</pre></div></div></div></div></div>"
      ],
      "text/plain": [
       "LGBMClassifier(colsample_bytree=0.6, learning_rate=0.01, max_depth=3,\n",
       "               n_estimators=500, subsample=0.8)"
      ]
     },
     "execution_count": 201,
     "metadata": {},
     "output_type": "execute_result"
    }
   ],
   "source": [
    "best_lgbm.fit(X_train, y_train)"
   ]
  },
  {
   "cell_type": "code",
   "execution_count": null,
   "id": "781f5b35",
   "metadata": {},
   "outputs": [],
   "source": [
    "y_pred_best = best_lgbm.predict(X_test)"
   ]
  },
  {
   "cell_type": "code",
   "execution_count": null,
   "id": "e2db97d8",
   "metadata": {},
   "outputs": [],
   "source": [
    "precision_score_lgbm = precision_score(y_test, y_pred_best)\n",
    "accuracy_score_lgbm = accuracy_score(y_test, y_pred_best)\n",
    "recall_score_lgbm = recall_score(y_test, y_pred_best)\n",
    "f1_score_lgbm = f1_score(y_test, y_pred_best)\n",
    "roc_auc_score_lgbm = roc_auc_score(y_test, y_pred_best)"
   ]
  },
  {
   "cell_type": "code",
   "execution_count": null,
   "id": "d88cd24d",
   "metadata": {},
   "outputs": [
    {
     "data": {
      "text/plain": [
       "<sklearn.metrics._plot.confusion_matrix.ConfusionMatrixDisplay at 0x1e2bba53350>"
      ]
     },
     "execution_count": 204,
     "metadata": {},
     "output_type": "execute_result"
    },
    {
     "data": {
      "image/png": "[encoded data removed]",
      "text/plain": [
       "<Figure size 640x480 with 2 Axes>"
      ]
     },
     "metadata": {},
     "output_type": "display_data"
    }
   ],
   "source": [
    "ConfusionMatrixDisplay.from_estimator(best_lgbm, X_test, y_test, values_format='d')"
   ]
  },
  {
   "cell_type": "code",
   "execution_count": null,
   "id": "23967b8c",
   "metadata": {},
   "outputs": [
    {
     "data": {
      "text/plain": [
       "0.6674259681093394"
      ]
     },
     "execution_count": 205,
     "metadata": {},
     "output_type": "execute_result"
    }
   ],
   "source": [
    "accuracy_score_lgbm"
   ]
  },
  {
   "cell_type": "code",
   "execution_count": null,
   "id": "529404e2",
   "metadata": {},
   "outputs": [
    {
     "data": {
      "text/plain": [
       "0.6884422110552764"
      ]
     },
     "execution_count": 206,
     "metadata": {},
     "output_type": "execute_result"
    }
   ],
   "source": [
    "precision_score_lgbm"
   ]
  },
  {
   "cell_type": "code",
   "execution_count": null,
   "id": "264442a2",
   "metadata": {},
   "outputs": [
    {
     "data": {
      "text/plain": [
       "0.7949709864603481"
      ]
     },
     "execution_count": 207,
     "metadata": {},
     "output_type": "execute_result"
    }
   ],
   "source": [
    "recall_score_lgbm"
   ]
  },
  {
   "cell_type": "code",
   "execution_count": null,
   "id": "eafa406e",
   "metadata": {},
   "outputs": [
    {
     "data": {
      "text/plain": [
       "0.7378815080789947"
      ]
     },
     "execution_count": 208,
     "metadata": {},
     "output_type": "execute_result"
    }
   ],
   "source": [
    "f1_score_lgbm"
   ]
  },
  {
   "cell_type": "code",
   "execution_count": null,
   "id": "ff00b354",
   "metadata": {},
   "outputs": [
    {
     "data": {
      "text/plain": [
       "0.6398677646983182"
      ]
     },
     "execution_count": 209,
     "metadata": {},
     "output_type": "execute_result"
    }
   ],
   "source": [
    "roc_auc_score_lgbm"
   ]
  },
  {
   "cell_type": "markdown",
   "id": "ff636eb1",
   "metadata": {},
   "source": [
    "###  Resumo das métricas de cada modelo\n"
   ]
  },
  {
   "cell_type": "markdown",
   "id": "266276f5",
   "metadata": {},
   "source": [
    "## Melhor modelo:"
   ]
  },
  {
   "cell_type": "markdown",
   "id": "266276f5",
   "metadata": {},
   "source": [
    "### Feature importance"
   ]
  },
  {
   "cell_type": "code",
   "execution_count": null,
   "id": "17562498",
   "metadata": {},
   "outputs": [],
   "source": [
    "data = {'lr': [precision_score_lr, accuracy_score_lr, recall_score_lr, f1_score_lr, roc_auc_score_lr],\n",
    "        'svm': [precision_score_svm, accuracy_score_svm, recall_score_svm, f1_score_svm, roc_auc_score_svm],\n",
    "        'dt': [precision_score_dt, accuracy_score_dt, recall_score_dt, f1_score_dt, roc_auc_score_dt],\n",
    "        'rf': [precision_score_rf, accuracy_score_rf, recall_score_rf, f1_score_rf, roc_auc_score_rf],\n",
    "        'xgb': [precision_score_xgb, accuracy_score_xgb, recall_score_xgb, f1_score_xgb, roc_auc_score_xgb],\n",
    "        'lgbm': [precision_score_lgbm, accuracy_score_lgbm, recall_score_lgbm, f1_score_lgbm, roc_auc_score_lgbm]}"
   ]
  },
  {
   "cell_type": "code",
   "execution_count": null,
   "id": "8a8a722f",
   "metadata": {},
   "outputs": [],
   "source": [
    "df_models = pd.DataFrame.from_dict(data, orient='index', columns=['precision', 'accuracy', 'recall', 'f1', 'roc_auc']).round(2)"
   ]
  },
  {
   "cell_type": "code",
   "execution_count": null,
   "id": "119bc18d",
   "metadata": {},
   "outputs": [
    {
     "data": {
      "text/html": [
       "<div>\n",
       "<style scoped>\n",
       "    .dataframe tbody tr th:only-of-type {\n",
       "        vertical-align: middle;\n",
       "    }\n",
       "\n",
       "    .dataframe tbody tr th {\n",
       "        vertical-align: top;\n",
       "    }\n",
       "\n",
       "    .dataframe thead th {\n",
       "        text-align: right;\n",
       "    }\n",
       "</style>\n",
       "<table border=\"1\" class=\"dataframe\">\n",
       "  <thead>\n",
       "    <tr style=\"text-align: right;\">\n",
       "      <th></th>\n",
       "      <th>precision</th>\n",
       "      <th>accuracy</th>\n",
       "      <th>recall</th>\n",
       "      <th>f1</th>\n",
       "      <th>roc_auc</th>\n",
       "    </tr>\n",
       "  </thead>\n",
       "  <tbody>\n",
       "    <tr>\n",
       "      <th>lr</th>\n",
       "      <td>0.70</td>\n",
       "      <td>0.67</td>\n",
       "      <td>0.77</td>\n",
       "      <td>0.73</td>\n",
       "      <td>0.64</td>\n",
       "    </tr>\n",
       "    <tr>\n",
       "      <th>svm</th>\n",
       "      <td>0.68</td>\n",
       "      <td>0.67</td>\n",
       "      <td>0.82</td>\n",
       "      <td>0.74</td>\n",
       "      <td>0.63</td>\n",
       "    </tr>\n",
       "    <tr>\n",
       "      <th>dt</th>\n",
       "      <td>0.73</td>\n",
       "      <td>0.66</td>\n",
       "      <td>0.66</td>\n",
       "      <td>0.69</td>\n",
       "      <td>0.66</td>\n",
       "    </tr>\n",
       "    <tr>\n",
       "      <th>rf</th>\n",
       "      <td>0.68</td>\n",
       "      <td>0.66</td>\n",
       "      <td>0.82</td>\n",
       "      <td>0.74</td>\n",
       "      <td>0.63</td>\n",
       "    </tr>\n",
       "    <tr>\n",
       "      <th>xgb</th>\n",
       "      <td>0.69</td>\n",
       "      <td>0.67</td>\n",
       "      <td>0.79</td>\n",
       "      <td>0.74</td>\n",
       "      <td>0.64</td>\n",
       "    </tr>\n",
       "    <tr>\n",
       "      <th>lgbm</th>\n",
       "      <td>0.69</td>\n",
       "      <td>0.67</td>\n",
       "      <td>0.79</td>\n",
       "      <td>0.74</td>\n",
       "      <td>0.64</td>\n",
       "    </tr>\n",
       "  </tbody>\n",
       "</table>\n",
       "</div>"
      ],
      "text/plain": [
       "      precision  accuracy  recall    f1  roc_auc\n",
       "lr         0.70      0.67    0.77  0.73     0.64\n",
       "svm        0.68      0.67    0.82  0.74     0.63\n",
       "dt         0.73      0.66    0.66  0.69     0.66\n",
       "rf         0.68      0.66    0.82  0.74     0.63\n",
       "xgb        0.69      0.67    0.79  0.74     0.64\n",
       "lgbm       0.69      0.67    0.79  0.74     0.64"
      ]
     },
     "execution_count": 212,
     "metadata": {},
     "output_type": "execute_result"
    }
   ],
   "source": [
    "df_models"
   ]
  },
  {
   "cell_type": "markdown",
   "id": "65688fd8",
   "metadata": {},
   "source": [
    "Todos os modelos testados possuem métricas de avaliação muito semelhantes. Como o modelo de **regressão linear** é o mais fácil de ser entendido e explicado, e também possui a maior precisão, esse será o modelo final escolhido."
   ]
  },
  {
   "cell_type": "markdown",
   "id": "65688fd8",
   "metadata": {},
   "source": [
    "## Verificando os pesos que o modelo atribuiu para cada variável"
   ]
  },
  {
   "cell_type": "code",
   "execution_count": null,
   "id": "4293c898",
   "metadata": {},
   "outputs": [
    {
     "data": {
      "image/png": "[encoded data removed]",
      "text/plain": [
       "<Figure size 640x480 with 1 Axes>"
      ]
     },
     "metadata": {},
     "output_type": "display_data"
    }
   ],
   "source": [
    "# Get the coefficients for each feature\n",
    "coefs = pd.Series(best_lr_pipeline[1].coef_[0], index=X.columns)\n",
    "\n",
    "# Plot the coefficients\n",
    "coefs.plot(kind='bar')\n",
    "plt.show()"
   ]
  },
  {
   "cell_type": "code",
   "execution_count": null,
   "id": "f5b23978",
   "metadata": {},
   "outputs": [
    {
     "data": {
      "text/html": [
       "<style>#sk-container-id-14 {color: black;}#sk-container-id-14 pre{padding: 0;}#sk-container-id-14 div.sk-toggleable {background-color: white;}#sk-container-id-14 label.sk-toggleable__label {cursor: pointer;display: block;width: 100%;margin-bottom: 0;padding: 0.3em;box-sizing: border-box;text-align: center;}#sk-container-id-14 label.sk-toggleable__label-arrow:before {content: \"▸\";float: left;margin-right: 0.25em;color: #696969;}#sk-container-id-14 label.sk-toggleable__label-arrow:hover:before {color: black;}#sk-container-id-14 div.sk-estimator:hover label.sk-toggleable__label-arrow:before {color: black;}#sk-container-id-14 div.sk-toggleable__content {max-height: 0;max-width: 0;overflow: hidden;text-align: left;background-color: #f0f8ff;}#sk-container-id-14 div.sk-toggleable__content pre {margin: 0.2em;color: black;border-radius: 0.25em;background-color: #f0f8ff;}#sk-container-id-14 input.sk-toggleable__control:checked~div.sk-toggleable__content {max-height: 200px;max-width: 100%;overflow: auto;}#sk-container-id-14 input.sk-toggleable__control:checked~label.sk-toggleable__label-arrow:before {content: \"▾\";}#sk-container-id-14 div.sk-estimator input.sk-toggleable__control:checked~label.sk-toggleable__label {background-color: #d4ebff;}#sk-container-id-14 div.sk-label input.sk-toggleable__control:checked~label.sk-toggleable__label {background-color: #d4ebff;}#sk-container-id-14 input.sk-hidden--visually {border: 0;clip: rect(1px 1px 1px 1px);clip: rect(1px, 1px, 1px, 1px);height: 1px;margin: -1px;overflow: hidden;padding: 0;position: absolute;width: 1px;}#sk-container-id-14 div.sk-estimator {font-family: monospace;background-color: #f0f8ff;border: 1px dotted black;border-radius: 0.25em;box-sizing: border-box;margin-bottom: 0.5em;}#sk-container-id-14 div.sk-estimator:hover {background-color: #d4ebff;}#sk-container-id-14 div.sk-parallel-item::after {content: \"\";width: 100%;border-bottom: 1px solid gray;flex-grow: 1;}#sk-container-id-14 div.sk-label:hover label.sk-toggleable__label {background-color: #d4ebff;}#sk-container-id-14 div.sk-serial::before {content: \"\";position: absolute;border-left: 1px solid gray;box-sizing: border-box;top: 0;bottom: 0;left: 50%;z-index: 0;}#sk-container-id-14 div.sk-serial {display: flex;flex-direction: column;align-items: center;background-color: white;padding-right: 0.2em;padding-left: 0.2em;position: relative;}#sk-container-id-14 div.sk-item {position: relative;z-index: 1;}#sk-container-id-14 div.sk-parallel {display: flex;align-items: stretch;justify-content: center;background-color: white;position: relative;}#sk-container-id-14 div.sk-item::before, #sk-container-id-14 div.sk-parallel-item::before {content: \"\";position: absolute;border-left: 1px solid gray;box-sizing: border-box;top: 0;bottom: 0;left: 50%;z-index: -1;}#sk-container-id-14 div.sk-parallel-item {display: flex;flex-direction: column;z-index: 1;position: relative;background-color: white;}#sk-container-id-14 div.sk-parallel-item:first-child::after {align-self: flex-end;width: 50%;}#sk-container-id-14 div.sk-parallel-item:last-child::after {align-self: flex-start;width: 50%;}#sk-container-id-14 div.sk-parallel-item:only-child::after {width: 0;}#sk-container-id-14 div.sk-dashed-wrapped {border: 1px dashed gray;margin: 0 0.4em 0.5em 0.4em;box-sizing: border-box;padding-bottom: 0.4em;background-color: white;}#sk-container-id-14 div.sk-label label {font-family: monospace;font-weight: bold;display: inline-block;line-height: 1.2em;}#sk-container-id-14 div.sk-label-container {text-align: center;}#sk-container-id-14 div.sk-container {/* jupyter's `normalize.less` sets `[hidden] { display: none; }` but bootstrap.min.css set `[hidden] { display: none !important; }` so we also need the `!important` here to be able to override the default hidden behavior on the sphinx rendered scikit-learn.org. See: https://github.com/scikit-learn/scikit-learn/issues/21755 */display: inline-block !important;position: relative;}#sk-container-id-14 div.sk-text-repr-fallback {display: none;}</style><div id=\"sk-container-id-14\" class=\"sk-top-container\"><div class=\"sk-text-repr-fallback\"><pre>Pipeline(steps=[(&#x27;numeric_scaler&#x27;,\n",
       "                 SklearnTransformerWrapper(transformer=StandardScaler(),\n",
       "                                           variables=[&#x27;gf_rolling_ratio&#x27;,\n",
       "                                                      &#x27;ga_rolling_ratio&#x27;,\n",
       "                                                      &#x27;points_last_season_ratio&#x27;,\n",
       "                                                      &#x27;pont_rolling_ratio&#x27;,\n",
       "                                                      &#x27;last_2_results&#x27;])),\n",
       "                (&#x27;logit&#x27;, LogisticRegression(C=0.01))])</pre><b>In a Jupyter environment, please rerun this cell to show the HTML representation or trust the notebook. <br />On GitHub, the HTML representation is unable to render, please try loading this page with nbviewer.org.</b></div><div class=\"sk-container\" hidden><div class=\"sk-item sk-dashed-wrapped\"><div class=\"sk-label-container\"><div class=\"sk-label sk-toggleable\"><input class=\"sk-toggleable__control sk-hidden--visually\" id=\"sk-estimator-id-34\" type=\"checkbox\" ><label for=\"sk-estimator-id-34\" class=\"sk-toggleable__label sk-toggleable__label-arrow\">Pipeline</label><div class=\"sk-toggleable__content\"><pre>Pipeline(steps=[(&#x27;numeric_scaler&#x27;,\n",
       "                 SklearnTransformerWrapper(transformer=StandardScaler(),\n",
       "                                           variables=[&#x27;gf_rolling_ratio&#x27;,\n",
       "                                                      &#x27;ga_rolling_ratio&#x27;,\n",
       "                                                      &#x27;points_last_season_ratio&#x27;,\n",
       "                                                      &#x27;pont_rolling_ratio&#x27;,\n",
       "                                                      &#x27;last_2_results&#x27;])),\n",
       "                (&#x27;logit&#x27;, LogisticRegression(C=0.01))])</pre></div></div></div><div class=\"sk-serial\"><div class=\"sk-item sk-dashed-wrapped\"><div class=\"sk-label-container\"><div class=\"sk-label sk-toggleable\"><input class=\"sk-toggleable__control sk-hidden--visually\" id=\"sk-estimator-id-35\" type=\"checkbox\" ><label for=\"sk-estimator-id-35\" class=\"sk-toggleable__label sk-toggleable__label-arrow\">numeric_scaler: SklearnTransformerWrapper</label><div class=\"sk-toggleable__content\"><pre>SklearnTransformerWrapper(transformer=StandardScaler(),\n",
       "                          variables=[&#x27;gf_rolling_ratio&#x27;, &#x27;ga_rolling_ratio&#x27;,\n",
       "                                     &#x27;points_last_season_ratio&#x27;,\n",
       "                                     &#x27;pont_rolling_ratio&#x27;, &#x27;last_2_results&#x27;])</pre></div></div></div><div class=\"sk-parallel\"><div class=\"sk-parallel-item\"><div class=\"sk-item\"><div class=\"sk-label-container\"><div class=\"sk-label sk-toggleable\"><input class=\"sk-toggleable__control sk-hidden--visually\" id=\"sk-estimator-id-36\" type=\"checkbox\" ><label for=\"sk-estimator-id-36\" class=\"sk-toggleable__label sk-toggleable__label-arrow\">transformer: StandardScaler</label><div class=\"sk-toggleable__content\"><pre>StandardScaler()</pre></div></div></div><div class=\"sk-serial\"><div class=\"sk-item\"><div class=\"sk-estimator sk-toggleable\"><input class=\"sk-toggleable__control sk-hidden--visually\" id=\"sk-estimator-id-37\" type=\"checkbox\" ><label for=\"sk-estimator-id-37\" class=\"sk-toggleable__label sk-toggleable__label-arrow\">StandardScaler</label><div class=\"sk-toggleable__content\"><pre>StandardScaler()</pre></div></div></div></div></div></div></div></div><div class=\"sk-item\"><div class=\"sk-estimator sk-toggleable\"><input class=\"sk-toggleable__control sk-hidden--visually\" id=\"sk-estimator-id-38\" type=\"checkbox\" ><label for=\"sk-estimator-id-38\" class=\"sk-toggleable__label sk-toggleable__label-arrow\">LogisticRegression</label><div class=\"sk-toggleable__content\"><pre>LogisticRegression(C=0.01)</pre></div></div></div></div></div></div></div>"
      ],
      "text/plain": [
       "Pipeline(steps=[('numeric_scaler',\n",
       "                 SklearnTransformerWrapper(transformer=StandardScaler(),\n",
       "                                           variables=['gf_rolling_ratio',\n",
       "                                                      'ga_rolling_ratio',\n",
       "                                                      'points_last_season_ratio',\n",
       "                                                      'pont_rolling_ratio',\n",
       "                                                      'last_2_results'])),\n",
       "                ('logit', LogisticRegression(C=0.01))])"
      ]
     },
     "execution_count": 214,
     "metadata": {},
     "output_type": "execute_result"
    }
   ],
   "source": [
    "best_lr_pipeline"
   ]
  },
  {
   "cell_type": "code",
   "execution_count": null,
   "id": "6a441759",
   "metadata": {},
   "outputs": [
    {
     "data": {
      "text/plain": [
       "['best_lr.pkl']"
      ]
     },
     "execution_count": 215,
     "metadata": {},
     "output_type": "execute_result"
    }
   ],
   "source": [
    "# salvando o modelo de ML\n",
    "import joblib\n",
    "\n",
    "joblib.dump(best_lr_pipeline, \"best_lr.pkl\")"
   ]
  },
  {
   "cell_type": "code",
   "execution_count": null,
   "id": "6982e4e5",
   "metadata": {},
   "outputs": [],
   "source": [
    "# imports\n",
    "import base64\n",
    "import requests\n",
    "import pandas as pd\n",
    "import time\n",
    "from bs4 import BeautifulSoup\n",
    "import warnings\n",
    "from tqdm import tqdm\n",
    "from selenium.webdriver.common.by import By\n",
    "from selenium import webdriver\n",
    "from selenium.webdriver.chrome.service import Service\n",
    "from webdriver_manager.chrome import ChromeDriverManager\n",
    "import os\n",
    "import base64\n",
    "import joblib\n",
    "\n",
    "warnings.filterwarnings(\"ignore\")"
   ]
  },
  {
   "cell_type": "code",
   "execution_count": null,
   "id": "48cea30b",
   "metadata": {},
   "outputs": [],
   "source": [
    "\n",
    "service=Service(ChromeDriverManager().install())\n",
    "\n",
    "# Instanciando o Objeto ChromeOptions\n",
    "options = webdriver.ChromeOptions()\n",
    "\n",
    "# Passando algumas opções para esse ChromeOptions\n",
    "options.add_argument('--headless')\n",
    "options.add_argument('--no-sandbox')\n",
    "options.add_argument('--disable-dev-shm-usage')\n",
    "\n",
    "# Criação do WebDriver do Chrome\n",
    "wd_Chrome = webdriver.Chrome(service=service, options=options)\n",
    "\n",
    "# Com o WebDrive a gente consegue a pedir a página (URL)\n",
    "wd_Chrome.get(\"https://www.flashscore.com/\")\n"
   ]
  },
  {
   "cell_type": "code",
   "execution_count": null,
   "id": "e194f5f5",
   "metadata": {},
   "outputs": [],
   "source": [
    "# Fechando Botão de Cookies\n",
    "try:\n",
    "    button_cookies = wd_Chrome.find_element(By.CSS_SELECTOR,'button#onetrust-accept-btn-handler')\n",
    "    button_cookies.click()\n",
    "except:\n",
    "    pass\n",
    "\n",
    "ids = []  # create an empty list to store IDs\n",
    "\n",
    "time.sleep(5)\n",
    "for i in range(2):\n",
    "\n",
    "    # jogos de hoje\n",
    "\n",
    "    # Pegando o ID dos Jogos\n",
    "    id_jogos = []\n",
    "    jogos = wd_Chrome.find_elements(By.CSS_SELECTOR,'div.event__match--scheduled')\n",
    "\n",
    "    for i in jogos:\n",
    "        id_jogos.append(i.get_attribute(\"id\"))\n",
    "\n",
    "    # Exemplo de ID de um jogo: 'g_1_Gb7buXVt'    \n",
    "    id_jogos = [i[4:] for i in id_jogos]\n",
    "    \n",
    "    ids.append(id_jogos)\n",
    "\n",
    "    # Selecionando o dia de amanhã\n",
    "    wd_Chrome.find_element(By.CSS_SELECTOR,'button.calendar__navigation--tomorrow').click()\n",
    "    time.sleep(3)\n",
    "        \n",
    "    i=+1\n",
    "\n",
    "jogo = {'Date':[],'Time':[],'Country':[],'League':[],'Home':[],'Away':[],'Odds_H':[],'Odds_D':[],'Odds_A':[]}    \n",
    "\n",
    "final_ids = []\n",
    "for sublist in ids:\n",
    "    final_ids.extend(sublist)\n"
   ]
  },
  {
   "cell_type": "code",
   "execution_count": null,
   "id": "68752a30",
   "metadata": {},
   "outputs": [
    {
     "data": {
      "text/plain": [
       "['vJe1ovS2',\n",
       " '8bex28MF',\n",
       " 'QwMYsmVq',\n",
       " 'U7dY2l79',\n",
       " 'QVVqd7km',\n",
       " 'EwmSwQZI',\n",
       " 'KhVmeR4g',\n",
       " 'jsalzxG2',\n",
       " 'lQfJHuFF',\n",
       " 'Ovinx7da',\n",
       " 'zoZ19HMe',\n",
       " 'zaEzOGyk',\n",
       " 'rmfNGaUL',\n",
       " 'txFWOdMr',\n",
       " '6LcennXT',\n",
       " '8UqNs6uo',\n",
       " 'dGZh1Pre',\n",
       " 'WhpwwzcE',\n",
       " 'Ol86L7Rt',\n",
       " '2u7AKRtm',\n",
       " 'pferGZMr',\n",
       " 'xxA5pYu9',\n",
       " 'xz5c3nnl',\n",
       " 'rBQSzd5U',\n",
       " 'zXki5RKA',\n",
       " 'tAjm6754',\n",
       " 'YP4d2P4T',\n",
       " 'ENle4ozH',\n",
       " 'EwwJJQZ3',\n",
       " 'p4YEK6Kc',\n",
       " '48eSd3Sj',\n",
       " '6DZALn5i',\n",
       " 'fZ5h35kN',\n",
       " 'j5iOcqDp',\n",
       " 'YgpTsYut',\n",
       " 'K87LK1vp',\n",
       " '2Zypvju5',\n",
       " 'lrCPJLgj',\n",
       " '8CxtuWPb',\n",
       " '6ouIHICH',\n",
       " '2kQQYRQS',\n",
       " '6NWHzldG',\n",
       " 'M9azElG2',\n",
       " 'GWGuO7bJ',\n",
       " 'betQVJHP',\n",
       " 'jmYiRwQt',\n",
       " 'K4sMWa2J',\n",
       " 'UwXeQcum',\n",
       " 'C2M0PHfg',\n",
       " 'WCbbrdcb',\n",
       " 'Ey4gqxrh',\n",
       " 'zo5kpISo',\n",
       " 'A3c2sGC4',\n",
       " '4Qd6tzSA',\n",
       " 'jXHOdLVP',\n",
       " 'rP9jhuvs',\n",
       " 'CtJKc1GJ',\n",
       " '0vJXH3wR',\n",
       " 'U9VedZQ2',\n",
       " 'rDsdFFxI',\n",
       " 'OQFIWG7h',\n",
       " 'U3GEXdhn',\n",
       " 'C6OZcLEG',\n",
       " '4nAnzfR8',\n",
       " 'Gvg5rtFT',\n",
       " 'Qk0horVA',\n",
       " 'rRWI13Fi',\n",
       " '8YHrdaqT',\n",
       " 'jBMVnVHq',\n",
       " '4Ex4Fjfg',\n",
       " 'MkmaGWvm',\n",
       " 'f75w0eiP',\n",
       " 'h2RfyCEO',\n",
       " 'Uad5eFat',\n",
       " 'zHo7gOBb',\n",
       " 'n7ZqbUnO',\n",
       " 'QcYmcl2U',\n",
       " '2J9gIXXu',\n",
       " 'UqKDD9nB',\n",
       " '04SdHimn',\n",
       " 'AZNvRg2C',\n",
       " 'OpS8mYe0',\n",
       " 'IaRnPXWO',\n",
       " 'lKe1reXn',\n",
       " 'rVrTcZKp',\n",
       " '4WPGTGuK',\n",
       " 'hdMCUdQD',\n",
       " 'rRvM7ZI0',\n",
       " 'MBnu9tmC',\n",
       " 'WtUVV3fP',\n",
       " 'rLmyAMX5',\n",
       " 'YknUM0li',\n",
       " 'tMxkIx3M',\n",
       " 'Muftqwl6',\n",
       " 'fqkz5KAP',\n",
       " 'xEos1Pjt',\n",
       " 'Gz9747OQ',\n",
       " '8UwGc9RH',\n",
       " 'O0QKRmtb']"
      ]
     },
     "execution_count": 6,
     "metadata": {},
     "output_type": "execute_result"
    }
   ],
   "source": [
    "final_ids"
   ]
  },
  {
   "cell_type": "code",
   "execution_count": null,
   "id": "39e254ad",
   "metadata": {},
   "outputs": [
    {
     "name": "stderr",
     "output_type": "stream",
     "text": [
      "  0%|          | 0/99 [00:04<?, ?it/s]\n"
     ]
    },
    {
     "ename": "NameError",
     "evalue": "name 'Odds_H' is not defined",
     "output_type": "error",
     "traceback": [
      "\u001b[1;31m---------------------------------------------------------------------------\u001b[0m",
      "\u001b[1;31mNameError\u001b[0m                                 Traceback (most recent call last)",
      "Cell \u001b[1;32mIn[8], line 34\u001b[0m\n\u001b[0;32m     31\u001b[0m \u001b[38;5;28;01mexcept\u001b[39;00m:\n\u001b[0;32m     32\u001b[0m     \u001b[38;5;28;01mpass\u001b[39;00m\n\u001b[1;32m---> 34\u001b[0m \u001b[38;5;28mprint\u001b[39m(Date,Time,Country,League,Home,Away,\u001b[43mOdds_H\u001b[49m,Odds_D,Odds_A)\n",
      "\u001b[1;31mNameError\u001b[0m: name 'Odds_H' is not defined"
     ]
    }
   ],
   "source": [
    "# Pegando as Informacoes Básicas do Jogo\n",
    "for link in tqdm(final_ids, total=len(final_ids)):\n",
    "    wd_Chrome.get(f'https://www.flashscore.com/match/{link}/#/match-summary')\n",
    "    \n",
    "    try:\n",
    "        Date = wd_Chrome.find_element(By.CSS_SELECTOR,'div.duelParticipant__startTime').text.split(' ')[0]\n",
    "        Time = wd_Chrome.find_element(By.CSS_SELECTOR,'div.duelParticipant__startTime').text.split(' ')[1]\n",
    "        Country = wd_Chrome.find_element(By.CSS_SELECTOR,'span.tournamentHeader__country').text.split(':')[0]\n",
    "        League = wd_Chrome.find_element(By.CSS_SELECTOR,'span.tournamentHeader__country')\n",
    "        League = League.find_element(By.CSS_SELECTOR,'a').text\n",
    "        Home = wd_Chrome.find_element(By.CSS_SELECTOR,'div.duelParticipant__home')\n",
    "        Home = Home.find_element(By.CSS_SELECTOR,'div.participant__participantName').text\n",
    "        Away = wd_Chrome.find_element(By.CSS_SELECTOR,'div.duelParticipant__away')\n",
    "        Away = Away.find_element(By.CSS_SELECTOR,'div.participant__participantName').text\n",
    "    except:\n",
    "        pass\n",
    "    time.sleep(2)    \n",
    "# Match Odds\n",
    "    try:\n",
    "        wd_Chrome.get(f'https://www.flashscore.com/match/{link}/#/odds-comparison/1x2-odds/full-time')\n",
    "        time.sleep(2)\n",
    "        \n",
    "        linhas = wd_Chrome.find_elements(By.CSS_SELECTOR,'div.ui-table__row')\n",
    "        \n",
    "        for linha in linhas:\n",
    "                \n",
    "                Odds_H = linha.find_elements(By.CSS_SELECTOR,'a.oddsCell__odd')[0].text\n",
    "                Odds_D = linha.find_elements(By.CSS_SELECTOR,'a.oddsCell__odd')[1].text \n",
    "                Odds_A = linha.find_elements(By.CSS_SELECTOR,'a.oddsCell__odd')[2].text\n",
    "    except:\n",
    "        pass\n",
    "\n",
    "    print(Date,Time,Country,League,Home,Away,Odds_H,Odds_D,Odds_A)\n"
   ]
  },
  {
   "cell_type": "code",
   "execution_count": null,
   "id": "590d55a0",
   "metadata": {},
   "outputs": [],
   "source": []
  },
  {
   "cell_type": "code",
   "execution_count": null,
   "id": "e0a34fd9",
   "metadata": {},
   "outputs": [],
   "source": []
  },
  {
   "cell_type": "code",
   "execution_count": null,
   "id": "69543c8a",
   "metadata": {},
   "outputs": [],
   "source": [
    "jogos = wd_Chrome.find_elements(By.CSS_SELECTOR,'div.event__match--scheduled')"
   ]
  },
  {
   "cell_type": "code",
   "execution_count": null,
   "id": "a20e09a5",
   "metadata": {},
   "outputs": [
    {
     "name": "stdout",
     "output_type": "stream",
     "text": [
      "[<selenium.webdriver.remote.webelement.WebElement (session=\"e6b08ecd295fc7de5fd9e63a55e8d0ef\", element=\"9B3C710DCDD4EC1FD1C378FD6D648E25_element_52\")>]\n"
     ]
    }
   ],
   "source": [
    "print(jogos)"
   ]
  },
  {
   "cell_type": "code",
   "execution_count": null,
   "id": "d8442d5a",
   "metadata": {},
   "outputs": [],
   "source": [
    "wd_Chrome.get(f'https://www.flashscore.com/match/SO9d4oeI/#/odds-comparison/1x2-odds/full-time')"
   ]
  },
  {
   "cell_type": "code",
   "execution_count": null,
   "id": "c52e57f0",
   "metadata": {},
   "outputs": [],
   "source": [
    "linhas = wd_Chrome.find_elements(By.CSS_SELECTOR,'div.ui-table__row')"
   ]
  },
  {
   "cell_type": "code",
   "execution_count": null,
   "id": "5ada1866",
   "metadata": {},
   "outputs": [
    {
     "data": {
      "text/plain": [
       "[<selenium.webdriver.remote.webelement.WebElement (session=\"e6b08ecd295fc7de5fd9e63a55e8d0ef\", element=\"E11B46E39F205F389DE1B2EF9896ACAD_element_92\")>,\n",
       " <selenium.webdriver.remote.webelement.WebElement (session=\"e6b08ecd295fc7de5fd9e63a55e8d0ef\", element=\"E11B46E39F205F389DE1B2EF9896ACAD_element_93\")>,\n",
       " <selenium.webdriver.remote.webelement.WebElement (session=\"e6b08ecd295fc7de5fd9e63a55e8d0ef\", element=\"E11B46E39F205F389DE1B2EF9896ACAD_element_94\")>,\n",
       " <selenium.webdriver.remote.webelement.WebElement (session=\"e6b08ecd295fc7de5fd9e63a55e8d0ef\", element=\"E11B46E39F205F389DE1B2EF9896ACAD_element_95\")>,\n",
       " <selenium.webdriver.remote.webelement.WebElement (session=\"e6b08ecd295fc7de5fd9e63a55e8d0ef\", element=\"E11B46E39F205F389DE1B2EF9896ACAD_element_96\")>]"
      ]
     },
     "execution_count": 10,
     "metadata": {},
     "output_type": "execute_result"
    }
   ],
   "source": [
    "linhas"
   ]
  },
  {
   "cell_type": "code",
   "execution_count": null,
   "id": "c1964fe1",
   "metadata": {},
   "outputs": [
    {
     "data": {
      "text/plain": [
       "<selenium.webdriver.remote.webelement.WebElement (session=\"e6b08ecd295fc7de5fd9e63a55e8d0ef\", element=\"E11B46E39F205F389DE1B2EF9896ACAD_element_92\")>"
      ]
     },
     "execution_count": 11,
     "metadata": {},
     "output_type": "execute_result"
    }
   ],
   "source": [
    "linhas[0]"
   ]
  },
  {
   "cell_type": "code",
   "execution_count": null,
   "id": "b0b44d4b",
   "metadata": {},
   "outputs": [
    {
     "data": {
      "text/plain": [
       "'11.00'"
      ]
     },
     "execution_count": 14,
     "metadata": {},
     "output_type": "execute_result"
    }
   ],
   "source": [
    "linhas[0].find_elements(By.CSS_SELECTOR,'a.oddsCell__odd')[2].text"
   ]
  },
  {
   "cell_type": "code",
   "execution_count": null,
   "id": "56967dfd",
   "metadata": {},
   "outputs": [
    {
     "name": "stdout",
     "output_type": "stream",
     "text": [
      "1.25 5.85 12.50\n"
     ]
    }
   ],
   "source": [
    "try:\n",
    "    wd_Chrome.get(f'https://www.flashscore.com/match/SO9d4oeI/#/odds-comparison/1x2-odds/full-time')\n",
    "    time.sleep(2)\n",
    "    \n",
    "    linhas = wd_Chrome.find_elements(By.CSS_SELECTOR,'div.ui-table__row')\n",
    "    \n",
    "    for linha in linhas:\n",
    "            \n",
    "            Odds_H = linha.find_elements(By.CSS_SELECTOR,'a.oddsCell__odd')[0].text\n",
    "            Odds_D = linha.find_elements(By.CSS_SELECTOR,'a.oddsCell__odd')[1].text \n",
    "            Odds_A = linha.find_elements(By.CSS_SELECTOR,'a.oddsCell__odd')[2].text\n",
    "except:\n",
    "    pass\n",
    "\n",
    "print(Odds_H,Odds_D,Odds_A)"
   ]
  },
  {
   "cell_type": "code",
   "execution_count": null,
   "id": "d3c19d52",
   "metadata": {},
   "outputs": [],
   "source": [
    "# imports\n",
    "import base64\n",
    "from pickle import TRUE\n",
    "import requests\n",
    "import pandas as pd\n",
    "import requests\n",
    "import time\n",
    "from bs4 import BeautifulSoup\n",
    "import warnings\n",
    "from git import Repo\n",
    "from tqdm import tqdm\n",
    "from selenium.webdriver.common.by import By\n",
    "from selenium import webdriver\n",
    "from selenium.webdriver.chrome.service import Service\n",
    "from webdriver_manager.chrome import ChromeDriverManager\n",
    "import os\n",
    "import base64\n",
    "import joblib\n",
    "from io import BytesIO\n",
    "from github import Github\n",
    "from io import StringIO\n",
    "import creds\n",
    "\n",
    "warnings.filterwarnings(\"ignore\")"
   ]
  },
  {
   "cell_type": "code",
   "execution_count": null,
   "id": "b5755b7f",
   "metadata": {},
   "outputs": [],
   "source": [
    "# df_rolling\n",
    "url_df = 'https://github.com/alanhassan/soccerprediction/blob/main/df_rolling.csv?raw=true'\n",
    "data = requests.get(url_df).content\n",
    "df_rolling = pd.read_csv(BytesIO(data))\n",
    "\n",
    "# match_df_final\n",
    "url_df_l2r = 'https://github.com/alanhassan/soccerprediction/blob/main/match_df_final_all.csv?raw=true'\n",
    "data_l2r = requests.get(url_df_l2r).content\n",
    "match_df_final_all = pd.read_csv(BytesIO(data_l2r))\n",
    "\n",
    "#get ml model from github\n",
    "url_ml = 'https://github.com/alanhassan/soccerprediction/blob/main/best_lr.pkl?raw=true'\n",
    "\n",
    "file = BytesIO(requests.get(url_ml).content)\n",
    "\n",
    "ml = joblib.load(file)\n",
    "\n",
    "ml.fitted_ = True"
   ]
  },
  {
   "cell_type": "code",
   "execution_count": null,
   "id": "315d8e5c",
   "metadata": {},
   "outputs": [],
   "source": [
    "# funções \n",
    "# func home\n",
    "def home(df, team):\n",
    "    df = df.sort_values(by=['date'])\n",
    "    df = df[df['home'] == f'{team}'][-1:].drop(columns = ['date', 'comp', 'home', 'away',\n",
    "                                                            'gf_rolling_away', 'ga_rolling_away',\n",
    "                                                            'pont_rolling_away', 'Points last season_away'\n",
    "                                                            ], inplace=False)\n",
    "    df.rename(columns={\"gf_rolling_home\": \"gf_rolling\",\n",
    "                            \"ga_rolling_home\": \"ga_rolling\",\n",
    "                            \"pont_rolling_home\": \"pont_rolling\",\n",
    "                            \"Points last season_home\": \"Points last season\"}, inplace=True)\n",
    "    df = df[['Points last season', 'pont_rolling', 'gf_rolling', 'ga_rolling']].reset_index(drop=True)\n",
    "    return df\n",
    "\n",
    "# func away\n",
    "def away(df, team):\n",
    "    df = df.sort_values(by=['date'])\n",
    "    df = df[df['away'] == f'{team}'][-1:].drop(columns = ['date', 'comp', 'home', 'away',\n",
    "                                                            'gf_rolling_home', 'ga_rolling_home',\n",
    "                                                            'pont_rolling_home', 'Points last season_home'\n",
    "                                                            ], inplace=False)\n",
    "    df.rename(columns={\"gf_rolling_away\": \"gf_rolling\",\n",
    "                            \"ga_rolling_away\": \"ga_rolling\",\n",
    "                            \"pont_rolling_away\": \"pont_rolling\",\n",
    "                            \"Points last season_away\": \"Points last season\"}, inplace=True)\n",
    "    df = df[['Points last season', 'pont_rolling', 'gf_rolling', 'ga_rolling']].reset_index(drop=True)\n",
    "    df['pont_rolling'].replace(0, 1, inplace=True)\n",
    "    df['gf_rolling'].replace(0, 1, inplace=True)\n",
    "    df['ga_rolling'].replace(0, 1, inplace=True)\n",
    "    return df\n",
    "\n",
    "# func ratio\n",
    "def ratio(df, team1, team2):\n",
    "    df = home(df, f'{team1}')/away(df, f'{team2}')\n",
    "    df.rename(columns={\"Points last season\": \"points_last_season_ratio\",\n",
    "                        \"pont_rolling\": \"pont_rolling_ratio\",\n",
    "                        \"gf_rolling\": \"gf_rolling_ratio\",\n",
    "                        \"ga_rolling\": \"ga_rolling_ratio\"}, inplace=True)\n",
    "    return df\n",
    "\n",
    "# func for 'last_2_results'\n",
    "def last_2_results(df, team1, team2):\n",
    "    df = match_df_final_all.sort_values(by='date').reset_index(drop=True)\n",
    "    length = df[(df['team'] == f'{team1}') & (df['opponent'] == f'{team2}')].shape[0]\n",
    "    if length >= 2:\n",
    "        last_2_results_sum = df[(df['team'] == f'{team1}') & (df['opponent'] == f'{team2}')].iloc[-1]['last_2_results_sum']\n",
    "    elif length == 1:\n",
    "        last_2_results_sum = df[(df['team'] == f'{team1}') & (df['opponent'] == f'{team2}')].iloc[-1]['pont']\n",
    "    elif length == 0:\n",
    "        last_2_results_sum = 1\n",
    "    return last_2_results_sum\n",
    "\n",
    "\n",
    "service=Service(ChromeDriverManager().install())\n",
    "\n",
    "# Instanciando o Objeto ChromeOptions\n",
    "options = webdriver.ChromeOptions()\n",
    "\n",
    "# Passando algumas opções para esse ChromeOptions\n",
    "options.add_argument('--headless')\n",
    "options.add_argument('--no-sandbox')\n",
    "options.add_argument('--disable-dev-shm-usage')\n",
    "\n",
    "# Criação do WebDriver do Chrome\n",
    "wd_Chrome = webdriver.Chrome(service=service, options=options)\n",
    "\n",
    "# Com o WebDrive a gente consegue a pedir a página (URL)\n",
    "wd_Chrome.get(\"https://www.flashscore.com/\")"
   ]
  },
  {
   "cell_type": "code",
   "execution_count": null,
   "id": "14e4726e",
   "metadata": {},
   "outputs": [
    {
     "name": "stderr",
     "output_type": "stream",
     "text": [
      "  0%|          | 1/215 [00:03<12:55,  3.62s/it]"
     ]
    },
    {
     "name": "stdout",
     "output_type": "stream",
     "text": [
      "25.12.2023 13:00 BAHRAIN PREMIER LEAGUE - ROUND 10 Al Riffa Busaiteen 1.28 5.00 8.50\n"
     ]
    },
    {
     "name": "stderr",
     "output_type": "stream",
     "text": [
      "  1%|          | 2/215 [00:07<12:53,  3.63s/it]"
     ]
    },
    {
     "name": "stdout",
     "output_type": "stream",
     "text": [
      "25.12.2023 13:00 BAHRAIN PREMIER LEAGUE - ROUND 10 Al-Shabbab Al-Ahli Manama 2.90 3.50 2.15\n"
     ]
    },
    {
     "name": "stderr",
     "output_type": "stream",
     "text": [
      "  1%|▏         | 3/215 [00:10<12:54,  3.65s/it]"
     ]
    },
    {
     "name": "stdout",
     "output_type": "stream",
     "text": [
      "25.12.2023 14:00 EGYPT PREMIER LEAGUE - ROUND 10 Baladiyat El Mahalla National Bank Egypt 2.55 3.20 2.65\n"
     ]
    },
    {
     "name": "stderr",
     "output_type": "stream",
     "text": [
      "  2%|▏         | 4/215 [00:14<12:50,  3.65s/it]"
     ]
    },
    {
     "name": "stdout",
     "output_type": "stream",
     "text": [
      "25.12.2023 14:00 EGYPT SUPER CUP - SEMI-FINALS Al Ahly Ceramica Cleopatra 1.57 3.75 5.50\n"
     ]
    },
    {
     "name": "stderr",
     "output_type": "stream",
     "text": [
      "  3%|▎         | 7/215 [00:23<11:25,  3.29s/it]"
     ]
    },
    {
     "name": "stdout",
     "output_type": "stream",
     "text": [
      "25.12.2023 14:00 ISRAEL LEUMIT LEAGUE - ROUND 14 Ihud Bnei Shfaram Ramat Hasharon 2.35 3.60 2.55\n"
     ]
    },
    {
     "name": "stderr",
     "output_type": "stream",
     "text": [
      "  4%|▎         | 8/215 [00:27<11:35,  3.36s/it]"
     ]
    },
    {
     "name": "stdout",
     "output_type": "stream",
     "text": [
      "25.12.2023 14:00 ISRAEL LEUMIT LEAGUE - ROUND 14 Kiryat Shmona M. Herzliya 1.50 3.75 6.00\n"
     ]
    },
    {
     "name": "stderr",
     "output_type": "stream",
     "text": [
      "  4%|▍         | 9/215 [00:30<11:27,  3.34s/it]"
     ]
    },
    {
     "name": "stdout",
     "output_type": "stream",
     "text": [
      "25.12.2023 14:00 ISRAEL LEUMIT LEAGUE - ROUND 14 Maccabi Jaffa Bnei Yehuda 2.70 3.50 2.25\n"
     ]
    },
    {
     "name": "stderr",
     "output_type": "stream",
     "text": [
      "  6%|▌         | 12/215 [00:42<12:18,  3.64s/it]"
     ]
    },
    {
     "name": "stdout",
     "output_type": "stream",
     "text": [
      "25.12.2023 15:30 ISRAEL STATE CUP - 1/64-FINALS Shikun Vatikim Holon Yermiyahu 25.00 15.00 1.01\n"
     ]
    },
    {
     "name": "stderr",
     "output_type": "stream",
     "text": [
      "  6%|▌         | 13/215 [00:46<12:36,  3.75s/it]"
     ]
    },
    {
     "name": "stdout",
     "output_type": "stream",
     "text": [
      "25.12.2023 13:00 IVORY COAST LIGUE 1 - ROUND 14 SOL ASEC Mimosas 6.07 3.71 1.52\n"
     ]
    },
    {
     "name": "stderr",
     "output_type": "stream",
     "text": [
      "  7%|▋         | 14/215 [00:50<13:10,  3.94s/it]"
     ]
    },
    {
     "name": "stdout",
     "output_type": "stream",
     "text": [
      "25.12.2023 14:00 KUWAIT PREMIER LEAGUE - ROUND 11 Al Naser Al Salmiya 2.10 3.60 2.90\n"
     ]
    },
    {
     "name": "stderr",
     "output_type": "stream",
     "text": [
      "  7%|▋         | 15/215 [00:54<13:05,  3.93s/it]"
     ]
    },
    {
     "name": "stdout",
     "output_type": "stream",
     "text": [
      "25.12.2023 12:15 NIGER LIGUE 1 - ROUND 8 Liberte Akokana 2.01 2.81 4.18\n"
     ]
    },
    {
     "name": "stderr",
     "output_type": "stream",
     "text": [
      "  7%|▋         | 16/215 [00:58<13:06,  3.95s/it]"
     ]
    },
    {
     "name": "stdout",
     "output_type": "stream",
     "text": [
      "25.12.2023 12:15 NIGER LIGUE 1 - ROUND 8 Olympic Niamey Urana 2.18 2.95 3.40\n"
     ]
    },
    {
     "name": "stderr",
     "output_type": "stream",
     "text": [
      "  8%|▊         | 17/215 [01:02<13:19,  4.04s/it]"
     ]
    },
    {
     "name": "stdout",
     "output_type": "stream",
     "text": [
      "25.12.2023 14:00 TURKEY SUPER LIG - ROUND 18 Hatayspor Besiktas 2.65 3.45 2.52\n"
     ]
    },
    {
     "name": "stderr",
     "output_type": "stream",
     "text": [
      "  8%|▊         | 18/215 [01:06<13:27,  4.10s/it]"
     ]
    },
    {
     "name": "stdout",
     "output_type": "stream",
     "text": [
      "25.12.2023 14:00 TURKEY SUPER LIG - ROUND 18 Pendikspor Ankaragucu 2.88 3.35 2.40\n"
     ]
    },
    {
     "name": "stderr",
     "output_type": "stream",
     "text": [
      "  9%|▉         | 19/215 [01:10<13:27,  4.12s/it]"
     ]
    },
    {
     "name": "stdout",
     "output_type": "stream",
     "text": [
      "25.12.2023 14:00 TURKEY 1. LIG - ROUND 17 Eyupspor Erzurumspor 1.35 5.00 8.50\n"
     ]
    },
    {
     "name": "stderr",
     "output_type": "stream",
     "text": [
      "  9%|▉         | 20/215 [01:15<13:30,  4.16s/it]"
     ]
    },
    {
     "name": "stdout",
     "output_type": "stream",
     "text": [
      "25.12.2023 12:30 WORLD FRIENDLY INTERNATIONAL Kyrgyzstan Uzbekistan 9.50 4.33 1.29\n"
     ]
    },
    {
     "name": "stderr",
     "output_type": "stream",
     "text": [
      " 10%|▉         | 21/215 [01:19<13:37,  4.21s/it]"
     ]
    },
    {
     "name": "stdout",
     "output_type": "stream",
     "text": [
      "26.12.2023 09:30 ENGLAND PREMIER LEAGUE - ROUND 19 Newcastle Nottingham 1.50 4.60 6.90\n"
     ]
    },
    {
     "name": "stderr",
     "output_type": "stream",
     "text": [
      " 10%|█         | 22/215 [01:24<13:56,  4.33s/it]"
     ]
    },
    {
     "name": "stdout",
     "output_type": "stream",
     "text": [
      "26.12.2023 12:00 ENGLAND PREMIER LEAGUE - ROUND 19 Bournemouth Fulham 2.20 3.70 3.25\n"
     ]
    },
    {
     "name": "stderr",
     "output_type": "stream",
     "text": [
      " 11%|█         | 23/215 [01:28<14:17,  4.47s/it]"
     ]
    },
    {
     "name": "stdout",
     "output_type": "stream",
     "text": [
      "26.12.2023 12:00 ENGLAND PREMIER LEAGUE - ROUND 19 Sheffield Utd Luton 2.50 3.40 2.98\n"
     ]
    },
    {
     "name": "stderr",
     "output_type": "stream",
     "text": [
      " 11%|█         | 24/215 [01:33<14:25,  4.53s/it]"
     ]
    },
    {
     "name": "stdout",
     "output_type": "stream",
     "text": [
      "26.12.2023 14:30 ENGLAND PREMIER LEAGUE - ROUND 19 Burnley Liverpool 8.20 5.40 1.38\n"
     ]
    },
    {
     "name": "stderr",
     "output_type": "stream",
     "text": [
      " 12%|█▏        | 25/215 [01:38<14:22,  4.54s/it]"
     ]
    },
    {
     "name": "stdout",
     "output_type": "stream",
     "text": [
      "26.12.2023 17:00 ENGLAND PREMIER LEAGUE - ROUND 19 Manchester Utd Aston Villa 2.65 3.65 2.65\n"
     ]
    },
    {
     "name": "stderr",
     "output_type": "stream",
     "text": [
      " 13%|█▎        | 29/215 [01:54<12:52,  4.15s/it]"
     ]
    },
    {
     "name": "stdout",
     "output_type": "stream",
     "text": [
      "26.12.2023 05:30 BANGLADESH FEDERATION CUP - ROUND 1 Fortis Bashundara Kings 9.50 5.50 1.20\n"
     ]
    },
    {
     "name": "stderr",
     "output_type": "stream",
     "text": [
      " 14%|█▍        | 30/215 [01:58<13:07,  4.26s/it]"
     ]
    },
    {
     "name": "stdout",
     "output_type": "stream",
     "text": [
      "26.12.2023 05:30 BANGLADESH FEDERATION CUP - ROUND 1 Rahmatgonj MFS Bangladesh Police 4.75 3.80 1.57\n"
     ]
    },
    {
     "name": "stderr",
     "output_type": "stream",
     "text": [
      " 14%|█▍        | 31/215 [02:03<13:38,  4.45s/it]"
     ]
    },
    {
     "name": "stdout",
     "output_type": "stream",
     "text": [
      "26.12.2023 09:30 BELGIUM JUPILER PRO LEAGUE - ROUND 20 Genk Antwerp 2.05 3.75 3.25\n"
     ]
    },
    {
     "name": "stderr",
     "output_type": "stream",
     "text": [
      " 15%|█▍        | 32/215 [02:08<13:41,  4.49s/it]"
     ]
    },
    {
     "name": "stdout",
     "output_type": "stream",
     "text": [
      "26.12.2023 12:00 BELGIUM JUPILER PRO LEAGUE - ROUND 20 Kortrijk Gent 8.50 5.00 1.35\n"
     ]
    },
    {
     "name": "stderr",
     "output_type": "stream",
     "text": [
      " 15%|█▌        | 33/215 [02:12<13:45,  4.54s/it]"
     ]
    },
    {
     "name": "stdout",
     "output_type": "stream",
     "text": [
      "26.12.2023 12:00 BELGIUM JUPILER PRO LEAGUE - ROUND 20 Leuven Eupen 1.85 4.00 3.75\n"
     ]
    },
    {
     "name": "stderr",
     "output_type": "stream",
     "text": [
      " 16%|█▌        | 34/215 [02:17<13:53,  4.60s/it]"
     ]
    },
    {
     "name": "stdout",
     "output_type": "stream",
     "text": [
      "26.12.2023 14:30 BELGIUM JUPILER PRO LEAGUE - ROUND 20 Westerlo RWDM 1.87 3.60 4.00\n"
     ]
    },
    {
     "name": "stderr",
     "output_type": "stream",
     "text": [
      " 16%|█▋        | 35/215 [02:22<13:55,  4.64s/it]"
     ]
    },
    {
     "name": "stdout",
     "output_type": "stream",
     "text": [
      "26.12.2023 16:45 BELGIUM JUPILER PRO LEAGUE - ROUND 20 Club Brugge KV Royale Union SG 2.25 3.50 3.00\n"
     ]
    },
    {
     "name": "stderr",
     "output_type": "stream",
     "text": [
      " 17%|█▋        | 36/215 [02:26<13:39,  4.58s/it]"
     ]
    },
    {
     "name": "stdout",
     "output_type": "stream",
     "text": [
      "26.12.2023 14:00 EGYPT PREMIER LEAGUE - ROUND 10 Al Ittihad Pharco 2.00 3.20 3.75\n"
     ]
    },
    {
     "name": "stderr",
     "output_type": "stream",
     "text": [
      " 17%|█▋        | 37/215 [02:31<13:34,  4.58s/it]"
     ]
    },
    {
     "name": "stdout",
     "output_type": "stream",
     "text": [
      "26.12.2023 09:30 ENGLAND CHAMPIONSHIP - ROUND 24 Preston Leeds 5.45 4.30 1.57\n"
     ]
    },
    {
     "name": "stderr",
     "output_type": "stream",
     "text": [
      " 18%|█▊        | 38/215 [02:36<13:36,  4.61s/it]"
     ]
    },
    {
     "name": "stdout",
     "output_type": "stream",
     "text": [
      "26.12.2023 10:00 ENGLAND CHAMPIONSHIP - ROUND 24 Millwall QPR 2.17 3.24 3.53\n"
     ]
    },
    {
     "name": "stderr",
     "output_type": "stream",
     "text": [
      " 18%|█▊        | 39/215 [02:40<13:41,  4.67s/it]"
     ]
    },
    {
     "name": "stdout",
     "output_type": "stream",
     "text": [
      "26.12.2023 12:00 ENGLAND CHAMPIONSHIP - ROUND 24 Cardiff Plymouth 1.99 3.72 3.57\n"
     ]
    },
    {
     "name": "stderr",
     "output_type": "stream",
     "text": [
      " 19%|█▊        | 40/215 [02:45<13:47,  4.73s/it]"
     ]
    },
    {
     "name": "stdout",
     "output_type": "stream",
     "text": [
      "26.12.2023 12:00 ENGLAND CHAMPIONSHIP - ROUND 24 Coventry Sheffield Wed 1.73 3.69 4.91\n"
     ]
    },
    {
     "name": "stderr",
     "output_type": "stream",
     "text": [
      " 19%|█▉        | 41/215 [02:50<13:44,  4.74s/it]"
     ]
    },
    {
     "name": "stdout",
     "output_type": "stream",
     "text": [
      "26.12.2023 12:00 ENGLAND CHAMPIONSHIP - ROUND 24 Huddersfield Blackburn 3.24 3.68 2.12\n"
     ]
    },
    {
     "name": "stderr",
     "output_type": "stream",
     "text": [
      " 20%|█▉        | 42/215 [02:54<13:23,  4.65s/it]"
     ]
    },
    {
     "name": "stdout",
     "output_type": "stream",
     "text": [
      "26.12.2023 12:00 ENGLAND CHAMPIONSHIP - ROUND 24 Hull Sunderland 2.43 3.36 2.92\n"
     ]
    },
    {
     "name": "stderr",
     "output_type": "stream",
     "text": [
      " 20%|██        | 43/215 [02:59<13:37,  4.75s/it]"
     ]
    },
    {
     "name": "stdout",
     "output_type": "stream",
     "text": [
      "26.12.2023 12:00 ENGLAND CHAMPIONSHIP - ROUND 24 Rotherham Middlesbrough 5.39 4.25 1.58\n"
     ]
    },
    {
     "name": "stderr",
     "output_type": "stream",
     "text": [
      " 20%|██        | 44/215 [03:04<13:22,  4.69s/it]"
     ]
    },
    {
     "name": "stdout",
     "output_type": "stream",
     "text": [
      "26.12.2023 12:00 ENGLAND CHAMPIONSHIP - ROUND 24 Southampton Swansea 1.47 4.68 6.38\n"
     ]
    },
    {
     "name": "stderr",
     "output_type": "stream",
     "text": [
      " 21%|██        | 45/215 [03:09<13:22,  4.72s/it]"
     ]
    },
    {
     "name": "stdout",
     "output_type": "stream",
     "text": [
      "26.12.2023 12:00 ENGLAND CHAMPIONSHIP - ROUND 24 Watford Bristol City 1.96 3.46 3.95\n"
     ]
    },
    {
     "name": "stderr",
     "output_type": "stream",
     "text": [
      " 21%|██▏       | 46/215 [03:13<13:08,  4.67s/it]"
     ]
    },
    {
     "name": "stdout",
     "output_type": "stream",
     "text": [
      "26.12.2023 12:00 ENGLAND CHAMPIONSHIP - ROUND 24 West Brom Norwich 1.94 3.54 3.93\n"
     ]
    },
    {
     "name": "stderr",
     "output_type": "stream",
     "text": [
      " 22%|██▏       | 47/215 [03:18<12:56,  4.62s/it]"
     ]
    },
    {
     "name": "stdout",
     "output_type": "stream",
     "text": [
      "26.12.2023 14:15 ENGLAND CHAMPIONSHIP - ROUND 24 Birmingham Stoke 2.62 3.36 2.67\n"
     ]
    },
    {
     "name": "stderr",
     "output_type": "stream",
     "text": [
      " 22%|██▏       | 48/215 [03:22<12:51,  4.62s/it]"
     ]
    },
    {
     "name": "stdout",
     "output_type": "stream",
     "text": [
      "26.12.2023 16:45 ENGLAND CHAMPIONSHIP - ROUND 24 Ipswich Leicester 3.05 3.53 2.27\n"
     ]
    },
    {
     "name": "stderr",
     "output_type": "stream",
     "text": [
      " 23%|██▎       | 49/215 [03:27<12:39,  4.57s/it]"
     ]
    },
    {
     "name": "stdout",
     "output_type": "stream",
     "text": [
      "26.12.2023 10:00 ENGLAND LEAGUE ONE - ROUND 24 Leyton Orient Charlton 2.50 3.50 2.65\n"
     ]
    },
    {
     "name": "stderr",
     "output_type": "stream",
     "text": [
      " 23%|██▎       | 50/215 [03:31<12:31,  4.56s/it]"
     ]
    },
    {
     "name": "stdout",
     "output_type": "stream",
     "text": [
      "26.12.2023 12:00 ENGLAND LEAGUE ONE - ROUND 24 Bristol Rovers Portsmouth 3.25 3.50 2.15\n"
     ]
    },
    {
     "name": "stderr",
     "output_type": "stream",
     "text": [
      " 24%|██▎       | 51/215 [03:36<12:26,  4.55s/it]"
     ]
    },
    {
     "name": "stdout",
     "output_type": "stream",
     "text": [
      "26.12.2023 12:00 ENGLAND LEAGUE ONE - ROUND 24 Burton Blackpool 4.20 3.75 1.80\n"
     ]
    },
    {
     "name": "stderr",
     "output_type": "stream",
     "text": [
      " 24%|██▍       | 52/215 [03:40<12:23,  4.56s/it]"
     ]
    },
    {
     "name": "stdout",
     "output_type": "stream",
     "text": [
      "26.12.2023 12:00 ENGLAND LEAGUE ONE - ROUND 24 Cheltenham Shrewsbury 2.15 3.30 3.40\n"
     ]
    },
    {
     "name": "stderr",
     "output_type": "stream",
     "text": [
      " 25%|██▍       | 53/215 [03:45<12:15,  4.54s/it]"
     ]
    },
    {
     "name": "stdout",
     "output_type": "stream",
     "text": [
      "26.12.2023 12:00 ENGLAND LEAGUE ONE - ROUND 24 Exeter Wycombe 2.85 3.40 2.40\n"
     ]
    },
    {
     "name": "stderr",
     "output_type": "stream",
     "text": [
      " 25%|██▌       | 54/215 [03:49<12:04,  4.50s/it]"
     ]
    },
    {
     "name": "stdout",
     "output_type": "stream",
     "text": [
      "26.12.2023 12:00 ENGLAND LEAGUE ONE - ROUND 24 Fleetwood Carlisle 2.10 3.50 3.40\n"
     ]
    },
    {
     "name": "stderr",
     "output_type": "stream",
     "text": [
      " 26%|██▌       | 55/215 [03:54<11:58,  4.49s/it]"
     ]
    },
    {
     "name": "stdout",
     "output_type": "stream",
     "text": [
      "26.12.2023 12:00 ENGLAND LEAGUE ONE - ROUND 24 Lincoln Bolton 3.40 3.40 2.10\n"
     ]
    },
    {
     "name": "stderr",
     "output_type": "stream",
     "text": [
      " 26%|██▌       | 56/215 [03:58<11:54,  4.49s/it]"
     ]
    },
    {
     "name": "stdout",
     "output_type": "stream",
     "text": [
      "26.12.2023 12:00 ENGLAND LEAGUE ONE - ROUND 24 Oxford Utd Cambridge Utd 1.72 3.75 4.75\n"
     ]
    },
    {
     "name": "stderr",
     "output_type": "stream",
     "text": [
      " 27%|██▋       | 57/215 [04:03<11:39,  4.43s/it]"
     ]
    },
    {
     "name": "stdout",
     "output_type": "stream",
     "text": [
      "26.12.2023 12:00 ENGLAND LEAGUE ONE - ROUND 24 Peterborough Reading 1.47 4.75 6.00\n"
     ]
    },
    {
     "name": "stderr",
     "output_type": "stream",
     "text": [
      " 27%|██▋       | 58/215 [04:06<10:50,  4.15s/it]"
     ]
    },
    {
     "name": "stdout",
     "output_type": "stream",
     "text": [
      "26.12.2023 12:00 ENGLAND LEAGUE ONE - ROUND 24 Port Vale Barnsley 2.90 3.50 2.35\n"
     ]
    },
    {
     "name": "stderr",
     "output_type": "stream",
     "text": [
      " 27%|██▋       | 59/215 [04:10<10:17,  3.96s/it]"
     ]
    },
    {
     "name": "stdout",
     "output_type": "stream",
     "text": [
      "26.12.2023 12:00 ENGLAND LEAGUE ONE - ROUND 24 Stevenage Northampton 1.72 3.75 4.75\n"
     ]
    },
    {
     "name": "stderr",
     "output_type": "stream",
     "text": [
      " 28%|██▊       | 60/215 [04:13<09:55,  3.84s/it]"
     ]
    },
    {
     "name": "stdout",
     "output_type": "stream",
     "text": [
      "26.12.2023 12:00 ENGLAND LEAGUE ONE - ROUND 24 Wigan Derby 4.50 3.75 1.75\n"
     ]
    },
    {
     "name": "stderr",
     "output_type": "stream",
     "text": [
      " 28%|██▊       | 61/215 [04:17<09:47,  3.82s/it]"
     ]
    },
    {
     "name": "stdout",
     "output_type": "stream",
     "text": [
      "26.12.2023 09:30 ENGLAND LEAGUE TWO - ROUND 24 Mansfield Grimsby 1.50 4.33 6.00\n"
     ]
    },
    {
     "name": "stderr",
     "output_type": "stream",
     "text": [
      " 29%|██▉       | 62/215 [04:21<09:32,  3.74s/it]"
     ]
    },
    {
     "name": "stdout",
     "output_type": "stream",
     "text": [
      "26.12.2023 10:00 ENGLAND LEAGUE TWO - ROUND 24 Gillingham Crawley 2.05 3.50 3.50\n"
     ]
    },
    {
     "name": "stderr",
     "output_type": "stream",
     "text": [
      " 29%|██▉       | 63/215 [04:24<09:24,  3.71s/it]"
     ]
    },
    {
     "name": "stdout",
     "output_type": "stream",
     "text": [
      "26.12.2023 12:00 ENGLAND LEAGUE TWO - ROUND 24 AFC Wimbledon Sutton 1.50 4.33 6.00\n"
     ]
    },
    {
     "name": "stderr",
     "output_type": "stream",
     "text": [
      " 30%|██▉       | 64/215 [04:28<09:14,  3.67s/it]"
     ]
    },
    {
     "name": "stdout",
     "output_type": "stream",
     "text": [
      "26.12.2023 12:00 ENGLAND LEAGUE TWO - ROUND 24 Barrow Stockport County 3.25 3.40 2.20\n"
     ]
    },
    {
     "name": "stderr",
     "output_type": "stream",
     "text": [
      " 30%|███       | 65/215 [04:31<08:58,  3.59s/it]"
     ]
    },
    {
     "name": "stdout",
     "output_type": "stream",
     "text": [
      "26.12.2023 12:00 ENGLAND LEAGUE TWO - ROUND 24 Bradford City Morecambe 1.70 3.75 5.00\n"
     ]
    },
    {
     "name": "stderr",
     "output_type": "stream",
     "text": [
      " 31%|███       | 66/215 [04:35<08:58,  3.62s/it]"
     ]
    },
    {
     "name": "stdout",
     "output_type": "stream",
     "text": [
      "26.12.2023 12:00 ENGLAND LEAGUE TWO - ROUND 24 Harrogate Accrington 2.85 3.60 2.30\n"
     ]
    },
    {
     "name": "stderr",
     "output_type": "stream",
     "text": [
      " 31%|███       | 67/215 [04:39<09:15,  3.76s/it]"
     ]
    },
    {
     "name": "stdout",
     "output_type": "stream",
     "text": [
      "26.12.2023 12:00 ENGLAND LEAGUE TWO - ROUND 24 MK Dons Colchester 1.60 4.20 5.00\n"
     ]
    },
    {
     "name": "stderr",
     "output_type": "stream",
     "text": [
      " 32%|███▏      | 68/215 [04:44<09:50,  4.02s/it]"
     ]
    },
    {
     "name": "stdout",
     "output_type": "stream",
     "text": [
      "26.12.2023 12:00 ENGLAND LEAGUE TWO - ROUND 24 Newport Forest Green 2.05 3.60 3.40\n"
     ]
    },
    {
     "name": "stderr",
     "output_type": "stream",
     "text": [
      " 32%|███▏      | 69/215 [04:48<10:02,  4.13s/it]"
     ]
    },
    {
     "name": "stdout",
     "output_type": "stream",
     "text": [
      "26.12.2023 12:00 ENGLAND LEAGUE TWO - ROUND 24 Notts Co Doncaster 1.60 4.20 5.00\n"
     ]
    },
    {
     "name": "stderr",
     "output_type": "stream",
     "text": [
      " 33%|███▎      | 70/215 [04:52<10:13,  4.23s/it]"
     ]
    },
    {
     "name": "stdout",
     "output_type": "stream",
     "text": [
      "26.12.2023 12:00 ENGLAND LEAGUE TWO - ROUND 24 Salford Tranmere 2.30 3.60 2.90\n"
     ]
    },
    {
     "name": "stderr",
     "output_type": "stream",
     "text": [
      " 33%|███▎      | 71/215 [04:57<10:14,  4.27s/it]"
     ]
    },
    {
     "name": "stdout",
     "output_type": "stream",
     "text": [
      "26.12.2023 12:00 ENGLAND LEAGUE TWO - ROUND 24 Swindon Wrexham 4.00 4.20 1.75\n"
     ]
    },
    {
     "name": "stderr",
     "output_type": "stream",
     "text": [
      " 33%|███▎      | 72/215 [05:01<10:06,  4.24s/it]"
     ]
    },
    {
     "name": "stdout",
     "output_type": "stream",
     "text": [
      "26.12.2023 12:00 ENGLAND LEAGUE TWO - ROUND 24 Walsall Crewe 2.15 3.60 3.20\n"
     ]
    },
    {
     "name": "stderr",
     "output_type": "stream",
     "text": [
      " 34%|███▍      | 73/215 [05:05<09:59,  4.22s/it]"
     ]
    },
    {
     "name": "stdout",
     "output_type": "stream",
     "text": [
      "26.12.2023 12:00 GHANA PREMIER LEAGUE - ROUND 16 Medeama Bibiani Gold Stars 1.55 3.60 5.88\n"
     ]
    },
    {
     "name": "stderr",
     "output_type": "stream",
     "text": [
      " 34%|███▍      | 74/215 [05:10<10:10,  4.33s/it]"
     ]
    },
    {
     "name": "stdout",
     "output_type": "stream",
     "text": [
      "26.12.2023 11:30 INDIA ISL Punjab Odisha FC 3.20 3.60 2.05\n"
     ]
    },
    {
     "name": "stderr",
     "output_type": "stream",
     "text": [
      " 35%|███▍      | 75/215 [05:14<10:06,  4.33s/it]"
     ]
    },
    {
     "name": "stdout",
     "output_type": "stream",
     "text": [
      "26.12.2023 14:00 ISRAEL LIGAT HA'AL - ROUND 12 Netanya SC Ashdod 1.83 3.50 4.00\n"
     ]
    },
    {
     "name": "stderr",
     "output_type": "stream",
     "text": [
      " 35%|███▌      | 76/215 [05:19<10:11,  4.40s/it]"
     ]
    },
    {
     "name": "stdout",
     "output_type": "stream",
     "text": [
      "26.12.2023 14:45 ISRAEL LIGAT HA'AL - ROUND 12 Hapoel Jerusalem Hapoel Tel Aviv 2.85 3.00 2.50\n"
     ]
    },
    {
     "name": "stderr",
     "output_type": "stream",
     "text": [
      " 36%|███▌      | 77/215 [05:23<10:15,  4.46s/it]"
     ]
    },
    {
     "name": "stdout",
     "output_type": "stream",
     "text": [
      "26.12.2023 15:00 ISRAEL LIGAT HA'AL - ROUND 12 H. Beer Sheva Hapoel Haifa 1.63 4.00 4.75\n"
     ]
    },
    {
     "name": "stderr",
     "output_type": "stream",
     "text": [
      " 39%|███▊      | 83/215 [05:46<08:46,  3.99s/it]"
     ]
    },
    {
     "name": "stdout",
     "output_type": "stream",
     "text": [
      "26.12.2023 14:00 ISRAEL STATE CUP - 1/64-FINALS Nahariya Maccabi Nujeidat Ahmad 3.80 3.25 1.90\n"
     ]
    },
    {
     "name": "stderr",
     "output_type": "stream",
     "text": [
      " 40%|████      | 87/215 [06:02<08:38,  4.05s/it]"
     ]
    },
    {
     "name": "stdout",
     "output_type": "stream",
     "text": [
      "26.12.2023 08:30 ITALY SERIE B - ROUND 19 Reggiana Catanzaro 2.80 3.00 2.65\n"
     ]
    },
    {
     "name": "stderr",
     "output_type": "stream",
     "text": [
      " 41%|████      | 88/215 [06:07<08:53,  4.20s/it]"
     ]
    },
    {
     "name": "stdout",
     "output_type": "stream",
     "text": [
      "26.12.2023 11:00 ITALY SERIE B - ROUND 19 Ascoli Cittadella 2.75 3.00 2.70\n"
     ]
    },
    {
     "name": "stderr",
     "output_type": "stream",
     "text": [
      " 41%|████▏     | 89/215 [06:11<08:57,  4.27s/it]"
     ]
    },
    {
     "name": "stdout",
     "output_type": "stream",
     "text": [
      "26.12.2023 11:00 ITALY SERIE B - ROUND 19 Brescia Parma 3.30 3.20 2.20\n"
     ]
    },
    {
     "name": "stderr",
     "output_type": "stream",
     "text": [
      " 42%|████▏     | 90/215 [06:16<09:00,  4.32s/it]"
     ]
    },
    {
     "name": "stdout",
     "output_type": "stream",
     "text": [
      "26.12.2023 11:00 ITALY SERIE B - ROUND 19 Cosenza Como 2.65 3.20 2.65\n"
     ]
    },
    {
     "name": "stderr",
     "output_type": "stream",
     "text": [
      " 42%|████▏     | 91/215 [06:20<09:02,  4.38s/it]"
     ]
    },
    {
     "name": "stdout",
     "output_type": "stream",
     "text": [
      "26.12.2023 11:00 ITALY SERIE B - ROUND 19 FeralpiSalo Venezia 3.75 3.40 1.95\n"
     ]
    },
    {
     "name": "stderr",
     "output_type": "stream",
     "text": [
      " 43%|████▎     | 92/215 [06:25<08:59,  4.39s/it]"
     ]
    },
    {
     "name": "stdout",
     "output_type": "stream",
     "text": [
      "26.12.2023 11:00 ITALY SERIE B - ROUND 19 Lecco Sudtirol 2.45 3.10 2.95\n"
     ]
    },
    {
     "name": "stderr",
     "output_type": "stream",
     "text": [
      " 43%|████▎     | 93/215 [06:29<08:53,  4.37s/it]"
     ]
    },
    {
     "name": "stdout",
     "output_type": "stream",
     "text": [
      "26.12.2023 11:00 ITALY SERIE B - ROUND 19 Spezia Modena 2.30 3.20 3.10\n"
     ]
    },
    {
     "name": "stderr",
     "output_type": "stream",
     "text": [
      " 44%|████▎     | 94/215 [06:33<08:41,  4.31s/it]"
     ]
    },
    {
     "name": "stdout",
     "output_type": "stream",
     "text": [
      "26.12.2023 11:00 ITALY SERIE B - ROUND 19 Ternana Pisa 2.45 3.30 2.80\n"
     ]
    },
    {
     "name": "stderr",
     "output_type": "stream",
     "text": [
      " 44%|████▍     | 95/215 [06:37<08:18,  4.16s/it]"
     ]
    },
    {
     "name": "stdout",
     "output_type": "stream",
     "text": [
      "26.12.2023 14:00 ITALY SERIE B - ROUND 19 Palermo Cremonese 2.50 3.30 2.70\n"
     ]
    },
    {
     "name": "stderr",
     "output_type": "stream",
     "text": [
      " 45%|████▍     | 96/215 [06:41<07:54,  3.99s/it]"
     ]
    },
    {
     "name": "stdout",
     "output_type": "stream",
     "text": [
      "26.12.2023 16:30 ITALY SERIE B - ROUND 19 Sampdoria Bari 2.10 3.20 3.60\n"
     ]
    },
    {
     "name": "stderr",
     "output_type": "stream",
     "text": [
      " 45%|████▌     | 97/215 [06:44<07:32,  3.83s/it]"
     ]
    },
    {
     "name": "stdout",
     "output_type": "stream",
     "text": [
      "26.12.2023 12:45 MALI PREMIERE DIVISION - ROUND 11 AS Police Binga 2.35 2.81 3.21\n"
     ]
    },
    {
     "name": "stderr",
     "output_type": "stream",
     "text": [
      " 46%|████▌     | 99/215 [06:51<07:13,  3.73s/it]"
     ]
    },
    {
     "name": "stdout",
     "output_type": "stream",
     "text": [
      "26.12.2023 12:45 MALI PREMIERE DIVISION - ROUND 11 Djoliba Korofina 1.90 3.05 4.21\n"
     ]
    },
    {
     "name": "stderr",
     "output_type": "stream",
     "text": [
      " 47%|████▋     | 100/215 [06:55<07:16,  3.80s/it]"
     ]
    },
    {
     "name": "stdout",
     "output_type": "stream",
     "text": [
      "26.12.2023 12:45 MALI PREMIERE DIVISION - ROUND 11 Real Bamako Bougouba 1.76 3.28 4.56\n"
     ]
    },
    {
     "name": "stderr",
     "output_type": "stream",
     "text": [
      " 47%|████▋     | 101/215 [06:59<07:24,  3.90s/it]"
     ]
    },
    {
     "name": "stdout",
     "output_type": "stream",
     "text": [
      "26.12.2023 12:45 MALI PREMIERE DIVISION - ROUND 11 Stade Malien Black Stars 1.65 3.42 5.15\n"
     ]
    },
    {
     "name": "stderr",
     "output_type": "stream",
     "text": [
      " 47%|████▋     | 102/215 [07:04<07:38,  4.06s/it]"
     ]
    },
    {
     "name": "stdout",
     "output_type": "stream",
     "text": [
      "26.12.2023 14:00 MOROCCO BOTOLA PRO - ROUND 11 Hassania Agadir Wydad 5.00 3.75 1.62\n"
     ]
    },
    {
     "name": "stderr",
     "output_type": "stream",
     "text": [
      " 48%|████▊     | 103/215 [07:08<07:41,  4.12s/it]"
     ]
    },
    {
     "name": "stdout",
     "output_type": "stream",
     "text": [
      "26.12.2023 12:00 NORTHERN IRELAND NIFL PREMIERSHIP - ROUND 23 Ballymena Coleraine 4.20 3.75 1.75\n"
     ]
    },
    {
     "name": "stderr",
     "output_type": "stream",
     "text": [
      " 48%|████▊     | 104/215 [07:12<07:42,  4.16s/it]"
     ]
    },
    {
     "name": "stdout",
     "output_type": "stream",
     "text": [
      "26.12.2023 12:00 NORTHERN IRELAND NIFL PREMIERSHIP - ROUND 23 Carrick Rangers Larne 7.50 4.50 1.38\n"
     ]
    },
    {
     "name": "stderr",
     "output_type": "stream",
     "text": [
      " 49%|████▉     | 105/215 [07:17<07:45,  4.24s/it]"
     ]
    },
    {
     "name": "stdout",
     "output_type": "stream",
     "text": [
      "26.12.2023 12:00 NORTHERN IRELAND NIFL PREMIERSHIP - ROUND 23 Cliftonville Crusaders 1.80 3.60 4.00\n"
     ]
    },
    {
     "name": "stderr",
     "output_type": "stream",
     "text": [
      " 49%|████▉     | 106/215 [07:21<07:40,  4.23s/it]"
     ]
    },
    {
     "name": "stdout",
     "output_type": "stream",
     "text": [
      "26.12.2023 12:00 NORTHERN IRELAND NIFL PREMIERSHIP - ROUND 23 Linfield Glentoran 1.70 4.00 4.20\n"
     ]
    },
    {
     "name": "stderr",
     "output_type": "stream",
     "text": [
      " 50%|████▉     | 107/215 [07:25<07:36,  4.23s/it]"
     ]
    },
    {
     "name": "stdout",
     "output_type": "stream",
     "text": [
      "26.12.2023 12:00 NORTHERN IRELAND NIFL PREMIERSHIP - ROUND 23 Loughgall Dungannon 3.10 3.75 2.05\n"
     ]
    },
    {
     "name": "stderr",
     "output_type": "stream",
     "text": [
      " 50%|█████     | 108/215 [07:29<07:34,  4.25s/it]"
     ]
    },
    {
     "name": "stdout",
     "output_type": "stream",
     "text": [
      "26.12.2023 12:00 NORTHERN IRELAND NIFL PREMIERSHIP - ROUND 23 Newry City Glenavon 3.50 3.75 1.90\n"
     ]
    },
    {
     "name": "stderr",
     "output_type": "stream",
     "text": [
      " 51%|█████     | 109/215 [07:33<07:26,  4.21s/it]"
     ]
    },
    {
     "name": "stdout",
     "output_type": "stream",
     "text": [
      "26.12.2023 11:00 NORTHERN IRELAND NIFL CHAMPIONSHIP - ROUND 22 Knockbreda Institute 6.15 4.65 1.40\n"
     ]
    },
    {
     "name": "stderr",
     "output_type": "stream",
     "text": [
      " 51%|█████     | 110/215 [07:37<07:15,  4.14s/it]"
     ]
    },
    {
     "name": "stdout",
     "output_type": "stream",
     "text": [
      "26.12.2023 11:00 NORTHERN IRELAND NIFL CHAMPIONSHIP - ROUND 22 Newington Ballyclare 2.35 3.66 2.48\n"
     ]
    },
    {
     "name": "stderr",
     "output_type": "stream",
     "text": [
      " 52%|█████▏    | 111/215 [07:42<07:13,  4.17s/it]"
     ]
    },
    {
     "name": "stdout",
     "output_type": "stream",
     "text": [
      "26.12.2023 12:00 NORTHERN IRELAND NIFL CHAMPIONSHIP - ROUND 22 Annagh Portadown 3.72 3.86 1.77\n"
     ]
    },
    {
     "name": "stderr",
     "output_type": "stream",
     "text": [
      " 52%|█████▏    | 112/215 [07:46<07:10,  4.18s/it]"
     ]
    },
    {
     "name": "stdout",
     "output_type": "stream",
     "text": [
      "26.12.2023 12:00 NORTHERN IRELAND NIFL CHAMPIONSHIP - ROUND 22 Ards Bangor FC 2.60 3.70 2.24\n"
     ]
    },
    {
     "name": "stderr",
     "output_type": "stream",
     "text": [
      " 53%|█████▎    | 113/215 [07:50<07:01,  4.13s/it]"
     ]
    },
    {
     "name": "stdout",
     "output_type": "stream",
     "text": [
      "26.12.2023 12:00 NORTHERN IRELAND NIFL CHAMPIONSHIP - ROUND 22 Dergview Ballinamallard 2.44 3.54 2.44\n"
     ]
    },
    {
     "name": "stderr",
     "output_type": "stream",
     "text": [
      " 53%|█████▎    | 114/215 [07:54<07:09,  4.25s/it]"
     ]
    },
    {
     "name": "stdout",
     "output_type": "stream",
     "text": [
      "26.12.2023 15:00 SAUDI ARABIA SAUDI PROFESSIONAL LEAGUE - ROUND 17 Al Ittihad Al Nassr 4.50 4.33 1.63\n"
     ]
    },
    {
     "name": "stderr",
     "output_type": "stream",
     "text": [
      " 53%|█████▎    | 115/215 [07:59<07:02,  4.22s/it]"
     ]
    },
    {
     "name": "stdout",
     "output_type": "stream",
     "text": [
      "26.12.2023 09:00 SAUDI ARABIA DIVISION 1 - ROUND 15 Al Adalah Al Ain 1.72 3.50 4.33\n"
     ]
    },
    {
     "name": "stderr",
     "output_type": "stream",
     "text": [
      " 54%|█████▍    | 116/215 [08:02<06:47,  4.12s/it]"
     ]
    },
    {
     "name": "stdout",
     "output_type": "stream",
     "text": [
      "26.12.2023 09:30 SAUDI ARABIA DIVISION 1 - ROUND 15 Al Jabalain Al Safa 1.60 3.60 5.00\n"
     ]
    },
    {
     "name": "stderr",
     "output_type": "stream",
     "text": [
      " 54%|█████▍    | 117/215 [08:06<06:19,  3.88s/it]"
     ]
    },
    {
     "name": "stdout",
     "output_type": "stream",
     "text": [
      "26.12.2023 12:00 SCOTLAND PREMIERSHIP - ROUND 20 Dundee FC Celtic 10.00 5.50 1.28\n"
     ]
    },
    {
     "name": "stderr",
     "output_type": "stream",
     "text": [
      " 55%|█████▌    | 119/215 [08:13<05:51,  3.66s/it]"
     ]
    },
    {
     "name": "stdout",
     "output_type": "stream",
     "text": [
      "26.12.2023 10:00 TUNISIA LIGUE PROFESSIONNELLE 1 - ROUND 12 Olympique Beja Ben Guerdane 2.40 2.80 3.10\n"
     ]
    },
    {
     "name": "stderr",
     "output_type": "stream",
     "text": [
      " 56%|█████▌    | 120/215 [08:17<06:06,  3.85s/it]"
     ]
    },
    {
     "name": "stdout",
     "output_type": "stream",
     "text": [
      "26.12.2023 10:00 TUNISIA LIGUE PROFESSIONNELLE 1 - ROUND 12 Soliman Gafsa 2.35 2.75 3.20\n"
     ]
    },
    {
     "name": "stderr",
     "output_type": "stream",
     "text": [
      " 56%|█████▋    | 121/215 [08:21<06:09,  3.93s/it]"
     ]
    },
    {
     "name": "stdout",
     "output_type": "stream",
     "text": [
      "26.12.2023 10:00 TUNISIA LIGUE PROFESSIONNELLE 1 - ROUND 12 Stade Tunisien Club Africain 2.25 2.90 3.25\n"
     ]
    },
    {
     "name": "stderr",
     "output_type": "stream",
     "text": [
      " 57%|█████▋    | 122/215 [08:25<06:10,  3.98s/it]"
     ]
    },
    {
     "name": "stdout",
     "output_type": "stream",
     "text": [
      "26.12.2023 08:00 VIETNAM V.LEAGUE 1 - ROUND 8 Khanh Hoa Song Lam Nghe An 2.60 3.20 2.50\n"
     ]
    },
    {
     "name": "stderr",
     "output_type": "stream",
     "text": [
      " 57%|█████▋    | 123/215 [08:29<06:09,  4.01s/it]"
     ]
    },
    {
     "name": "stdout",
     "output_type": "stream",
     "text": [
      "26.12.2023 09:15 VIETNAM V.LEAGUE 1 - ROUND 8 Cong An Binh Duong 1.80 3.40 4.00\n"
     ]
    },
    {
     "name": "stderr",
     "output_type": "stream",
     "text": [
      " 58%|█████▊    | 124/215 [08:33<06:11,  4.08s/it]"
     ]
    },
    {
     "name": "stdout",
     "output_type": "stream",
     "text": [
      "26.12.2023 09:15 VIETNAM V.LEAGUE 1 - ROUND 8 Ho Chi Minh Hong Linh Ha Tinh 1.87 3.40 3.75\n"
     ]
    },
    {
     "name": "stderr",
     "output_type": "stream",
     "text": [
      " 58%|█████▊    | 125/215 [08:37<06:08,  4.09s/it]"
     ]
    },
    {
     "name": "stdout",
     "output_type": "stream",
     "text": [
      "26.12.2023 11:30 WALES CYMRU PREMIER - ROUND 20 Cardiff Metropolitan Penybont 2.50 3.50 2.55\n"
     ]
    },
    {
     "name": "stderr",
     "output_type": "stream",
     "text": [
      " 59%|█████▊    | 126/215 [08:42<06:08,  4.15s/it]"
     ]
    },
    {
     "name": "stdout",
     "output_type": "stream",
     "text": [
      "26.12.2023 11:30 WALES CYMRU PREMIER - ROUND 20 Colwyn Bay Bala 3.50 3.60 1.95\n"
     ]
    },
    {
     "name": "stderr",
     "output_type": "stream",
     "text": [
      " 59%|█████▉    | 127/215 [08:46<06:07,  4.18s/it]"
     ]
    },
    {
     "name": "stdout",
     "output_type": "stream",
     "text": [
      "26.12.2023 11:30 WALES CYMRU PREMIER - ROUND 20 Haverfordwest Barry 1.95 3.60 3.40\n"
     ]
    },
    {
     "name": "stderr",
     "output_type": "stream",
     "text": [
      " 60%|█████▉    | 128/215 [08:50<05:51,  4.04s/it]"
     ]
    },
    {
     "name": "stdout",
     "output_type": "stream",
     "text": [
      "26.12.2023 11:30 WALES CYMRU PREMIER - ROUND 20 Newtown Connahs Q. 3.50 3.60 1.95\n"
     ]
    },
    {
     "name": "stderr",
     "output_type": "stream",
     "text": [
      " 60%|██████    | 129/215 [08:53<05:34,  3.89s/it]"
     ]
    },
    {
     "name": "stdout",
     "output_type": "stream",
     "text": [
      "26.12.2023 11:30 WALES CYMRU PREMIER - ROUND 20 Pontypridd Aberystwyth 1.90 3.75 3.50\n"
     ]
    },
    {
     "name": "stderr",
     "output_type": "stream",
     "text": [
      " 60%|██████    | 130/215 [08:57<05:18,  3.74s/it]"
     ]
    },
    {
     "name": "stdout",
     "output_type": "stream",
     "text": [
      "26.12.2023 11:30 WALES CYMRU PREMIER - ROUND 20 TNS Caernarfon 1.11 8.50 17.00\n"
     ]
    },
    {
     "name": "stderr",
     "output_type": "stream",
     "text": [
      " 63%|██████▎   | 136/215 [09:19<05:03,  3.84s/it]"
     ]
    },
    {
     "name": "stdout",
     "output_type": "stream",
     "text": [
      "26.12.2023 14:30 WALES CYMRU SOUTH - ROUND 17 Trefelin Afan Lido 4.00 4.33 1.62\n"
     ]
    },
    {
     "name": "stderr",
     "output_type": "stream",
     "text": [
      " 67%|██████▋   | 144/215 [09:49<04:32,  3.84s/it]"
     ]
    },
    {
     "name": "stdout",
     "output_type": "stream",
     "text": [
      "26.12.2023 03:00 WORLD FRIENDLY INTERNATIONAL China U23 Malaysia U23 1.58 4.00 5.40\n"
     ]
    },
    {
     "name": "stderr",
     "output_type": "stream",
     "text": [
      " 68%|██████▊   | 147/215 [10:01<04:34,  4.03s/it]"
     ]
    },
    {
     "name": "stdout",
     "output_type": "stream",
     "text": [
      "27.12.2023 16:30 ENGLAND PREMIER LEAGUE - ROUND 19 Brentford Wolves 2.00 3.65 3.85\n"
     ]
    },
    {
     "name": "stderr",
     "output_type": "stream",
     "text": [
      " 69%|██████▉   | 148/215 [10:06<04:42,  4.21s/it]"
     ]
    },
    {
     "name": "stdout",
     "output_type": "stream",
     "text": [
      "27.12.2023 16:30 ENGLAND PREMIER LEAGUE - ROUND 19 Chelsea Crystal Palace 1.78 3.90 4.65\n"
     ]
    },
    {
     "name": "stderr",
     "output_type": "stream",
     "text": [
      " 69%|██████▉   | 149/215 [10:11<04:48,  4.37s/it]"
     ]
    },
    {
     "name": "stdout",
     "output_type": "stream",
     "text": [
      "27.12.2023 17:15 ENGLAND PREMIER LEAGUE - ROUND 19 Everton Manchester City 5.90 4.30 1.58\n"
     ]
    },
    {
     "name": "stderr",
     "output_type": "stream",
     "text": [
      " 70%|███████   | 151/215 [10:19<04:36,  4.33s/it]"
     ]
    },
    {
     "name": "stdout",
     "output_type": "stream",
     "text": [
      "27.12.2023 14:30 BELGIUM JUPILER PRO LEAGUE - ROUND 20 St. Liege St. Truiden 2.35 3.40 2.95\n"
     ]
    },
    {
     "name": "stderr",
     "output_type": "stream",
     "text": [
      " 71%|███████   | 152/215 [10:23<04:34,  4.36s/it]"
     ]
    },
    {
     "name": "stdout",
     "output_type": "stream",
     "text": [
      "27.12.2023 16:45 BELGIUM JUPILER PRO LEAGUE - ROUND 20 Anderlecht Cercle Brugge KSV 1.87 3.75 3.75\n"
     ]
    },
    {
     "name": "stderr",
     "output_type": "stream",
     "text": [
      " 71%|███████   | 153/215 [10:28<04:34,  4.43s/it]"
     ]
    },
    {
     "name": "stdout",
     "output_type": "stream",
     "text": [
      "27.12.2023 16:45 BELGIUM JUPILER PRO LEAGUE - ROUND 20 Charleroi KV Mechelen 2.10 3.40 3.40\n"
     ]
    },
    {
     "name": "stderr",
     "output_type": "stream",
     "text": [
      " 73%|███████▎  | 157/215 [10:44<04:03,  4.20s/it]"
     ]
    },
    {
     "name": "stdout",
     "output_type": "stream",
     "text": [
      "27.12.2023 14:00 EGYPT PREMIER LEAGUE - ROUND 10 Smouha El Gaish 2.55 2.95 2.85\n"
     ]
    },
    {
     "name": "stderr",
     "output_type": "stream",
     "text": [
      " 73%|███████▎  | 158/215 [10:48<03:59,  4.21s/it]"
     ]
    },
    {
     "name": "stdout",
     "output_type": "stream",
     "text": [
      "27.12.2023 11:30 INDIA ISL Mohun Bagan Kerala Blasters 1.91 3.75 3.80\n"
     ]
    },
    {
     "name": "stderr",
     "output_type": "stream",
     "text": [
      " 74%|███████▍  | 159/215 [10:53<03:54,  4.18s/it]"
     ]
    },
    {
     "name": "stdout",
     "output_type": "stream",
     "text": [
      "27.12.2023 11:00 IRAQ SUPER LEAGUE - ROUND 5 Al Zawraa Al Wasat 1.42 3.82 7.95\n"
     ]
    },
    {
     "name": "stderr",
     "output_type": "stream",
     "text": [
      " 74%|███████▍  | 160/215 [10:57<03:50,  4.19s/it]"
     ]
    },
    {
     "name": "stdout",
     "output_type": "stream",
     "text": [
      "27.12.2023 11:00 IRAQ SUPER LEAGUE - ROUND 6 Zakho Al-Qassim 2.38 2.85 3.36\n"
     ]
    },
    {
     "name": "stderr",
     "output_type": "stream",
     "text": [
      " 75%|███████▌  | 162/215 [11:19<06:19,  7.16s/it]"
     ]
    },
    {
     "name": "stdout",
     "output_type": "stream",
     "text": [
      "27.12.2023 14:00 ISRAEL LIGAT HA'AL - ROUND 12 Sakhnin Hapoel Hadera 2.10 3.20 3.40\n"
     ]
    },
    {
     "name": "stderr",
     "output_type": "stream",
     "text": [
      " 76%|███████▌  | 163/215 [11:24<05:27,  6.31s/it]"
     ]
    },
    {
     "name": "stdout",
     "output_type": "stream",
     "text": [
      "27.12.2023 14:45 ISRAEL LIGAT HA'AL - ROUND 12 Maccabi Petah Tikva Hapoel Petah Tikva 2.10 3.25 3.40\n"
     ]
    },
    {
     "name": "stderr",
     "output_type": "stream",
     "text": [
      " 76%|███████▋  | 164/215 [11:28<04:52,  5.73s/it]"
     ]
    },
    {
     "name": "stdout",
     "output_type": "stream",
     "text": [
      "27.12.2023 15:00 ISRAEL LIGAT HA'AL - ROUND 12 Maccabi Haifa Maccabi Bnei Raina 1.47 4.33 6.00\n"
     ]
    },
    {
     "name": "stderr",
     "output_type": "stream",
     "text": [
      " 77%|███████▋  | 165/215 [11:32<04:23,  5.27s/it]"
     ]
    },
    {
     "name": "stdout",
     "output_type": "stream",
     "text": [
      "27.12.2023 15:30 ISRAEL LIGAT HA'AL - ROUND 12 Maccabi Tel Aviv Beitar Jerusalem 1.30 5.00 9.00\n"
     ]
    },
    {
     "name": "stderr",
     "output_type": "stream",
     "text": [
      " 84%|████████▍ | 181/215 [12:33<02:11,  3.87s/it]"
     ]
    },
    {
     "name": "stdout",
     "output_type": "stream",
     "text": [
      "27.12.2023 12:00 NORTHERN IRELAND NIFL CHAMPIONSHIP - ROUND 22 H&W Welders Dundela 2.63 3.56 2.27\n"
     ]
    },
    {
     "name": "stderr",
     "output_type": "stream",
     "text": [
      " 86%|████████▌ | 184/215 [12:45<01:59,  3.87s/it]"
     ]
    },
    {
     "name": "stdout",
     "output_type": "stream",
     "text": [
      "27.12.2023 09:00 SAUDI ARABIA DIVISION 1 - ROUND 15 Al Taraji Al Arabi 3.50 3.30 1.95\n"
     ]
    },
    {
     "name": "stderr",
     "output_type": "stream",
     "text": [
      " 86%|████████▌ | 185/215 [12:49<02:00,  4.02s/it]"
     ]
    },
    {
     "name": "stdout",
     "output_type": "stream",
     "text": [
      "27.12.2023 09:30 SAUDI ARABIA DIVISION 1 - ROUND 15 Al Orubah Al Bukayriyah 1.95 3.30 3.50\n"
     ]
    },
    {
     "name": "stderr",
     "output_type": "stream",
     "text": [
      " 87%|████████▋ | 186/215 [12:53<01:59,  4.12s/it]"
     ]
    },
    {
     "name": "stdout",
     "output_type": "stream",
     "text": [
      "27.12.2023 09:40 SAUDI ARABIA DIVISION 1 - ROUND 15 Ohod Al-Qaisumah 1.63 3.60 4.75\n"
     ]
    },
    {
     "name": "stderr",
     "output_type": "stream",
     "text": [
      " 87%|████████▋ | 187/215 [12:58<01:58,  4.24s/it]"
     ]
    },
    {
     "name": "stdout",
     "output_type": "stream",
     "text": [
      "27.12.2023 16:45 SCOTLAND PREMIERSHIP - ROUND 20 Aberdeen Motherwell 1.72 3.75 4.75\n"
     ]
    },
    {
     "name": "stderr",
     "output_type": "stream",
     "text": [
      " 87%|████████▋ | 188/215 [13:03<01:57,  4.35s/it]"
     ]
    },
    {
     "name": "stdout",
     "output_type": "stream",
     "text": [
      "27.12.2023 16:45 SCOTLAND PREMIERSHIP - ROUND 20 Livingston St Johnstone 2.35 3.10 3.20\n"
     ]
    },
    {
     "name": "stderr",
     "output_type": "stream",
     "text": [
      " 88%|████████▊ | 189/215 [13:07<01:54,  4.41s/it]"
     ]
    },
    {
     "name": "stdout",
     "output_type": "stream",
     "text": [
      "27.12.2023 16:45 SCOTLAND PREMIERSHIP - ROUND 20 Rangers Ross County 1.15 7.50 19.00\n"
     ]
    },
    {
     "name": "stderr",
     "output_type": "stream",
     "text": [
      " 88%|████████▊ | 190/215 [13:12<01:50,  4.40s/it]"
     ]
    },
    {
     "name": "stdout",
     "output_type": "stream",
     "text": [
      "27.12.2023 16:45 SCOTLAND PREMIERSHIP - ROUND 20 St. Mirren Kilmarnock 2.65 3.10 2.80\n"
     ]
    },
    {
     "name": "stderr",
     "output_type": "stream",
     "text": [
      " 89%|████████▉ | 191/215 [13:16<01:45,  4.41s/it]"
     ]
    },
    {
     "name": "stdout",
     "output_type": "stream",
     "text": [
      "27.12.2023 17:00 SCOTLAND PREMIERSHIP - ROUND 20 Hibernian Hearts 2.50 3.40 2.75\n"
     ]
    },
    {
     "name": "stderr",
     "output_type": "stream",
     "text": [
      " 89%|████████▉ | 192/215 [13:20<01:38,  4.30s/it]"
     ]
    },
    {
     "name": "stdout",
     "output_type": "stream",
     "text": [
      "27.12.2023 13:30 SENEGAL LIGUE 1 - ROUND 9 Ouakam Diambars 2.02 2.75 4.11\n"
     ]
    },
    {
     "name": "stderr",
     "output_type": "stream",
     "text": [
      " 90%|████████▉ | 193/215 [13:24<01:32,  4.22s/it]"
     ]
    },
    {
     "name": "stdout",
     "output_type": "stream",
     "text": [
      "27.12.2023 13:30 SENEGAL LIGUE 1 - ROUND 9 Pikine Casa 1.87 2.80 4.73\n"
     ]
    },
    {
     "name": "stderr",
     "output_type": "stream",
     "text": [
      " 90%|█████████ | 194/215 [13:28<01:30,  4.30s/it]"
     ]
    },
    {
     "name": "stdout",
     "output_type": "stream",
     "text": [
      "27.12.2023 14:30 SOUTH AFRICA PREMIER LEAGUE - ROUND 10 Mamelodi Sundowns Swallows 1.30 4.75 10.00\n"
     ]
    },
    {
     "name": "stderr",
     "output_type": "stream",
     "text": [
      " 91%|█████████ | 195/215 [13:33<01:26,  4.32s/it]"
     ]
    },
    {
     "name": "stdout",
     "output_type": "stream",
     "text": [
      "27.12.2023 10:00 TUNISIA LIGUE PROFESSIONNELLE 1 - ROUND 12 Esperance Tunis CS Sfaxien 1.57 3.40 6.00\n"
     ]
    },
    {
     "name": "stderr",
     "output_type": "stream",
     "text": [
      " 91%|█████████ | 196/215 [13:37<01:22,  4.34s/it]"
     ]
    },
    {
     "name": "stdout",
     "output_type": "stream",
     "text": [
      "27.12.2023 10:00 TUNISIA LIGUE PROFESSIONNELLE 1 - ROUND 12 Metlaoui Monastir 4.00 3.00 1.95\n"
     ]
    },
    {
     "name": "stderr",
     "output_type": "stream",
     "text": [
      " 92%|█████████▏| 197/215 [13:42<01:18,  4.35s/it]"
     ]
    },
    {
     "name": "stdout",
     "output_type": "stream",
     "text": [
      "27.12.2023 10:00 TUNISIA LIGUE PROFESSIONNELLE 1 - ROUND 12 US Tataouine Bizertin 2.85 2.90 2.50\n"
     ]
    },
    {
     "name": "stderr",
     "output_type": "stream",
     "text": [
      " 95%|█████████▌| 205/215 [14:12<00:39,  3.98s/it]"
     ]
    },
    {
     "name": "stdout",
     "output_type": "stream",
     "text": [
      "27.12.2023 07:00 VIETNAM V.LEAGUE 1 - ROUND 8 Quang Nam Thanh Hoa 2.95 3.30 2.20\n"
     ]
    },
    {
     "name": "stderr",
     "output_type": "stream",
     "text": [
      "100%|██████████| 215/215 [14:50<00:00,  4.14s/it]\n"
     ]
    }
   ],
   "source": [
    "# Fechando Botão de Cookies\n",
    "try:\n",
    "    button_cookies = wd_Chrome.find_element(By.CSS_SELECTOR,'button#onetrust-accept-btn-handler')\n",
    "    button_cookies.click()\n",
    "except:\n",
    "    pass\n",
    "\n",
    "ids = []  # create an empty list to store IDs\n",
    "\n",
    "time.sleep(5)\n",
    "for i in range(3):\n",
    "\n",
    "    # jogos de hoje\n",
    "\n",
    "    # Pegando o ID dos Jogos\n",
    "    id_jogos = []\n",
    "    jogos = wd_Chrome.find_elements(By.CSS_SELECTOR,'div.event__match--scheduled')\n",
    "\n",
    "    for i in jogos:\n",
    "        id_jogos.append(i.get_attribute(\"id\"))\n",
    "\n",
    "    # Exemplo de ID de um jogo: 'g_1_Gb7buXVt'    \n",
    "    id_jogos = [i[4:] for i in id_jogos]\n",
    "    \n",
    "    ids.append(id_jogos)\n",
    "\n",
    "    # Selecionando o dia de amanhã\n",
    "    wd_Chrome.find_element(By.CSS_SELECTOR,'button.calendar__navigation--tomorrow').click()\n",
    "    time.sleep(3)\n",
    "        \n",
    "    i=+1\n",
    "\n",
    "jogo = {'Date':[],'Time':[],'Country':[],'League':[],'Home':[],'Away':[],'Odds_H':[],'Odds_D':[],'Odds_A':[]}    \n",
    "\n",
    "final_ids = []\n",
    "for sublist in ids:\n",
    "    final_ids.extend(sublist)\n",
    "\n",
    "\n",
    "# Pegando as Informacoes Básicas do Jogo\n",
    "for link in tqdm(final_ids, total=len(final_ids)):\n",
    "    wd_Chrome.get(f'https://www.flashscore.com/match/{link}/#/match-summary')\n",
    "    \n",
    "    try:\n",
    "        Date = wd_Chrome.find_element(By.CSS_SELECTOR, 'div.duelParticipant__startTime').text.split(' ')[0]\n",
    "        Time = wd_Chrome.find_element(By.CSS_SELECTOR, 'div.duelParticipant__startTime').text.split(' ')[1]\n",
    "        Country = wd_Chrome.find_element(By.CSS_SELECTOR, 'span.tournamentHeader__country').text.split(':')[0]\n",
    "        League = wd_Chrome.find_element(By.CSS_SELECTOR, 'span.tournamentHeader__country')\n",
    "        League = League.find_element(By.CSS_SELECTOR, 'a').text\n",
    "        Home = wd_Chrome.find_element(By.CSS_SELECTOR, 'div.duelParticipant__home')\n",
    "        Home = Home.find_element(By.CSS_SELECTOR, 'div.participant__participantName').text\n",
    "        Away = wd_Chrome.find_element(By.CSS_SELECTOR, 'div.duelParticipant__away')\n",
    "        Away = Away.find_element(By.CSS_SELECTOR, 'div.participant__participantName').text\n",
    "    except:\n",
    "        continue  # Skip to the next iteration if basic information retrieval fails\n",
    "\n",
    "    # Match Odds\n",
    "    try:\n",
    "        wd_Chrome.get(f'https://www.flashscore.com/match/{link}/#/odds-comparison/1x2-odds/full-time')\n",
    "        time.sleep(2)\n",
    "\n",
    "        # Check if redirected to match summary page\n",
    "        if 'match-summary' in wd_Chrome.current_url:\n",
    "            continue  # Skip to the next iteration if redirected to match summary page\n",
    "\n",
    "        linhas = wd_Chrome.find_elements(By.CSS_SELECTOR, 'div.ui-table__row')\n",
    "\n",
    "        for linha in linhas:\n",
    "            Odds_H = linha.find_elements(By.CSS_SELECTOR, 'a.oddsCell__odd')[0].text\n",
    "            Odds_D = linha.find_elements(By.CSS_SELECTOR, 'a.oddsCell__odd')[1].text\n",
    "            Odds_A = linha.find_elements(By.CSS_SELECTOR, 'a.oddsCell__odd')[2].text\n",
    "    except:\n",
    "        continue  # Skip to the next iteration if odds information retrieval fails\n",
    "\n",
    "    print(Date, Time, Country, League, Home, Away, Odds_H, Odds_D, Odds_A)\n",
    "    \n",
    "    jogo['Date'].append(Date)\n",
    "    jogo['Time'].append(Time)\n",
    "    jogo['Country'].append(Country)\n",
    "    jogo['League'].append(League)\n",
    "    jogo['Home'].append(Home)\n",
    "    jogo['Away'].append(Away)\n",
    "    jogo['Odds_H'].append(Odds_H)\n",
    "    jogo['Odds_D'].append(Odds_D)\n",
    "    jogo['Odds_A'].append(Odds_A)\n",
    "\n",
    "df = pd.DataFrame(jogo)\n",
    "df.reset_index(inplace=True, drop=True)\n",
    "df.index = df.index.set_names(['Nº'])\n",
    "df = df.rename(index=lambda x: x + 1)\n",
    "\n",
    "# filtrando o df\n",
    "\n",
    "df_filtered = df[(df['Country'].str.contains('ENGLAND|GERMANY|SPAIN|ITALY|FRANCE|BRAZIL|PORTUGAL|NETHERLANDS|BELGIUM|AUSTRALIA'))]\n",
    "df_filtered = df_filtered[(df_filtered['League'].str.contains('PREMIER LEAGUE|BUNDESLIGA|LALIGA|LIGUE 1|SERIE A|LIGA PORTUGAL|EREDIVISIE|JUPILER PRO LEAGUE|A-LEAGUE'))]\n",
    "df_filtered = df_filtered[~(df_filtered['League'].str.contains('LALIGA2|2. BUNDESLIGA|WOMEN|JUNIOREN|PLAY OFFS|RELEGATION|CUP|LIGA PORTUGAL 2'))]\n",
    "df_filtered['Date'] = pd.to_datetime(df_filtered['Date'].str.replace('.', '/'), format='%d/%m/%Y').dt.date\n",
    "df_filtered = df_filtered.sort_values(by=['Date', 'Country'])"
   ]
  },
  {
   "cell_type": "code",
   "execution_count": null,
   "id": "d4834f20",
   "metadata": {},
   "outputs": [],
   "source": [
    "# renomeando\n",
    "df_odds = df_filtered\n",
    "\n",
    "# ajustando nomes dos times para ficar igual ao das outras bases\n",
    "df_odds = df_odds.replace({'Home' : { 'Leeds' : 'Leeds United',\n",
    "                                        'Leicester' : 'Leicester City',\n",
    "                                        'Wolves' : 'Wolverhampton Wanderers',\n",
    "                                        'Hertha Berlin' : 'Hertha BSC',\n",
    "                                        'Mainz' : 'Mainz 05',\n",
    "                                        'Verona' : 'Hellas Verona',\n",
    "                                        'Manchester Utd' : 'Manchester United',\n",
    "                                        'AC Ajaccio' : 'Ajaccio',\n",
    "                                        'B. Monchengladbach' : 'Monchengladbach',\n",
    "                                        'AC Milan' : 'Milan',\n",
    "                                        'Betis' : 'Real Betis',\n",
    "                                        'Tottenham' : 'Tottenham Hotspur',\n",
    "                                        'Brighton' : 'Brighton and Hove Albion',\n",
    "                                        'Nottingham' : 'Nottingham Forest',                                 \n",
    "                                        'Schalke' : 'Schalke 04',\n",
    "                                        'Inter' : 'Internazionale',\n",
    "                                        'Ath Bilbao' : 'Athletic Club',\n",
    "                                        'Cadiz CF' : 'Cadiz',\n",
    "                                        'West Ham' : 'West Ham United',\n",
    "                                        'Newcastle' : 'Newcastle United',\n",
    "                                        'Clermont' : 'Clermont Foot',\n",
    "                                        'Sheffield Utd' : 'Sheffield United',\n",
    "                                        'Luton' : 'Luton Town',\n",
    "                                        'Paris SG' : 'Paris Saint Germain',\n",
    "                                        'FC Koln' : 'Koln',\n",
    "                                        'AS Roma' : 'Roma',\n",
    "                                        'Atl. Madrid' : 'Atletico Madrid',\n",
    "                                        'Atletico-MG' : 'Atletico Mineiro',\n",
    "                                        'Flamengo RJ' : 'Flamengo',\n",
    "                                        'Athletico-PR' : 'Athletico Paranaense',\n",
    "                                        'Vasco' : 'Vasco da Gama',\n",
    "                                        'SC Farense': 'Farense',\n",
    "                                        'Gil Vicente': 'Gil Vicente FC',\n",
    "                                        'FC Porto': 'Porto',\n",
    "                                        'FC Volendam': 'Volendam',\n",
    "                                        'G.A. Eagles': 'Go Ahead Eagles',\n",
    "                                        'Heracles': 'Heracles Almelo',\n",
    "                                        'Nijmegen': 'NEC Nijmegen',\n",
    "                                        'PSV': 'PSV Eindhoven',\n",
    "                                        'Sittard': 'Fortuna Sittard',\n",
    "                                        'Waalwijk': 'RKC Waalwijk',\n",
    "                                        'Cercle Brugge KSV': 'Cercle Brugge',\n",
    "                                        'Club Brugge KV': 'Club Brugge',\n",
    "                                        'KV Mechelen': 'Mechelen',\n",
    "                                        'Leuven': 'OH Leuven',\n",
    "                                        'Royale Union SG': 'Union SG',\n",
    "                                        'RWDM': 'RWD Molenbeek',\n",
    "                                        'St. Liege': 'Standard Liege',\n",
    "                                        'St. Truiden': 'Sint Truiden',\n",
    "                                        'WS Wanderers': 'Western Sydney Wanderers'\n",
    "                                        }})\n",
    "\n",
    "df_odds = df_odds.replace({'Away' : { 'Leeds' : 'Leeds United',\n",
    "                                        'Leicester' : 'Leicester City',\n",
    "                                        'Wolves' : 'Wolverhampton Wanderers',\n",
    "                                        'Hertha Berlin' : 'Hertha BSC',\n",
    "                                        'Mainz' : 'Mainz 05',\n",
    "                                        'Verona' : 'Hellas Verona',\n",
    "                                        'Manchester Utd' : 'Manchester United',\n",
    "                                        'AC Ajaccio' : 'Ajaccio',\n",
    "                                        'B. Monchengladbach' : 'Monchengladbach',\n",
    "                                        'AC Milan' : 'Milan',\n",
    "                                        'Betis' : 'Real Betis',\n",
    "                                        'Tottenham' : 'Tottenham Hotspur',\n",
    "                                        'Brighton' : 'Brighton and Hove Albion',\n",
    "                                        'Nottingham' : 'Nottingham Forest',                                 \n",
    "                                        'Schalke' : 'Schalke 04',\n",
    "                                        'Inter' : 'Internazionale',\n",
    "                                        'Ath Bilbao' : 'Athletic Club',\n",
    "                                        'Cadiz CF' : 'Cadiz',\n",
    "                                        'West Ham' : 'West Ham United',\n",
    "                                        'Newcastle' : 'Newcastle United',\n",
    "                                        'Clermont' : 'Clermont Foot',\n",
    "                                        'Sheffield Utd' : 'Sheffield United',\n",
    "                                        'Luton' : 'Luton Town',\n",
    "                                        'Paris SG' : 'Paris Saint Germain',\n",
    "                                        'FC Koln' : 'Koln',\n",
    "                                        'AS Roma' : 'Roma',\n",
    "                                        'Atl. Madrid' : 'Atletico Madrid',\n",
    "                                        'Atletico-MG' : 'Atletico Mineiro',\n",
    "                                        'Flamengo RJ' : 'Flamengo',\n",
    "                                        'Athletico-PR' : 'Atletico Paranaense',\n",
    "                                        'Vasco' : 'Vasco da Gama',\n",
    "                                        'SC Farense': 'Farense',\n",
    "                                        'Gil Vicente': 'Gil Vicente FC',\n",
    "                                        'FC Porto': 'Porto',\n",
    "                                        'FC Volendam': 'Volendam',\n",
    "                                        'G.A. Eagles': 'Go Ahead Eagles',\n",
    "                                        'Heracles': 'Heracles Almelo',\n",
    "                                        'Nijmegen': 'NEC Nijmegen',\n",
    "                                        'PSV': 'PSV Eindhoven',\n",
    "                                        'Sittard': 'Fortuna Sittard',\n",
    "                                        'Waalwijk': 'RKC Waalwijk',\n",
    "                                        'Cercle Brugge KSV': 'Cercle Brugge',\n",
    "                                        'Club Brugge KV': 'Club Brugge',\n",
    "                                        'KV Mechelen': 'Mechelen',\n",
    "                                        'Leuven': 'OH Leuven',\n",
    "                                        'Royale Union SG': 'Union SG',\n",
    "                                        'RWDM': 'RWD Molenbeek',\n",
    "                                        'St. Liege': 'Standard Liege',\n",
    "                                        'St. Truiden': 'Sint Truiden',\n",
    "                                        'WS Wanderers': 'Western Sydney Wanderers'\n",
    "                                        }})\n",
    "\n",
    "df_odds = df_odds.reset_index()"
   ]
  },
  {
   "cell_type": "code",
   "execution_count": null,
   "id": "867eb724",
   "metadata": {},
   "outputs": [],
   "source": [
    "df_odds.to_excel('df_odds.xlsx')"
   ]
  },
  {
   "cell_type": "code",
   "execution_count": null,
   "id": "73c93c0c",
   "metadata": {},
   "outputs": [
    {
     "name": "stdout",
     "output_type": "stream",
     "text": [
      "     Nº        Date   Time  Country                         League  \\\n",
      "0    24  2023-12-26  09:30  BELGIUM  JUPILER PRO LEAGUE - ROUND 20   \n",
      "1    25  2023-12-26  12:00  BELGIUM  JUPILER PRO LEAGUE - ROUND 20   \n",
      "2    26  2023-12-26  12:00  BELGIUM  JUPILER PRO LEAGUE - ROUND 20   \n",
      "3    27  2023-12-26  14:30  BELGIUM  JUPILER PRO LEAGUE - ROUND 20   \n",
      "4    28  2023-12-26  16:45  BELGIUM  JUPILER PRO LEAGUE - ROUND 20   \n",
      "5    17  2023-12-26  09:30  ENGLAND      PREMIER LEAGUE - ROUND 19   \n",
      "6    18  2023-12-26  12:00  ENGLAND      PREMIER LEAGUE - ROUND 19   \n",
      "7    19  2023-12-26  12:00  ENGLAND      PREMIER LEAGUE - ROUND 19   \n",
      "8    20  2023-12-26  14:30  ENGLAND      PREMIER LEAGUE - ROUND 19   \n",
      "9    21  2023-12-26  17:00  ENGLAND      PREMIER LEAGUE - ROUND 19   \n",
      "10  119  2023-12-27  14:30  BELGIUM  JUPILER PRO LEAGUE - ROUND 20   \n",
      "11  120  2023-12-27  16:45  BELGIUM  JUPILER PRO LEAGUE - ROUND 20   \n",
      "12  121  2023-12-27  16:45  BELGIUM  JUPILER PRO LEAGUE - ROUND 20   \n",
      "13  116  2023-12-27  16:30  ENGLAND      PREMIER LEAGUE - ROUND 19   \n",
      "14  117  2023-12-27  16:30  ENGLAND      PREMIER LEAGUE - ROUND 19   \n",
      "15  118  2023-12-27  17:15  ENGLAND      PREMIER LEAGUE - ROUND 19   \n",
      "\n",
      "                 Home                     Away Odds_H Odds_D Odds_A  \n",
      "0                Genk                  Antwerp   2.05   3.75   3.25  \n",
      "1            Kortrijk                     Gent   8.50   5.00   1.35  \n",
      "2           OH Leuven                    Eupen   1.85   4.00   3.75  \n",
      "3            Westerlo            RWD Molenbeek   1.87   3.60   4.00  \n",
      "4         Club Brugge                 Union SG   2.25   3.50   3.00  \n",
      "5    Newcastle United        Nottingham Forest   1.50   4.60   6.90  \n",
      "6         Bournemouth                   Fulham   2.20   3.70   3.25  \n",
      "7    Sheffield United               Luton Town   2.50   3.40   2.98  \n",
      "8             Burnley                Liverpool   8.20   5.40   1.38  \n",
      "9   Manchester United              Aston Villa   2.65   3.65   2.65  \n",
      "10     Standard Liege             Sint Truiden   2.35   3.40   2.95  \n",
      "11         Anderlecht            Cercle Brugge   1.87   3.75   3.75  \n",
      "12          Charleroi                 Mechelen   2.10   3.40   3.40  \n",
      "13          Brentford  Wolverhampton Wanderers   2.00   3.65   3.85  \n",
      "14            Chelsea           Crystal Palace   1.78   3.90   4.65  \n",
      "15            Everton          Manchester City   5.90   4.30   1.58  \n"
     ]
    }
   ],
   "source": [
    "print(df_odds)"
   ]
  },
  {
   "cell_type": "code",
   "execution_count": null,
   "id": "13e40011",
   "metadata": {},
   "outputs": [
    {
     "name": "stdout",
     "output_type": "stream",
     "text": [
      "   points_last_season_ratio  pont_rolling_ratio  gf_rolling_ratio  \\\n",
      "0                  1.041667                1.75               1.8   \n",
      "\n",
      "   ga_rolling_ratio  last_2_results  \n",
      "0              0.75             1.0  \n",
      "   points_last_season_ratio  pont_rolling_ratio  gf_rolling_ratio  \\\n",
      "0                  0.553571                 0.0               0.2   \n",
      "\n",
      "   ga_rolling_ratio  last_2_results  \n",
      "0               1.6             0.0  \n",
      "   points_last_season_ratio  pont_rolling_ratio  gf_rolling_ratio  \\\n",
      "0                  1.714286                 0.0               1.0   \n",
      "\n",
      "   ga_rolling_ratio  last_2_results  \n",
      "0               1.0             1.0  \n",
      "   points_last_season_ratio  pont_rolling_ratio  gf_rolling_ratio  \\\n",
      "0                  1.457143            1.333333               1.5   \n",
      "\n",
      "   ga_rolling_ratio  last_2_results  \n",
      "0          0.857143             1.0  \n",
      "   points_last_season_ratio  pont_rolling_ratio  gf_rolling_ratio  \\\n",
      "0                  0.786667                 1.0          0.666667   \n",
      "\n",
      "   ga_rolling_ratio  last_2_results  \n",
      "0               0.0             3.0  \n",
      "   points_last_season_ratio  pont_rolling_ratio  gf_rolling_ratio  \\\n",
      "0                  1.868421                 9.0          2.666667   \n",
      "\n",
      "   ga_rolling_ratio  last_2_results  \n",
      "0          0.111111             6.0  \n",
      "   points_last_season_ratio  pont_rolling_ratio  gf_rolling_ratio  \\\n",
      "0                      0.75                 7.0               1.5   \n",
      "\n",
      "   ga_rolling_ratio  last_2_results  \n",
      "0               0.3             4.0  \n",
      "   points_last_season_ratio  pont_rolling_ratio  gf_rolling_ratio  \\\n",
      "0                       1.0                 3.0               1.0   \n",
      "\n",
      "   ga_rolling_ratio  last_2_results  \n",
      "0          0.714286               1  \n",
      "   points_last_season_ratio  pont_rolling_ratio  gf_rolling_ratio  \\\n",
      "0                  0.522388            0.428571               1.2   \n",
      "\n",
      "   ga_rolling_ratio  last_2_results  \n",
      "0               2.0             0.0  \n",
      "   points_last_season_ratio  pont_rolling_ratio  gf_rolling_ratio  \\\n",
      "0                  1.229508            0.857143               0.5   \n",
      "\n",
      "   ga_rolling_ratio  last_2_results  \n",
      "0               1.0             3.0  \n",
      "   points_last_season_ratio  pont_rolling_ratio  gf_rolling_ratio  \\\n",
      "0                  1.309524                1.25               0.4   \n",
      "\n",
      "   ga_rolling_ratio  last_2_results  \n",
      "0          0.166667             1.0  \n",
      "   points_last_season_ratio  pont_rolling_ratio  gf_rolling_ratio  \\\n",
      "0                      0.92                1.75               2.0   \n",
      "\n",
      "   ga_rolling_ratio  last_2_results  \n",
      "0          1.333333             6.0  \n",
      "   points_last_season_ratio  pont_rolling_ratio  gf_rolling_ratio  \\\n",
      "0                       1.2                0.75              1.25   \n",
      "\n",
      "   ga_rolling_ratio  last_2_results  \n",
      "0               4.0             1.0  \n",
      "   points_last_season_ratio  pont_rolling_ratio  gf_rolling_ratio  \\\n",
      "0                  1.439024                 3.0          1.333333   \n",
      "\n",
      "   ga_rolling_ratio  last_2_results  \n",
      "0               0.5             1.0  \n",
      "   points_last_season_ratio  pont_rolling_ratio  gf_rolling_ratio  \\\n",
      "0                  0.977778                 2.0              1.75   \n",
      "\n",
      "   ga_rolling_ratio  last_2_results  \n",
      "0               1.6             6.0  \n",
      "   points_last_season_ratio  pont_rolling_ratio  gf_rolling_ratio  \\\n",
      "0                  0.404494                 1.5          0.833333   \n",
      "\n",
      "   ga_rolling_ratio  last_2_results  \n",
      "0               0.5             1.0  \n"
     ]
    }
   ],
   "source": [
    "prediction_home = []\n",
    "for i in range(0, len(df_odds)):\n",
    "    pred = ratio(df_rolling, df_odds['Home'][i], df_odds['Away'][i])\n",
    "    pred['last_2_results'] = last_2_results(df_rolling, df_odds['Home'][i], df_odds['Away'][i])\n",
    "    print(pred)"
   ]
  },
  {
   "cell_type": "code",
   "execution_count": null,
   "id": "5eac3ba1",
   "metadata": {},
   "outputs": [],
   "source": [
    "# previsões de ml\n",
    "prediction_home = []\n",
    "for i in range(0, len(df_odds)):\n",
    "    pred = ratio(df_rolling, df_odds['Home'][i], df_odds['Away'][i])\n",
    "    pred['last_2_results'] = last_2_results(df_rolling, df_odds['Home'][i], df_odds['Away'][i])\n",
    "    \n",
    "    # Check if there are any NaN values in 'pred' DataFrame\n",
    "    if pred.isnull().values.any():\n",
    "        prediction = None  # Skip prediction for this row\n",
    "    else:\n",
    "        # Handle missing values in 'pred' DataFrame, if any\n",
    "        pred.fillna(0, inplace=True)\n",
    "\n",
    "        prediction = ml.predict_proba(pred)[0][1]\n",
    "        \n",
    "    prediction_home.append(prediction)"
   ]
  },
  {
   "cell_type": "code",
   "execution_count": null,
   "id": "fe2d3f02",
   "metadata": {},
   "outputs": [],
   "source": [
    "# adicionando coluna\n",
    "df_odds['Pred_H'] = prediction_home\n",
    "df_odds['Pred_A'] = 1 - df_odds['Pred_H']\n",
    "\n",
    "# formatando\n",
    "df_odds['Pred_H'] = df_odds['Pred_H'].round(2)\n",
    "df_odds['Pred_A'] = df_odds['Pred_A'].round(2)"
   ]
  },
  {
   "cell_type": "code",
   "execution_count": null,
   "id": "b0a38bc5",
   "metadata": {},
   "outputs": [
    {
     "name": "stdout",
     "output_type": "stream",
     "text": [
      "     Nº        Date   Time  Country                         League  \\\n",
      "0    24  2023-12-26  09:30  BELGIUM  JUPILER PRO LEAGUE - ROUND 20   \n",
      "1    25  2023-12-26  12:00  BELGIUM  JUPILER PRO LEAGUE - ROUND 20   \n",
      "2    26  2023-12-26  12:00  BELGIUM  JUPILER PRO LEAGUE - ROUND 20   \n",
      "3    27  2023-12-26  14:30  BELGIUM  JUPILER PRO LEAGUE - ROUND 20   \n",
      "4    28  2023-12-26  16:45  BELGIUM  JUPILER PRO LEAGUE - ROUND 20   \n",
      "5    17  2023-12-26  09:30  ENGLAND      PREMIER LEAGUE - ROUND 19   \n",
      "6    18  2023-12-26  12:00  ENGLAND      PREMIER LEAGUE - ROUND 19   \n",
      "7    19  2023-12-26  12:00  ENGLAND      PREMIER LEAGUE - ROUND 19   \n",
      "8    20  2023-12-26  14:30  ENGLAND      PREMIER LEAGUE - ROUND 19   \n",
      "9    21  2023-12-26  17:00  ENGLAND      PREMIER LEAGUE - ROUND 19   \n",
      "10  119  2023-12-27  14:30  BELGIUM  JUPILER PRO LEAGUE - ROUND 20   \n",
      "11  120  2023-12-27  16:45  BELGIUM  JUPILER PRO LEAGUE - ROUND 20   \n",
      "12  121  2023-12-27  16:45  BELGIUM  JUPILER PRO LEAGUE - ROUND 20   \n",
      "13  116  2023-12-27  16:30  ENGLAND      PREMIER LEAGUE - ROUND 19   \n",
      "14  117  2023-12-27  16:30  ENGLAND      PREMIER LEAGUE - ROUND 19   \n",
      "15  118  2023-12-27  17:15  ENGLAND      PREMIER LEAGUE - ROUND 19   \n",
      "\n",
      "                 Home                     Away Odds_H Odds_D Odds_A  Pred_H  \\\n",
      "0                Genk                  Antwerp   2.05   3.75   3.25    0.59   \n",
      "1            Kortrijk                     Gent   8.50   5.00   1.35    0.33   \n",
      "2           OH Leuven                    Eupen   1.85   4.00   3.75    0.78   \n",
      "3            Westerlo            RWD Molenbeek   1.87   3.60   4.00    0.72   \n",
      "4         Club Brugge                 Union SG   2.25   3.50   3.00    0.50   \n",
      "5    Newcastle United        Nottingham Forest   1.50   4.60   6.90    0.89   \n",
      "6         Bournemouth                   Fulham   2.20   3.70   3.25    0.54   \n",
      "7    Sheffield United               Luton Town   2.50   3.40   2.98    0.57   \n",
      "8             Burnley                Liverpool   8.20   5.40   1.38    0.33   \n",
      "9   Manchester United              Aston Villa   2.65   3.65   2.65    0.62   \n",
      "10     Standard Liege             Sint Truiden   2.35   3.40   2.95    0.68   \n",
      "11         Anderlecht            Cercle Brugge   1.87   3.75   3.75    0.54   \n",
      "12          Charleroi                 Mechelen   2.10   3.40   3.40    0.51   \n",
      "13          Brentford  Wolverhampton Wanderers   2.00   3.65   3.85    0.74   \n",
      "14            Chelsea           Crystal Palace   1.78   3.90   4.65    0.55   \n",
      "15            Everton          Manchester City   5.90   4.30   1.58    0.34   \n",
      "\n",
      "    Pred_A  \n",
      "0     0.41  \n",
      "1     0.67  \n",
      "2     0.22  \n",
      "3     0.28  \n",
      "4     0.50  \n",
      "5     0.11  \n",
      "6     0.46  \n",
      "7     0.43  \n",
      "8     0.67  \n",
      "9     0.38  \n",
      "10    0.32  \n",
      "11    0.46  \n",
      "12    0.49  \n",
      "13    0.26  \n",
      "14    0.45  \n",
      "15    0.66  \n"
     ]
    }
   ],
   "source": [
    "print(df_odds)"
   ]
  },
  {
   "cell_type": "code",
   "execution_count": 1,
   "id": "7a97996a",
   "metadata": {},
   "outputs": [],
   "source": [
    "# imports\n",
    "import base64\n",
    "from pickle import TRUE\n",
    "import requests\n",
    "import pandas as pd\n",
    "import requests\n",
    "import time\n",
    "from bs4 import BeautifulSoup\n",
    "import warnings\n",
    "from git import Repo\n",
    "from tqdm import tqdm\n",
    "from selenium.webdriver.common.by import By\n",
    "from selenium import webdriver\n",
    "from selenium.webdriver.chrome.service import Service\n",
    "from webdriver_manager.chrome import ChromeDriverManager\n",
    "import os\n",
    "import base64\n",
    "import joblib\n",
    "from io import BytesIO\n",
    "from github import Github\n",
    "from io import StringIO\n",
    "import creds\n",
    "\n",
    "warnings.filterwarnings(\"ignore\")"
   ]
  },
  {
   "cell_type": "code",
   "execution_count": 2,
   "id": "862abacf",
   "metadata": {},
   "outputs": [],
   "source": [
    "# df_rolling\n",
    "url_df = 'https://github.com/alanhassan/soccerprediction/blob/main/df_rolling.csv?raw=true'\n",
    "data = requests.get(url_df).content\n",
    "df_rolling = pd.read_csv(BytesIO(data))\n",
    "\n",
    "# match_df_final\n",
    "url_df_l2r = 'https://github.com/alanhassan/soccerprediction/blob/main/match_df_final_all.csv?raw=true'\n",
    "data_l2r = requests.get(url_df_l2r).content\n",
    "match_df_final_all = pd.read_csv(BytesIO(data_l2r))\n",
    "\n",
    "#get ml model from github\n",
    "url_ml = 'https://github.com/alanhassan/soccerprediction/blob/main/best_lr.pkl?raw=true'\n",
    "\n",
    "file = BytesIO(requests.get(url_ml).content)\n",
    "\n",
    "ml = joblib.load(file)\n",
    "\n",
    "ml.fitted_ = True\n",
    "\n",
    "\n",
    "# funções \n",
    "# func home\n",
    "def home(df, team):\n",
    "    df = df.sort_values(by=['date'])\n",
    "    df = df[df['home'] == f'{team}'][-1:].drop(columns = ['date', 'comp', 'home', 'away',\n",
    "                                                            'gf_rolling_away', 'ga_rolling_away',\n",
    "                                                            'pont_rolling_away', 'Points last season_away'\n",
    "                                                            ], inplace=False)\n",
    "    df.rename(columns={\"gf_rolling_home\": \"gf_rolling\",\n",
    "                            \"ga_rolling_home\": \"ga_rolling\",\n",
    "                            \"pont_rolling_home\": \"pont_rolling\",\n",
    "                            \"Points last season_home\": \"Points last season\"}, inplace=True)\n",
    "    df = df[['Points last season', 'pont_rolling', 'gf_rolling', 'ga_rolling']].reset_index(drop=True)\n",
    "    return df\n",
    "\n",
    "# func away\n",
    "def away(df, team):\n",
    "    df = df.sort_values(by=['date'])\n",
    "    df = df[df['away'] == f'{team}'][-1:].drop(columns = ['date', 'comp', 'home', 'away',\n",
    "                                                            'gf_rolling_home', 'ga_rolling_home',\n",
    "                                                            'pont_rolling_home', 'Points last season_home'\n",
    "                                                            ], inplace=False)\n",
    "    df.rename(columns={\"gf_rolling_away\": \"gf_rolling\",\n",
    "                            \"ga_rolling_away\": \"ga_rolling\",\n",
    "                            \"pont_rolling_away\": \"pont_rolling\",\n",
    "                            \"Points last season_away\": \"Points last season\"}, inplace=True)\n",
    "    df = df[['Points last season', 'pont_rolling', 'gf_rolling', 'ga_rolling']].reset_index(drop=True)\n",
    "    df['pont_rolling'].replace(0, 1, inplace=True)\n",
    "    df['gf_rolling'].replace(0, 1, inplace=True)\n",
    "    df['ga_rolling'].replace(0, 1, inplace=True)\n",
    "    return df\n",
    "\n",
    "# func ratio\n",
    "def ratio(df, team1, team2):\n",
    "    df = home(df, f'{team1}')/away(df, f'{team2}')\n",
    "    df.rename(columns={\"Points last season\": \"points_last_season_ratio\",\n",
    "                        \"pont_rolling\": \"pont_rolling_ratio\",\n",
    "                        \"gf_rolling\": \"gf_rolling_ratio\",\n",
    "                        \"ga_rolling\": \"ga_rolling_ratio\"}, inplace=True)\n",
    "    return df\n",
    "\n",
    "# func for 'last_2_results'\n",
    "def last_2_results(df, team1, team2):\n",
    "    df = match_df_final_all.sort_values(by='date').reset_index(drop=True)\n",
    "    length = df[(df['team'] == f'{team1}') & (df['opponent'] == f'{team2}')].shape[0]\n",
    "    if length >= 2:\n",
    "        last_2_results_sum = df[(df['team'] == f'{team1}') & (df['opponent'] == f'{team2}')].iloc[-1]['last_2_results_sum']\n",
    "    elif length == 1:\n",
    "        last_2_results_sum = df[(df['team'] == f'{team1}') & (df['opponent'] == f'{team2}')].iloc[-1]['pont']\n",
    "    elif length == 0:\n",
    "        last_2_results_sum = 1\n",
    "    return last_2_results_sum\n",
    "\n",
    "\n",
    "# Function to push DataFrame to GitHub\n",
    "def push_dataframe_to_github(dataframe, file_name, repository):\n",
    "    # Convert DataFrame to CSV in-memory\n",
    "    csv_data = StringIO()\n",
    "    dataframe.to_csv(csv_data, index=False)\n",
    "    csv_content = csv_data.getvalue()\n",
    "\n",
    "    # Encode content to Base64\n",
    "    encoded_content = base64.b64encode(csv_content.encode()).decode()\n",
    "\n",
    "    # Check if the file exists\n",
    "    url_get = f'https://api.github.com/repos/{username}/{repository}/contents/{file_name}'\n",
    "    headers_get = {'Authorization': f'token {creds.token}'}\n",
    "\n",
    "    response_get = requests.get(url_get, headers=headers_get)\n",
    "    response_get_json = response_get.json()\n",
    "\n",
    "    # Extract the SHA from the response\n",
    "    current_sha = response_get_json.get('sha')\n",
    "\n",
    "    # Push data directly to GitHub using GitHub API\n",
    "    url_put = f'https://api.github.com/repos/{username}/{repository}/contents/{file_name}'\n",
    "    headers_put = {\n",
    "        'Authorization': f'token {creds.token}',\n",
    "        'Content-Type': 'application/json'\n",
    "    }\n",
    "\n",
    "    data_put = {\n",
    "        'message': f'Update {file_name}',\n",
    "        'content': encoded_content\n",
    "    }\n",
    "\n",
    "    # If the file exists, update it; otherwise, create it\n",
    "    if current_sha is not None:\n",
    "        data_put['sha'] = current_sha\n",
    "\n",
    "    response_put = requests.put(url_put, headers=headers_put, json=data_put)\n",
    "\n",
    "    if response_put.status_code == 200:\n",
    "        print(f'Data pushed to {file_name} on GitHub successfully!')\n",
    "    elif response_put.status_code == 201:\n",
    "        print(f'{file_name} created on GitHub successfully!')\n",
    "    else:\n",
    "        print(f'Error: {response_put.status_code}, {response_put.text}')\n",
    "\n",
    "\n",
    "\n",
    "service=Service(ChromeDriverManager().install())\n",
    "\n",
    "# Instanciando o Objeto ChromeOptions\n",
    "options = webdriver.ChromeOptions()\n",
    "\n",
    "# Passando algumas opções para esse ChromeOptions\n",
    "options.add_argument('--headless')\n",
    "options.add_argument('--no-sandbox')\n",
    "options.add_argument('--disable-dev-shm-usage')\n",
    "\n",
    "\n",
    "# GitHub repository details\n",
    "username = 'alanhassan'\n",
    "repository = 'soccerprediction'"
   ]
  },
  {
   "cell_type": "code",
   "execution_count": 3,
   "id": "88c5f013",
   "metadata": {},
   "outputs": [
    {
     "name": "stderr",
     "output_type": "stream",
     "text": [
      "100%|██████████| 627/627 [43:54<00:00,  4.20s/it]\n"
     ]
    },
    {
     "name": "stdout",
     "output_type": "stream",
     "text": [
      "Data pushed to df_odds.csv on GitHub successfully!\n"
     ]
    }
   ],
   "source": [
    "# conectando com github\n",
    "\n",
    "#token\n",
    "\n",
    "# key = os.environ.get('API_Key')\n",
    "# g = Github(key)\n",
    "\n",
    "# #repositório\n",
    "# repo = g.get_repo(\"alanhassan/soccerprediction\")\n",
    "\n",
    "\n",
    "# Criação do WebDriver do Chrome\n",
    "wd_Chrome = webdriver.Chrome(service=service, options=options)\n",
    "\n",
    "# Com o WebDrive a gente consegue a pedir a página (URL)\n",
    "wd_Chrome.get(\"https://www.flashscore.com/\")\n",
    "\n",
    "# Fechando Botão de Cookies\n",
    "try:\n",
    "    button_cookies = wd_Chrome.find_element(By.CSS_SELECTOR,'button#onetrust-accept-btn-handler')\n",
    "    button_cookies.click()\n",
    "except:\n",
    "    pass\n",
    "\n",
    "ids = []  # create an empty list to store IDs\n",
    "\n",
    "time.sleep(5)\n",
    "for i in range(5):\n",
    "\n",
    "    # jogos de hoje\n",
    "\n",
    "    # Pegando o ID dos Jogos\n",
    "    id_jogos = []\n",
    "    jogos = wd_Chrome.find_elements(By.CSS_SELECTOR,'div.event__match--scheduled')\n",
    "\n",
    "    for i in jogos:\n",
    "        id_jogos.append(i.get_attribute(\"id\"))\n",
    "\n",
    "    # Exemplo de ID de um jogo: 'g_1_Gb7buXVt'    \n",
    "    id_jogos = [i[4:] for i in id_jogos]\n",
    "    \n",
    "    ids.append(id_jogos)\n",
    "\n",
    "    # Selecionando o dia de amanhã\n",
    "    wd_Chrome.find_element(By.CSS_SELECTOR,'button.calendar__navigation--tomorrow').click()\n",
    "    time.sleep(3)\n",
    "        \n",
    "    i=+1\n",
    "\n",
    "jogo = {'Date':[],'Time':[],'Country':[],'League':[],'Home':[],'Away':[],'Odds_H':[],'Odds_D':[],'Odds_A':[]}    \n",
    "\n",
    "final_ids = []\n",
    "for sublist in ids:\n",
    "    final_ids.extend(sublist)\n",
    "\n",
    "\n",
    "# Pegando as Informacoes Básicas do Jogo\n",
    "for link in tqdm(final_ids, total=len(final_ids)):\n",
    "    wd_Chrome.get(f'https://www.flashscore.com/match/{link}/#/match-summary')\n",
    "    \n",
    "    try:\n",
    "        Date = wd_Chrome.find_element(By.CSS_SELECTOR, 'div.duelParticipant__startTime').text.split(' ')[0]\n",
    "        Time = wd_Chrome.find_element(By.CSS_SELECTOR, 'div.duelParticipant__startTime').text.split(' ')[1]\n",
    "        Country = wd_Chrome.find_element(By.CSS_SELECTOR, 'span.tournamentHeader__country').text.split(':')[0]\n",
    "        League = wd_Chrome.find_element(By.CSS_SELECTOR, 'span.tournamentHeader__country')\n",
    "        League = League.find_element(By.CSS_SELECTOR, 'a').text\n",
    "        Home = wd_Chrome.find_element(By.CSS_SELECTOR, 'div.duelParticipant__home')\n",
    "        Home = Home.find_element(By.CSS_SELECTOR, 'div.participant__participantName').text\n",
    "        Away = wd_Chrome.find_element(By.CSS_SELECTOR, 'div.duelParticipant__away')\n",
    "        Away = Away.find_element(By.CSS_SELECTOR, 'div.participant__participantName').text\n",
    "    except:\n",
    "        continue  # Skip to the next iteration if basic information retrieval fails\n",
    "\n",
    "    # Match Odds\n",
    "    try:\n",
    "        wd_Chrome.get(f'https://www.flashscore.com/match/{link}/#/odds-comparison/1x2-odds/full-time')\n",
    "        time.sleep(2)\n",
    "\n",
    "        # Check if redirected to match summary page\n",
    "        if 'match-summary' in wd_Chrome.current_url:\n",
    "            continue  # Skip to the next iteration if redirected to match summary page\n",
    "\n",
    "        linhas = wd_Chrome.find_elements(By.CSS_SELECTOR, 'div.ui-table__row')\n",
    "\n",
    "        for linha in linhas:\n",
    "            Odds_H = linha.find_elements(By.CSS_SELECTOR, 'a.oddsCell__odd')[0].text\n",
    "            Odds_D = linha.find_elements(By.CSS_SELECTOR, 'a.oddsCell__odd')[1].text\n",
    "            Odds_A = linha.find_elements(By.CSS_SELECTOR, 'a.oddsCell__odd')[2].text\n",
    "    except:\n",
    "        continue  # Skip to the next iteration if odds information retrieval fails\n",
    "\n",
    "    #print(Date, Time, Country, League, Home, Away, Odds_H, Odds_D, Odds_A)\n",
    "    \n",
    "    jogo['Date'].append(Date)\n",
    "    jogo['Time'].append(Time)\n",
    "    jogo['Country'].append(Country)\n",
    "    jogo['League'].append(League)\n",
    "    jogo['Home'].append(Home)\n",
    "    jogo['Away'].append(Away)\n",
    "    jogo['Odds_H'].append(Odds_H)\n",
    "    jogo['Odds_D'].append(Odds_D)\n",
    "    jogo['Odds_A'].append(Odds_A)\n",
    "\n",
    "df = pd.DataFrame(jogo)\n",
    "df.reset_index(inplace=True, drop=True)\n",
    "df.index = df.index.set_names(['Nº'])\n",
    "df = df.rename(index=lambda x: x + 1)\n",
    "\n",
    "# filtrando o df\n",
    "\n",
    "df_filtered = df[(df['Country'].str.contains('ENGLAND|GERMANY|SPAIN|ITALY|FRANCE|BRAZIL|PORTUGAL|NETHERLANDS|BELGIUM|AUSTRALIA'))]\n",
    "df_filtered = df_filtered[(df_filtered['League'].str.contains('PREMIER LEAGUE|BUNDESLIGA|LALIGA|LIGUE 1|SERIE A|LIGA PORTUGAL|EREDIVISIE|JUPILER PRO LEAGUE|A-LEAGUE'))]\n",
    "df_filtered = df_filtered[~(df_filtered['League'].str.contains('LALIGA2|2. BUNDESLIGA|WOMEN|JUNIOREN|PLAY OFFS|RELEGATION|CUP|LIGA PORTUGAL 2'))]\n",
    "df_filtered['Date'] = pd.to_datetime(df_filtered['Date'].str.replace('.', '/'), format='%d/%m/%Y').dt.date\n",
    "df_filtered = df_filtered.sort_values(by=['Date', 'Country'])\n",
    "\n",
    "# renomeando\n",
    "df_odds = df_filtered\n",
    "\n",
    "# ajustando nomes dos times para ficar igual ao das outras bases\n",
    "df_odds = df_odds.replace({'Home' : { 'Leeds' : 'Leeds United',\n",
    "                                        'Leicester' : 'Leicester City',\n",
    "                                        'Wolves' : 'Wolverhampton Wanderers',\n",
    "                                        'Hertha Berlin' : 'Hertha BSC',\n",
    "                                        'Mainz' : 'Mainz 05',\n",
    "                                        'Verona' : 'Hellas Verona',\n",
    "                                        'Manchester Utd' : 'Manchester United',\n",
    "                                        'AC Ajaccio' : 'Ajaccio',\n",
    "                                        'B. Monchengladbach' : 'Monchengladbach',\n",
    "                                        'AC Milan' : 'Milan',\n",
    "                                        'Betis' : 'Real Betis',\n",
    "                                        'Tottenham' : 'Tottenham Hotspur',\n",
    "                                        'Brighton' : 'Brighton and Hove Albion',\n",
    "                                        'Nottingham' : 'Nottingham Forest',                                 \n",
    "                                        'Schalke' : 'Schalke 04',\n",
    "                                        'Inter' : 'Internazionale',\n",
    "                                        'Ath Bilbao' : 'Athletic Club',\n",
    "                                        'Cadiz CF' : 'Cadiz',\n",
    "                                        'West Ham' : 'West Ham United',\n",
    "                                        'Newcastle' : 'Newcastle United',\n",
    "                                        'Clermont' : 'Clermont Foot',\n",
    "                                        'Sheffield Utd' : 'Sheffield United',\n",
    "                                        'Luton' : 'Luton Town',\n",
    "                                        'Paris SG' : 'Paris Saint Germain',\n",
    "                                        'FC Koln' : 'Koln',\n",
    "                                        'AS Roma' : 'Roma',\n",
    "                                        'Atl. Madrid' : 'Atletico Madrid',\n",
    "                                        'Atletico-MG' : 'Atletico Mineiro',\n",
    "                                        'Flamengo RJ' : 'Flamengo',\n",
    "                                        'Athletico-PR' : 'Athletico Paranaense',\n",
    "                                        'Vasco' : 'Vasco da Gama',\n",
    "                                        'SC Farense': 'Farense',\n",
    "                                        'Gil Vicente': 'Gil Vicente FC',\n",
    "                                        'FC Porto': 'Porto',\n",
    "                                        'FC Volendam': 'Volendam',\n",
    "                                        'G.A. Eagles': 'Go Ahead Eagles',\n",
    "                                        'Heracles': 'Heracles Almelo',\n",
    "                                        'Nijmegen': 'NEC Nijmegen',\n",
    "                                        'PSV': 'PSV Eindhoven',\n",
    "                                        'Sittard': 'Fortuna Sittard',\n",
    "                                        'Waalwijk': 'RKC Waalwijk',\n",
    "                                        'Cercle Brugge KSV': 'Cercle Brugge',\n",
    "                                        'Club Brugge KV': 'Club Brugge',\n",
    "                                        'KV Mechelen': 'Mechelen',\n",
    "                                        'Leuven': 'OH Leuven',\n",
    "                                        'Royale Union SG': 'Union SG',\n",
    "                                        'RWDM': 'RWD Molenbeek',\n",
    "                                        'St. Liege': 'Standard Liege',\n",
    "                                        'St. Truiden': 'Sint Truiden',\n",
    "                                        'WS Wanderers': 'Western Sydney Wanderers'\n",
    "                                        }})\n",
    "\n",
    "df_odds = df_odds.replace({'Away' : { 'Leeds' : 'Leeds United',\n",
    "                                        'Leicester' : 'Leicester City',\n",
    "                                        'Wolves' : 'Wolverhampton Wanderers',\n",
    "                                        'Hertha Berlin' : 'Hertha BSC',\n",
    "                                        'Mainz' : 'Mainz 05',\n",
    "                                        'Verona' : 'Hellas Verona',\n",
    "                                        'Manchester Utd' : 'Manchester United',\n",
    "                                        'AC Ajaccio' : 'Ajaccio',\n",
    "                                        'B. Monchengladbach' : 'Monchengladbach',\n",
    "                                        'AC Milan' : 'Milan',\n",
    "                                        'Betis' : 'Real Betis',\n",
    "                                        'Tottenham' : 'Tottenham Hotspur',\n",
    "                                        'Brighton' : 'Brighton and Hove Albion',\n",
    "                                        'Nottingham' : 'Nottingham Forest',                                 \n",
    "                                        'Schalke' : 'Schalke 04',\n",
    "                                        'Inter' : 'Internazionale',\n",
    "                                        'Ath Bilbao' : 'Athletic Club',\n",
    "                                        'Cadiz CF' : 'Cadiz',\n",
    "                                        'West Ham' : 'West Ham United',\n",
    "                                        'Newcastle' : 'Newcastle United',\n",
    "                                        'Clermont' : 'Clermont Foot',\n",
    "                                        'Sheffield Utd' : 'Sheffield United',\n",
    "                                        'Luton' : 'Luton Town',\n",
    "                                        'Paris SG' : 'Paris Saint Germain',\n",
    "                                        'FC Koln' : 'Koln',\n",
    "                                        'AS Roma' : 'Roma',\n",
    "                                        'Atl. Madrid' : 'Atletico Madrid',\n",
    "                                        'Atletico-MG' : 'Atletico Mineiro',\n",
    "                                        'Flamengo RJ' : 'Flamengo',\n",
    "                                        'Athletico-PR' : 'Atletico Paranaense',\n",
    "                                        'Vasco' : 'Vasco da Gama',\n",
    "                                        'SC Farense': 'Farense',\n",
    "                                        'Gil Vicente': 'Gil Vicente FC',\n",
    "                                        'FC Porto': 'Porto',\n",
    "                                        'FC Volendam': 'Volendam',\n",
    "                                        'G.A. Eagles': 'Go Ahead Eagles',\n",
    "                                        'Heracles': 'Heracles Almelo',\n",
    "                                        'Nijmegen': 'NEC Nijmegen',\n",
    "                                        'PSV': 'PSV Eindhoven',\n",
    "                                        'Sittard': 'Fortuna Sittard',\n",
    "                                        'Waalwijk': 'RKC Waalwijk',\n",
    "                                        'Cercle Brugge KSV': 'Cercle Brugge',\n",
    "                                        'Club Brugge KV': 'Club Brugge',\n",
    "                                        'KV Mechelen': 'Mechelen',\n",
    "                                        'Leuven': 'OH Leuven',\n",
    "                                        'Royale Union SG': 'Union SG',\n",
    "                                        'RWDM': 'RWD Molenbeek',\n",
    "                                        'St. Liege': 'Standard Liege',\n",
    "                                        'St. Truiden': 'Sint Truiden',\n",
    "                                        'WS Wanderers': 'Western Sydney Wanderers'\n",
    "                                        }})\n",
    "\n",
    "df_odds = df_odds.reset_index()\n",
    "# previsões de ml\n",
    "prediction_home = []\n",
    "for i in range(0, len(df_odds)):\n",
    "    pred = ratio(df_rolling, df_odds['Home'][i], df_odds['Away'][i])\n",
    "    pred['last_2_results'] = last_2_results(df_rolling, df_odds['Home'][i], df_odds['Away'][i])\n",
    "    \n",
    "    # Check if there are any NaN values in 'pred' DataFrame\n",
    "    if pred.isnull().values.any():\n",
    "        prediction = None  # Skip prediction for this row\n",
    "    else:\n",
    "        # Handle missing values in 'pred' DataFrame, if any\n",
    "        pred.fillna(0, inplace=True)\n",
    "\n",
    "        prediction = ml.predict_proba(pred)[0][1]\n",
    "        \n",
    "    prediction_home.append(prediction)\n",
    "\n",
    "# adicionando coluna\n",
    "df_odds['Pred_H'] = prediction_home\n",
    "df_odds['Pred_A'] = 1 - df_odds['Pred_H']\n",
    "\n",
    "# formatando\n",
    "df_odds['Pred_H'] = df_odds['Pred_H'].round(2)\n",
    "df_odds['Pred_A'] = df_odds['Pred_A'].round(2)\n",
    "\n",
    "\n",
    "# Push each DataFrame to GitHub\n",
    "push_dataframe_to_github(df_odds, 'df_odds.csv', repository)"
   ]
  },
  {
   "cell_type": "code",
   "execution_count": 4,
   "id": "c17be3fe",
   "metadata": {},
   "outputs": [],
   "source": [
    "# get data\n",
    "\n",
    "url_df_odds = 'https://github.com/alanhassan/soccerprediction/blob/main/df_odds.csv?raw=true'\n",
    "data_odds = requests.get(url_df_odds).content\n",
    "df_odds = pd.read_csv(BytesIO(data_odds))\n"
   ]
  },
  {
   "cell_type": "code",
   "execution_count": 5,
   "id": "e1c26f5c",
   "metadata": {},
   "outputs": [
    {
     "data": {
      "text/html": [
       "<div>\n",
       "<style scoped>\n",
       "    .dataframe tbody tr th:only-of-type {\n",
       "        vertical-align: middle;\n",
       "    }\n",
       "\n",
       "    .dataframe tbody tr th {\n",
       "        vertical-align: top;\n",
       "    }\n",
       "\n",
       "    .dataframe thead th {\n",
       "        text-align: right;\n",
       "    }\n",
       "</style>\n",
       "<table border=\"1\" class=\"dataframe\">\n",
       "  <thead>\n",
       "    <tr style=\"text-align: right;\">\n",
       "      <th></th>\n",
       "      <th>Nº</th>\n",
       "      <th>Date</th>\n",
       "      <th>Time</th>\n",
       "      <th>Country</th>\n",
       "      <th>League</th>\n",
       "      <th>Home</th>\n",
       "      <th>Away</th>\n",
       "      <th>Odds_H</th>\n",
       "      <th>Odds_D</th>\n",
       "      <th>Odds_A</th>\n",
       "      <th>Pred_H</th>\n",
       "      <th>Pred_A</th>\n",
       "    </tr>\n",
       "  </thead>\n",
       "  <tbody>\n",
       "    <tr>\n",
       "      <th>0</th>\n",
       "      <td>24</td>\n",
       "      <td>2024-01-23</td>\n",
       "      <td>05:00</td>\n",
       "      <td>AUSTRALIA</td>\n",
       "      <td>A-LEAGUE - ROUND 12</td>\n",
       "      <td>Newcastle Jets</td>\n",
       "      <td>Brisbane Roar</td>\n",
       "      <td>2.20</td>\n",
       "      <td>3.75</td>\n",
       "      <td>2.95</td>\n",
       "      <td>0.56</td>\n",
       "      <td>0.44</td>\n",
       "    </tr>\n",
       "    <tr>\n",
       "      <th>1</th>\n",
       "      <td>119</td>\n",
       "      <td>2024-01-24</td>\n",
       "      <td>11:00</td>\n",
       "      <td>BELGIUM</td>\n",
       "      <td>JUPILER PRO LEAGUE - ROUND 21</td>\n",
       "      <td>RWD Molenbeek</td>\n",
       "      <td>Eupen</td>\n",
       "      <td>2.05</td>\n",
       "      <td>3.50</td>\n",
       "      <td>3.50</td>\n",
       "      <td>0.69</td>\n",
       "      <td>0.31</td>\n",
       "    </tr>\n",
       "    <tr>\n",
       "      <th>2</th>\n",
       "      <td>115</td>\n",
       "      <td>2024-01-24</td>\n",
       "      <td>16:30</td>\n",
       "      <td>GERMANY</td>\n",
       "      <td>BUNDESLIGA - ROUND 13</td>\n",
       "      <td>Bayern Munich</td>\n",
       "      <td>Union Berlin</td>\n",
       "      <td>1.17</td>\n",
       "      <td>7.50</td>\n",
       "      <td>19.00</td>\n",
       "      <td>0.76</td>\n",
       "      <td>0.24</td>\n",
       "    </tr>\n",
       "    <tr>\n",
       "      <th>3</th>\n",
       "      <td>116</td>\n",
       "      <td>2024-01-24</td>\n",
       "      <td>14:45</td>\n",
       "      <td>NETHERLANDS</td>\n",
       "      <td>EREDIVISIE - ROUND 18</td>\n",
       "      <td>Almere City</td>\n",
       "      <td>Fortuna Sittard</td>\n",
       "      <td>2.40</td>\n",
       "      <td>3.25</td>\n",
       "      <td>3.05</td>\n",
       "      <td>0.69</td>\n",
       "      <td>0.31</td>\n",
       "    </tr>\n",
       "    <tr>\n",
       "      <th>4</th>\n",
       "      <td>194</td>\n",
       "      <td>2024-01-25</td>\n",
       "      <td>05:45</td>\n",
       "      <td>AUSTRALIA</td>\n",
       "      <td>A-LEAGUE - ROUND 14</td>\n",
       "      <td>Melbourne City</td>\n",
       "      <td>Adelaide United</td>\n",
       "      <td>1.80</td>\n",
       "      <td>4.33</td>\n",
       "      <td>3.60</td>\n",
       "      <td>0.73</td>\n",
       "      <td>0.27</td>\n",
       "    </tr>\n",
       "  </tbody>\n",
       "</table>\n",
       "</div>"
      ],
      "text/plain": [
       "    Nº        Date   Time      Country                         League  \\\n",
       "0   24  2024-01-23  05:00    AUSTRALIA            A-LEAGUE - ROUND 12   \n",
       "1  119  2024-01-24  11:00      BELGIUM  JUPILER PRO LEAGUE - ROUND 21   \n",
       "2  115  2024-01-24  16:30      GERMANY          BUNDESLIGA - ROUND 13   \n",
       "3  116  2024-01-24  14:45  NETHERLANDS          EREDIVISIE - ROUND 18   \n",
       "4  194  2024-01-25  05:45    AUSTRALIA            A-LEAGUE - ROUND 14   \n",
       "\n",
       "             Home             Away  Odds_H  Odds_D  Odds_A  Pred_H  Pred_A  \n",
       "0  Newcastle Jets    Brisbane Roar    2.20    3.75    2.95    0.56    0.44  \n",
       "1   RWD Molenbeek            Eupen    2.05    3.50    3.50    0.69    0.31  \n",
       "2   Bayern Munich     Union Berlin    1.17    7.50   19.00    0.76    0.24  \n",
       "3     Almere City  Fortuna Sittard    2.40    3.25    3.05    0.69    0.31  \n",
       "4  Melbourne City  Adelaide United    1.80    4.33    3.60    0.73    0.27  "
      ]
     },
     "execution_count": 5,
     "metadata": {},
     "output_type": "execute_result"
    }
   ],
   "source": [
    "df_odds.head()"
   ]
  },
  {
   "cell_type": "code",
   "execution_count": 6,
   "id": "c126d507",
   "metadata": {},
   "outputs": [
    {
     "name": "stderr",
     "output_type": "stream",
     "text": [
      "100%|██████████| 633/633 [51:54<00:00,  4.92s/it] \n"
     ]
    }
   ],
   "source": [
    "\n",
    "# Criação do WebDriver do Chrome\n",
    "wd_Chrome = webdriver.Chrome(service=service, options=options)\n",
    "\n",
    "\n",
    "# Com o WebDrive a gente consegue a pedir a página (URL)\n",
    "wd_Chrome.get(\"https://www.flashscore.com/\")\n",
    "\n",
    "# Fechando Botão de Cookies\n",
    "try:\n",
    "    button_cookies = wd_Chrome.find_element(By.CSS_SELECTOR,'button#onetrust-accept-btn-handler')\n",
    "    button_cookies.click()\n",
    "except:\n",
    "    pass\n",
    "\n",
    "ids = []  # create an empty list to store IDs\n",
    "\n",
    "time.sleep(5)\n",
    "for i in range(5):\n",
    "\n",
    "    # Pegando o ID dos Jogos\n",
    "    id_jogos = []\n",
    "    jogos = wd_Chrome.find_elements(By.CSS_SELECTOR,'div.event__match--scheduled')\n",
    "\n",
    "    for i in jogos:\n",
    "        id_jogos.append(i.get_attribute(\"id\"))\n",
    "\n",
    "    # Exemplo de ID de um jogo: 'g_1_Gb7buXVt'    \n",
    "    id_jogos = [i[4:] for i in id_jogos]\n",
    "    \n",
    "    ids.append(id_jogos)\n",
    "\n",
    "    # Selecionando o dia de amanhã\n",
    "    wd_Chrome.find_element(By.CSS_SELECTOR,'button.calendar__navigation--tomorrow').click()\n",
    "    time.sleep(3)\n",
    "        \n",
    "    i=+1\n",
    "\n",
    "jogo = {'Date':[],'Time':[],'Country':[],'League':[],'Home':[],'Away':[],'Odds_H_X':[],'Odds_H_A':[],'Odds_X_A':[]}    \n",
    "\n",
    "final_ids = []\n",
    "for sublist in ids:\n",
    "    final_ids.extend(sublist)\n",
    "\n",
    "\n",
    "# Pegando as Informacoes Básicas do Jogo\n",
    "for link in tqdm(final_ids, total=len(final_ids)):\n",
    "    wd_Chrome.get(f'https://www.flashscore.com/match/{link}/#/match-summary')\n",
    "    \n",
    "    try:\n",
    "        Date = wd_Chrome.find_element(By.CSS_SELECTOR, 'div.duelParticipant__startTime').text.split(' ')[0]\n",
    "        Time = wd_Chrome.find_element(By.CSS_SELECTOR, 'div.duelParticipant__startTime').text.split(' ')[1]\n",
    "        Country = wd_Chrome.find_element(By.CSS_SELECTOR, 'span.tournamentHeader__country').text.split(':')[0]\n",
    "        League = wd_Chrome.find_element(By.CSS_SELECTOR, 'span.tournamentHeader__country')\n",
    "        League = League.find_element(By.CSS_SELECTOR, 'a').text\n",
    "        Home = wd_Chrome.find_element(By.CSS_SELECTOR, 'div.duelParticipant__home')\n",
    "        Home = Home.find_element(By.CSS_SELECTOR, 'div.participant__participantName').text\n",
    "        Away = wd_Chrome.find_element(By.CSS_SELECTOR, 'div.duelParticipant__away')\n",
    "        Away = Away.find_element(By.CSS_SELECTOR, 'div.participant__participantName').text\n",
    "    except:\n",
    "        continue  # Skip to the next iteration if basic information retrieval fails\n",
    "\n",
    "    # Match Odds\n",
    "    try:\n",
    "        wd_Chrome.get(f'https://www.flashscore.com/match/{link}/#/odds-comparison/double-chance/full-time')\n",
    "        time.sleep(2)\n",
    "\n",
    "        # Check if redirected to match summary page\n",
    "        if 'match-summary' in wd_Chrome.current_url:\n",
    "            continue  # Skip to the next iteration if redirected to match summary page\n",
    "\n",
    "        linhas = wd_Chrome.find_elements(By.CSS_SELECTOR, 'div.ui-table__row')\n",
    "\n",
    "        for linha in linhas:\n",
    "            Odds_H_X = linha.find_elements(By.CSS_SELECTOR, 'a.oddsCell__odd')[0].text\n",
    "            Odds_H_A = linha.find_elements(By.CSS_SELECTOR, 'a.oddsCell__odd')[1].text\n",
    "            Odds_X_A = linha.find_elements(By.CSS_SELECTOR, 'a.oddsCell__odd')[2].text\n",
    "    except:\n",
    "        continue  # Skip to the next iteration if odds information retrieval fails\n",
    "\n",
    "    \n",
    "    jogo['Date'].append(Date)\n",
    "    jogo['Time'].append(Time)\n",
    "    jogo['Country'].append(Country)\n",
    "    jogo['League'].append(League)\n",
    "    jogo['Home'].append(Home)\n",
    "    jogo['Away'].append(Away)\n",
    "    jogo['Odds_H_X'].append(Odds_H_X)\n",
    "    jogo['Odds_H_A'].append(Odds_H_A)\n",
    "    jogo['Odds_X_A'].append(Odds_X_A)\n",
    "    time.sleep(2)\n",
    "\n",
    "df = pd.DataFrame(jogo)\n",
    "df.reset_index(inplace=True, drop=True)\n",
    "df.index = df.index.set_names(['Nº'])\n",
    "df = df.rename(index=lambda x: x + 1)\n",
    "\n",
    "# filtrando o df\n",
    "\n",
    "df_filtered = df[(df['Country'].str.contains('ENGLAND|GERMANY|SPAIN|ITALY|FRANCE|BRAZIL|PORTUGAL|NETHERLANDS|BELGIUM|AUSTRALIA'))]\n",
    "df_filtered = df_filtered[(df_filtered['League'].str.contains('PREMIER LEAGUE|BUNDESLIGA|LALIGA|LIGUE 1|SERIE A|LIGA PORTUGAL|EREDIVISIE|JUPILER PRO LEAGUE|A-LEAGUE'))]\n",
    "df_filtered = df_filtered[~(df_filtered['League'].str.contains('LALIGA2|2. BUNDESLIGA|WOMEN|JUNIOREN|PLAY OFFS|RELEGATION|CUP|LIGA PORTUGAL 2'))]\n",
    "df_filtered['Date'] = pd.to_datetime(df_filtered['Date'].str.replace('.', '/'), format='%d/%m/%Y').dt.date\n",
    "df_filtered = df_filtered.sort_values(by=['Date', 'Country'])\n",
    "\n",
    "# renomeando\n",
    "df_odds_double = df_filtered\n",
    "\n",
    "# ajustando nomes dos times para ficar igual ao das outras bases\n",
    "df_odds_double = df_odds_double.replace({'Home' : { 'Leeds' : 'Leeds United',\n",
    "                                        'Leicester' : 'Leicester City',\n",
    "                                        'Wolves' : 'Wolverhampton Wanderers',\n",
    "                                        'Hertha Berlin' : 'Hertha BSC',\n",
    "                                        'Darmstadt' : 'Darmstadt 98',\n",
    "                                        'Mainz' : 'Mainz 05',\n",
    "                                        'Verona' : 'Hellas Verona',\n",
    "                                        'Manchester Utd' : 'Manchester United',\n",
    "                                        'AC Ajaccio' : 'Ajaccio',\n",
    "                                        'B. Monchengladbach' : 'Monchengladbach',\n",
    "                                        'AC Milan' : 'Milan',\n",
    "                                        'Betis' : 'Real Betis',\n",
    "                                        'Tottenham' : 'Tottenham Hotspur',\n",
    "                                        'Sheffield Utd' : 'Sheffield United',\n",
    "                                        'Brighton' : 'Brighton and Hove Albion',\n",
    "                                        'Nottingham' : 'Nottingham Forest',        \n",
    "                                        'Luton' : 'Luton Town',                         \n",
    "                                        'Schalke' : 'Schalke 04',\n",
    "                                        'Inter' : 'Internazionale',\n",
    "                                        'Ath Bilbao' : 'Athletic Club',\n",
    "                                        'Cadiz CF' : 'Cadiz',\n",
    "                                        'Granada CF' : 'Granada',\n",
    "                                        'West Ham' : 'West Ham United',\n",
    "                                        'Newcastle' : 'Newcastle United',\n",
    "                                        'Clermont' : 'Clermont Foot',\n",
    "                                        'Sheffield Utd' : 'Sheffield United',\n",
    "                                        'Luton' : 'Luton Town',\n",
    "                                        'Paris SG' : 'Paris Saint Germain',\n",
    "                                        'PSG' : 'Paris Saint Germain',\n",
    "                                        'FC Koln' : 'Koln',\n",
    "                                        'AS Roma' : 'Roma',\n",
    "                                        'Atl. Madrid' : 'Atletico Madrid',\n",
    "                                        'Atletico-MG' : 'Atletico Mineiro',\n",
    "                                        'Flamengo RJ' : 'Flamengo',\n",
    "                                        'Athletico-PR' : 'Athletico Paranaense',\n",
    "                                        'Vasco' : 'Vasco da Gama',\n",
    "                                        'SC Farense': 'Farense',\n",
    "                                        'Gil Vicente': 'Gil Vicente FC',\n",
    "                                        'FC Porto': 'Porto',\n",
    "                                        'FC Volendam': 'Volendam',\n",
    "                                        'G.A. Eagles': 'Go Ahead Eagles',\n",
    "                                        'Heracles': 'Heracles Almelo',\n",
    "                                        'Nijmegen': 'NEC Nijmegen',\n",
    "                                        'PSV': 'PSV Eindhoven',\n",
    "                                        'Sittard': 'Fortuna Sittard',\n",
    "                                        'Waalwijk': 'RKC Waalwijk',\n",
    "                                        'Cercle Brugge KSV': 'Cercle Brugge',\n",
    "                                        'Club Brugge KV': 'Club Brugge',\n",
    "                                        'KV Mechelen': 'Mechelen',\n",
    "                                        'Leuven': 'OH Leuven',\n",
    "                                        'Royale Union SG': 'Union SG',\n",
    "                                        'RWDM': 'RWD Molenbeek',\n",
    "                                        'St. Liege': 'Standard Liege',\n",
    "                                        'St. Truiden': 'Sint Truiden',\n",
    "                                        'WS Wanderers': 'Western Sydney Wanderers'\n",
    "                                        }})\n",
    "\n",
    "df_odds_double = df_odds_double.replace({'Away' : { 'Leeds' : 'Leeds United',\n",
    "                                        'Leicester' : 'Leicester City',\n",
    "                                        'Wolves' : 'Wolverhampton Wanderers',\n",
    "                                        'Hertha Berlin' : 'Hertha BSC',\n",
    "                                        'Darmstadt' : 'Darmstadt 98',\n",
    "                                        'Mainz' : 'Mainz 05',\n",
    "                                        'Verona' : 'Hellas Verona',\n",
    "                                        'Manchester Utd' : 'Manchester United',\n",
    "                                        'AC Ajaccio' : 'Ajaccio',\n",
    "                                        'B. Monchengladbach' : 'Monchengladbach',\n",
    "                                        'AC Milan' : 'Milan',\n",
    "                                        'Betis' : 'Real Betis',\n",
    "                                        'Tottenham' : 'Tottenham Hotspur',\n",
    "                                        'Sheffield Utd' : 'Sheffield United',\n",
    "                                        'Brighton' : 'Brighton and Hove Albion',\n",
    "                                        'Nottingham' : 'Nottingham Forest',   \n",
    "                                        'Luton' : 'Luton Town',                               \n",
    "                                        'Schalke' : 'Schalke 04',\n",
    "                                        'Inter' : 'Internazionale',\n",
    "                                        'Ath Bilbao' : 'Athletic Club',\n",
    "                                        'Cadiz CF' : 'Cadiz',\n",
    "                                        'Granada CF' : 'Granada',\n",
    "                                        'West Ham' : 'West Ham United',\n",
    "                                        'Newcastle' : 'Newcastle United',\n",
    "                                        'Clermont' : 'Clermont Foot',\n",
    "                                        'Sheffield Utd' : 'Sheffield United',\n",
    "                                        'Luton' : 'Luton Town',\n",
    "                                        'Paris SG' : 'Paris Saint Germain',\n",
    "                                        'PSG' : 'Paris Saint Germain',\n",
    "                                        'FC Koln' : 'Koln',\n",
    "                                        'AS Roma' : 'Roma',\n",
    "                                        'Atl. Madrid' : 'Atletico Madrid',\n",
    "                                        'Atletico-MG' : 'Atletico Mineiro',\n",
    "                                        'Flamengo RJ' : 'Flamengo',\n",
    "                                        'Athletico-PR' : 'Athletico Paranaense',\n",
    "                                        'Vasco' : 'Vasco da Gama',\n",
    "                                        'SC Farense': 'Farense',\n",
    "                                        'Gil Vicente': 'Gil Vicente FC',\n",
    "                                        'FC Porto': 'Porto',\n",
    "                                        'FC Volendam': 'Volendam',\n",
    "                                        'G.A. Eagles': 'Go Ahead Eagles',\n",
    "                                        'Heracles': 'Heracles Almelo',\n",
    "                                        'Nijmegen': 'NEC Nijmegen',\n",
    "                                        'PSV': 'PSV Eindhoven',\n",
    "                                        'Sittard': 'Fortuna Sittard',\n",
    "                                        'Waalwijk': 'RKC Waalwijk',\n",
    "                                        'Cercle Brugge KSV': 'Cercle Brugge',\n",
    "                                        'Club Brugge KV': 'Club Brugge',\n",
    "                                        'KV Mechelen': 'Mechelen',\n",
    "                                        'Leuven': 'OH Leuven',\n",
    "                                        'Royale Union SG': 'Union SG',\n",
    "                                        'RWDM': 'RWD Molenbeek',\n",
    "                                        'St. Liege': 'Standard Liege',\n",
    "                                        'St. Truiden': 'Sint Truiden',\n",
    "                                        'WS Wanderers': 'Western Sydney Wanderers'\n",
    "                                        }})\n",
    "\n",
    "df_odds_double = df_odds_double.reset_index()\n",
    "# previsões de ml\n",
    "prediction_home = []\n",
    "for i in range(0, len(df_odds_double)):\n",
    "    pred = ratio(df_rolling, df_odds_double['Home'][i], df_odds_double['Away'][i])\n",
    "    pred['last_2_results'] = last_2_results(df_rolling, df_odds_double['Home'][i], df_odds_double['Away'][i])\n",
    "    \n",
    "    # Check if there are any NaN values in 'pred' DataFrame\n",
    "    if pred.isnull().values.any():\n",
    "        prediction = None  # Skip prediction for this row\n",
    "    else:\n",
    "        # Handle missing values in 'pred' DataFrame, if any\n",
    "        pred.fillna(0, inplace=True)\n",
    "\n",
    "        prediction = ml.predict_proba(pred)[0][1]\n",
    "        \n",
    "    prediction_home.append(prediction)\n",
    "\n",
    "# adicionando coluna\n",
    "df_odds_double['Pred_H'] = prediction_home\n",
    "df_odds_double['Pred_A'] = 1 - df_odds_double['Pred_H']\n",
    "\n",
    "# formatando\n",
    "df_odds_double['Pred_H'] = df_odds_double['Pred_H'].round(2)\n",
    "df_odds_double['Pred_A'] = df_odds_double['Pred_A'].round(2)\n"
   ]
  },
  {
   "cell_type": "code",
   "execution_count": 7,
   "id": "4d814106",
   "metadata": {},
   "outputs": [
    {
     "name": "stdout",
     "output_type": "stream",
     "text": [
      "Data pushed to df_odds_double.csv on GitHub successfully!\n"
     ]
    }
   ],
   "source": [
    "push_dataframe_to_github(df_odds_double, 'df_odds_double.csv', repository)"
   ]
  },
  {
   "cell_type": "code",
   "execution_count": 8,
   "id": "cee90e5b",
   "metadata": {},
   "outputs": [
    {
     "name": "stdout",
     "output_type": "stream",
     "text": [
      "Data pushed to df_odds_final.csv on GitHub successfully!\n"
     ]
    }
   ],
   "source": [
    "df_odds_final = pd.merge(df_odds, df_odds_double, on=['Home', 'Away'])[['Date_x', 'Time_x', 'Country_x', 'League_x', 'Home', 'Away', 'Odds_H', 'Odds_D', 'Odds_A', 'Odds_H_X', 'Odds_H_A', 'Odds_X_A', 'Pred_H_x', 'Pred_A_x']]\n",
    "\n",
    "# Rename columns\n",
    "new_column_names = {'Date_x': 'Date', 'Time_x': 'Time', 'Country_x': 'Country', 'League_x': 'League', 'Pred_H_x': 'Pred_H', 'Pred_A_x': 'Pred_A'}\n",
    "df_odds_final.rename(columns=new_column_names, inplace=True)\n",
    "\n",
    "#push df_odds_final to github\n",
    "push_dataframe_to_github(df_odds_final, 'df_odds_final.csv', repository)"
   ]
  },
  {
   "cell_type": "code",
   "execution_count": null,
   "id": "ca46db71",
   "metadata": {},
   "outputs": [],
   "source": [
    "# # get data\n",
    "\n",
    "# url_df_odds = 'https://github.com/alanhassan/soccerprediction/blob/main/df_odds.csv?raw=true'\n",
    "# data_odds = requests.get(url_df_odds).content\n",
    "# df_odds = pd.read_csv(BytesIO(data_odds))\n",
    "\n",
    "\n",
    "# # get data\n",
    "\n",
    "# url_df_odds_double = 'https://github.com/alanhassan/soccerprediction/blob/main/df_odds_double.csv?raw=true'\n",
    "# data_odds_double = requests.get(url_df_odds_double).content\n",
    "# df_odds_double = pd.read_csv(BytesIO(data_odds_double))\n"
   ]
  },
  {
   "cell_type": "code",
   "execution_count": null,
   "id": "79825261",
   "metadata": {},
   "outputs": [],
   "source": [
    "url_df_odds_final = 'https://github.com/alanhassan/soccerprediction/blob/main/df_odds_final.csv?raw=true'\n",
    "data_odds_final = requests.get(url_df_odds_final).content\n",
    "df_odds_final = pd.read_csv(BytesIO(data_odds_final))"
   ]
  },
  {
   "cell_type": "code",
   "execution_count": null,
   "id": "d4118173",
   "metadata": {},
   "outputs": [
    {
     "data": {
      "text/html": [
       "<div>\n",
       "<style scoped>\n",
       "    .dataframe tbody tr th:only-of-type {\n",
       "        vertical-align: middle;\n",
       "    }\n",
       "\n",
       "    .dataframe tbody tr th {\n",
       "        vertical-align: top;\n",
       "    }\n",
       "\n",
       "    .dataframe thead th {\n",
       "        text-align: right;\n",
       "    }\n",
       "</style>\n",
       "<table border=\"1\" class=\"dataframe\">\n",
       "  <thead>\n",
       "    <tr style=\"text-align: right;\">\n",
       "      <th></th>\n",
       "      <th>Date</th>\n",
       "      <th>Time</th>\n",
       "      <th>Country</th>\n",
       "      <th>League</th>\n",
       "      <th>Home</th>\n",
       "      <th>Away</th>\n",
       "      <th>Odds_H</th>\n",
       "      <th>Odds_D</th>\n",
       "      <th>Odds_A</th>\n",
       "      <th>Odds_H_X</th>\n",
       "      <th>Odds_H_A</th>\n",
       "      <th>Odds_X_A</th>\n",
       "      <th>Pred_H</th>\n",
       "      <th>Pred_A</th>\n",
       "    </tr>\n",
       "  </thead>\n",
       "  <tbody>\n",
       "    <tr>\n",
       "      <th>0</th>\n",
       "      <td>2024-01-20</td>\n",
       "      <td>12:00</td>\n",
       "      <td>BELGIUM</td>\n",
       "      <td>JUPILER PRO LEAGUE - ROUND 21</td>\n",
       "      <td>Genk</td>\n",
       "      <td>Cercle Brugge</td>\n",
       "      <td>1.90</td>\n",
       "      <td>3.75</td>\n",
       "      <td>3.75</td>\n",
       "      <td>1.30</td>\n",
       "      <td>1.22</td>\n",
       "      <td>1.85</td>\n",
       "      <td>0.78</td>\n",
       "      <td>0.22</td>\n",
       "    </tr>\n",
       "    <tr>\n",
       "      <th>1</th>\n",
       "      <td>2024-01-20</td>\n",
       "      <td>14:15</td>\n",
       "      <td>BELGIUM</td>\n",
       "      <td>JUPILER PRO LEAGUE - ROUND 21</td>\n",
       "      <td>Standard Liege</td>\n",
       "      <td>Kortrijk</td>\n",
       "      <td>1.55</td>\n",
       "      <td>4.20</td>\n",
       "      <td>5.50</td>\n",
       "      <td>1.12</td>\n",
       "      <td>1.18</td>\n",
       "      <td>2.55</td>\n",
       "      <td>0.85</td>\n",
       "      <td>0.15</td>\n",
       "    </tr>\n",
       "    <tr>\n",
       "      <th>2</th>\n",
       "      <td>2024-01-20</td>\n",
       "      <td>14:30</td>\n",
       "      <td>ENGLAND</td>\n",
       "      <td>PREMIER LEAGUE - ROUND 21</td>\n",
       "      <td>Brentford</td>\n",
       "      <td>Nottingham Forest</td>\n",
       "      <td>1.80</td>\n",
       "      <td>3.85</td>\n",
       "      <td>4.60</td>\n",
       "      <td>1.22</td>\n",
       "      <td>1.27</td>\n",
       "      <td>2.07</td>\n",
       "      <td>0.74</td>\n",
       "      <td>0.26</td>\n",
       "    </tr>\n",
       "    <tr>\n",
       "      <th>3</th>\n",
       "      <td>2024-01-20</td>\n",
       "      <td>11:30</td>\n",
       "      <td>GERMANY</td>\n",
       "      <td>BUNDESLIGA - ROUND 18</td>\n",
       "      <td>Bochum</td>\n",
       "      <td>Stuttgart</td>\n",
       "      <td>3.60</td>\n",
       "      <td>3.75</td>\n",
       "      <td>2.00</td>\n",
       "      <td>2.05</td>\n",
       "      <td>1.22</td>\n",
       "      <td>1.24</td>\n",
       "      <td>0.63</td>\n",
       "      <td>0.37</td>\n",
       "    </tr>\n",
       "    <tr>\n",
       "      <th>4</th>\n",
       "      <td>2024-01-20</td>\n",
       "      <td>11:30</td>\n",
       "      <td>GERMANY</td>\n",
       "      <td>BUNDESLIGA - ROUND 18</td>\n",
       "      <td>Koln</td>\n",
       "      <td>Dortmund</td>\n",
       "      <td>4.20</td>\n",
       "      <td>4.20</td>\n",
       "      <td>1.78</td>\n",
       "      <td>2.00</td>\n",
       "      <td>1.20</td>\n",
       "      <td>1.28</td>\n",
       "      <td>0.37</td>\n",
       "      <td>0.63</td>\n",
       "    </tr>\n",
       "  </tbody>\n",
       "</table>\n",
       "</div>"
      ],
      "text/plain": [
       "         Date   Time  Country                         League            Home  \\\n",
       "0  2024-01-20  12:00  BELGIUM  JUPILER PRO LEAGUE - ROUND 21            Genk   \n",
       "1  2024-01-20  14:15  BELGIUM  JUPILER PRO LEAGUE - ROUND 21  Standard Liege   \n",
       "2  2024-01-20  14:30  ENGLAND      PREMIER LEAGUE - ROUND 21       Brentford   \n",
       "3  2024-01-20  11:30  GERMANY          BUNDESLIGA - ROUND 18          Bochum   \n",
       "4  2024-01-20  11:30  GERMANY          BUNDESLIGA - ROUND 18            Koln   \n",
       "\n",
       "                Away  Odds_H  Odds_D  Odds_A  Odds_H_X  Odds_H_A  Odds_X_A  \\\n",
       "0      Cercle Brugge    1.90    3.75    3.75      1.30      1.22      1.85   \n",
       "1           Kortrijk    1.55    4.20    5.50      1.12      1.18      2.55   \n",
       "2  Nottingham Forest    1.80    3.85    4.60      1.22      1.27      2.07   \n",
       "3          Stuttgart    3.60    3.75    2.00      2.05      1.22      1.24   \n",
       "4           Dortmund    4.20    4.20    1.78      2.00      1.20      1.28   \n",
       "\n",
       "   Pred_H  Pred_A  \n",
       "0    0.78    0.22  \n",
       "1    0.85    0.15  \n",
       "2    0.74    0.26  \n",
       "3    0.63    0.37  \n",
       "4    0.37    0.63  "
      ]
     },
     "execution_count": 10,
     "metadata": {},
     "output_type": "execute_result"
    }
   ],
   "source": [
    "df_odds_final.head()"
   ]
  },
  {
   "cell_type": "code",
   "execution_count": null,
   "id": "fd17a7b5",
   "metadata": {},
   "outputs": [],
   "source": []
  }
 ],
 "metadata": {
  "kernelspec": {
   "display_name": "Python 3 (ipykernel)",
   "language": "python",
   "name": "python3"
  },
  "language_info": {
   "codemirror_mode": {
    "name": "ipython",
    "version": 3
   },
   "file_extension": ".py",
   "mimetype": "text/x-python",
   "name": "python",
   "nbconvert_exporter": "python",
   "pygments_lexer": "ipython3",
   "version": "3.12.0"
  }
 },
 "nbformat": 4,
 "nbformat_minor": 5
}
