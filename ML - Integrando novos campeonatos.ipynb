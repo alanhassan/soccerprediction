{
 "cells": [
  {
   "cell_type": "code",
   "execution_count": 40,
   "id": "ed2a70ae",
   "metadata": {},
   "outputs": [
    {
     "name": "stdout",
     "output_type": "stream",
     "text": [
      "1.4.2\n"
     ]
    }
   ],
   "source": [
    "# importando os pacoteshttp://localhost:8888/notebooks/TCC_0323.ipynb#\n",
    "import warnings\n",
    "warnings.filterwarnings(\"ignore\")\n",
    "import pandas as pd\n",
    "import numpy as np\n",
    "import matplotlib.pyplot as plt\n",
    "import seaborn as sns\n",
    "sns.set_theme(style='whitegrid')\n",
    "import pandas as pd\n",
    "print(pd.__version__)"
   ]
  },
  {
   "cell_type": "code",
   "execution_count": 48,
   "id": "ef5de44f",
   "metadata": {},
   "outputs": [],
   "source": [
    "# configuração da exibição\n",
    "pd.set_option('display.max_rows', 500)\n",
    "pd.set_option('display.max_columns', 500)"
   ]
  },
  {
   "cell_type": "code",
   "execution_count": 49,
   "id": "db516fe0",
   "metadata": {},
   "outputs": [],
   "source": [
    "# importando a base de treino (dados de 2017 até 2022)\n",
    "df = pd.read_excel('leagues.xlsx')"
   ]
  },
  {
   "cell_type": "code",
   "execution_count": 50,
   "id": "ae1242a6",
   "metadata": {},
   "outputs": [
    {
     "data": {
      "text/plain": [
       "date                   datetime64[ns]\n",
       "comp                           object\n",
       "team                           object\n",
       "opponent                       object\n",
       "venue                          object\n",
       "gf                             object\n",
       "ga                             object\n",
       "result                         object\n",
       "Points last season_           float64\n",
       "dtype: object"
      ]
     },
     "execution_count": 50,
     "metadata": {},
     "output_type": "execute_result"
    }
   ],
   "source": [
    "df.dtypes"
   ]
  },
  {
   "cell_type": "code",
   "execution_count": 51,
   "id": "9676dad3",
   "metadata": {},
   "outputs": [
    {
     "name": "stdout",
     "output_type": "stream",
     "text": [
      "date                   datetime64[ns]\n",
      "comp                           object\n",
      "team                           object\n",
      "opponent                       object\n",
      "venue                          object\n",
      "gf                            float64\n",
      "ga                            float64\n",
      "result                         object\n",
      "Points last season_           float64\n",
      "dtype: object\n"
     ]
    }
   ],
   "source": [
    "# Convert specific columns from 'object' to 'float'\n",
    "columns_to_convert = ['gf', 'ga']\n",
    "\n",
    "# Use pd.to_numeric to convert columns to float\n",
    "df[columns_to_convert] = df[columns_to_convert].apply(pd.to_numeric, errors='coerce')\n",
    "\n",
    "# 'errors' parameter is set to 'coerce' to handle non-numeric values by converting them to NaN\n",
    "\n",
    "# Now, the specified columns are of data type 'float'\n",
    "print(df.dtypes)"
   ]
  },
  {
   "cell_type": "code",
   "execution_count": 52,
   "id": "4fb2a8ba",
   "metadata": {},
   "outputs": [],
   "source": [
    "#df = df[df['date']<= '2022-07-01']"
   ]
  },
  {
   "cell_type": "code",
   "execution_count": 53,
   "id": "a32235f9",
   "metadata": {},
   "outputs": [],
   "source": [
    "# inserindo uma coluna com a pontuação obtida em cada partida\n",
    "df['pont'] = df['result'].replace({'L': 0, 'D': 1, 'W':3})"
   ]
  },
  {
   "cell_type": "code",
   "execution_count": 56,
   "id": "222d4f8f",
   "metadata": {},
   "outputs": [],
   "source": [
    "# último resultado do confronto entre os times\n",
    "# sort the DataFrame by date\n",
    "df = df.sort_values(by='date')\n",
    "\n",
    "# group the DataFrame by the home team and away team\n",
    "grouped = df.groupby(['team', 'opponent'])\n",
    "\n",
    "# create a new column that contains the sum of the last two results for each group\n",
    "df['last_2_results_sum'] = grouped['pont'].apply(lambda x: x.rolling(2).sum().shift())"
   ]
  },
  {
   "cell_type": "code",
   "execution_count": 57,
   "id": "eaa7fd39",
   "metadata": {},
   "outputs": [
    {
     "data": {
      "text/plain": [
       "(38874, 11)"
      ]
     },
     "execution_count": 57,
     "metadata": {},
     "output_type": "execute_result"
    }
   ],
   "source": [
    "df.shape"
   ]
  },
  {
   "cell_type": "code",
   "execution_count": 58,
   "id": "c7682349",
   "metadata": {},
   "outputs": [
    {
     "data": {
      "text/html": [
       "<div>\n",
       "<style scoped>\n",
       "    .dataframe tbody tr th:only-of-type {\n",
       "        vertical-align: middle;\n",
       "    }\n",
       "\n",
       "    .dataframe tbody tr th {\n",
       "        vertical-align: top;\n",
       "    }\n",
       "\n",
       "    .dataframe thead th {\n",
       "        text-align: right;\n",
       "    }\n",
       "</style>\n",
       "<table border=\"1\" class=\"dataframe\">\n",
       "  <thead>\n",
       "    <tr style=\"text-align: right;\">\n",
       "      <th></th>\n",
       "      <th>date</th>\n",
       "      <th>comp</th>\n",
       "      <th>team</th>\n",
       "      <th>opponent</th>\n",
       "      <th>venue</th>\n",
       "      <th>gf</th>\n",
       "      <th>ga</th>\n",
       "      <th>result</th>\n",
       "      <th>Points last season_</th>\n",
       "      <th>pont</th>\n",
       "      <th>last_2_results_sum</th>\n",
       "    </tr>\n",
       "  </thead>\n",
       "  <tbody>\n",
       "    <tr>\n",
       "      <th>22613</th>\n",
       "      <td>2017-05-13</td>\n",
       "      <td>Série A</td>\n",
       "      <td>Flamengo</td>\n",
       "      <td>Atletico Mineiro</td>\n",
       "      <td>Home</td>\n",
       "      <td>1.0</td>\n",
       "      <td>1.0</td>\n",
       "      <td>D</td>\n",
       "      <td>71.0</td>\n",
       "      <td>1</td>\n",
       "      <td>NaN</td>\n",
       "    </tr>\n",
       "    <tr>\n",
       "      <th>22615</th>\n",
       "      <td>2017-05-13</td>\n",
       "      <td>Série A</td>\n",
       "      <td>Atletico Mineiro</td>\n",
       "      <td>Flamengo</td>\n",
       "      <td>Away</td>\n",
       "      <td>1.0</td>\n",
       "      <td>1.0</td>\n",
       "      <td>D</td>\n",
       "      <td>62.0</td>\n",
       "      <td>1</td>\n",
       "      <td>NaN</td>\n",
       "    </tr>\n",
       "    <tr>\n",
       "      <th>22614</th>\n",
       "      <td>2017-05-13</td>\n",
       "      <td>Série A</td>\n",
       "      <td>Chapecoense</td>\n",
       "      <td>Corinthians</td>\n",
       "      <td>Away</td>\n",
       "      <td>1.0</td>\n",
       "      <td>1.0</td>\n",
       "      <td>D</td>\n",
       "      <td>52.0</td>\n",
       "      <td>1</td>\n",
       "      <td>NaN</td>\n",
       "    </tr>\n",
       "    <tr>\n",
       "      <th>22612</th>\n",
       "      <td>2017-05-13</td>\n",
       "      <td>Série A</td>\n",
       "      <td>Corinthians</td>\n",
       "      <td>Chapecoense</td>\n",
       "      <td>Home</td>\n",
       "      <td>1.0</td>\n",
       "      <td>1.0</td>\n",
       "      <td>D</td>\n",
       "      <td>55.0</td>\n",
       "      <td>1</td>\n",
       "      <td>NaN</td>\n",
       "    </tr>\n",
       "    <tr>\n",
       "      <th>22607</th>\n",
       "      <td>2017-05-14</td>\n",
       "      <td>Série A</td>\n",
       "      <td>Fluminense</td>\n",
       "      <td>Santos</td>\n",
       "      <td>Home</td>\n",
       "      <td>3.0</td>\n",
       "      <td>2.0</td>\n",
       "      <td>W</td>\n",
       "      <td>50.0</td>\n",
       "      <td>3</td>\n",
       "      <td>NaN</td>\n",
       "    </tr>\n",
       "  </tbody>\n",
       "</table>\n",
       "</div>"
      ],
      "text/plain": [
       "            date     comp              team          opponent venue   gf   ga  \\\n",
       "22613 2017-05-13  Série A          Flamengo  Atletico Mineiro  Home  1.0  1.0   \n",
       "22615 2017-05-13  Série A  Atletico Mineiro          Flamengo  Away  1.0  1.0   \n",
       "22614 2017-05-13  Série A       Chapecoense       Corinthians  Away  1.0  1.0   \n",
       "22612 2017-05-13  Série A       Corinthians       Chapecoense  Home  1.0  1.0   \n",
       "22607 2017-05-14  Série A        Fluminense            Santos  Home  3.0  2.0   \n",
       "\n",
       "      result  Points last season_  pont  last_2_results_sum  \n",
       "22613      D                 71.0     1                 NaN  \n",
       "22615      D                 62.0     1                 NaN  \n",
       "22614      D                 52.0     1                 NaN  \n",
       "22612      D                 55.0     1                 NaN  \n",
       "22607      W                 50.0     3                 NaN  "
      ]
     },
     "execution_count": 58,
     "metadata": {},
     "output_type": "execute_result"
    }
   ],
   "source": [
    "df.head()"
   ]
  },
  {
   "cell_type": "code",
   "execution_count": 59,
   "id": "9ce1e9b4",
   "metadata": {},
   "outputs": [],
   "source": [
    "def rolling_sum(group, cols, new_cols, venue):\n",
    "    group = group.sort_values('date')\n",
    "    group = group[group['venue'] == venue]\n",
    "    rolling_stats = group[cols].rolling(3, closed='left').sum()\n",
    "    group[new_cols] = rolling_stats\n",
    "    group = group.dropna(subset=new_cols)\n",
    "    return group"
   ]
  },
  {
   "cell_type": "code",
   "execution_count": 60,
   "id": "5e4e318e",
   "metadata": {},
   "outputs": [],
   "source": [
    "df_rolling_home = df.groupby('team').apply(lambda x: rolling_sum(x, ['gf', 'ga', 'pont'], ['gf_rolling', 'ga_rolling', 'pont_rolling'], 'Home'))\n",
    "df_rolling_home = df_rolling_home.droplevel('team')"
   ]
  },
  {
   "cell_type": "code",
   "execution_count": 62,
   "id": "22f37790",
   "metadata": {},
   "outputs": [],
   "source": [
    "df_rolling_away = df.groupby('team').apply(lambda x: rolling_sum(x, ['gf', 'ga', 'pont'], ['gf_rolling', 'ga_rolling', 'pont_rolling'], 'Away'))\n",
    "df_rolling_away = df_rolling_away.droplevel('team')"
   ]
  },
  {
   "cell_type": "code",
   "execution_count": 63,
   "id": "99ca74b5",
   "metadata": {},
   "outputs": [],
   "source": [
    "# incluindo variáveis rolling do time jogando fora de casa\n",
    "df_rolling = df_rolling_home.merge(df_rolling_away, left_on=['date', 'comp', 'opponent'], right_on=['date', 'comp', 'team'], suffixes=('_home','_away'), how='inner')"
   ]
  },
  {
   "cell_type": "code",
   "execution_count": 64,
   "id": "bdcfad78",
   "metadata": {},
   "outputs": [],
   "source": [
    "df_rolling = df_rolling[['date', 'comp', 'team_home', 'gf_rolling_home', 'ga_rolling_home', 'Points last season__home', \n",
    "                         'pont_rolling_home', 'last_2_results_sum_home',\n",
    "                         'opponent_home', 'gf_rolling_away', 'ga_rolling_away', 'Points last season__away',\n",
    "                         'pont_rolling_away', 'result_home']]"
   ]
  },
  {
   "cell_type": "code",
   "execution_count": 65,
   "id": "a8fb7be1",
   "metadata": {},
   "outputs": [],
   "source": [
    "df_rolling.rename(columns={\"team_home\": \"home\", \"opponent_home\": \"away\", \"result_home\": \"result\", \"last_2_results_sum_home\": \"last_2_results\"}, inplace=True)"
   ]
  },
  {
   "cell_type": "code",
   "execution_count": 66,
   "id": "5a99d123",
   "metadata": {},
   "outputs": [],
   "source": [
    "# substituindo valores do denominador do ratio que são 0 por 1, para não dar erro na divisão\n",
    "df_rolling['pont_rolling_away'].replace(0, 1, inplace=True)\n",
    "df_rolling['gf_rolling_away'].replace(0, 1, inplace=True)\n",
    "df_rolling['ga_rolling_away'].replace(0, 1, inplace=True)"
   ]
  },
  {
   "cell_type": "code",
   "execution_count": 67,
   "id": "c74993f2",
   "metadata": {},
   "outputs": [],
   "source": [
    "# inserindo coluna com a relação dos indicadores do time1 e time2\n",
    "df_rolling['gf_rolling_ratio'] = df_rolling['gf_rolling_home']/df_rolling['gf_rolling_away']\n",
    "df_rolling['ga_rolling_ratio'] = df_rolling['ga_rolling_home']/df_rolling['ga_rolling_away']\n",
    "df_rolling['points_last_season_ratio'] = df_rolling['Points last season__home']/df_rolling['Points last season__away']\n",
    "df_rolling['pont_rolling_ratio'] = df_rolling['pont_rolling_home']/df_rolling['pont_rolling_away']"
   ]
  },
  {
   "cell_type": "code",
   "execution_count": 68,
   "id": "59c09e48",
   "metadata": {},
   "outputs": [
    {
     "data": {
      "text/html": [
       "<div>\n",
       "<style scoped>\n",
       "    .dataframe tbody tr th:only-of-type {\n",
       "        vertical-align: middle;\n",
       "    }\n",
       "\n",
       "    .dataframe tbody tr th {\n",
       "        vertical-align: top;\n",
       "    }\n",
       "\n",
       "    .dataframe thead th {\n",
       "        text-align: right;\n",
       "    }\n",
       "</style>\n",
       "<table border=\"1\" class=\"dataframe\">\n",
       "  <thead>\n",
       "    <tr style=\"text-align: right;\">\n",
       "      <th></th>\n",
       "      <th>date</th>\n",
       "      <th>comp</th>\n",
       "      <th>home</th>\n",
       "      <th>gf_rolling_home</th>\n",
       "      <th>ga_rolling_home</th>\n",
       "      <th>Points last season__home</th>\n",
       "      <th>pont_rolling_home</th>\n",
       "      <th>last_2_results</th>\n",
       "      <th>away</th>\n",
       "      <th>gf_rolling_away</th>\n",
       "      <th>ga_rolling_away</th>\n",
       "      <th>Points last season__away</th>\n",
       "      <th>pont_rolling_away</th>\n",
       "      <th>result</th>\n",
       "      <th>gf_rolling_ratio</th>\n",
       "      <th>ga_rolling_ratio</th>\n",
       "      <th>points_last_season_ratio</th>\n",
       "      <th>pont_rolling_ratio</th>\n",
       "    </tr>\n",
       "  </thead>\n",
       "  <tbody>\n",
       "    <tr>\n",
       "      <th>0</th>\n",
       "      <td>2017-10-15</td>\n",
       "      <td>Eredivisie</td>\n",
       "      <td>ADO Den Haag</td>\n",
       "      <td>3.0</td>\n",
       "      <td>3.0</td>\n",
       "      <td>38.0</td>\n",
       "      <td>4.0</td>\n",
       "      <td>NaN</td>\n",
       "      <td>Excelsior</td>\n",
       "      <td>6.0</td>\n",
       "      <td>3.0</td>\n",
       "      <td>37.0</td>\n",
       "      <td>7.0</td>\n",
       "      <td>L</td>\n",
       "      <td>0.50</td>\n",
       "      <td>1.000000</td>\n",
       "      <td>1.027027</td>\n",
       "      <td>0.571429</td>\n",
       "    </tr>\n",
       "    <tr>\n",
       "      <th>1</th>\n",
       "      <td>2017-11-05</td>\n",
       "      <td>Eredivisie</td>\n",
       "      <td>ADO Den Haag</td>\n",
       "      <td>3.0</td>\n",
       "      <td>3.0</td>\n",
       "      <td>38.0</td>\n",
       "      <td>4.0</td>\n",
       "      <td>NaN</td>\n",
       "      <td>Feyenoord</td>\n",
       "      <td>5.0</td>\n",
       "      <td>2.0</td>\n",
       "      <td>82.0</td>\n",
       "      <td>4.0</td>\n",
       "      <td>D</td>\n",
       "      <td>0.60</td>\n",
       "      <td>1.500000</td>\n",
       "      <td>0.463415</td>\n",
       "      <td>1.000000</td>\n",
       "    </tr>\n",
       "    <tr>\n",
       "      <th>2</th>\n",
       "      <td>2017-11-19</td>\n",
       "      <td>Eredivisie</td>\n",
       "      <td>ADO Den Haag</td>\n",
       "      <td>4.0</td>\n",
       "      <td>4.0</td>\n",
       "      <td>38.0</td>\n",
       "      <td>4.0</td>\n",
       "      <td>NaN</td>\n",
       "      <td>Heracles Almelo</td>\n",
       "      <td>2.0</td>\n",
       "      <td>7.0</td>\n",
       "      <td>43.0</td>\n",
       "      <td>1.0</td>\n",
       "      <td>W</td>\n",
       "      <td>2.00</td>\n",
       "      <td>0.571429</td>\n",
       "      <td>0.883721</td>\n",
       "      <td>4.000000</td>\n",
       "    </tr>\n",
       "    <tr>\n",
       "      <th>3</th>\n",
       "      <td>2017-12-02</td>\n",
       "      <td>Eredivisie</td>\n",
       "      <td>ADO Den Haag</td>\n",
       "      <td>7.0</td>\n",
       "      <td>5.0</td>\n",
       "      <td>38.0</td>\n",
       "      <td>4.0</td>\n",
       "      <td>NaN</td>\n",
       "      <td>Groningen</td>\n",
       "      <td>4.0</td>\n",
       "      <td>7.0</td>\n",
       "      <td>43.0</td>\n",
       "      <td>1.0</td>\n",
       "      <td>L</td>\n",
       "      <td>1.75</td>\n",
       "      <td>0.714286</td>\n",
       "      <td>0.883721</td>\n",
       "      <td>4.000000</td>\n",
       "    </tr>\n",
       "    <tr>\n",
       "      <th>4</th>\n",
       "      <td>2017-12-13</td>\n",
       "      <td>Eredivisie</td>\n",
       "      <td>ADO Den Haag</td>\n",
       "      <td>6.0</td>\n",
       "      <td>6.0</td>\n",
       "      <td>38.0</td>\n",
       "      <td>4.0</td>\n",
       "      <td>NaN</td>\n",
       "      <td>Roda JC Kerkrade</td>\n",
       "      <td>1.0</td>\n",
       "      <td>9.0</td>\n",
       "      <td>33.0</td>\n",
       "      <td>1.0</td>\n",
       "      <td>W</td>\n",
       "      <td>6.00</td>\n",
       "      <td>0.666667</td>\n",
       "      <td>1.151515</td>\n",
       "      <td>4.000000</td>\n",
       "    </tr>\n",
       "  </tbody>\n",
       "</table>\n",
       "</div>"
      ],
      "text/plain": [
       "        date        comp          home  gf_rolling_home  ga_rolling_home  \\\n",
       "0 2017-10-15  Eredivisie  ADO Den Haag              3.0              3.0   \n",
       "1 2017-11-05  Eredivisie  ADO Den Haag              3.0              3.0   \n",
       "2 2017-11-19  Eredivisie  ADO Den Haag              4.0              4.0   \n",
       "3 2017-12-02  Eredivisie  ADO Den Haag              7.0              5.0   \n",
       "4 2017-12-13  Eredivisie  ADO Den Haag              6.0              6.0   \n",
       "\n",
       "   Points last season__home  pont_rolling_home  last_2_results  \\\n",
       "0                      38.0                4.0             NaN   \n",
       "1                      38.0                4.0             NaN   \n",
       "2                      38.0                4.0             NaN   \n",
       "3                      38.0                4.0             NaN   \n",
       "4                      38.0                4.0             NaN   \n",
       "\n",
       "               away  gf_rolling_away  ga_rolling_away  \\\n",
       "0         Excelsior              6.0              3.0   \n",
       "1         Feyenoord              5.0              2.0   \n",
       "2   Heracles Almelo              2.0              7.0   \n",
       "3         Groningen              4.0              7.0   \n",
       "4  Roda JC Kerkrade              1.0              9.0   \n",
       "\n",
       "   Points last season__away  pont_rolling_away result  gf_rolling_ratio  \\\n",
       "0                      37.0                7.0      L              0.50   \n",
       "1                      82.0                4.0      D              0.60   \n",
       "2                      43.0                1.0      W              2.00   \n",
       "3                      43.0                1.0      L              1.75   \n",
       "4                      33.0                1.0      W              6.00   \n",
       "\n",
       "   ga_rolling_ratio  points_last_season_ratio  pont_rolling_ratio  \n",
       "0          1.000000                  1.027027            0.571429  \n",
       "1          1.500000                  0.463415            1.000000  \n",
       "2          0.571429                  0.883721            4.000000  \n",
       "3          0.714286                  0.883721            4.000000  \n",
       "4          0.666667                  1.151515            4.000000  "
      ]
     },
     "execution_count": 68,
     "metadata": {},
     "output_type": "execute_result"
    }
   ],
   "source": [
    "df_rolling.head()"
   ]
  },
  {
   "cell_type": "code",
   "execution_count": 69,
   "id": "8e4c5109",
   "metadata": {},
   "outputs": [],
   "source": [
    "df_rolling = df_rolling[['date', 'comp', 'home', 'away', 'result', 'last_2_results', 'gf_rolling_ratio', 'ga_rolling_ratio', 'points_last_season_ratio',\n",
    "                        'pont_rolling_ratio']]"
   ]
  },
  {
   "cell_type": "code",
   "execution_count": 70,
   "id": "3b7dbc5b",
   "metadata": {},
   "outputs": [
    {
     "data": {
      "text/plain": [
       "(18362, 10)"
      ]
     },
     "execution_count": 70,
     "metadata": {},
     "output_type": "execute_result"
    }
   ],
   "source": [
    "df_rolling.shape"
   ]
  },
  {
   "cell_type": "code",
   "execution_count": 71,
   "id": "2d61f309",
   "metadata": {},
   "outputs": [],
   "source": [
    "df_rolling = df_rolling[~df_rolling['last_2_results'].isna()]"
   ]
  },
  {
   "cell_type": "code",
   "execution_count": 72,
   "id": "177c7628",
   "metadata": {},
   "outputs": [
    {
     "data": {
      "text/plain": [
       "(13336, 10)"
      ]
     },
     "execution_count": 72,
     "metadata": {},
     "output_type": "execute_result"
    }
   ],
   "source": [
    "df_rolling.shape"
   ]
  },
  {
   "cell_type": "code",
   "execution_count": 73,
   "id": "47a4f8d1",
   "metadata": {},
   "outputs": [
    {
     "data": {
      "text/plain": [
       "date                        0\n",
       "comp                        0\n",
       "home                        0\n",
       "away                        0\n",
       "result                      0\n",
       "last_2_results              0\n",
       "gf_rolling_ratio            0\n",
       "ga_rolling_ratio            0\n",
       "points_last_season_ratio    0\n",
       "pont_rolling_ratio          0\n",
       "dtype: int64"
      ]
     },
     "execution_count": 73,
     "metadata": {},
     "output_type": "execute_result"
    }
   ],
   "source": [
    "# verificando valores missing\n",
    "df_rolling.isna().sum().sort_values(ascending=False)"
   ]
  },
  {
   "cell_type": "code",
   "execution_count": 74,
   "id": "1accf4ac",
   "metadata": {},
   "outputs": [
    {
     "data": {
      "text/plain": [
       "array([False])"
      ]
     },
     "execution_count": 74,
     "metadata": {},
     "output_type": "execute_result"
    }
   ],
   "source": [
    "# verificando se há linhas duplicadas na base\n",
    "df_rolling.duplicated().unique()"
   ]
  },
  {
   "cell_type": "code",
   "execution_count": 75,
   "id": "feaa6e02",
   "metadata": {},
   "outputs": [],
   "source": [
    "# criando a coluna 'target' --> Vitóra = 1, Não vitória = 0\n",
    "\n",
    "conditions = [df_rolling['result'] == 'W', df_rolling['result'] == 'D', df_rolling['result'] == 'L']\n",
    "    \n",
    "values = [1, 0, 0]\n",
    "    \n",
    "df_rolling['target'] = np.select(conditions, values)"
   ]
  },
  {
   "cell_type": "code",
   "execution_count": 76,
   "id": "9754eeac",
   "metadata": {},
   "outputs": [
    {
     "data": {
      "text/plain": [
       "W    5897\n",
       "L    4158\n",
       "D    3281\n",
       "Name: result, dtype: int64"
      ]
     },
     "execution_count": 76,
     "metadata": {},
     "output_type": "execute_result"
    }
   ],
   "source": [
    "df_rolling['result'].value_counts()"
   ]
  },
  {
   "cell_type": "code",
   "execution_count": 77,
   "id": "4324df0c",
   "metadata": {},
   "outputs": [
    {
     "data": {
      "text/plain": [
       "last_2_results              0.185532\n",
       "gf_rolling_ratio            0.149946\n",
       "ga_rolling_ratio           -0.119093\n",
       "points_last_season_ratio    0.294710\n",
       "pont_rolling_ratio          0.148549\n",
       "target                      1.000000\n",
       "Name: target, dtype: float64"
      ]
     },
     "execution_count": 77,
     "metadata": {},
     "output_type": "execute_result"
    }
   ],
   "source": [
    "df_rolling.corr()['target']"
   ]
  },
  {
   "cell_type": "markdown",
   "id": "58598270",
   "metadata": {},
   "source": [
    "### Como o objetivo é predizer qual time tem mais chance de saír vencedor, vamos considerar apenas as partidas onde houve um vencedor. Por esse motivo, vamos excluir os empates da base."
   ]
  },
  {
   "cell_type": "code",
   "execution_count": 78,
   "id": "2205ca1e",
   "metadata": {},
   "outputs": [],
   "source": [
    "df_rolling = df_rolling[df_rolling['result'] != 'D']"
   ]
  },
  {
   "cell_type": "code",
   "execution_count": 79,
   "id": "3beb020b",
   "metadata": {},
   "outputs": [],
   "source": [
    "# filtrando as colunas que serão utilizadas\n",
    "df_ml = df_rolling[['date', 'home', 'away', 'gf_rolling_ratio', 'ga_rolling_ratio',\n",
    "                    'points_last_season_ratio', \n",
    "                    'pont_rolling_ratio',\n",
    "                    'result', 'last_2_results', 'target']]"
   ]
  },
  {
   "cell_type": "code",
   "execution_count": 80,
   "id": "3dac6920",
   "metadata": {},
   "outputs": [
    {
     "data": {
      "text/plain": [
       "1    5897\n",
       "0    4158\n",
       "Name: target, dtype: int64"
      ]
     },
     "execution_count": 80,
     "metadata": {},
     "output_type": "execute_result"
    }
   ],
   "source": [
    "df_ml['target'].value_counts()"
   ]
  },
  {
   "cell_type": "code",
   "execution_count": 81,
   "id": "4a5d3214",
   "metadata": {},
   "outputs": [
    {
     "data": {
      "text/plain": [
       "1    0.586474\n",
       "0    0.413526\n",
       "Name: target, dtype: float64"
      ]
     },
     "execution_count": 81,
     "metadata": {},
     "output_type": "execute_result"
    }
   ],
   "source": [
    "df_ml['target'].value_counts(normalize=True)"
   ]
  },
  {
   "cell_type": "code",
   "execution_count": 82,
   "id": "cf630c8b",
   "metadata": {},
   "outputs": [
    {
     "data": {
      "text/html": [
       "<div>\n",
       "<style scoped>\n",
       "    .dataframe tbody tr th:only-of-type {\n",
       "        vertical-align: middle;\n",
       "    }\n",
       "\n",
       "    .dataframe tbody tr th {\n",
       "        vertical-align: top;\n",
       "    }\n",
       "\n",
       "    .dataframe thead th {\n",
       "        text-align: right;\n",
       "    }\n",
       "</style>\n",
       "<table border=\"1\" class=\"dataframe\">\n",
       "  <thead>\n",
       "    <tr style=\"text-align: right;\">\n",
       "      <th></th>\n",
       "      <th>date</th>\n",
       "      <th>home</th>\n",
       "      <th>away</th>\n",
       "      <th>gf_rolling_ratio</th>\n",
       "      <th>ga_rolling_ratio</th>\n",
       "      <th>points_last_season_ratio</th>\n",
       "      <th>pont_rolling_ratio</th>\n",
       "      <th>result</th>\n",
       "      <th>last_2_results</th>\n",
       "      <th>target</th>\n",
       "    </tr>\n",
       "  </thead>\n",
       "  <tbody>\n",
       "    <tr>\n",
       "      <th>13</th>\n",
       "      <td>2018-05-09</td>\n",
       "      <td>ADO Den Haag</td>\n",
       "      <td>Vitesse</td>\n",
       "      <td>1.000000</td>\n",
       "      <td>1.000000</td>\n",
       "      <td>0.745098</td>\n",
       "      <td>4.000000</td>\n",
       "      <td>L</td>\n",
       "      <td>3.0</td>\n",
       "      <td>0</td>\n",
       "    </tr>\n",
       "    <tr>\n",
       "      <th>14</th>\n",
       "      <td>2018-09-15</td>\n",
       "      <td>ADO Den Haag</td>\n",
       "      <td>PSV Eindhoven</td>\n",
       "      <td>0.857143</td>\n",
       "      <td>1.600000</td>\n",
       "      <td>0.566265</td>\n",
       "      <td>0.428571</td>\n",
       "      <td>L</td>\n",
       "      <td>1.0</td>\n",
       "      <td>0</td>\n",
       "    </tr>\n",
       "    <tr>\n",
       "      <th>15</th>\n",
       "      <td>2018-10-06</td>\n",
       "      <td>ADO Den Haag</td>\n",
       "      <td>Groningen</td>\n",
       "      <td>2.000000</td>\n",
       "      <td>1.250000</td>\n",
       "      <td>1.236842</td>\n",
       "      <td>1.000000</td>\n",
       "      <td>W</td>\n",
       "      <td>1.0</td>\n",
       "      <td>1</td>\n",
       "    </tr>\n",
       "    <tr>\n",
       "      <th>17</th>\n",
       "      <td>2018-11-11</td>\n",
       "      <td>ADO Den Haag</td>\n",
       "      <td>AZ Alkmaar</td>\n",
       "      <td>0.500000</td>\n",
       "      <td>1.000000</td>\n",
       "      <td>0.661972</td>\n",
       "      <td>1.333333</td>\n",
       "      <td>L</td>\n",
       "      <td>0.0</td>\n",
       "      <td>0</td>\n",
       "    </tr>\n",
       "    <tr>\n",
       "      <th>20</th>\n",
       "      <td>2019-01-19</td>\n",
       "      <td>ADO Den Haag</td>\n",
       "      <td>VVV Venlo</td>\n",
       "      <td>0.666667</td>\n",
       "      <td>0.300000</td>\n",
       "      <td>1.382353</td>\n",
       "      <td>2.000000</td>\n",
       "      <td>L</td>\n",
       "      <td>1.0</td>\n",
       "      <td>0</td>\n",
       "    </tr>\n",
       "    <tr>\n",
       "      <th>...</th>\n",
       "      <td>...</td>\n",
       "      <td>...</td>\n",
       "      <td>...</td>\n",
       "      <td>...</td>\n",
       "      <td>...</td>\n",
       "      <td>...</td>\n",
       "      <td>...</td>\n",
       "      <td>...</td>\n",
       "      <td>...</td>\n",
       "      <td>...</td>\n",
       "    </tr>\n",
       "    <tr>\n",
       "      <th>18353</th>\n",
       "      <td>2021-12-18</td>\n",
       "      <td>Zwolle</td>\n",
       "      <td>Twente</td>\n",
       "      <td>0.200000</td>\n",
       "      <td>0.500000</td>\n",
       "      <td>0.926829</td>\n",
       "      <td>0.166667</td>\n",
       "      <td>L</td>\n",
       "      <td>3.0</td>\n",
       "      <td>0</td>\n",
       "    </tr>\n",
       "    <tr>\n",
       "      <th>18354</th>\n",
       "      <td>2022-01-14</td>\n",
       "      <td>Zwolle</td>\n",
       "      <td>Willem II</td>\n",
       "      <td>0.500000</td>\n",
       "      <td>0.363636</td>\n",
       "      <td>1.225806</td>\n",
       "      <td>1.000000</td>\n",
       "      <td>W</td>\n",
       "      <td>3.0</td>\n",
       "      <td>1</td>\n",
       "    </tr>\n",
       "    <tr>\n",
       "      <th>18357</th>\n",
       "      <td>2022-03-13</td>\n",
       "      <td>Zwolle</td>\n",
       "      <td>Feyenoord</td>\n",
       "      <td>0.571429</td>\n",
       "      <td>0.666667</td>\n",
       "      <td>0.644068</td>\n",
       "      <td>0.833333</td>\n",
       "      <td>L</td>\n",
       "      <td>0.0</td>\n",
       "      <td>0</td>\n",
       "    </tr>\n",
       "    <tr>\n",
       "      <th>18359</th>\n",
       "      <td>2022-04-10</td>\n",
       "      <td>Zwolle</td>\n",
       "      <td>AZ Alkmaar</td>\n",
       "      <td>0.222222</td>\n",
       "      <td>1.000000</td>\n",
       "      <td>0.535211</td>\n",
       "      <td>0.142857</td>\n",
       "      <td>W</td>\n",
       "      <td>1.0</td>\n",
       "      <td>1</td>\n",
       "    </tr>\n",
       "    <tr>\n",
       "      <th>18361</th>\n",
       "      <td>2022-05-15</td>\n",
       "      <td>Zwolle</td>\n",
       "      <td>PSV Eindhoven</td>\n",
       "      <td>0.428571</td>\n",
       "      <td>0.500000</td>\n",
       "      <td>0.527778</td>\n",
       "      <td>0.800000</td>\n",
       "      <td>L</td>\n",
       "      <td>0.0</td>\n",
       "      <td>0</td>\n",
       "    </tr>\n",
       "  </tbody>\n",
       "</table>\n",
       "<p>10055 rows × 10 columns</p>\n",
       "</div>"
      ],
      "text/plain": [
       "            date          home           away  gf_rolling_ratio  \\\n",
       "13    2018-05-09  ADO Den Haag        Vitesse          1.000000   \n",
       "14    2018-09-15  ADO Den Haag  PSV Eindhoven          0.857143   \n",
       "15    2018-10-06  ADO Den Haag      Groningen          2.000000   \n",
       "17    2018-11-11  ADO Den Haag     AZ Alkmaar          0.500000   \n",
       "20    2019-01-19  ADO Den Haag      VVV Venlo          0.666667   \n",
       "...          ...           ...            ...               ...   \n",
       "18353 2021-12-18        Zwolle         Twente          0.200000   \n",
       "18354 2022-01-14        Zwolle      Willem II          0.500000   \n",
       "18357 2022-03-13        Zwolle      Feyenoord          0.571429   \n",
       "18359 2022-04-10        Zwolle     AZ Alkmaar          0.222222   \n",
       "18361 2022-05-15        Zwolle  PSV Eindhoven          0.428571   \n",
       "\n",
       "       ga_rolling_ratio  points_last_season_ratio  pont_rolling_ratio result  \\\n",
       "13             1.000000                  0.745098            4.000000      L   \n",
       "14             1.600000                  0.566265            0.428571      L   \n",
       "15             1.250000                  1.236842            1.000000      W   \n",
       "17             1.000000                  0.661972            1.333333      L   \n",
       "20             0.300000                  1.382353            2.000000      L   \n",
       "...                 ...                       ...                 ...    ...   \n",
       "18353          0.500000                  0.926829            0.166667      L   \n",
       "18354          0.363636                  1.225806            1.000000      W   \n",
       "18357          0.666667                  0.644068            0.833333      L   \n",
       "18359          1.000000                  0.535211            0.142857      W   \n",
       "18361          0.500000                  0.527778            0.800000      L   \n",
       "\n",
       "       last_2_results  target  \n",
       "13                3.0       0  \n",
       "14                1.0       0  \n",
       "15                1.0       1  \n",
       "17                0.0       0  \n",
       "20                1.0       0  \n",
       "...               ...     ...  \n",
       "18353             3.0       0  \n",
       "18354             3.0       1  \n",
       "18357             0.0       0  \n",
       "18359             1.0       1  \n",
       "18361             0.0       0  \n",
       "\n",
       "[10055 rows x 10 columns]"
      ]
     },
     "execution_count": 82,
     "metadata": {},
     "output_type": "execute_result"
    }
   ],
   "source": [
    "df_ml"
   ]
  },
  {
   "cell_type": "code",
   "execution_count": 83,
   "id": "387f2856",
   "metadata": {},
   "outputs": [
    {
     "name": "stdout",
     "output_type": "stream",
     "text": [
      "(8546, 5)\n",
      "(8546,)\n",
      "(1509, 5)\n",
      "(1509,)\n"
     ]
    },
    {
     "data": {
      "text/plain": [
       "(None, None)"
      ]
     },
     "execution_count": 83,
     "metadata": {},
     "output_type": "execute_result"
    }
   ],
   "source": [
    "# separando a base em treino e teste\n",
    "from sklearn.model_selection import train_test_split\n",
    "\n",
    "train_size=0.85\n",
    "\n",
    "X = df_ml.drop(columns = ['target', 'result', 'date', 'home', 'away']).copy()\n",
    "y = df_ml['target']\n",
    "\n",
    "X_train, X_test, y_train, y_test = train_test_split(X,y, train_size=train_size, random_state=20)\n",
    "\n",
    "print(X_train.shape), print(y_train.shape)\n",
    "print(X_test.shape), print(y_test.shape)"
   ]
  },
  {
   "cell_type": "code",
   "execution_count": 84,
   "id": "95653309",
   "metadata": {},
   "outputs": [
    {
     "data": {
      "text/plain": [
       "1    0.583314\n",
       "0    0.416686\n",
       "Name: target, dtype: float64"
      ]
     },
     "execution_count": 84,
     "metadata": {},
     "output_type": "execute_result"
    }
   ],
   "source": [
    "y_train.value_counts(normalize=True)"
   ]
  },
  {
   "cell_type": "code",
   "execution_count": 85,
   "id": "924794c3",
   "metadata": {},
   "outputs": [
    {
     "data": {
      "text/plain": [
       "1    0.604374\n",
       "0    0.395626\n",
       "Name: target, dtype: float64"
      ]
     },
     "execution_count": 85,
     "metadata": {},
     "output_type": "execute_result"
    }
   ],
   "source": [
    "y_test.value_counts(normalize=True)"
   ]
  },
  {
   "cell_type": "markdown",
   "id": "c1c291d7",
   "metadata": {},
   "source": [
    "# Modelos de Machine Learning"
   ]
  },
  {
   "cell_type": "code",
   "execution_count": 86,
   "id": "41100234",
   "metadata": {},
   "outputs": [],
   "source": [
    "# Função para trazer as medidas\n",
    "def medidas(y_test, y_pred_best):\n",
    "    print(f'precision:{precision_score(y_test, y_pred_best):.2f}')\n",
    "    print(f'accuracy:{accuracy_score(y_test, y_pred_best):.2f}')\n",
    "    print(f'recall:{recall_score(y_test, y_pred_best):.2f}')\n",
    "    print(f'f1_score:{f1_score(y_test, y_pred_best):.2f}')\n",
    "    print(f'roc_auc_score:{roc_auc_score(y_test, y_pred_best):.2f}')"
   ]
  },
  {
   "cell_type": "markdown",
   "id": "debfacfb",
   "metadata": {},
   "source": [
    "## Regressão Logística"
   ]
  },
  {
   "cell_type": "code",
   "execution_count": 87,
   "id": "ecce6d86",
   "metadata": {},
   "outputs": [],
   "source": [
    "from sklearn.linear_model import LogisticRegression\n",
    "from sklearn.pipeline import Pipeline\n",
    "from sklearn.metrics import plot_confusion_matrix\n",
    "from sklearn.model_selection import GridSearchCV\n",
    "from sklearn.preprocessing import StandardScaler\n",
    "from feature_engine.wrappers import SklearnTransformerWrapper\n",
    "from sklearn.metrics import accuracy_score, precision_score, recall_score, f1_score, roc_auc_score\n",
    "from sklearn.model_selection import cross_val_score\n",
    "from sklearn.model_selection import RepeatedStratifiedKFold\n",
    "from numpy import mean\n",
    "from numpy import std"
   ]
  },
  {
   "cell_type": "code",
   "execution_count": 88,
   "id": "d47247c7",
   "metadata": {},
   "outputs": [
    {
     "data": {
      "text/plain": [
       "Index(['gf_rolling_ratio', 'ga_rolling_ratio', 'points_last_season_ratio',\n",
       "       'pont_rolling_ratio', 'last_2_results'],\n",
       "      dtype='object')"
      ]
     },
     "execution_count": 88,
     "metadata": {},
     "output_type": "execute_result"
    }
   ],
   "source": [
    "X_train.columns"
   ]
  },
  {
   "cell_type": "code",
   "execution_count": 89,
   "id": "7b4dc85c",
   "metadata": {},
   "outputs": [],
   "source": [
    "std_scaller = [('numeric_scaler', SklearnTransformerWrapper(variables=['gf_rolling_ratio', 'ga_rolling_ratio', 'points_last_season_ratio',\n",
    "                                                                       'pont_rolling_ratio',\n",
    "                                                                       'last_2_results'], transformer=StandardScaler()))]\n",
    "\n",
    "pipeline = Pipeline(steps= std_scaller + [('logit', LogisticRegression())])"
   ]
  },
  {
   "cell_type": "code",
   "execution_count": 90,
   "id": "630e9a7b",
   "metadata": {},
   "outputs": [
    {
     "data": {
      "text/plain": [
       "Pipeline(steps=[('numeric_scaler',\n",
       "                 SklearnTransformerWrapper(transformer=StandardScaler(),\n",
       "                                           variables=['gf_rolling_ratio',\n",
       "                                                      'ga_rolling_ratio',\n",
       "                                                      'points_last_season_ratio',\n",
       "                                                      'pont_rolling_ratio',\n",
       "                                                      'last_2_results'])),\n",
       "                ('logit', LogisticRegression())])"
      ]
     },
     "execution_count": 90,
     "metadata": {},
     "output_type": "execute_result"
    }
   ],
   "source": [
    "pipeline.fit(X_train, y_train)"
   ]
  },
  {
   "cell_type": "code",
   "execution_count": 91,
   "id": "895edcfc",
   "metadata": {},
   "outputs": [],
   "source": [
    "y_pred = pipeline.predict(X_test)"
   ]
  },
  {
   "cell_type": "code",
   "execution_count": 92,
   "id": "8036eb66",
   "metadata": {},
   "outputs": [
    {
     "data": {
      "text/plain": [
       "0.7319796954314721"
      ]
     },
     "execution_count": 92,
     "metadata": {},
     "output_type": "execute_result"
    }
   ],
   "source": [
    "precision_score(y_test, y_pred)"
   ]
  },
  {
   "cell_type": "code",
   "execution_count": 93,
   "id": "9d0568f1",
   "metadata": {},
   "outputs": [
    {
     "data": {
      "text/plain": [
       "0.6984758117958914"
      ]
     },
     "execution_count": 93,
     "metadata": {},
     "output_type": "execute_result"
    }
   ],
   "source": [
    "accuracy_score(y_test, y_pred)"
   ]
  },
  {
   "cell_type": "code",
   "execution_count": 94,
   "id": "8c2c9c75",
   "metadata": {},
   "outputs": [
    {
     "data": {
      "text/plain": [
       "0.7905701754385965"
      ]
     },
     "execution_count": 94,
     "metadata": {},
     "output_type": "execute_result"
    }
   ],
   "source": [
    "recall_score(y_test, y_pred)"
   ]
  },
  {
   "cell_type": "code",
   "execution_count": 95,
   "id": "90875bfc",
   "metadata": {},
   "outputs": [
    {
     "data": {
      "text/plain": [
       "0.7601476014760148"
      ]
     },
     "execution_count": 95,
     "metadata": {},
     "output_type": "execute_result"
    }
   ],
   "source": [
    "f1_score(y_test, y_pred)"
   ]
  },
  {
   "cell_type": "code",
   "execution_count": 96,
   "id": "30519cbf",
   "metadata": {},
   "outputs": [
    {
     "data": {
      "text/plain": [
       "0.6741795600811072"
      ]
     },
     "execution_count": 96,
     "metadata": {},
     "output_type": "execute_result"
    }
   ],
   "source": [
    "roc_auc_score(y_test, y_pred)"
   ]
  },
  {
   "cell_type": "code",
   "execution_count": 97,
   "id": "c8df7273",
   "metadata": {},
   "outputs": [
    {
     "data": {
      "text/plain": [
       "<sklearn.metrics._plot.confusion_matrix.ConfusionMatrixDisplay at 0x23ba1504cd0>"
      ]
     },
     "execution_count": 97,
     "metadata": {},
     "output_type": "execute_result"
    },
    {
     "data": {
      "image/png": "[encoded data removed]",
      "text/plain": [
       "<Figure size 432x288 with 2 Axes>"
      ]
     },
     "metadata": {},
     "output_type": "display_data"
    }
   ],
   "source": [
    "plot_confusion_matrix(pipeline, X_test, y_test, values_format='d')"
   ]
  },
  {
   "cell_type": "code",
   "execution_count": 98,
   "id": "3ad0d27f",
   "metadata": {},
   "outputs": [
    {
     "data": {
      "text/plain": [
       "Pipeline(steps=[('numeric_scaler',\n",
       "                 SklearnTransformerWrapper(transformer=StandardScaler(),\n",
       "                                           variables=['gf_rolling_ratio',\n",
       "                                                      'ga_rolling_ratio',\n",
       "                                                      'points_last_season_ratio',\n",
       "                                                      'pont_rolling_ratio',\n",
       "                                                      'last_2_results'])),\n",
       "                ('logit', LogisticRegression())])"
      ]
     },
     "execution_count": 98,
     "metadata": {},
     "output_type": "execute_result"
    }
   ],
   "source": [
    "pipeline"
   ]
  },
  {
   "cell_type": "code",
   "execution_count": 99,
   "id": "5bff6ec0",
   "metadata": {},
   "outputs": [
    {
     "data": {
      "text/plain": [
       "array([[ 0.18121263, -0.16993794,  0.74239643,  0.01475109,  0.11643407]])"
      ]
     },
     "execution_count": 99,
     "metadata": {},
     "output_type": "execute_result"
    }
   ],
   "source": [
    "pipeline[1].coef_"
   ]
  },
  {
   "cell_type": "code",
   "execution_count": 100,
   "id": "c408bcca",
   "metadata": {},
   "outputs": [
    {
     "data": {
      "text/plain": [
       "array([0.42828306])"
      ]
     },
     "execution_count": 100,
     "metadata": {},
     "output_type": "execute_result"
    }
   ],
   "source": [
    "pipeline[1].intercept_"
   ]
  },
  {
   "cell_type": "code",
   "execution_count": 101,
   "id": "a90437b5",
   "metadata": {},
   "outputs": [
    {
     "name": "stdout",
     "output_type": "stream",
     "text": [
      "Fitting 5 folds for each of 48 candidates, totalling 240 fits\n",
      "\n",
      "====================================================================================================\n",
      "{'logit__C': 0.1, 'logit__class_weight': None, 'logit__fit_intercept': True, 'logit__penalty': 'l2'}\n",
      "====================================================================================================\n",
      "\n"
     ]
    }
   ],
   "source": [
    "# Grid Search\n",
    "parametros = {\n",
    "    'logit__penalty': ['l1', 'l2'],\n",
    "    'logit__C': [0.001, 0.01, 0.1, 1, 10, 100],\n",
    "    'logit__class_weight': ['balanced', None],\n",
    "    'logit__fit_intercept': [True, False]\n",
    "}\n",
    "grid_search = GridSearchCV(pipeline, parametros, scoring='accuracy', cv=5, n_jobs=-1, verbose=1)\n",
    "grid_search.fit(X_train, y_train)\n",
    "\n",
    "print()\n",
    "print('='*100)\n",
    "print(grid_search.best_params_)\n",
    "print('='*100)\n",
    "print()"
   ]
  },
  {
   "cell_type": "code",
   "execution_count": 102,
   "id": "73bb27a8",
   "metadata": {},
   "outputs": [],
   "source": [
    "best_lr_pipeline = Pipeline(steps= std_scaller + [('logit', LogisticRegression(C=0.1, class_weight=None, fit_intercept=True, penalty='l2'))])"
   ]
  },
  {
   "cell_type": "code",
   "execution_count": 103,
   "id": "f87f9b2d",
   "metadata": {},
   "outputs": [
    {
     "data": {
      "text/plain": [
       "Pipeline(steps=[('numeric_scaler',\n",
       "                 SklearnTransformerWrapper(transformer=StandardScaler(),\n",
       "                                           variables=['gf_rolling_ratio',\n",
       "                                                      'ga_rolling_ratio',\n",
       "                                                      'points_last_season_ratio',\n",
       "                                                      'pont_rolling_ratio',\n",
       "                                                      'last_2_results'])),\n",
       "                ('logit', LogisticRegression(C=0.1))])"
      ]
     },
     "execution_count": 103,
     "metadata": {},
     "output_type": "execute_result"
    }
   ],
   "source": [
    "best_lr_pipeline.fit(X_train, y_train)"
   ]
  },
  {
   "cell_type": "code",
   "execution_count": 104,
   "id": "bf76f43e",
   "metadata": {},
   "outputs": [],
   "source": [
    "y_pred_best = best_lr_pipeline.predict(X_test)"
   ]
  },
  {
   "cell_type": "code",
   "execution_count": 105,
   "id": "e757166e",
   "metadata": {},
   "outputs": [],
   "source": [
    "precision_score_lr = precision_score(y_test, y_pred_best)\n",
    "accuracy_score_lr = accuracy_score(y_test, y_pred_best)\n",
    "recall_score_lr = recall_score(y_test, y_pred_best)\n",
    "f1_score_lr = f1_score(y_test, y_pred_best)\n",
    "roc_auc_score_lr = roc_auc_score(y_test, y_pred_best)"
   ]
  },
  {
   "cell_type": "code",
   "execution_count": 106,
   "id": "5c7f8b2b",
   "metadata": {},
   "outputs": [
    {
     "data": {
      "text/plain": [
       "0.7322515212981744"
      ]
     },
     "execution_count": 106,
     "metadata": {},
     "output_type": "execute_result"
    }
   ],
   "source": [
    "precision_score_lr"
   ]
  },
  {
   "cell_type": "code",
   "execution_count": 107,
   "id": "06c83b25",
   "metadata": {},
   "outputs": [
    {
     "data": {
      "text/plain": [
       "0.6991385023194169"
      ]
     },
     "execution_count": 107,
     "metadata": {},
     "output_type": "execute_result"
    }
   ],
   "source": [
    "accuracy_score_lr"
   ]
  },
  {
   "cell_type": "code",
   "execution_count": 108,
   "id": "dfbc4a61",
   "metadata": {},
   "outputs": [
    {
     "data": {
      "text/plain": [
       "0.7916666666666666"
      ]
     },
     "execution_count": 108,
     "metadata": {},
     "output_type": "execute_result"
    }
   ],
   "source": [
    "recall_score_lr"
   ]
  },
  {
   "cell_type": "code",
   "execution_count": 109,
   "id": "e63a28ef",
   "metadata": {},
   "outputs": [
    {
     "data": {
      "text/plain": [
       "0.7608008429926237"
      ]
     },
     "execution_count": 109,
     "metadata": {},
     "output_type": "execute_result"
    }
   ],
   "source": [
    "f1_score_lr"
   ]
  },
  {
   "cell_type": "code",
   "execution_count": 110,
   "id": "c15c1984",
   "metadata": {},
   "outputs": [
    {
     "data": {
      "text/plain": [
       "0.6747278056951423"
      ]
     },
     "execution_count": 110,
     "metadata": {},
     "output_type": "execute_result"
    }
   ],
   "source": [
    "roc_auc_score_lr"
   ]
  },
  {
   "cell_type": "code",
   "execution_count": 111,
   "id": "efeb1479",
   "metadata": {},
   "outputs": [
    {
     "data": {
      "text/plain": [
       "<sklearn.metrics._plot.confusion_matrix.ConfusionMatrixDisplay at 0x23ba158a280>"
      ]
     },
     "execution_count": 111,
     "metadata": {},
     "output_type": "execute_result"
    },
    {
     "data": {
      "image/png": "[encoded data removed]",
      "text/plain": [
       "<Figure size 432x288 with 2 Axes>"
      ]
     },
     "metadata": {},
     "output_type": "display_data"
    }
   ],
   "source": [
    "plot_confusion_matrix(best_lr_pipeline, X_test, y_test, values_format='d')"
   ]
  },
  {
   "cell_type": "code",
   "execution_count": 112,
   "id": "25f7627b",
   "metadata": {},
   "outputs": [
    {
     "data": {
      "text/plain": [
       "array([[ 0.17997715, -0.16896786,  0.73526558,  0.01691492,  0.1183925 ]])"
      ]
     },
     "execution_count": 112,
     "metadata": {},
     "output_type": "execute_result"
    }
   ],
   "source": [
    "best_lr_pipeline[1].coef_"
   ]
  },
  {
   "cell_type": "markdown",
   "id": "af3a4ae5",
   "metadata": {},
   "source": [
    "## SVM"
   ]
  },
  {
   "cell_type": "code",
   "execution_count": 113,
   "id": "19809623",
   "metadata": {},
   "outputs": [],
   "source": [
    "from sklearn.svm import SVC"
   ]
  },
  {
   "cell_type": "code",
   "execution_count": 114,
   "id": "29d34730",
   "metadata": {},
   "outputs": [],
   "source": [
    "std_scaller = [('numeric_scaler', SklearnTransformerWrapper(variables=['gf_rolling_ratio', 'ga_rolling_ratio', 'points_last_season_ratio',\n",
    "       #'FIFA_23_Overall_ratio',\n",
    "                                                                       'pont_rolling_ratio', 'last_2_results'], transformer=StandardScaler()))]\n",
    "\n",
    "pipeline_svc = Pipeline(steps= std_scaller + [('svc', SVC())])"
   ]
  },
  {
   "cell_type": "code",
   "execution_count": 115,
   "id": "b99c4906",
   "metadata": {},
   "outputs": [
    {
     "data": {
      "text/plain": [
       "Pipeline(steps=[('numeric_scaler',\n",
       "                 SklearnTransformerWrapper(transformer=StandardScaler(),\n",
       "                                           variables=['gf_rolling_ratio',\n",
       "                                                      'ga_rolling_ratio',\n",
       "                                                      'points_last_season_ratio',\n",
       "                                                      'pont_rolling_ratio',\n",
       "                                                      'last_2_results'])),\n",
       "                ('svc', SVC())])"
      ]
     },
     "execution_count": 115,
     "metadata": {},
     "output_type": "execute_result"
    }
   ],
   "source": [
    "pipeline_svc.fit(X_train, y_train)"
   ]
  },
  {
   "cell_type": "code",
   "execution_count": 116,
   "id": "7cbbe8e3",
   "metadata": {},
   "outputs": [],
   "source": [
    "y_pred = pipeline_svc.predict(X_test)"
   ]
  },
  {
   "cell_type": "code",
   "execution_count": 117,
   "id": "4436c5d0",
   "metadata": {},
   "outputs": [
    {
     "data": {
      "text/plain": [
       "0.7101584342963654"
      ]
     },
     "execution_count": 117,
     "metadata": {},
     "output_type": "execute_result"
    }
   ],
   "source": [
    "precision_score(y_test, y_pred)"
   ]
  },
  {
   "cell_type": "code",
   "execution_count": 118,
   "id": "c920a7a9",
   "metadata": {},
   "outputs": [
    {
     "data": {
      "text/plain": [
       "0.6944996686547382"
      ]
     },
     "execution_count": 118,
     "metadata": {},
     "output_type": "execute_result"
    }
   ],
   "source": [
    "accuracy_score(y_test, y_pred)"
   ]
  },
  {
   "cell_type": "code",
   "execution_count": 119,
   "id": "a36f1688",
   "metadata": {},
   "outputs": [
    {
     "data": {
      "text/plain": [
       "<sklearn.metrics._plot.confusion_matrix.ConfusionMatrixDisplay at 0x23ba15d14c0>"
      ]
     },
     "execution_count": 119,
     "metadata": {},
     "output_type": "execute_result"
    },
    {
     "data": {
      "image/png": "[encoded data removed]",
      "text/plain": [
       "<Figure size 432x288 with 2 Axes>"
      ]
     },
     "metadata": {},
     "output_type": "display_data"
    }
   ],
   "source": [
    "plot_confusion_matrix(pipeline_svc, X_test, y_test, values_format='d')"
   ]
  },
  {
   "cell_type": "code",
   "execution_count": 120,
   "id": "9ae77853",
   "metadata": {},
   "outputs": [
    {
     "name": "stdout",
     "output_type": "stream",
     "text": [
      "Fitting 5 folds for each of 32 candidates, totalling 160 fits\n",
      "\n",
      "====================================================================================================\n",
      "{'svc__C': 1, 'svc__class_weight': None, 'svc__gamma': 'scale', 'svc__kernel': 'rbf'}\n",
      "====================================================================================================\n",
      "\n"
     ]
    }
   ],
   "source": [
    "parametros = {\n",
    "    'svc__C': [0.01, 0.1, 1, 10], # [0.001, 0.01, 0.1, 1, 10, 100],\n",
    "    'svc__gamma': ['scale', 'auto'], # ['scale', 'auto'],\n",
    "    'svc__kernel': ['rbf', 'poly'], # ['rbf', 'poly', 'linear', 'sigmoid'],\n",
    "    'svc__class_weight': ['balanced', None]\n",
    "}\n",
    "grid_search = GridSearchCV(pipeline_svc, parametros, scoring='accuracy', cv=5, n_jobs=-1, verbose=1)\n",
    "grid_search.fit(X_train, y_train)\n",
    "\n",
    "print()\n",
    "print('='*100)\n",
    "print(grid_search.best_params_)\n",
    "print('='*100)\n",
    "print()"
   ]
  },
  {
   "cell_type": "code",
   "execution_count": 121,
   "id": "604441ed",
   "metadata": {},
   "outputs": [],
   "source": [
    "best_svc_pipeline = Pipeline(steps= std_scaller + [('svc', SVC(C=0.1, class_weight=None, gamma='scale', kernel='rbf'))])"
   ]
  },
  {
   "cell_type": "code",
   "execution_count": 122,
   "id": "aa5f5a4f",
   "metadata": {},
   "outputs": [
    {
     "data": {
      "text/plain": [
       "Pipeline(steps=[('numeric_scaler',\n",
       "                 SklearnTransformerWrapper(transformer=StandardScaler(),\n",
       "                                           variables=['gf_rolling_ratio',\n",
       "                                                      'ga_rolling_ratio',\n",
       "                                                      'points_last_season_ratio',\n",
       "                                                      'pont_rolling_ratio',\n",
       "                                                      'last_2_results'])),\n",
       "                ('svc', SVC(C=0.1))])"
      ]
     },
     "execution_count": 122,
     "metadata": {},
     "output_type": "execute_result"
    }
   ],
   "source": [
    "best_svc_pipeline.fit(X_train, y_train)"
   ]
  },
  {
   "cell_type": "code",
   "execution_count": 123,
   "id": "33cba12c",
   "metadata": {},
   "outputs": [],
   "source": [
    "y_pred_best = best_svc_pipeline.predict(X_test)"
   ]
  },
  {
   "cell_type": "code",
   "execution_count": 124,
   "id": "d5f86800",
   "metadata": {},
   "outputs": [],
   "source": [
    "precision_score_svm = precision_score(y_test, y_pred_best)\n",
    "accuracy_score_svm = accuracy_score(y_test, y_pred_best)\n",
    "recall_score_svm = recall_score(y_test, y_pred_best)\n",
    "f1_score_svm = f1_score(y_test, y_pred_best)\n",
    "roc_auc_score_svm = roc_auc_score(y_test, y_pred_best)"
   ]
  },
  {
   "cell_type": "code",
   "execution_count": 125,
   "id": "52e23344",
   "metadata": {},
   "outputs": [
    {
     "data": {
      "text/plain": [
       "<sklearn.metrics._plot.confusion_matrix.ConfusionMatrixDisplay at 0x23ba1628ca0>"
      ]
     },
     "execution_count": 125,
     "metadata": {},
     "output_type": "execute_result"
    },
    {
     "data": {
      "image/png": "[encoded data removed]",
      "text/plain": [
       "<Figure size 432x288 with 2 Axes>"
      ]
     },
     "metadata": {},
     "output_type": "display_data"
    }
   ],
   "source": [
    "plot_confusion_matrix(best_svc_pipeline, X_test, y_test, values_format='d')"
   ]
  },
  {
   "cell_type": "code",
   "execution_count": 126,
   "id": "577b6ab6",
   "metadata": {},
   "outputs": [
    {
     "data": {
      "text/plain": [
       "0.6858846918489065"
      ]
     },
     "execution_count": 126,
     "metadata": {},
     "output_type": "execute_result"
    }
   ],
   "source": [
    "accuracy_score_svm"
   ]
  },
  {
   "cell_type": "code",
   "execution_count": 127,
   "id": "98005726",
   "metadata": {},
   "outputs": [
    {
     "data": {
      "text/plain": [
       "0.7009174311926606"
      ]
     },
     "execution_count": 127,
     "metadata": {},
     "output_type": "execute_result"
    }
   ],
   "source": [
    "precision_score_svm"
   ]
  },
  {
   "cell_type": "code",
   "execution_count": 128,
   "id": "caa90015",
   "metadata": {},
   "outputs": [
    {
     "data": {
      "text/plain": [
       "0.8377192982456141"
      ]
     },
     "execution_count": 128,
     "metadata": {},
     "output_type": "execute_result"
    }
   ],
   "source": [
    "recall_score_svm"
   ]
  },
  {
   "cell_type": "code",
   "execution_count": 129,
   "id": "6896acc6",
   "metadata": {},
   "outputs": [
    {
     "data": {
      "text/plain": [
       "0.7632367632367633"
      ]
     },
     "execution_count": 129,
     "metadata": {},
     "output_type": "execute_result"
    }
   ],
   "source": [
    "f1_score_svm"
   ]
  },
  {
   "cell_type": "code",
   "execution_count": 130,
   "id": "a231a5fc",
   "metadata": {},
   "outputs": [
    {
     "data": {
      "text/plain": [
       "0.6458278233271622"
      ]
     },
     "execution_count": 130,
     "metadata": {},
     "output_type": "execute_result"
    }
   ],
   "source": [
    "roc_auc_score_svm"
   ]
  },
  {
   "cell_type": "markdown",
   "id": "036fe8e9",
   "metadata": {},
   "source": [
    "## Decision Tree"
   ]
  },
  {
   "cell_type": "code",
   "execution_count": null,
   "id": "598a4450",
   "metadata": {},
   "outputs": [],
   "source": [
    "from sklearn.tree import DecisionTreeClassifier"
   ]
  },
  {
   "cell_type": "code",
   "execution_count": null,
   "id": "391a8c1e",
   "metadata": {},
   "outputs": [],
   "source": [
    "dt = DecisionTreeClassifier()"
   ]
  },
  {
   "cell_type": "code",
   "execution_count": null,
   "id": "22473117",
   "metadata": {},
   "outputs": [],
   "source": [
    "dt.fit(X_train, y_train)"
   ]
  },
  {
   "cell_type": "code",
   "execution_count": null,
   "id": "73b65d9b",
   "metadata": {},
   "outputs": [],
   "source": [
    "y_pred = dt.predict(X_test)"
   ]
  },
  {
   "cell_type": "code",
   "execution_count": null,
   "id": "3200fa63",
   "metadata": {},
   "outputs": [],
   "source": [
    "precision_score(y_test, y_pred)"
   ]
  },
  {
   "cell_type": "code",
   "execution_count": null,
   "id": "bfd2193e",
   "metadata": {},
   "outputs": [],
   "source": [
    "accuracy_score(y_test, y_pred)"
   ]
  },
  {
   "cell_type": "code",
   "execution_count": null,
   "id": "3a665ed8",
   "metadata": {},
   "outputs": [],
   "source": [
    "recall_score(y_test, y_pred)"
   ]
  },
  {
   "cell_type": "code",
   "execution_count": null,
   "id": "a7d2ef4b",
   "metadata": {},
   "outputs": [],
   "source": [
    "f1_score(y_test, y_pred)"
   ]
  },
  {
   "cell_type": "code",
   "execution_count": null,
   "id": "74f8d61d",
   "metadata": {},
   "outputs": [],
   "source": [
    "roc_auc_score(y_test, y_pred)"
   ]
  },
  {
   "cell_type": "code",
   "execution_count": null,
   "id": "6e6a8793",
   "metadata": {},
   "outputs": [],
   "source": [
    "plot_confusion_matrix(dt, X_test, y_test, values_format='d')"
   ]
  },
  {
   "cell_type": "code",
   "execution_count": null,
   "id": "1c5ddf0e",
   "metadata": {},
   "outputs": [],
   "source": [
    "parametros = {\n",
    "  'max_depth': [2, 3, 4, 5, 6, 7, 8, 9, 10],\n",
    "  'criterion': ['gini', 'entropy'],\n",
    "  'class_weight': ['balanced', 'None'],\n",
    "  'min_samples_split': [2, 3, 4, 5],\n",
    "}\n",
    "\n",
    "grid_search = GridSearchCV(DecisionTreeClassifier(), parametros, scoring='accuracy', cv=5, n_jobs=-1, verbose=1)\n",
    "grid_search.fit(X_train, y_train)\n",
    "\n",
    "print()\n",
    "print('='*100)\n",
    "print(grid_search.best_params_)\n",
    "print('='*100)\n",
    "print()"
   ]
  },
  {
   "cell_type": "code",
   "execution_count": null,
   "id": "032bd394",
   "metadata": {},
   "outputs": [],
   "source": [
    "best_dt = DecisionTreeClassifier(class_weight='balanced', criterion='gini', max_depth=4, min_samples_split=2)"
   ]
  },
  {
   "cell_type": "code",
   "execution_count": null,
   "id": "99c40a07",
   "metadata": {},
   "outputs": [],
   "source": [
    "best_dt.fit(X_train, y_train)"
   ]
  },
  {
   "cell_type": "code",
   "execution_count": null,
   "id": "1fd408e6",
   "metadata": {},
   "outputs": [],
   "source": [
    "y_pred_best = best_dt.predict(X_test)"
   ]
  },
  {
   "cell_type": "code",
   "execution_count": null,
   "id": "7b587a62",
   "metadata": {},
   "outputs": [],
   "source": [
    "precision_score_dt = precision_score(y_test, y_pred_best)\n",
    "accuracy_score_dt = accuracy_score(y_test, y_pred_best)\n",
    "recall_score_dt = recall_score(y_test, y_pred_best)\n",
    "f1_score_dt = f1_score(y_test, y_pred_best)\n",
    "roc_auc_score_dt = roc_auc_score(y_test, y_pred_best)"
   ]
  },
  {
   "cell_type": "code",
   "execution_count": null,
   "id": "7c651359",
   "metadata": {},
   "outputs": [],
   "source": [
    "plot_confusion_matrix(best_dt, X_test, y_test, values_format='d')"
   ]
  },
  {
   "cell_type": "code",
   "execution_count": null,
   "id": "8baff146",
   "metadata": {},
   "outputs": [],
   "source": [
    "precision_score_dt"
   ]
  },
  {
   "cell_type": "code",
   "execution_count": null,
   "id": "fd83d1dd",
   "metadata": {},
   "outputs": [],
   "source": [
    "accuracy_score_dt"
   ]
  },
  {
   "cell_type": "code",
   "execution_count": null,
   "id": "d157001d",
   "metadata": {},
   "outputs": [],
   "source": [
    "recall_score_dt"
   ]
  },
  {
   "cell_type": "code",
   "execution_count": null,
   "id": "f5ee6b93",
   "metadata": {},
   "outputs": [],
   "source": [
    "f1_score_dt"
   ]
  },
  {
   "cell_type": "code",
   "execution_count": null,
   "id": "ac59cd58",
   "metadata": {},
   "outputs": [],
   "source": [
    "roc_auc_score_dt"
   ]
  },
  {
   "cell_type": "code",
   "execution_count": null,
   "id": "4fffe6e1",
   "metadata": {},
   "outputs": [],
   "source": [
    "from sklearn import tree\n",
    "\n",
    "fig = plt.figure(figsize=(15,8))\n",
    "_ = tree.plot_tree(best_dt, \n",
    "                   feature_names=X_train.columns,  \n",
    "                   class_names=['0','1'],\n",
    "                   filled=True)"
   ]
  },
  {
   "cell_type": "markdown",
   "id": "0f640179",
   "metadata": {},
   "source": [
    "## Random Forest"
   ]
  },
  {
   "cell_type": "code",
   "execution_count": 131,
   "id": "c5f76259",
   "metadata": {},
   "outputs": [],
   "source": [
    "from sklearn.ensemble import RandomForestClassifier"
   ]
  },
  {
   "cell_type": "code",
   "execution_count": 132,
   "id": "a94684a3",
   "metadata": {},
   "outputs": [],
   "source": [
    "rf = RandomForestClassifier()"
   ]
  },
  {
   "cell_type": "code",
   "execution_count": 133,
   "id": "082cfcc7",
   "metadata": {},
   "outputs": [
    {
     "data": {
      "text/plain": [
       "RandomForestClassifier()"
      ]
     },
     "execution_count": 133,
     "metadata": {},
     "output_type": "execute_result"
    }
   ],
   "source": [
    "rf.fit(X_train, y_train)"
   ]
  },
  {
   "cell_type": "code",
   "execution_count": 134,
   "id": "721a2049",
   "metadata": {},
   "outputs": [],
   "source": [
    "y_pred = rf.predict(X_test)"
   ]
  },
  {
   "cell_type": "code",
   "execution_count": 135,
   "id": "d69fff59",
   "metadata": {},
   "outputs": [
    {
     "data": {
      "text/plain": [
       "0.7127016129032258"
      ]
     },
     "execution_count": 135,
     "metadata": {},
     "output_type": "execute_result"
    }
   ],
   "source": [
    "precision_score(y_test, y_pred)"
   ]
  },
  {
   "cell_type": "code",
   "execution_count": 136,
   "id": "71d43e1d",
   "metadata": {},
   "outputs": [
    {
     "data": {
      "text/plain": [
       "0.6752816434724983"
      ]
     },
     "execution_count": 136,
     "metadata": {},
     "output_type": "execute_result"
    }
   ],
   "source": [
    "accuracy_score(y_test, y_pred)"
   ]
  },
  {
   "cell_type": "code",
   "execution_count": 137,
   "id": "2c150b79",
   "metadata": {},
   "outputs": [
    {
     "data": {
      "text/plain": [
       "<sklearn.metrics._plot.confusion_matrix.ConfusionMatrixDisplay at 0x23ba179bd00>"
      ]
     },
     "execution_count": 137,
     "metadata": {},
     "output_type": "execute_result"
    },
    {
     "data": {
      "image/png": "[encoded data removed]",
      "text/plain": [
       "<Figure size 432x288 with 2 Axes>"
      ]
     },
     "metadata": {},
     "output_type": "display_data"
    }
   ],
   "source": [
    "plot_confusion_matrix(rf, X_test, y_test, values_format='d')"
   ]
  },
  {
   "cell_type": "code",
   "execution_count": null,
   "id": "0eccca95",
   "metadata": {},
   "outputs": [],
   "source": [
    "from sklearn.pipeline import Pipeline\n",
    "\n",
    "from sklearn.ensemble import RandomForestClassifier\n",
    "\n",
    "from sklearn.model_selection import GridSearchCV\n",
    "\n",
    "parametros = {\n",
    "    'max_depth': [2, 3, 4, 5, 6, 7], # 25, 30, None],\n",
    "    'max_features': ['sqrt'], # 'sqrt', 'None'],\n",
    "    'min_samples_split': [5, 10], # 5, 10, 15, 100],\n",
    "    'min_samples_leaf': [2, 5], # 5, 10],\n",
    "    'class_weight': ['balanced', None]\n",
    "}\n",
    "\n",
    "grid_search = GridSearchCV(RandomForestClassifier(), parametros, scoring='accuracy', cv=5, n_jobs=-1, verbose=1)\n",
    "grid_search.fit(X_train, y_train)\n",
    "\n",
    "print()\n",
    "print('='*100)\n",
    "print(grid_search.best_params_)\n",
    "print('='*100)\n",
    "print()"
   ]
  },
  {
   "cell_type": "code",
   "execution_count": null,
   "id": "650371ae",
   "metadata": {},
   "outputs": [],
   "source": [
    "best_rf = RandomForestClassifier(class_weight= None, max_depth= 3, max_features= 'sqrt',\n",
    "                                 min_samples_leaf= 2, min_samples_split= 10, n_estimators= 100, random_state=7)"
   ]
  },
  {
   "cell_type": "code",
   "execution_count": null,
   "id": "ff041c9a",
   "metadata": {},
   "outputs": [],
   "source": [
    "best_rf.fit(X_train, y_train)"
   ]
  },
  {
   "cell_type": "code",
   "execution_count": null,
   "id": "56974f38",
   "metadata": {},
   "outputs": [],
   "source": [
    "y_pred_best = best_rf.predict(X_test)"
   ]
  },
  {
   "cell_type": "code",
   "execution_count": null,
   "id": "ad1e2f19",
   "metadata": {},
   "outputs": [],
   "source": [
    "    precision_score_rf = precision_score(y_test, y_pred_best)\n",
    "    accuracy_score_rf = accuracy_score(y_test, y_pred_best)\n",
    "    recall_score_rf = recall_score(y_test, y_pred_best)\n",
    "    f1_score_rf = f1_score(y_test, y_pred_best)\n",
    "    roc_auc_score_rf = roc_auc_score(y_test, y_pred_best)"
   ]
  },
  {
   "cell_type": "code",
   "execution_count": null,
   "id": "ee7dc89d",
   "metadata": {},
   "outputs": [],
   "source": [
    "plot_confusion_matrix(best_rf, X_test, y_test, values_format='d')"
   ]
  },
  {
   "cell_type": "code",
   "execution_count": null,
   "id": "2d3fdc14",
   "metadata": {},
   "outputs": [],
   "source": [
    "precision_score_rf"
   ]
  },
  {
   "cell_type": "code",
   "execution_count": null,
   "id": "5652c79b",
   "metadata": {},
   "outputs": [],
   "source": [
    "accuracy_score_rf"
   ]
  },
  {
   "cell_type": "code",
   "execution_count": null,
   "id": "b50c31c9",
   "metadata": {},
   "outputs": [],
   "source": [
    "recall_score_rf"
   ]
  },
  {
   "cell_type": "code",
   "execution_count": null,
   "id": "47e89dce",
   "metadata": {},
   "outputs": [],
   "source": [
    "f1_score_rf"
   ]
  },
  {
   "cell_type": "code",
   "execution_count": null,
   "id": "8bff0708",
   "metadata": {},
   "outputs": [],
   "source": [
    "roc_auc_score_rf"
   ]
  },
  {
   "cell_type": "markdown",
   "id": "ef57e023",
   "metadata": {},
   "source": [
    "## XGBoost"
   ]
  },
  {
   "cell_type": "code",
   "execution_count": null,
   "id": "81936a5c",
   "metadata": {},
   "outputs": [],
   "source": [
    "from xgboost import XGBClassifier"
   ]
  },
  {
   "cell_type": "code",
   "execution_count": null,
   "id": "55269cf4",
   "metadata": {},
   "outputs": [],
   "source": [
    "xgb = XGBClassifier()"
   ]
  },
  {
   "cell_type": "code",
   "execution_count": null,
   "id": "04110e92",
   "metadata": {},
   "outputs": [],
   "source": [
    "xgb.fit(X_train, y_train)"
   ]
  },
  {
   "cell_type": "code",
   "execution_count": null,
   "id": "63fa2286",
   "metadata": {},
   "outputs": [],
   "source": [
    "y_pred = xgb.predict(X_test)"
   ]
  },
  {
   "cell_type": "code",
   "execution_count": null,
   "id": "cb7d7d5b",
   "metadata": {},
   "outputs": [],
   "source": [
    "precision_score(y_test, y_pred)"
   ]
  },
  {
   "cell_type": "code",
   "execution_count": null,
   "id": "4dec5ab5",
   "metadata": {},
   "outputs": [],
   "source": [
    "accuracy_score(y_test, y_pred)"
   ]
  },
  {
   "cell_type": "code",
   "execution_count": null,
   "id": "bd0f74d6",
   "metadata": {},
   "outputs": [],
   "source": [
    "plot_confusion_matrix(xgb, X_test, y_test, values_format='d')"
   ]
  },
  {
   "cell_type": "code",
   "execution_count": null,
   "id": "6afa2870",
   "metadata": {},
   "outputs": [],
   "source": [
    "parametros = {\n",
    "    'learning_rate': [0.01, 0.1], #[0.1, 0.01, 0.015, 0.025, 0.05, 0.1],\n",
    "    'n_estimators': [500], # [500, 1000, 2000, 5000, 10000],\n",
    "    'max_depth': [3, 5, 9], # [3, 5, 7, 9, 12, 15, 17, 25],\n",
    "    'colsample_bytree': [0.6, 0.8], # [0.6, 0.7, 0.8, 0.9, 1.0],\n",
    "    'subsample': [0.6, 0.9], # [0.6, 0.7, 0.8, 0.9, 1.0],\n",
    "    'class_weight': ['balanced', None],\n",
    "}\n",
    "\n",
    "grid_search = GridSearchCV(XGBClassifier(), parametros, scoring='accuracy', cv=5, n_jobs=-1, verbose=1)\n",
    "grid_search.fit(X_train, y_train)\n",
    "\n",
    "print()\n",
    "print('='*100)\n",
    "print(grid_search.best_params_)\n",
    "print('='*100)\n",
    "print()"
   ]
  },
  {
   "cell_type": "code",
   "execution_count": null,
   "id": "123cc11e",
   "metadata": {},
   "outputs": [],
   "source": [
    "best_xgb = XGBClassifier(class_weight='balanced', colsample_bytree=0.8, learning_rate=0.01, max_depth=3, n_estimators=500, subsample=0.9)"
   ]
  },
  {
   "cell_type": "code",
   "execution_count": null,
   "id": "5d9bcd8e",
   "metadata": {},
   "outputs": [],
   "source": [
    "best_xgb.fit(X_train, y_train)"
   ]
  },
  {
   "cell_type": "code",
   "execution_count": null,
   "id": "bdcd22ad",
   "metadata": {},
   "outputs": [],
   "source": [
    "y_pred_best = best_xgb.predict(X_test)"
   ]
  },
  {
   "cell_type": "code",
   "execution_count": null,
   "id": "ff01b118",
   "metadata": {},
   "outputs": [],
   "source": [
    "precision_score_xgb = precision_score(y_test, y_pred_best)\n",
    "accuracy_score_xgb = accuracy_score(y_test, y_pred_best)\n",
    "recall_score_xgb = recall_score(y_test, y_pred_best)\n",
    "f1_score_xgb = f1_score(y_test, y_pred_best)\n",
    "roc_auc_score_xgb = roc_auc_score(y_test, y_pred_best)"
   ]
  },
  {
   "cell_type": "code",
   "execution_count": null,
   "id": "3b1ba6fb",
   "metadata": {},
   "outputs": [],
   "source": [
    "plot_confusion_matrix(best_xgb, X_test, y_test, values_format='d')"
   ]
  },
  {
   "cell_type": "code",
   "execution_count": null,
   "id": "4fbd9fc4",
   "metadata": {},
   "outputs": [],
   "source": [
    "accuracy_score_xgb"
   ]
  },
  {
   "cell_type": "code",
   "execution_count": null,
   "id": "067d7d8d",
   "metadata": {},
   "outputs": [],
   "source": [
    "precision_score_xgb"
   ]
  },
  {
   "cell_type": "code",
   "execution_count": null,
   "id": "692f5bf0",
   "metadata": {},
   "outputs": [],
   "source": [
    "recall_score_xgb"
   ]
  },
  {
   "cell_type": "code",
   "execution_count": null,
   "id": "b72871d1",
   "metadata": {},
   "outputs": [],
   "source": [
    "f1_score_xgb"
   ]
  },
  {
   "cell_type": "code",
   "execution_count": null,
   "id": "2c5d1507",
   "metadata": {},
   "outputs": [],
   "source": [
    "roc_auc_score_xgb"
   ]
  },
  {
   "cell_type": "markdown",
   "id": "f003e53f",
   "metadata": {},
   "source": [
    "## LGBM"
   ]
  },
  {
   "cell_type": "code",
   "execution_count": 138,
   "id": "dc60cbea",
   "metadata": {},
   "outputs": [],
   "source": [
    "from lightgbm import LGBMClassifier"
   ]
  },
  {
   "cell_type": "code",
   "execution_count": 139,
   "id": "273c4080",
   "metadata": {},
   "outputs": [],
   "source": [
    "lgbm = LGBMClassifier()"
   ]
  },
  {
   "cell_type": "code",
   "execution_count": 140,
   "id": "5feb3b28",
   "metadata": {},
   "outputs": [
    {
     "data": {
      "text/plain": [
       "LGBMClassifier()"
      ]
     },
     "execution_count": 140,
     "metadata": {},
     "output_type": "execute_result"
    }
   ],
   "source": [
    "lgbm.fit(X_train, y_train)"
   ]
  },
  {
   "cell_type": "code",
   "execution_count": 141,
   "id": "3f1ce956",
   "metadata": {},
   "outputs": [],
   "source": [
    "y_pred = lgbm.predict(X_test)"
   ]
  },
  {
   "cell_type": "code",
   "execution_count": 142,
   "id": "8d09c525",
   "metadata": {},
   "outputs": [
    {
     "data": {
      "text/plain": [
       "0.7083333333333334"
      ]
     },
     "execution_count": 142,
     "metadata": {},
     "output_type": "execute_result"
    }
   ],
   "source": [
    "precision_score(y_test, y_pred)"
   ]
  },
  {
   "cell_type": "code",
   "execution_count": 143,
   "id": "3805c2f7",
   "metadata": {},
   "outputs": [
    {
     "data": {
      "text/plain": [
       "0.6805831676607025"
      ]
     },
     "execution_count": 143,
     "metadata": {},
     "output_type": "execute_result"
    }
   ],
   "source": [
    "accuracy_score(y_test, y_pred)"
   ]
  },
  {
   "cell_type": "code",
   "execution_count": null,
   "id": "06a08a2c",
   "metadata": {},
   "outputs": [],
   "source": [
    "plot_confusion_matrix(lgbm, X_test, y_test, values_format='d')"
   ]
  },
  {
   "cell_type": "code",
   "execution_count": null,
   "id": "16a99c99",
   "metadata": {},
   "outputs": [],
   "source": [
    "parametros = {\n",
    "    'learning_rate': [0.01, 0.05], # [0.01, 0.015, 0.025, 0.05, 0.1],\n",
    "    'n_estimators': [500], # [500, 1000, 2000, 5000, 10000],\n",
    "    'max_depth': [3, 7, 9], # [3, 5, 7, 9, 12, 15, 17, 25],\n",
    "    'colsample_bytree': [0.6], # [0.6, 0.7, 0.8, 0.9, 1.0],\n",
    "    'subsample': [0.8], # [0.6, 0.7, 0.8, 0.9, 1.0],\n",
    "    'class_weight': ['balanced', None],\n",
    "}\n",
    "\n",
    "grid_search = GridSearchCV(LGBMClassifier(), parametros, scoring='accuracy', cv=5, n_jobs=-1, verbose=1)\n",
    "grid_search.fit(X_train, y_train)\n",
    "\n",
    "print()\n",
    "print('='*100)\n",
    "print(grid_search.best_params_)\n",
    "print('='*100)\n",
    "print()"
   ]
  },
  {
   "cell_type": "code",
   "execution_count": null,
   "id": "8c148ecb",
   "metadata": {},
   "outputs": [],
   "source": [
    "best_lgbm = LGBMClassifier(class_weight=None, colsample_bytree=0.6, learning_rate=0.01, max_depth=3, n_estimators=500, subsample=0.8)"
   ]
  },
  {
   "cell_type": "code",
   "execution_count": null,
   "id": "3fcc3920",
   "metadata": {},
   "outputs": [],
   "source": [
    "best_lgbm.fit(X_train, y_train)"
   ]
  },
  {
   "cell_type": "code",
   "execution_count": null,
   "id": "781f5b35",
   "metadata": {},
   "outputs": [],
   "source": [
    "y_pred_best = best_lgbm.predict(X_test)"
   ]
  },
  {
   "cell_type": "code",
   "execution_count": null,
   "id": "e2db97d8",
   "metadata": {},
   "outputs": [],
   "source": [
    "precision_score_lgbm = precision_score(y_test, y_pred_best)\n",
    "accuracy_score_lgbm = accuracy_score(y_test, y_pred_best)\n",
    "recall_score_lgbm = recall_score(y_test, y_pred_best)\n",
    "f1_score_lgbm = f1_score(y_test, y_pred_best)\n",
    "roc_auc_score_lgbm = roc_auc_score(y_test, y_pred_best)"
   ]
  },
  {
   "cell_type": "code",
   "execution_count": null,
   "id": "d88cd24d",
   "metadata": {},
   "outputs": [],
   "source": [
    "plot_confusion_matrix(best_lgbm, X_test, y_test, values_format='d')"
   ]
  },
  {
   "cell_type": "code",
   "execution_count": null,
   "id": "23967b8c",
   "metadata": {},
   "outputs": [],
   "source": [
    "accuracy_score_lgbm"
   ]
  },
  {
   "cell_type": "code",
   "execution_count": null,
   "id": "529404e2",
   "metadata": {},
   "outputs": [],
   "source": [
    "precision_score_lgbm"
   ]
  },
  {
   "cell_type": "code",
   "execution_count": null,
   "id": "264442a2",
   "metadata": {},
   "outputs": [],
   "source": [
    "recall_score_lgbm"
   ]
  },
  {
   "cell_type": "code",
   "execution_count": null,
   "id": "eafa406e",
   "metadata": {},
   "outputs": [],
   "source": [
    "f1_score_lgbm"
   ]
  },
  {
   "cell_type": "code",
   "execution_count": null,
   "id": "5233c7c8",
   "metadata": {},
   "outputs": [],
   "source": [
    "roc_auc_score_lgbm"
   ]
  },
  {
   "cell_type": "markdown",
   "id": "ff00b354",
   "metadata": {},
   "source": [
    "###  Resumo das métricas de cada modelo\n"
   ]
  },
  {
   "cell_type": "markdown",
   "id": "ff636eb1",
   "metadata": {},
   "source": [
    "## Melhor modelo:"
   ]
  },
  {
   "cell_type": "markdown",
   "id": "266276f5",
   "metadata": {},
   "source": [
    "### Feature importance"
   ]
  },
  {
   "cell_type": "code",
   "execution_count": null,
   "id": "17562498",
   "metadata": {},
   "outputs": [],
   "source": [
    "data = {'lr': [precision_score_lr, accuracy_score_lr, recall_score_lr, f1_score_lr, roc_auc_score_lr],\n",
    "        'svm': [precision_score_svm, accuracy_score_svm, recall_score_svm, f1_score_svm, roc_auc_score_svm],\n",
    "        'dt': [precision_score_dt, accuracy_score_dt, recall_score_dt, f1_score_dt, roc_auc_score_dt],\n",
    "        'rf': [precision_score_rf, accuracy_score_rf, recall_score_rf, f1_score_rf, roc_auc_score_rf],\n",
    "        'xgb': [precision_score_xgb, accuracy_score_xgb, recall_score_xgb, f1_score_xgb, roc_auc_score_xgb],\n",
    "        'lgbm': [precision_score_lgbm, accuracy_score_lgbm, recall_score_lgbm, f1_score_lgbm, roc_auc_score_lgbm]}"
   ]
  },
  {
   "cell_type": "code",
   "execution_count": null,
   "id": "8a8a722f",
   "metadata": {},
   "outputs": [],
   "source": [
    "df_models = pd.DataFrame.from_dict(data, orient='index', columns=['precision', 'accuracy', 'recall', 'f1', 'roc_auc']).round(2)"
   ]
  },
  {
   "cell_type": "code",
   "execution_count": null,
   "id": "e3668c66",
   "metadata": {},
   "outputs": [],
   "source": [
    "df_models"
   ]
  },
  {
   "cell_type": "markdown",
   "id": "119bc18d",
   "metadata": {},
   "source": [
    "Todos os modelos testados possuem métricas de avaliação muito semelhantes. Como o modelo de **regressão linear** é o mais fácil de ser entendido e explicado, e também possui a maior precisão, esse será o modelo final escolhido."
   ]
  },
  {
   "cell_type": "markdown",
   "id": "65688fd8",
   "metadata": {},
   "source": [
    "## Verificando os pesos que o modelo atribuiu para cada variável"
   ]
  },
  {
   "cell_type": "code",
   "execution_count": 144,
   "id": "4293c898",
   "metadata": {},
   "outputs": [
    {
     "data": {
      "image/png": "[encoded data removed]",
      "text/plain": [
       "<Figure size 432x288 with 1 Axes>"
      ]
     },
     "metadata": {},
     "output_type": "display_data"
    }
   ],
   "source": [
    "# Get the coefficients for each feature\n",
    "coefs = pd.Series(best_lr_pipeline[1].coef_[0], index=X.columns)\n",
    "\n",
    "# Plot the coefficients\n",
    "coefs.plot(kind='bar')\n",
    "plt.show()"
   ]
  },
  {
   "cell_type": "code",
   "execution_count": 145,
   "id": "f5b23978",
   "metadata": {},
   "outputs": [
    {
     "data": {
      "text/plain": [
       "Pipeline(steps=[('numeric_scaler',\n",
       "                 SklearnTransformerWrapper(transformer=StandardScaler(),\n",
       "                                           variables=['gf_rolling_ratio',\n",
       "                                                      'ga_rolling_ratio',\n",
       "                                                      'points_last_season_ratio',\n",
       "                                                      'pont_rolling_ratio',\n",
       "                                                      'last_2_results'])),\n",
       "                ('logit', LogisticRegression(C=0.1))])"
      ]
     },
     "execution_count": 145,
     "metadata": {},
     "output_type": "execute_result"
    }
   ],
   "source": [
    "best_lr_pipeline"
   ]
  },
  {
   "cell_type": "code",
   "execution_count": 146,
   "id": "6a441759",
   "metadata": {},
   "outputs": [
    {
     "data": {
      "text/plain": [
       "['best_lr.pkl']"
      ]
     },
     "execution_count": 146,
     "metadata": {},
     "output_type": "execute_result"
    }
   ],
   "source": [
    "# salvando o modelo de ML\n",
    "import joblib\n",
    "\n",
    "joblib.dump(best_lr_pipeline, \"best_lr.pkl\")"
   ]
  }
 ],
 "metadata": {
  "kernelspec": {
   "display_name": "Python 3 (ipykernel)",
   "language": "python",
   "name": "python3"
  },
  "language_info": {
   "codemirror_mode": {
    "name": "ipython",
    "version": 3
   },
   "file_extension": ".py",
   "mimetype": "text/x-python",
   "name": "python",
   "nbconvert_exporter": "python",
   "pygments_lexer": "ipython3",
   "version": "3.9.12"
  }
 },
 "nbformat": 4,
 "nbformat_minor": 5
}
