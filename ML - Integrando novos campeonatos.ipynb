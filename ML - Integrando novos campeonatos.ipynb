{
 "cells": [
  {
   "cell_type": "code",
   "execution_count": 1,
   "id": "ed2a70ae",
   "metadata": {},
   "outputs": [
    {
     "name": "stdout",
     "output_type": "stream",
     "text": [
      "1.4.2\n"
     ]
    }
   ],
   "source": [
    "# importando os pacoteshttp://localhost:8888/notebooks/TCC_0323.ipynb#\n",
    "import warnings\n",
    "warnings.filterwarnings(\"ignore\")\n",
    "import pandas as pd\n",
    "import numpy as np\n",
    "import matplotlib.pyplot as plt\n",
    "import seaborn as sns\n",
    "sns.set_theme(style='whitegrid')\n",
    "import pandas as pd\n",
    "print(pd.__version__)"
   ]
  },
  {
   "cell_type": "code",
   "execution_count": 2,
   "id": "ef5de44f",
   "metadata": {},
   "outputs": [],
   "source": [
    "# configuração da exibição\n",
    "pd.set_option('display.max_rows', 500)\n",
    "pd.set_option('display.max_columns', 500)"
   ]
  },
  {
   "cell_type": "code",
   "execution_count": 3,
   "id": "db516fe0",
   "metadata": {},
   "outputs": [],
   "source": [
    "# importando a base de treino (dados de 2017 até 2022)\n",
    "df = pd.read_excel('leagues.xlsx')"
   ]
  },
  {
   "cell_type": "code",
   "execution_count": 4,
   "id": "ae1242a6",
   "metadata": {},
   "outputs": [
    {
     "data": {
      "text/plain": [
       "date                   datetime64[ns]\n",
       "comp                           object\n",
       "team                           object\n",
       "opponent                       object\n",
       "venue                          object\n",
       "gf                              int64\n",
       "ga                              int64\n",
       "result                         object\n",
       "Points last season_           float64\n",
       "dtype: object"
      ]
     },
     "execution_count": 4,
     "metadata": {},
     "output_type": "execute_result"
    }
   ],
   "source": [
    "df.dtypes"
   ]
  },
  {
   "cell_type": "code",
   "execution_count": null,
   "id": "4fb2a8ba",
   "metadata": {},
   "outputs": [],
   "source": [
    "#df = df[df['date']<= '2022-07-01']"
   ]
  },
  {
   "cell_type": "code",
   "execution_count": 5,
   "id": "a32235f9",
   "metadata": {},
   "outputs": [],
   "source": [
    "# inserindo uma coluna com a pontuação obtida em cada partida\n",
    "df['pont'] = df['result'].replace({'L': 0, 'D': 1, 'W':3})"
   ]
  },
  {
   "cell_type": "code",
   "execution_count": 6,
   "id": "222d4f8f",
   "metadata": {},
   "outputs": [],
   "source": [
    "# último resultado do confronto entre os times\n",
    "# sort the DataFrame by date\n",
    "df = df.sort_values(by='date')\n",
    "\n",
    "# group the DataFrame by the home team and away team\n",
    "grouped = df.groupby(['team', 'opponent'])\n",
    "\n",
    "# create a new column that contains the sum of the last two results for each group\n",
    "df['last_2_results_sum'] = grouped['pont'].apply(lambda x: x.rolling(2).sum().shift())"
   ]
  },
  {
   "cell_type": "code",
   "execution_count": 7,
   "id": "eaa7fd39",
   "metadata": {},
   "outputs": [
    {
     "data": {
      "text/plain": [
       "(26270, 11)"
      ]
     },
     "execution_count": 7,
     "metadata": {},
     "output_type": "execute_result"
    }
   ],
   "source": [
    "df.shape"
   ]
  },
  {
   "cell_type": "code",
   "execution_count": 8,
   "id": "9ce1e9b4",
   "metadata": {},
   "outputs": [],
   "source": [
    "def rolling_sum(group, cols, new_cols, venue):\n",
    "    group = group.sort_values('date')\n",
    "    group = group[group['venue'] == venue]\n",
    "    rolling_stats = group[cols].rolling(3, closed='left').sum()\n",
    "    group[new_cols] = rolling_stats\n",
    "    group = group.dropna(subset=new_cols)\n",
    "    return group"
   ]
  },
  {
   "cell_type": "code",
   "execution_count": 9,
   "id": "5e4e318e",
   "metadata": {},
   "outputs": [],
   "source": [
    "df_rolling_home = df.groupby('team').apply(lambda x: rolling_sum(x, ['gf', 'ga', 'pont'], ['gf_rolling', 'ga_rolling', 'pont_rolling'], 'Home'))\n",
    "df_rolling_home = df_rolling_home.droplevel('team')"
   ]
  },
  {
   "cell_type": "code",
   "execution_count": 10,
   "id": "22f37790",
   "metadata": {},
   "outputs": [],
   "source": [
    "df_rolling_away = df.groupby('team').apply(lambda x: rolling_sum(x, ['gf', 'ga', 'pont'], ['gf_rolling', 'ga_rolling', 'pont_rolling'], 'Away'))\n",
    "df_rolling_away = df_rolling_away.droplevel('team')"
   ]
  },
  {
   "cell_type": "code",
   "execution_count": 11,
   "id": "99ca74b5",
   "metadata": {},
   "outputs": [],
   "source": [
    "# incluindo variáveis rolling do time jogando fora de casa\n",
    "df_rolling = df_rolling_home.merge(df_rolling_away, left_on=['date', 'comp', 'opponent'], right_on=['date', 'comp', 'team'], suffixes=('_home','_away'), how='inner')"
   ]
  },
  {
   "cell_type": "code",
   "execution_count": 12,
   "id": "bdcfad78",
   "metadata": {},
   "outputs": [],
   "source": [
    "df_rolling = df_rolling[['date', 'comp', 'team_home', 'gf_rolling_home', 'ga_rolling_home', 'Points last season__home', \n",
    "                         'pont_rolling_home', 'last_2_results_sum_home',\n",
    "                         'opponent_home', 'gf_rolling_away', 'ga_rolling_away', 'Points last season__away',\n",
    "                         'pont_rolling_away', 'result_home']]"
   ]
  },
  {
   "cell_type": "code",
   "execution_count": 13,
   "id": "a8fb7be1",
   "metadata": {},
   "outputs": [],
   "source": [
    "df_rolling.rename(columns={\"team_home\": \"home\", \"opponent_home\": \"away\", \"result_home\": \"result\", \"last_2_results_sum_home\": \"last_2_results\"}, inplace=True)"
   ]
  },
  {
   "cell_type": "code",
   "execution_count": 14,
   "id": "5a99d123",
   "metadata": {},
   "outputs": [],
   "source": [
    "# substituindo valores do denominador do ratio que são 0 por 1, para não dar erro na divisão\n",
    "df_rolling['pont_rolling_away'].replace(0, 1, inplace=True)\n",
    "df_rolling['gf_rolling_away'].replace(0, 1, inplace=True)\n",
    "df_rolling['ga_rolling_away'].replace(0, 1, inplace=True)"
   ]
  },
  {
   "cell_type": "code",
   "execution_count": 15,
   "id": "c74993f2",
   "metadata": {},
   "outputs": [],
   "source": [
    "# inserindo coluna com a relação dos indicadores do time1 e time2\n",
    "df_rolling['gf_rolling_ratio'] = df_rolling['gf_rolling_home']/df_rolling['gf_rolling_away']\n",
    "df_rolling['ga_rolling_ratio'] = df_rolling['ga_rolling_home']/df_rolling['ga_rolling_away']\n",
    "df_rolling['points_last_season_ratio'] = df_rolling['Points last season__home']/df_rolling['Points last season__away']\n",
    "df_rolling['pont_rolling_ratio'] = df_rolling['pont_rolling_home']/df_rolling['pont_rolling_away']"
   ]
  },
  {
   "cell_type": "code",
   "execution_count": 16,
   "id": "59c09e48",
   "metadata": {},
   "outputs": [
    {
     "data": {
      "text/html": [
       "<div>\n",
       "<style scoped>\n",
       "    .dataframe tbody tr th:only-of-type {\n",
       "        vertical-align: middle;\n",
       "    }\n",
       "\n",
       "    .dataframe tbody tr th {\n",
       "        vertical-align: top;\n",
       "    }\n",
       "\n",
       "    .dataframe thead th {\n",
       "        text-align: right;\n",
       "    }\n",
       "</style>\n",
       "<table border=\"1\" class=\"dataframe\">\n",
       "  <thead>\n",
       "    <tr style=\"text-align: right;\">\n",
       "      <th></th>\n",
       "      <th>date</th>\n",
       "      <th>comp</th>\n",
       "      <th>home</th>\n",
       "      <th>gf_rolling_home</th>\n",
       "      <th>ga_rolling_home</th>\n",
       "      <th>Points last season__home</th>\n",
       "      <th>pont_rolling_home</th>\n",
       "      <th>last_2_results</th>\n",
       "      <th>away</th>\n",
       "      <th>gf_rolling_away</th>\n",
       "      <th>ga_rolling_away</th>\n",
       "      <th>Points last season__away</th>\n",
       "      <th>pont_rolling_away</th>\n",
       "      <th>result</th>\n",
       "      <th>gf_rolling_ratio</th>\n",
       "      <th>ga_rolling_ratio</th>\n",
       "      <th>points_last_season_ratio</th>\n",
       "      <th>pont_rolling_ratio</th>\n",
       "    </tr>\n",
       "  </thead>\n",
       "  <tbody>\n",
       "    <tr>\n",
       "      <th>0</th>\n",
       "      <td>2022-09-11</td>\n",
       "      <td>Ligue 1</td>\n",
       "      <td>Ajaccio</td>\n",
       "      <td>1.0</td>\n",
       "      <td>4.0</td>\n",
       "      <td>37.5</td>\n",
       "      <td>1.0</td>\n",
       "      <td>NaN</td>\n",
       "      <td>Nice</td>\n",
       "      <td>3.0</td>\n",
       "      <td>3.0</td>\n",
       "      <td>66.0</td>\n",
       "      <td>4.0</td>\n",
       "      <td>L</td>\n",
       "      <td>0.333333</td>\n",
       "      <td>1.333333</td>\n",
       "      <td>0.568182</td>\n",
       "      <td>0.25</td>\n",
       "    </tr>\n",
       "    <tr>\n",
       "      <th>1</th>\n",
       "      <td>2022-10-02</td>\n",
       "      <td>Ligue 1</td>\n",
       "      <td>Ajaccio</td>\n",
       "      <td>1.0</td>\n",
       "      <td>5.0</td>\n",
       "      <td>37.5</td>\n",
       "      <td>0.0</td>\n",
       "      <td>NaN</td>\n",
       "      <td>Clermont Foot</td>\n",
       "      <td>1.0</td>\n",
       "      <td>3.0</td>\n",
       "      <td>36.0</td>\n",
       "      <td>1.0</td>\n",
       "      <td>L</td>\n",
       "      <td>1.000000</td>\n",
       "      <td>1.666667</td>\n",
       "      <td>1.041667</td>\n",
       "      <td>0.00</td>\n",
       "    </tr>\n",
       "    <tr>\n",
       "      <th>2</th>\n",
       "      <td>2022-11-05</td>\n",
       "      <td>Ligue 1</td>\n",
       "      <td>Ajaccio</td>\n",
       "      <td>1.0</td>\n",
       "      <td>7.0</td>\n",
       "      <td>37.5</td>\n",
       "      <td>0.0</td>\n",
       "      <td>NaN</td>\n",
       "      <td>Strasbourg</td>\n",
       "      <td>6.0</td>\n",
       "      <td>6.0</td>\n",
       "      <td>63.0</td>\n",
       "      <td>4.0</td>\n",
       "      <td>W</td>\n",
       "      <td>0.166667</td>\n",
       "      <td>1.166667</td>\n",
       "      <td>0.595238</td>\n",
       "      <td>0.00</td>\n",
       "    </tr>\n",
       "    <tr>\n",
       "      <th>3</th>\n",
       "      <td>2022-12-28</td>\n",
       "      <td>Ligue 1</td>\n",
       "      <td>Ajaccio</td>\n",
       "      <td>5.0</td>\n",
       "      <td>8.0</td>\n",
       "      <td>37.5</td>\n",
       "      <td>3.0</td>\n",
       "      <td>NaN</td>\n",
       "      <td>Angers</td>\n",
       "      <td>2.0</td>\n",
       "      <td>6.0</td>\n",
       "      <td>41.0</td>\n",
       "      <td>1.0</td>\n",
       "      <td>W</td>\n",
       "      <td>2.500000</td>\n",
       "      <td>1.333333</td>\n",
       "      <td>0.914634</td>\n",
       "      <td>3.00</td>\n",
       "    </tr>\n",
       "    <tr>\n",
       "      <th>4</th>\n",
       "      <td>2023-01-11</td>\n",
       "      <td>Ligue 1</td>\n",
       "      <td>Ajaccio</td>\n",
       "      <td>5.0</td>\n",
       "      <td>5.0</td>\n",
       "      <td>37.5</td>\n",
       "      <td>6.0</td>\n",
       "      <td>NaN</td>\n",
       "      <td>Reims</td>\n",
       "      <td>2.0</td>\n",
       "      <td>2.0</td>\n",
       "      <td>46.0</td>\n",
       "      <td>3.0</td>\n",
       "      <td>L</td>\n",
       "      <td>2.500000</td>\n",
       "      <td>2.500000</td>\n",
       "      <td>0.815217</td>\n",
       "      <td>2.00</td>\n",
       "    </tr>\n",
       "  </tbody>\n",
       "</table>\n",
       "</div>"
      ],
      "text/plain": [
       "        date     comp     home  gf_rolling_home  ga_rolling_home  \\\n",
       "0 2022-09-11  Ligue 1  Ajaccio              1.0              4.0   \n",
       "1 2022-10-02  Ligue 1  Ajaccio              1.0              5.0   \n",
       "2 2022-11-05  Ligue 1  Ajaccio              1.0              7.0   \n",
       "3 2022-12-28  Ligue 1  Ajaccio              5.0              8.0   \n",
       "4 2023-01-11  Ligue 1  Ajaccio              5.0              5.0   \n",
       "\n",
       "   Points last season__home  pont_rolling_home  last_2_results           away  \\\n",
       "0                      37.5                1.0             NaN           Nice   \n",
       "1                      37.5                0.0             NaN  Clermont Foot   \n",
       "2                      37.5                0.0             NaN     Strasbourg   \n",
       "3                      37.5                3.0             NaN         Angers   \n",
       "4                      37.5                6.0             NaN          Reims   \n",
       "\n",
       "   gf_rolling_away  ga_rolling_away  Points last season__away  \\\n",
       "0              3.0              3.0                      66.0   \n",
       "1              1.0              3.0                      36.0   \n",
       "2              6.0              6.0                      63.0   \n",
       "3              2.0              6.0                      41.0   \n",
       "4              2.0              2.0                      46.0   \n",
       "\n",
       "   pont_rolling_away result  gf_rolling_ratio  ga_rolling_ratio  \\\n",
       "0                4.0      L          0.333333          1.333333   \n",
       "1                1.0      L          1.000000          1.666667   \n",
       "2                4.0      W          0.166667          1.166667   \n",
       "3                1.0      W          2.500000          1.333333   \n",
       "4                3.0      L          2.500000          2.500000   \n",
       "\n",
       "   points_last_season_ratio  pont_rolling_ratio  \n",
       "0                  0.568182                0.25  \n",
       "1                  1.041667                0.00  \n",
       "2                  0.595238                0.00  \n",
       "3                  0.914634                3.00  \n",
       "4                  0.815217                2.00  "
      ]
     },
     "execution_count": 16,
     "metadata": {},
     "output_type": "execute_result"
    }
   ],
   "source": [
    "df_rolling.head()"
   ]
  },
  {
   "cell_type": "code",
   "execution_count": 17,
   "id": "8e4c5109",
   "metadata": {},
   "outputs": [],
   "source": [
    "df_rolling = df_rolling[['date', 'comp', 'home', 'away', 'result', 'last_2_results', 'gf_rolling_ratio', 'ga_rolling_ratio', 'points_last_season_ratio',\n",
    "                        'pont_rolling_ratio']]"
   ]
  },
  {
   "cell_type": "code",
   "execution_count": 18,
   "id": "3b7dbc5b",
   "metadata": {},
   "outputs": [
    {
     "data": {
      "text/plain": [
       "(12413, 10)"
      ]
     },
     "execution_count": 18,
     "metadata": {},
     "output_type": "execute_result"
    }
   ],
   "source": [
    "df_rolling.shape"
   ]
  },
  {
   "cell_type": "code",
   "execution_count": 19,
   "id": "2d61f309",
   "metadata": {},
   "outputs": [],
   "source": [
    "df_rolling = df_rolling[~df_rolling['last_2_results'].isna()]"
   ]
  },
  {
   "cell_type": "code",
   "execution_count": 20,
   "id": "177c7628",
   "metadata": {},
   "outputs": [
    {
     "data": {
      "text/plain": [
       "(8834, 10)"
      ]
     },
     "execution_count": 20,
     "metadata": {},
     "output_type": "execute_result"
    }
   ],
   "source": [
    "df_rolling.shape"
   ]
  },
  {
   "cell_type": "code",
   "execution_count": 21,
   "id": "47a4f8d1",
   "metadata": {},
   "outputs": [
    {
     "data": {
      "text/plain": [
       "date                        0\n",
       "comp                        0\n",
       "home                        0\n",
       "away                        0\n",
       "result                      0\n",
       "last_2_results              0\n",
       "gf_rolling_ratio            0\n",
       "ga_rolling_ratio            0\n",
       "points_last_season_ratio    0\n",
       "pont_rolling_ratio          0\n",
       "dtype: int64"
      ]
     },
     "execution_count": 21,
     "metadata": {},
     "output_type": "execute_result"
    }
   ],
   "source": [
    "# verificando valores missing\n",
    "df_rolling.isna().sum().sort_values(ascending=False)"
   ]
  },
  {
   "cell_type": "code",
   "execution_count": 22,
   "id": "1accf4ac",
   "metadata": {},
   "outputs": [
    {
     "data": {
      "text/plain": [
       "array([False])"
      ]
     },
     "execution_count": 22,
     "metadata": {},
     "output_type": "execute_result"
    }
   ],
   "source": [
    "# verificando se há linhas duplicadas na base\n",
    "df_rolling.duplicated().unique()"
   ]
  },
  {
   "cell_type": "code",
   "execution_count": 23,
   "id": "feaa6e02",
   "metadata": {},
   "outputs": [],
   "source": [
    "# criando a coluna 'target' --> Vitóra = 1, Não vitória = 0\n",
    "\n",
    "conditions = [df_rolling['result'] == 'W', df_rolling['result'] == 'D', df_rolling['result'] == 'L']\n",
    "    \n",
    "values = [1, 0, 0]\n",
    "    \n",
    "df_rolling['target'] = np.select(conditions, values)"
   ]
  },
  {
   "cell_type": "code",
   "execution_count": 24,
   "id": "9754eeac",
   "metadata": {},
   "outputs": [
    {
     "data": {
      "text/plain": [
       "W    3868\n",
       "L    2690\n",
       "D    2276\n",
       "Name: result, dtype: int64"
      ]
     },
     "execution_count": 24,
     "metadata": {},
     "output_type": "execute_result"
    }
   ],
   "source": [
    "df_rolling['result'].value_counts()"
   ]
  },
  {
   "cell_type": "code",
   "execution_count": 25,
   "id": "4324df0c",
   "metadata": {},
   "outputs": [
    {
     "data": {
      "text/plain": [
       "last_2_results              0.170861\n",
       "gf_rolling_ratio            0.139447\n",
       "ga_rolling_ratio           -0.114479\n",
       "points_last_season_ratio    0.286636\n",
       "pont_rolling_ratio          0.142620\n",
       "target                      1.000000\n",
       "Name: target, dtype: float64"
      ]
     },
     "execution_count": 25,
     "metadata": {},
     "output_type": "execute_result"
    }
   ],
   "source": [
    "df_rolling.corr()['target']"
   ]
  },
  {
   "cell_type": "markdown",
   "id": "58598270",
   "metadata": {},
   "source": [
    "### Como o objetivo é predizer qual time tem mais chance de saír vencedor, vamos considerar apenas as partidas onde houve um vencedor. Por esse motivo, vamos excluir os empates da base."
   ]
  },
  {
   "cell_type": "code",
   "execution_count": 26,
   "id": "2205ca1e",
   "metadata": {},
   "outputs": [],
   "source": [
    "df_rolling = df_rolling[df_rolling['result'] != 'D']"
   ]
  },
  {
   "cell_type": "code",
   "execution_count": 27,
   "id": "3beb020b",
   "metadata": {},
   "outputs": [],
   "source": [
    "# filtrando as colunas que serão utilizadas\n",
    "df_ml = df_rolling[['date', 'home', 'away', 'gf_rolling_ratio', 'ga_rolling_ratio',\n",
    "                    'points_last_season_ratio', \n",
    "                    'pont_rolling_ratio',\n",
    "                    'result', 'last_2_results', 'target']]"
   ]
  },
  {
   "cell_type": "code",
   "execution_count": 28,
   "id": "3dac6920",
   "metadata": {},
   "outputs": [
    {
     "data": {
      "text/plain": [
       "1    3868\n",
       "0    2690\n",
       "Name: target, dtype: int64"
      ]
     },
     "execution_count": 28,
     "metadata": {},
     "output_type": "execute_result"
    }
   ],
   "source": [
    "df_ml['target'].value_counts()"
   ]
  },
  {
   "cell_type": "code",
   "execution_count": 29,
   "id": "4a5d3214",
   "metadata": {},
   "outputs": [
    {
     "data": {
      "text/plain": [
       "1    0.589814\n",
       "0    0.410186\n",
       "Name: target, dtype: float64"
      ]
     },
     "execution_count": 29,
     "metadata": {},
     "output_type": "execute_result"
    }
   ],
   "source": [
    "df_ml['target'].value_counts(normalize=True)"
   ]
  },
  {
   "cell_type": "code",
   "execution_count": 30,
   "id": "cf630c8b",
   "metadata": {},
   "outputs": [
    {
     "data": {
      "text/html": [
       "<div>\n",
       "<style scoped>\n",
       "    .dataframe tbody tr th:only-of-type {\n",
       "        vertical-align: middle;\n",
       "    }\n",
       "\n",
       "    .dataframe tbody tr th {\n",
       "        vertical-align: top;\n",
       "    }\n",
       "\n",
       "    .dataframe thead th {\n",
       "        text-align: right;\n",
       "    }\n",
       "</style>\n",
       "<table border=\"1\" class=\"dataframe\">\n",
       "  <thead>\n",
       "    <tr style=\"text-align: right;\">\n",
       "      <th></th>\n",
       "      <th>date</th>\n",
       "      <th>home</th>\n",
       "      <th>away</th>\n",
       "      <th>gf_rolling_ratio</th>\n",
       "      <th>ga_rolling_ratio</th>\n",
       "      <th>points_last_season_ratio</th>\n",
       "      <th>pont_rolling_ratio</th>\n",
       "      <th>result</th>\n",
       "      <th>last_2_results</th>\n",
       "      <th>target</th>\n",
       "    </tr>\n",
       "  </thead>\n",
       "  <tbody>\n",
       "    <tr>\n",
       "      <th>32</th>\n",
       "      <td>2018-09-02</td>\n",
       "      <td>Alaves</td>\n",
       "      <td>Espanyol</td>\n",
       "      <td>0.750000</td>\n",
       "      <td>2.000000</td>\n",
       "      <td>0.959184</td>\n",
       "      <td>0.571429</td>\n",
       "      <td>W</td>\n",
       "      <td>4.0</td>\n",
       "      <td>1</td>\n",
       "    </tr>\n",
       "    <tr>\n",
       "      <th>34</th>\n",
       "      <td>2018-10-06</td>\n",
       "      <td>Alaves</td>\n",
       "      <td>Real Madrid</td>\n",
       "      <td>0.600000</td>\n",
       "      <td>0.400000</td>\n",
       "      <td>0.618421</td>\n",
       "      <td>1.250000</td>\n",
       "      <td>W</td>\n",
       "      <td>0.0</td>\n",
       "      <td>1</td>\n",
       "    </tr>\n",
       "    <tr>\n",
       "      <th>35</th>\n",
       "      <td>2018-10-28</td>\n",
       "      <td>Alaves</td>\n",
       "      <td>Villarreal</td>\n",
       "      <td>0.800000</td>\n",
       "      <td>0.666667</td>\n",
       "      <td>0.770492</td>\n",
       "      <td>1.166667</td>\n",
       "      <td>W</td>\n",
       "      <td>3.0</td>\n",
       "      <td>1</td>\n",
       "    </tr>\n",
       "    <tr>\n",
       "      <th>39</th>\n",
       "      <td>2019-01-05</td>\n",
       "      <td>Alaves</td>\n",
       "      <td>Valencia</td>\n",
       "      <td>1.500000</td>\n",
       "      <td>0.666667</td>\n",
       "      <td>0.643836</td>\n",
       "      <td>1.250000</td>\n",
       "      <td>W</td>\n",
       "      <td>0.0</td>\n",
       "      <td>1</td>\n",
       "    </tr>\n",
       "    <tr>\n",
       "      <th>41</th>\n",
       "      <td>2019-02-11</td>\n",
       "      <td>Alaves</td>\n",
       "      <td>Levante</td>\n",
       "      <td>2.000000</td>\n",
       "      <td>0.250000</td>\n",
       "      <td>1.021739</td>\n",
       "      <td>4.000000</td>\n",
       "      <td>W</td>\n",
       "      <td>3.0</td>\n",
       "      <td>1</td>\n",
       "    </tr>\n",
       "    <tr>\n",
       "      <th>...</th>\n",
       "      <td>...</td>\n",
       "      <td>...</td>\n",
       "      <td>...</td>\n",
       "      <td>...</td>\n",
       "      <td>...</td>\n",
       "      <td>...</td>\n",
       "      <td>...</td>\n",
       "      <td>...</td>\n",
       "      <td>...</td>\n",
       "      <td>...</td>\n",
       "    </tr>\n",
       "    <tr>\n",
       "      <th>12407</th>\n",
       "      <td>2023-03-18</td>\n",
       "      <td>Wolverhampton Wanderers</td>\n",
       "      <td>Leeds United</td>\n",
       "      <td>2.000000</td>\n",
       "      <td>0.250000</td>\n",
       "      <td>1.342105</td>\n",
       "      <td>6.000000</td>\n",
       "      <td>L</td>\n",
       "      <td>0.0</td>\n",
       "      <td>0</td>\n",
       "    </tr>\n",
       "    <tr>\n",
       "      <th>12408</th>\n",
       "      <td>2023-04-08</td>\n",
       "      <td>Wolverhampton Wanderers</td>\n",
       "      <td>Chelsea</td>\n",
       "      <td>0.750000</td>\n",
       "      <td>1.250000</td>\n",
       "      <td>0.689189</td>\n",
       "      <td>0.750000</td>\n",
       "      <td>W</td>\n",
       "      <td>1.0</td>\n",
       "      <td>1</td>\n",
       "    </tr>\n",
       "    <tr>\n",
       "      <th>12409</th>\n",
       "      <td>2023-04-15</td>\n",
       "      <td>Wolverhampton Wanderers</td>\n",
       "      <td>Brentford</td>\n",
       "      <td>0.800000</td>\n",
       "      <td>1.000000</td>\n",
       "      <td>1.108696</td>\n",
       "      <td>1.500000</td>\n",
       "      <td>W</td>\n",
       "      <td>4.0</td>\n",
       "      <td>1</td>\n",
       "    </tr>\n",
       "    <tr>\n",
       "      <th>12410</th>\n",
       "      <td>2023-04-25</td>\n",
       "      <td>Wolverhampton Wanderers</td>\n",
       "      <td>Crystal Palace</td>\n",
       "      <td>0.625000</td>\n",
       "      <td>0.800000</td>\n",
       "      <td>1.062500</td>\n",
       "      <td>1.000000</td>\n",
       "      <td>W</td>\n",
       "      <td>0.0</td>\n",
       "      <td>1</td>\n",
       "    </tr>\n",
       "    <tr>\n",
       "      <th>12411</th>\n",
       "      <td>2023-05-06</td>\n",
       "      <td>Wolverhampton Wanderers</td>\n",
       "      <td>Aston Villa</td>\n",
       "      <td>1.666667</td>\n",
       "      <td>0.000000</td>\n",
       "      <td>1.133333</td>\n",
       "      <td>2.250000</td>\n",
       "      <td>W</td>\n",
       "      <td>4.0</td>\n",
       "      <td>1</td>\n",
       "    </tr>\n",
       "  </tbody>\n",
       "</table>\n",
       "<p>6558 rows × 10 columns</p>\n",
       "</div>"
      ],
      "text/plain": [
       "            date                     home            away  gf_rolling_ratio  \\\n",
       "32    2018-09-02                   Alaves        Espanyol          0.750000   \n",
       "34    2018-10-06                   Alaves     Real Madrid          0.600000   \n",
       "35    2018-10-28                   Alaves      Villarreal          0.800000   \n",
       "39    2019-01-05                   Alaves        Valencia          1.500000   \n",
       "41    2019-02-11                   Alaves         Levante          2.000000   \n",
       "...          ...                      ...             ...               ...   \n",
       "12407 2023-03-18  Wolverhampton Wanderers    Leeds United          2.000000   \n",
       "12408 2023-04-08  Wolverhampton Wanderers         Chelsea          0.750000   \n",
       "12409 2023-04-15  Wolverhampton Wanderers       Brentford          0.800000   \n",
       "12410 2023-04-25  Wolverhampton Wanderers  Crystal Palace          0.625000   \n",
       "12411 2023-05-06  Wolverhampton Wanderers     Aston Villa          1.666667   \n",
       "\n",
       "       ga_rolling_ratio  points_last_season_ratio  pont_rolling_ratio result  \\\n",
       "32             2.000000                  0.959184            0.571429      W   \n",
       "34             0.400000                  0.618421            1.250000      W   \n",
       "35             0.666667                  0.770492            1.166667      W   \n",
       "39             0.666667                  0.643836            1.250000      W   \n",
       "41             0.250000                  1.021739            4.000000      W   \n",
       "...                 ...                       ...                 ...    ...   \n",
       "12407          0.250000                  1.342105            6.000000      L   \n",
       "12408          1.250000                  0.689189            0.750000      W   \n",
       "12409          1.000000                  1.108696            1.500000      W   \n",
       "12410          0.800000                  1.062500            1.000000      W   \n",
       "12411          0.000000                  1.133333            2.250000      W   \n",
       "\n",
       "       last_2_results  target  \n",
       "32                4.0       1  \n",
       "34                0.0       1  \n",
       "35                3.0       1  \n",
       "39                0.0       1  \n",
       "41                3.0       1  \n",
       "...               ...     ...  \n",
       "12407             0.0       0  \n",
       "12408             1.0       1  \n",
       "12409             4.0       1  \n",
       "12410             0.0       1  \n",
       "12411             4.0       1  \n",
       "\n",
       "[6558 rows x 10 columns]"
      ]
     },
     "execution_count": 30,
     "metadata": {},
     "output_type": "execute_result"
    }
   ],
   "source": [
    "df_ml"
   ]
  },
  {
   "cell_type": "code",
   "execution_count": 31,
   "id": "387f2856",
   "metadata": {},
   "outputs": [
    {
     "name": "stdout",
     "output_type": "stream",
     "text": [
      "(5574, 5)\n",
      "(5574,)\n",
      "(984, 5)\n",
      "(984,)\n"
     ]
    },
    {
     "data": {
      "text/plain": [
       "(None, None)"
      ]
     },
     "execution_count": 31,
     "metadata": {},
     "output_type": "execute_result"
    }
   ],
   "source": [
    "# separando a base em treino e teste\n",
    "from sklearn.model_selection import train_test_split\n",
    "\n",
    "train_size=0.85\n",
    "\n",
    "X = df_ml.drop(columns = ['target', 'result', 'date', 'home', 'away']).copy()\n",
    "y = df_ml['target']\n",
    "\n",
    "X_train, X_test, y_train, y_test = train_test_split(X,y, train_size=train_size, random_state=20)\n",
    "\n",
    "print(X_train.shape), print(y_train.shape)\n",
    "print(X_test.shape), print(y_test.shape)"
   ]
  },
  {
   "cell_type": "code",
   "execution_count": 32,
   "id": "95653309",
   "metadata": {},
   "outputs": [
    {
     "data": {
      "text/plain": [
       "1    0.591676\n",
       "0    0.408324\n",
       "Name: target, dtype: float64"
      ]
     },
     "execution_count": 32,
     "metadata": {},
     "output_type": "execute_result"
    }
   ],
   "source": [
    "y_train.value_counts(normalize=True)"
   ]
  },
  {
   "cell_type": "code",
   "execution_count": 33,
   "id": "924794c3",
   "metadata": {},
   "outputs": [
    {
     "data": {
      "text/plain": [
       "1    0.579268\n",
       "0    0.420732\n",
       "Name: target, dtype: float64"
      ]
     },
     "execution_count": 33,
     "metadata": {},
     "output_type": "execute_result"
    }
   ],
   "source": [
    "y_test.value_counts(normalize=True)"
   ]
  },
  {
   "cell_type": "markdown",
   "id": "c1c291d7",
   "metadata": {},
   "source": [
    "# Modelos de Machine Learning"
   ]
  },
  {
   "cell_type": "code",
   "execution_count": 34,
   "id": "41100234",
   "metadata": {},
   "outputs": [],
   "source": [
    "# Função para trazer as medidas\n",
    "def medidas(y_test, y_pred_best):\n",
    "    print(f'precision:{precision_score(y_test, y_pred_best):.2f}')\n",
    "    print(f'accuracy:{accuracy_score(y_test, y_pred_best):.2f}')\n",
    "    print(f'recall:{recall_score(y_test, y_pred_best):.2f}')\n",
    "    print(f'f1_score:{f1_score(y_test, y_pred_best):.2f}')\n",
    "    print(f'roc_auc_score:{roc_auc_score(y_test, y_pred_best):.2f}')"
   ]
  },
  {
   "cell_type": "markdown",
   "id": "debfacfb",
   "metadata": {},
   "source": [
    "## Regressão Logística"
   ]
  },
  {
   "cell_type": "code",
   "execution_count": 35,
   "id": "ecce6d86",
   "metadata": {},
   "outputs": [],
   "source": [
    "from sklearn.linear_model import LogisticRegression\n",
    "from sklearn.pipeline import Pipeline\n",
    "from sklearn.metrics import plot_confusion_matrix\n",
    "from sklearn.model_selection import GridSearchCV\n",
    "from sklearn.preprocessing import StandardScaler\n",
    "from feature_engine.wrappers import SklearnTransformerWrapper\n",
    "from sklearn.metrics import accuracy_score, precision_score, recall_score, f1_score, roc_auc_score\n",
    "from sklearn.model_selection import cross_val_score\n",
    "from sklearn.model_selection import RepeatedStratifiedKFold\n",
    "from numpy import mean\n",
    "from numpy import std"
   ]
  },
  {
   "cell_type": "code",
   "execution_count": 36,
   "id": "d47247c7",
   "metadata": {},
   "outputs": [
    {
     "data": {
      "text/plain": [
       "Index(['gf_rolling_ratio', 'ga_rolling_ratio', 'points_last_season_ratio',\n",
       "       'pont_rolling_ratio', 'last_2_results'],\n",
       "      dtype='object')"
      ]
     },
     "execution_count": 36,
     "metadata": {},
     "output_type": "execute_result"
    }
   ],
   "source": [
    "X_train.columns"
   ]
  },
  {
   "cell_type": "code",
   "execution_count": 37,
   "id": "7b4dc85c",
   "metadata": {},
   "outputs": [],
   "source": [
    "std_scaller = [('numeric_scaler', SklearnTransformerWrapper(variables=['gf_rolling_ratio', 'ga_rolling_ratio', 'points_last_season_ratio',\n",
    "                                                                       'pont_rolling_ratio',\n",
    "                                                                       'last_2_results'], transformer=StandardScaler()))]\n",
    "\n",
    "pipeline = Pipeline(steps= std_scaller + [('logit', LogisticRegression())])"
   ]
  },
  {
   "cell_type": "code",
   "execution_count": 38,
   "id": "630e9a7b",
   "metadata": {},
   "outputs": [
    {
     "data": {
      "text/plain": [
       "Pipeline(steps=[('numeric_scaler',\n",
       "                 SklearnTransformerWrapper(transformer=StandardScaler(),\n",
       "                                           variables=['gf_rolling_ratio',\n",
       "                                                      'ga_rolling_ratio',\n",
       "                                                      'points_last_season_ratio',\n",
       "                                                      'pont_rolling_ratio',\n",
       "                                                      'last_2_results'])),\n",
       "                ('logit', LogisticRegression())])"
      ]
     },
     "execution_count": 38,
     "metadata": {},
     "output_type": "execute_result"
    }
   ],
   "source": [
    "pipeline.fit(X_train, y_train)"
   ]
  },
  {
   "cell_type": "code",
   "execution_count": 39,
   "id": "895edcfc",
   "metadata": {},
   "outputs": [],
   "source": [
    "y_pred = pipeline.predict(X_test)"
   ]
  },
  {
   "cell_type": "code",
   "execution_count": 40,
   "id": "8036eb66",
   "metadata": {},
   "outputs": [
    {
     "data": {
      "text/plain": [
       "0.702660406885759"
      ]
     },
     "execution_count": 40,
     "metadata": {},
     "output_type": "execute_result"
    }
   ],
   "source": [
    "precision_score(y_test, y_pred)"
   ]
  },
  {
   "cell_type": "code",
   "execution_count": 41,
   "id": "9d0568f1",
   "metadata": {},
   "outputs": [
    {
     "data": {
      "text/plain": [
       "0.6839430894308943"
      ]
     },
     "execution_count": 41,
     "metadata": {},
     "output_type": "execute_result"
    }
   ],
   "source": [
    "accuracy_score(y_test, y_pred)"
   ]
  },
  {
   "cell_type": "code",
   "execution_count": 42,
   "id": "8c2c9c75",
   "metadata": {},
   "outputs": [
    {
     "data": {
      "text/plain": [
       "0.787719298245614"
      ]
     },
     "execution_count": 42,
     "metadata": {},
     "output_type": "execute_result"
    }
   ],
   "source": [
    "recall_score(y_test, y_pred)"
   ]
  },
  {
   "cell_type": "code",
   "execution_count": 43,
   "id": "90875bfc",
   "metadata": {},
   "outputs": [
    {
     "data": {
      "text/plain": [
       "0.7427626137303556"
      ]
     },
     "execution_count": 43,
     "metadata": {},
     "output_type": "execute_result"
    }
   ],
   "source": [
    "f1_score(y_test, y_pred)"
   ]
  },
  {
   "cell_type": "code",
   "execution_count": 44,
   "id": "30519cbf",
   "metadata": {},
   "outputs": [
    {
     "data": {
      "text/plain": [
       "0.6643910500889906"
      ]
     },
     "execution_count": 44,
     "metadata": {},
     "output_type": "execute_result"
    }
   ],
   "source": [
    "roc_auc_score(y_test, y_pred)"
   ]
  },
  {
   "cell_type": "code",
   "execution_count": 45,
   "id": "c8df7273",
   "metadata": {},
   "outputs": [
    {
     "data": {
      "text/plain": [
       "<sklearn.metrics._plot.confusion_matrix.ConfusionMatrixDisplay at 0x18d8a16c940>"
      ]
     },
     "execution_count": 45,
     "metadata": {},
     "output_type": "execute_result"
    },
    {
     "data": {
      "image/png": "[encoded data removed]",
      "text/plain": [
       "<Figure size 432x288 with 2 Axes>"
      ]
     },
     "metadata": {},
     "output_type": "display_data"
    }
   ],
   "source": [
    "plot_confusion_matrix(pipeline, X_test, y_test, values_format='d')"
   ]
  },
  {
   "cell_type": "code",
   "execution_count": 46,
   "id": "3ad0d27f",
   "metadata": {},
   "outputs": [
    {
     "data": {
      "text/plain": [
       "Pipeline(steps=[('numeric_scaler',\n",
       "                 SklearnTransformerWrapper(transformer=StandardScaler(),\n",
       "                                           variables=['gf_rolling_ratio',\n",
       "                                                      'ga_rolling_ratio',\n",
       "                                                      'points_last_season_ratio',\n",
       "                                                      'pont_rolling_ratio',\n",
       "                                                      'last_2_results'])),\n",
       "                ('logit', LogisticRegression())])"
      ]
     },
     "execution_count": 46,
     "metadata": {},
     "output_type": "execute_result"
    }
   ],
   "source": [
    "pipeline"
   ]
  },
  {
   "cell_type": "code",
   "execution_count": 47,
   "id": "5bff6ec0",
   "metadata": {},
   "outputs": [
    {
     "data": {
      "text/plain": [
       "array([[ 0.18747875, -0.17670777,  0.73130102, -0.01070844,  0.09342208]])"
      ]
     },
     "execution_count": 47,
     "metadata": {},
     "output_type": "execute_result"
    }
   ],
   "source": [
    "pipeline[1].coef_"
   ]
  },
  {
   "cell_type": "code",
   "execution_count": 48,
   "id": "c408bcca",
   "metadata": {},
   "outputs": [
    {
     "data": {
      "text/plain": [
       "array([0.45981965])"
      ]
     },
     "execution_count": 48,
     "metadata": {},
     "output_type": "execute_result"
    }
   ],
   "source": [
    "pipeline[1].intercept_"
   ]
  },
  {
   "cell_type": "code",
   "execution_count": 49,
   "id": "a90437b5",
   "metadata": {},
   "outputs": [
    {
     "name": "stdout",
     "output_type": "stream",
     "text": [
      "Fitting 5 folds for each of 48 candidates, totalling 240 fits\n",
      "\n",
      "====================================================================================================\n",
      "{'logit__C': 1, 'logit__class_weight': None, 'logit__fit_intercept': True, 'logit__penalty': 'l2'}\n",
      "====================================================================================================\n",
      "\n"
     ]
    }
   ],
   "source": [
    "# Grid Search\n",
    "parametros = {\n",
    "    'logit__penalty': ['l1', 'l2'],\n",
    "    'logit__C': [0.001, 0.01, 0.1, 1, 10, 100],\n",
    "    'logit__class_weight': ['balanced', None],\n",
    "    'logit__fit_intercept': [True, False]\n",
    "}\n",
    "grid_search = GridSearchCV(pipeline, parametros, scoring='accuracy', cv=5, n_jobs=-1, verbose=1)\n",
    "grid_search.fit(X_train, y_train)\n",
    "\n",
    "print()\n",
    "print('='*100)\n",
    "print(grid_search.best_params_)\n",
    "print('='*100)\n",
    "print()"
   ]
  },
  {
   "cell_type": "code",
   "execution_count": 51,
   "id": "73bb27a8",
   "metadata": {},
   "outputs": [],
   "source": [
    "best_lr_pipeline = Pipeline(steps= std_scaller + [('logit', LogisticRegression(C=1, class_weight=None, fit_intercept=True, penalty='l2'))])"
   ]
  },
  {
   "cell_type": "code",
   "execution_count": 52,
   "id": "f87f9b2d",
   "metadata": {},
   "outputs": [
    {
     "data": {
      "text/plain": [
       "Pipeline(steps=[('numeric_scaler',\n",
       "                 SklearnTransformerWrapper(transformer=StandardScaler(),\n",
       "                                           variables=['gf_rolling_ratio',\n",
       "                                                      'ga_rolling_ratio',\n",
       "                                                      'points_last_season_ratio',\n",
       "                                                      'pont_rolling_ratio',\n",
       "                                                      'last_2_results'])),\n",
       "                ('logit', LogisticRegression(C=1))])"
      ]
     },
     "execution_count": 52,
     "metadata": {},
     "output_type": "execute_result"
    }
   ],
   "source": [
    "best_lr_pipeline.fit(X_train, y_train)"
   ]
  },
  {
   "cell_type": "code",
   "execution_count": 53,
   "id": "bf76f43e",
   "metadata": {},
   "outputs": [],
   "source": [
    "y_pred_best = best_lr_pipeline.predict(X_test)"
   ]
  },
  {
   "cell_type": "code",
   "execution_count": 54,
   "id": "e757166e",
   "metadata": {},
   "outputs": [],
   "source": [
    "precision_score_lr = precision_score(y_test, y_pred_best)\n",
    "accuracy_score_lr = accuracy_score(y_test, y_pred_best)\n",
    "recall_score_lr = recall_score(y_test, y_pred_best)\n",
    "f1_score_lr = f1_score(y_test, y_pred_best)\n",
    "roc_auc_score_lr = roc_auc_score(y_test, y_pred_best)"
   ]
  },
  {
   "cell_type": "code",
   "execution_count": 55,
   "id": "5c7f8b2b",
   "metadata": {},
   "outputs": [
    {
     "data": {
      "text/plain": [
       "0.702660406885759"
      ]
     },
     "execution_count": 55,
     "metadata": {},
     "output_type": "execute_result"
    }
   ],
   "source": [
    "precision_score_lr"
   ]
  },
  {
   "cell_type": "code",
   "execution_count": 56,
   "id": "06c83b25",
   "metadata": {},
   "outputs": [
    {
     "data": {
      "text/plain": [
       "0.6839430894308943"
      ]
     },
     "execution_count": 56,
     "metadata": {},
     "output_type": "execute_result"
    }
   ],
   "source": [
    "accuracy_score_lr"
   ]
  },
  {
   "cell_type": "code",
   "execution_count": 57,
   "id": "dfbc4a61",
   "metadata": {},
   "outputs": [
    {
     "data": {
      "text/plain": [
       "0.787719298245614"
      ]
     },
     "execution_count": 57,
     "metadata": {},
     "output_type": "execute_result"
    }
   ],
   "source": [
    "recall_score_lr"
   ]
  },
  {
   "cell_type": "code",
   "execution_count": 58,
   "id": "e63a28ef",
   "metadata": {},
   "outputs": [
    {
     "data": {
      "text/plain": [
       "0.7427626137303556"
      ]
     },
     "execution_count": 58,
     "metadata": {},
     "output_type": "execute_result"
    }
   ],
   "source": [
    "f1_score_lr"
   ]
  },
  {
   "cell_type": "code",
   "execution_count": 59,
   "id": "c15c1984",
   "metadata": {},
   "outputs": [
    {
     "data": {
      "text/plain": [
       "0.6643910500889906"
      ]
     },
     "execution_count": 59,
     "metadata": {},
     "output_type": "execute_result"
    }
   ],
   "source": [
    "roc_auc_score_lr"
   ]
  },
  {
   "cell_type": "code",
   "execution_count": 60,
   "id": "efeb1479",
   "metadata": {},
   "outputs": [
    {
     "data": {
      "text/plain": [
       "<sklearn.metrics._plot.confusion_matrix.ConfusionMatrixDisplay at 0x18d8a6d0df0>"
      ]
     },
     "execution_count": 60,
     "metadata": {},
     "output_type": "execute_result"
    },
    {
     "data": {
      "image/png": "[encoded data removed]",
      "text/plain": [
       "<Figure size 432x288 with 2 Axes>"
      ]
     },
     "metadata": {},
     "output_type": "display_data"
    }
   ],
   "source": [
    "plot_confusion_matrix(best_lr_pipeline, X_test, y_test, values_format='d')"
   ]
  },
  {
   "cell_type": "code",
   "execution_count": 61,
   "id": "25f7627b",
   "metadata": {},
   "outputs": [
    {
     "data": {
      "text/plain": [
       "array([[ 0.18747875, -0.17670777,  0.73130102, -0.01070844,  0.09342208]])"
      ]
     },
     "execution_count": 61,
     "metadata": {},
     "output_type": "execute_result"
    }
   ],
   "source": [
    "best_lr_pipeline[1].coef_"
   ]
  },
  {
   "cell_type": "markdown",
   "id": "af3a4ae5",
   "metadata": {},
   "source": [
    "## SVM"
   ]
  },
  {
   "cell_type": "code",
   "execution_count": null,
   "id": "19809623",
   "metadata": {},
   "outputs": [],
   "source": [
    "from sklearn.svm import SVC"
   ]
  },
  {
   "cell_type": "code",
   "execution_count": null,
   "id": "29d34730",
   "metadata": {},
   "outputs": [],
   "source": [
    "std_scaller = [('numeric_scaler', SklearnTransformerWrapper(variables=['gf_rolling_ratio', 'ga_rolling_ratio', 'points_last_season_ratio',\n",
    "       #'FIFA_23_Overall_ratio',\n",
    "                                                                       'pont_rolling_ratio', 'last_2_results'], transformer=StandardScaler()))]\n",
    "\n",
    "pipeline_svc = Pipeline(steps= std_scaller + [('svc', SVC())])"
   ]
  },
  {
   "cell_type": "code",
   "execution_count": null,
   "id": "b99c4906",
   "metadata": {},
   "outputs": [],
   "source": [
    "pipeline_svc.fit(X_train, y_train)"
   ]
  },
  {
   "cell_type": "code",
   "execution_count": null,
   "id": "7cbbe8e3",
   "metadata": {},
   "outputs": [],
   "source": [
    "y_pred = pipeline_svc.predict(X_test)"
   ]
  },
  {
   "cell_type": "code",
   "execution_count": null,
   "id": "4436c5d0",
   "metadata": {},
   "outputs": [],
   "source": [
    "precision_score(y_test, y_pred)"
   ]
  },
  {
   "cell_type": "code",
   "execution_count": null,
   "id": "c920a7a9",
   "metadata": {},
   "outputs": [],
   "source": [
    "accuracy_score(y_test, y_pred)"
   ]
  },
  {
   "cell_type": "code",
   "execution_count": null,
   "id": "a36f1688",
   "metadata": {},
   "outputs": [],
   "source": [
    "plot_confusion_matrix(pipeline_svc, X_test, y_test, values_format='d')"
   ]
  },
  {
   "cell_type": "code",
   "execution_count": null,
   "id": "9ae77853",
   "metadata": {},
   "outputs": [],
   "source": [
    "parametros = {\n",
    "    'svc__C': [0.01, 0.1, 1, 10], # [0.001, 0.01, 0.1, 1, 10, 100],\n",
    "    'svc__gamma': ['scale', 'auto'], # ['scale', 'auto'],\n",
    "    'svc__kernel': ['rbf', 'poly'], # ['rbf', 'poly', 'linear', 'sigmoid'],\n",
    "    'svc__class_weight': ['balanced', None]\n",
    "}\n",
    "grid_search = GridSearchCV(pipeline_svc, parametros, scoring='accuracy', cv=5, n_jobs=-1, verbose=1)\n",
    "grid_search.fit(X_train, y_train)\n",
    "\n",
    "print()\n",
    "print('='*100)\n",
    "print(grid_search.best_params_)\n",
    "print('='*100)\n",
    "print()"
   ]
  },
  {
   "cell_type": "code",
   "execution_count": null,
   "id": "604441ed",
   "metadata": {},
   "outputs": [],
   "source": [
    "best_svc_pipeline = Pipeline(steps= std_scaller + [('svc', SVC(C=0.1, class_weight=None, gamma='scale', kernel='rbf'))])"
   ]
  },
  {
   "cell_type": "code",
   "execution_count": null,
   "id": "aa5f5a4f",
   "metadata": {},
   "outputs": [],
   "source": [
    "best_svc_pipeline.fit(X_train, y_train)"
   ]
  },
  {
   "cell_type": "code",
   "execution_count": null,
   "id": "33cba12c",
   "metadata": {},
   "outputs": [],
   "source": [
    "y_pred_best = best_svc_pipeline.predict(X_test)"
   ]
  },
  {
   "cell_type": "code",
   "execution_count": null,
   "id": "d5f86800",
   "metadata": {},
   "outputs": [],
   "source": [
    "precision_score_svm = precision_score(y_test, y_pred_best)\n",
    "accuracy_score_svm = accuracy_score(y_test, y_pred_best)\n",
    "recall_score_svm = recall_score(y_test, y_pred_best)\n",
    "f1_score_svm = f1_score(y_test, y_pred_best)\n",
    "roc_auc_score_svm = roc_auc_score(y_test, y_pred_best)"
   ]
  },
  {
   "cell_type": "code",
   "execution_count": null,
   "id": "52e23344",
   "metadata": {},
   "outputs": [],
   "source": [
    "plot_confusion_matrix(best_svc_pipeline, X_test, y_test, values_format='d')"
   ]
  },
  {
   "cell_type": "code",
   "execution_count": null,
   "id": "577b6ab6",
   "metadata": {},
   "outputs": [],
   "source": [
    "accuracy_score_svm"
   ]
  },
  {
   "cell_type": "code",
   "execution_count": null,
   "id": "98005726",
   "metadata": {},
   "outputs": [],
   "source": [
    "precision_score_svm"
   ]
  },
  {
   "cell_type": "code",
   "execution_count": null,
   "id": "caa90015",
   "metadata": {},
   "outputs": [],
   "source": [
    "recall_score_svm"
   ]
  },
  {
   "cell_type": "code",
   "execution_count": null,
   "id": "6896acc6",
   "metadata": {},
   "outputs": [],
   "source": [
    "f1_score_svm"
   ]
  },
  {
   "cell_type": "code",
   "execution_count": null,
   "id": "a231a5fc",
   "metadata": {},
   "outputs": [],
   "source": [
    "roc_auc_score_svm"
   ]
  },
  {
   "cell_type": "markdown",
   "id": "036fe8e9",
   "metadata": {},
   "source": [
    "## Decision Tree"
   ]
  },
  {
   "cell_type": "code",
   "execution_count": null,
   "id": "598a4450",
   "metadata": {},
   "outputs": [],
   "source": [
    "from sklearn.tree import DecisionTreeClassifier"
   ]
  },
  {
   "cell_type": "code",
   "execution_count": null,
   "id": "391a8c1e",
   "metadata": {},
   "outputs": [],
   "source": [
    "dt = DecisionTreeClassifier()"
   ]
  },
  {
   "cell_type": "code",
   "execution_count": null,
   "id": "22473117",
   "metadata": {},
   "outputs": [],
   "source": [
    "dt.fit(X_train, y_train)"
   ]
  },
  {
   "cell_type": "code",
   "execution_count": null,
   "id": "73b65d9b",
   "metadata": {},
   "outputs": [],
   "source": [
    "y_pred = dt.predict(X_test)"
   ]
  },
  {
   "cell_type": "code",
   "execution_count": null,
   "id": "3200fa63",
   "metadata": {},
   "outputs": [],
   "source": [
    "precision_score(y_test, y_pred)"
   ]
  },
  {
   "cell_type": "code",
   "execution_count": null,
   "id": "bfd2193e",
   "metadata": {},
   "outputs": [],
   "source": [
    "accuracy_score(y_test, y_pred)"
   ]
  },
  {
   "cell_type": "code",
   "execution_count": null,
   "id": "3a665ed8",
   "metadata": {},
   "outputs": [],
   "source": [
    "recall_score(y_test, y_pred)"
   ]
  },
  {
   "cell_type": "code",
   "execution_count": null,
   "id": "a7d2ef4b",
   "metadata": {},
   "outputs": [],
   "source": [
    "f1_score(y_test, y_pred)"
   ]
  },
  {
   "cell_type": "code",
   "execution_count": null,
   "id": "74f8d61d",
   "metadata": {},
   "outputs": [],
   "source": [
    "roc_auc_score(y_test, y_pred)"
   ]
  },
  {
   "cell_type": "code",
   "execution_count": null,
   "id": "6e6a8793",
   "metadata": {},
   "outputs": [],
   "source": [
    "plot_confusion_matrix(dt, X_test, y_test, values_format='d')"
   ]
  },
  {
   "cell_type": "code",
   "execution_count": null,
   "id": "1c5ddf0e",
   "metadata": {},
   "outputs": [],
   "source": [
    "parametros = {\n",
    "  'max_depth': [2, 3, 4, 5, 6, 7, 8, 9, 10],\n",
    "  'criterion': ['gini', 'entropy'],\n",
    "  'class_weight': ['balanced', 'None'],\n",
    "  'min_samples_split': [2, 3, 4, 5],\n",
    "}\n",
    "\n",
    "grid_search = GridSearchCV(DecisionTreeClassifier(), parametros, scoring='accuracy', cv=5, n_jobs=-1, verbose=1)\n",
    "grid_search.fit(X_train, y_train)\n",
    "\n",
    "print()\n",
    "print('='*100)\n",
    "print(grid_search.best_params_)\n",
    "print('='*100)\n",
    "print()"
   ]
  },
  {
   "cell_type": "code",
   "execution_count": null,
   "id": "032bd394",
   "metadata": {},
   "outputs": [],
   "source": [
    "best_dt = DecisionTreeClassifier(class_weight='balanced', criterion='gini', max_depth=4, min_samples_split=2)"
   ]
  },
  {
   "cell_type": "code",
   "execution_count": null,
   "id": "99c40a07",
   "metadata": {},
   "outputs": [],
   "source": [
    "best_dt.fit(X_train, y_train)"
   ]
  },
  {
   "cell_type": "code",
   "execution_count": null,
   "id": "1fd408e6",
   "metadata": {},
   "outputs": [],
   "source": [
    "y_pred_best = best_dt.predict(X_test)"
   ]
  },
  {
   "cell_type": "code",
   "execution_count": null,
   "id": "7b587a62",
   "metadata": {},
   "outputs": [],
   "source": [
    "precision_score_dt = precision_score(y_test, y_pred_best)\n",
    "accuracy_score_dt = accuracy_score(y_test, y_pred_best)\n",
    "recall_score_dt = recall_score(y_test, y_pred_best)\n",
    "f1_score_dt = f1_score(y_test, y_pred_best)\n",
    "roc_auc_score_dt = roc_auc_score(y_test, y_pred_best)"
   ]
  },
  {
   "cell_type": "code",
   "execution_count": null,
   "id": "7c651359",
   "metadata": {},
   "outputs": [],
   "source": [
    "plot_confusion_matrix(best_dt, X_test, y_test, values_format='d')"
   ]
  },
  {
   "cell_type": "code",
   "execution_count": null,
   "id": "8baff146",
   "metadata": {},
   "outputs": [],
   "source": [
    "precision_score_dt"
   ]
  },
  {
   "cell_type": "code",
   "execution_count": null,
   "id": "fd83d1dd",
   "metadata": {},
   "outputs": [],
   "source": [
    "accuracy_score_dt"
   ]
  },
  {
   "cell_type": "code",
   "execution_count": null,
   "id": "d157001d",
   "metadata": {},
   "outputs": [],
   "source": [
    "recall_score_dt"
   ]
  },
  {
   "cell_type": "code",
   "execution_count": null,
   "id": "f5ee6b93",
   "metadata": {},
   "outputs": [],
   "source": [
    "f1_score_dt"
   ]
  },
  {
   "cell_type": "code",
   "execution_count": null,
   "id": "ac59cd58",
   "metadata": {},
   "outputs": [],
   "source": [
    "roc_auc_score_dt"
   ]
  },
  {
   "cell_type": "code",
   "execution_count": null,
   "id": "4fffe6e1",
   "metadata": {},
   "outputs": [],
   "source": [
    "from sklearn import tree\n",
    "\n",
    "fig = plt.figure(figsize=(15,8))\n",
    "_ = tree.plot_tree(best_dt, \n",
    "                   feature_names=X_train.columns,  \n",
    "                   class_names=['0','1'],\n",
    "                   filled=True)"
   ]
  },
  {
   "cell_type": "markdown",
   "id": "0f640179",
   "metadata": {},
   "source": [
    "## Random Forest"
   ]
  },
  {
   "cell_type": "code",
   "execution_count": null,
   "id": "c5f76259",
   "metadata": {},
   "outputs": [],
   "source": [
    "from sklearn.ensemble import RandomForestClassifier"
   ]
  },
  {
   "cell_type": "code",
   "execution_count": null,
   "id": "a94684a3",
   "metadata": {},
   "outputs": [],
   "source": [
    "rf = RandomForestClassifier()"
   ]
  },
  {
   "cell_type": "code",
   "execution_count": null,
   "id": "082cfcc7",
   "metadata": {},
   "outputs": [],
   "source": [
    "rf.fit(X_train, y_train)"
   ]
  },
  {
   "cell_type": "code",
   "execution_count": null,
   "id": "721a2049",
   "metadata": {},
   "outputs": [],
   "source": [
    "y_pred = rf.predict(X_test)"
   ]
  },
  {
   "cell_type": "code",
   "execution_count": null,
   "id": "d69fff59",
   "metadata": {},
   "outputs": [],
   "source": [
    "precision_score(y_test, y_pred)"
   ]
  },
  {
   "cell_type": "code",
   "execution_count": null,
   "id": "71d43e1d",
   "metadata": {},
   "outputs": [],
   "source": [
    "accuracy_score(y_test, y_pred)"
   ]
  },
  {
   "cell_type": "code",
   "execution_count": null,
   "id": "2c150b79",
   "metadata": {},
   "outputs": [],
   "source": [
    "plot_confusion_matrix(rf, X_test, y_test, values_format='d')"
   ]
  },
  {
   "cell_type": "code",
   "execution_count": null,
   "id": "0eccca95",
   "metadata": {},
   "outputs": [],
   "source": [
    "from sklearn.pipeline import Pipeline\n",
    "\n",
    "from sklearn.ensemble import RandomForestClassifier\n",
    "\n",
    "from sklearn.model_selection import GridSearchCV\n",
    "\n",
    "parametros = {\n",
    "    'max_depth': [2, 3, 4, 5, 6, 7], # 25, 30, None],\n",
    "    'max_features': ['sqrt'], # 'sqrt', 'None'],\n",
    "    'min_samples_split': [5, 10], # 5, 10, 15, 100],\n",
    "    'min_samples_leaf': [2, 5], # 5, 10],\n",
    "    'class_weight': ['balanced', None]\n",
    "}\n",
    "\n",
    "grid_search = GridSearchCV(RandomForestClassifier(), parametros, scoring='accuracy', cv=5, n_jobs=-1, verbose=1)\n",
    "grid_search.fit(X_train, y_train)\n",
    "\n",
    "print()\n",
    "print('='*100)\n",
    "print(grid_search.best_params_)\n",
    "print('='*100)\n",
    "print()"
   ]
  },
  {
   "cell_type": "code",
   "execution_count": null,
   "id": "650371ae",
   "metadata": {},
   "outputs": [],
   "source": [
    "best_rf = RandomForestClassifier(class_weight= None, max_depth= 3, max_features= 'sqrt',\n",
    "                                 min_samples_leaf= 2, min_samples_split= 10, n_estimators= 100, random_state=7)"
   ]
  },
  {
   "cell_type": "code",
   "execution_count": null,
   "id": "ff041c9a",
   "metadata": {},
   "outputs": [],
   "source": [
    "best_rf.fit(X_train, y_train)"
   ]
  },
  {
   "cell_type": "code",
   "execution_count": null,
   "id": "56974f38",
   "metadata": {},
   "outputs": [],
   "source": [
    "y_pred_best = best_rf.predict(X_test)"
   ]
  },
  {
   "cell_type": "code",
   "execution_count": null,
   "id": "ad1e2f19",
   "metadata": {},
   "outputs": [],
   "source": [
    "    precision_score_rf = precision_score(y_test, y_pred_best)\n",
    "    accuracy_score_rf = accuracy_score(y_test, y_pred_best)\n",
    "    recall_score_rf = recall_score(y_test, y_pred_best)\n",
    "    f1_score_rf = f1_score(y_test, y_pred_best)\n",
    "    roc_auc_score_rf = roc_auc_score(y_test, y_pred_best)"
   ]
  },
  {
   "cell_type": "code",
   "execution_count": null,
   "id": "ee7dc89d",
   "metadata": {},
   "outputs": [],
   "source": [
    "plot_confusion_matrix(best_rf, X_test, y_test, values_format='d')"
   ]
  },
  {
   "cell_type": "code",
   "execution_count": null,
   "id": "2d3fdc14",
   "metadata": {},
   "outputs": [],
   "source": [
    "precision_score_rf"
   ]
  },
  {
   "cell_type": "code",
   "execution_count": null,
   "id": "5652c79b",
   "metadata": {},
   "outputs": [],
   "source": [
    "accuracy_score_rf"
   ]
  },
  {
   "cell_type": "code",
   "execution_count": null,
   "id": "b50c31c9",
   "metadata": {},
   "outputs": [],
   "source": [
    "recall_score_rf"
   ]
  },
  {
   "cell_type": "code",
   "execution_count": null,
   "id": "47e89dce",
   "metadata": {},
   "outputs": [],
   "source": [
    "f1_score_rf"
   ]
  },
  {
   "cell_type": "code",
   "execution_count": null,
   "id": "8bff0708",
   "metadata": {},
   "outputs": [],
   "source": [
    "roc_auc_score_rf"
   ]
  },
  {
   "cell_type": "markdown",
   "id": "ef57e023",
   "metadata": {},
   "source": [
    "## XGBoost"
   ]
  },
  {
   "cell_type": "code",
   "execution_count": null,
   "id": "81936a5c",
   "metadata": {},
   "outputs": [],
   "source": [
    "from xgboost import XGBClassifier"
   ]
  },
  {
   "cell_type": "code",
   "execution_count": null,
   "id": "55269cf4",
   "metadata": {},
   "outputs": [],
   "source": [
    "xgb = XGBClassifier()"
   ]
  },
  {
   "cell_type": "code",
   "execution_count": null,
   "id": "04110e92",
   "metadata": {},
   "outputs": [],
   "source": [
    "xgb.fit(X_train, y_train)"
   ]
  },
  {
   "cell_type": "code",
   "execution_count": null,
   "id": "63fa2286",
   "metadata": {},
   "outputs": [],
   "source": [
    "y_pred = xgb.predict(X_test)"
   ]
  },
  {
   "cell_type": "code",
   "execution_count": null,
   "id": "cb7d7d5b",
   "metadata": {},
   "outputs": [],
   "source": [
    "precision_score(y_test, y_pred)"
   ]
  },
  {
   "cell_type": "code",
   "execution_count": null,
   "id": "4dec5ab5",
   "metadata": {},
   "outputs": [],
   "source": [
    "accuracy_score(y_test, y_pred)"
   ]
  },
  {
   "cell_type": "code",
   "execution_count": null,
   "id": "bd0f74d6",
   "metadata": {},
   "outputs": [],
   "source": [
    "plot_confusion_matrix(xgb, X_test, y_test, values_format='d')"
   ]
  },
  {
   "cell_type": "code",
   "execution_count": null,
   "id": "6afa2870",
   "metadata": {},
   "outputs": [],
   "source": [
    "parametros = {\n",
    "    'learning_rate': [0.01, 0.1], #[0.1, 0.01, 0.015, 0.025, 0.05, 0.1],\n",
    "    'n_estimators': [500], # [500, 1000, 2000, 5000, 10000],\n",
    "    'max_depth': [3, 5, 9], # [3, 5, 7, 9, 12, 15, 17, 25],\n",
    "    'colsample_bytree': [0.6, 0.8], # [0.6, 0.7, 0.8, 0.9, 1.0],\n",
    "    'subsample': [0.6, 0.9], # [0.6, 0.7, 0.8, 0.9, 1.0],\n",
    "    'class_weight': ['balanced', None],\n",
    "}\n",
    "\n",
    "grid_search = GridSearchCV(XGBClassifier(), parametros, scoring='accuracy', cv=5, n_jobs=-1, verbose=1)\n",
    "grid_search.fit(X_train, y_train)\n",
    "\n",
    "print()\n",
    "print('='*100)\n",
    "print(grid_search.best_params_)\n",
    "print('='*100)\n",
    "print()"
   ]
  },
  {
   "cell_type": "code",
   "execution_count": null,
   "id": "123cc11e",
   "metadata": {},
   "outputs": [],
   "source": [
    "best_xgb = XGBClassifier(class_weight='balanced', colsample_bytree=0.8, learning_rate=0.01, max_depth=3, n_estimators=500, subsample=0.9)"
   ]
  },
  {
   "cell_type": "code",
   "execution_count": null,
   "id": "5d9bcd8e",
   "metadata": {},
   "outputs": [],
   "source": [
    "best_xgb.fit(X_train, y_train)"
   ]
  },
  {
   "cell_type": "code",
   "execution_count": null,
   "id": "bdcd22ad",
   "metadata": {},
   "outputs": [],
   "source": [
    "y_pred_best = best_xgb.predict(X_test)"
   ]
  },
  {
   "cell_type": "code",
   "execution_count": null,
   "id": "ff01b118",
   "metadata": {},
   "outputs": [],
   "source": [
    "precision_score_xgb = precision_score(y_test, y_pred_best)\n",
    "accuracy_score_xgb = accuracy_score(y_test, y_pred_best)\n",
    "recall_score_xgb = recall_score(y_test, y_pred_best)\n",
    "f1_score_xgb = f1_score(y_test, y_pred_best)\n",
    "roc_auc_score_xgb = roc_auc_score(y_test, y_pred_best)"
   ]
  },
  {
   "cell_type": "code",
   "execution_count": null,
   "id": "3b1ba6fb",
   "metadata": {},
   "outputs": [],
   "source": [
    "plot_confusion_matrix(best_xgb, X_test, y_test, values_format='d')"
   ]
  },
  {
   "cell_type": "code",
   "execution_count": null,
   "id": "4fbd9fc4",
   "metadata": {},
   "outputs": [],
   "source": [
    "accuracy_score_xgb"
   ]
  },
  {
   "cell_type": "code",
   "execution_count": null,
   "id": "067d7d8d",
   "metadata": {},
   "outputs": [],
   "source": [
    "precision_score_xgb"
   ]
  },
  {
   "cell_type": "code",
   "execution_count": null,
   "id": "692f5bf0",
   "metadata": {},
   "outputs": [],
   "source": [
    "recall_score_xgb"
   ]
  },
  {
   "cell_type": "code",
   "execution_count": null,
   "id": "b72871d1",
   "metadata": {},
   "outputs": [],
   "source": [
    "f1_score_xgb"
   ]
  },
  {
   "cell_type": "code",
   "execution_count": null,
   "id": "2c5d1507",
   "metadata": {},
   "outputs": [],
   "source": [
    "roc_auc_score_xgb"
   ]
  },
  {
   "cell_type": "markdown",
   "id": "f003e53f",
   "metadata": {},
   "source": [
    "## LGBM"
   ]
  },
  {
   "cell_type": "code",
   "execution_count": null,
   "id": "dc60cbea",
   "metadata": {},
   "outputs": [],
   "source": [
    "from lightgbm import LGBMClassifier"
   ]
  },
  {
   "cell_type": "code",
   "execution_count": null,
   "id": "273c4080",
   "metadata": {},
   "outputs": [],
   "source": [
    "lgbm = LGBMClassifier()"
   ]
  },
  {
   "cell_type": "code",
   "execution_count": null,
   "id": "5feb3b28",
   "metadata": {},
   "outputs": [],
   "source": [
    "lgbm.fit(X_train, y_train)"
   ]
  },
  {
   "cell_type": "code",
   "execution_count": null,
   "id": "3f1ce956",
   "metadata": {},
   "outputs": [],
   "source": [
    "y_pred = lgbm.predict(X_test)"
   ]
  },
  {
   "cell_type": "code",
   "execution_count": null,
   "id": "8d09c525",
   "metadata": {},
   "outputs": [],
   "source": [
    "precision_score(y_test, y_pred)"
   ]
  },
  {
   "cell_type": "code",
   "execution_count": null,
   "id": "3805c2f7",
   "metadata": {},
   "outputs": [],
   "source": [
    "accuracy_score(y_test, y_pred)"
   ]
  },
  {
   "cell_type": "code",
   "execution_count": null,
   "id": "06a08a2c",
   "metadata": {},
   "outputs": [],
   "source": [
    "plot_confusion_matrix(lgbm, X_test, y_test, values_format='d')"
   ]
  },
  {
   "cell_type": "code",
   "execution_count": null,
   "id": "16a99c99",
   "metadata": {},
   "outputs": [],
   "source": [
    "parametros = {\n",
    "    'learning_rate': [0.01, 0.05], # [0.01, 0.015, 0.025, 0.05, 0.1],\n",
    "    'n_estimators': [500], # [500, 1000, 2000, 5000, 10000],\n",
    "    'max_depth': [3, 7, 9], # [3, 5, 7, 9, 12, 15, 17, 25],\n",
    "    'colsample_bytree': [0.6], # [0.6, 0.7, 0.8, 0.9, 1.0],\n",
    "    'subsample': [0.8], # [0.6, 0.7, 0.8, 0.9, 1.0],\n",
    "    'class_weight': ['balanced', None],\n",
    "}\n",
    "\n",
    "grid_search = GridSearchCV(LGBMClassifier(), parametros, scoring='accuracy', cv=5, n_jobs=-1, verbose=1)\n",
    "grid_search.fit(X_train, y_train)\n",
    "\n",
    "print()\n",
    "print('='*100)\n",
    "print(grid_search.best_params_)\n",
    "print('='*100)\n",
    "print()"
   ]
  },
  {
   "cell_type": "code",
   "execution_count": null,
   "id": "8c148ecb",
   "metadata": {},
   "outputs": [],
   "source": [
    "best_lgbm = LGBMClassifier(class_weight=None, colsample_bytree=0.6, learning_rate=0.01, max_depth=3, n_estimators=500, subsample=0.8)"
   ]
  },
  {
   "cell_type": "code",
   "execution_count": null,
   "id": "3fcc3920",
   "metadata": {},
   "outputs": [],
   "source": [
    "best_lgbm.fit(X_train, y_train)"
   ]
  },
  {
   "cell_type": "code",
   "execution_count": null,
   "id": "781f5b35",
   "metadata": {},
   "outputs": [],
   "source": [
    "y_pred_best = best_lgbm.predict(X_test)"
   ]
  },
  {
   "cell_type": "code",
   "execution_count": null,
   "id": "e2db97d8",
   "metadata": {},
   "outputs": [],
   "source": [
    "precision_score_lgbm = precision_score(y_test, y_pred_best)\n",
    "accuracy_score_lgbm = accuracy_score(y_test, y_pred_best)\n",
    "recall_score_lgbm = recall_score(y_test, y_pred_best)\n",
    "f1_score_lgbm = f1_score(y_test, y_pred_best)\n",
    "roc_auc_score_lgbm = roc_auc_score(y_test, y_pred_best)"
   ]
  },
  {
   "cell_type": "code",
   "execution_count": null,
   "id": "d88cd24d",
   "metadata": {},
   "outputs": [],
   "source": [
    "plot_confusion_matrix(best_lgbm, X_test, y_test, values_format='d')"
   ]
  },
  {
   "cell_type": "code",
   "execution_count": null,
   "id": "23967b8c",
   "metadata": {},
   "outputs": [],
   "source": [
    "accuracy_score_lgbm"
   ]
  },
  {
   "cell_type": "code",
   "execution_count": null,
   "id": "529404e2",
   "metadata": {},
   "outputs": [],
   "source": [
    "precision_score_lgbm"
   ]
  },
  {
   "cell_type": "code",
   "execution_count": null,
   "id": "264442a2",
   "metadata": {},
   "outputs": [],
   "source": [
    "recall_score_lgbm"
   ]
  },
  {
   "cell_type": "code",
   "execution_count": null,
   "id": "eafa406e",
   "metadata": {},
   "outputs": [],
   "source": [
    "f1_score_lgbm"
   ]
  },
  {
   "cell_type": "code",
   "execution_count": null,
   "id": "5233c7c8",
   "metadata": {},
   "outputs": [],
   "source": [
    "roc_auc_score_lgbm"
   ]
  },
  {
   "cell_type": "markdown",
   "id": "ff00b354",
   "metadata": {},
   "source": [
    "###  Resumo das métricas de cada modelo\n"
   ]
  },
  {
   "cell_type": "markdown",
   "id": "ff636eb1",
   "metadata": {},
   "source": [
    "## Melhor modelo:"
   ]
  },
  {
   "cell_type": "markdown",
   "id": "266276f5",
   "metadata": {},
   "source": [
    "### Feature importance"
   ]
  },
  {
   "cell_type": "code",
   "execution_count": null,
   "id": "17562498",
   "metadata": {},
   "outputs": [],
   "source": [
    "data = {'lr': [precision_score_lr, accuracy_score_lr, recall_score_lr, f1_score_lr, roc_auc_score_lr],\n",
    "        'svm': [precision_score_svm, accuracy_score_svm, recall_score_svm, f1_score_svm, roc_auc_score_svm],\n",
    "        'dt': [precision_score_dt, accuracy_score_dt, recall_score_dt, f1_score_dt, roc_auc_score_dt],\n",
    "        'rf': [precision_score_rf, accuracy_score_rf, recall_score_rf, f1_score_rf, roc_auc_score_rf],\n",
    "        'xgb': [precision_score_xgb, accuracy_score_xgb, recall_score_xgb, f1_score_xgb, roc_auc_score_xgb],\n",
    "        'lgbm': [precision_score_lgbm, accuracy_score_lgbm, recall_score_lgbm, f1_score_lgbm, roc_auc_score_lgbm]}"
   ]
  },
  {
   "cell_type": "code",
   "execution_count": null,
   "id": "8a8a722f",
   "metadata": {},
   "outputs": [],
   "source": [
    "df_models = pd.DataFrame.from_dict(data, orient='index', columns=['precision', 'accuracy', 'recall', 'f1', 'roc_auc']).round(2)"
   ]
  },
  {
   "cell_type": "code",
   "execution_count": null,
   "id": "e3668c66",
   "metadata": {},
   "outputs": [],
   "source": [
    "df_models"
   ]
  },
  {
   "cell_type": "markdown",
   "id": "119bc18d",
   "metadata": {},
   "source": [
    "Todos os modelos testados possuem métricas de avaliação muito semelhantes. Como o modelo de **regressão linear** é o mais fácil de ser entendido e explicado, e também possui a maior precisão, esse será o modelo final escolhido."
   ]
  },
  {
   "cell_type": "markdown",
   "id": "65688fd8",
   "metadata": {},
   "source": [
    "## Verificando os pesos que o modelo atribuiu para cada variável"
   ]
  },
  {
   "cell_type": "code",
   "execution_count": 62,
   "id": "4293c898",
   "metadata": {},
   "outputs": [
    {
     "data": {
      "image/png": "[encoded data removed]",
      "text/plain": [
       "<Figure size 432x288 with 1 Axes>"
      ]
     },
     "metadata": {},
     "output_type": "display_data"
    }
   ],
   "source": [
    "# Get the coefficients for each feature\n",
    "coefs = pd.Series(best_lr_pipeline[1].coef_[0], index=X.columns)\n",
    "\n",
    "# Plot the coefficients\n",
    "coefs.plot(kind='bar')\n",
    "plt.show()"
   ]
  },
  {
   "cell_type": "code",
   "execution_count": 63,
   "id": "f5b23978",
   "metadata": {},
   "outputs": [
    {
     "data": {
      "text/plain": [
       "Pipeline(steps=[('numeric_scaler',\n",
       "                 SklearnTransformerWrapper(transformer=StandardScaler(),\n",
       "                                           variables=['gf_rolling_ratio',\n",
       "                                                      'ga_rolling_ratio',\n",
       "                                                      'points_last_season_ratio',\n",
       "                                                      'pont_rolling_ratio',\n",
       "                                                      'last_2_results'])),\n",
       "                ('logit', LogisticRegression(C=1))])"
      ]
     },
     "execution_count": 63,
     "metadata": {},
     "output_type": "execute_result"
    }
   ],
   "source": [
    "best_lr_pipeline"
   ]
  },
  {
   "cell_type": "code",
   "execution_count": 64,
   "id": "6a441759",
   "metadata": {},
   "outputs": [
    {
     "data": {
      "text/plain": [
       "['best_lr.pkl']"
      ]
     },
     "execution_count": 64,
     "metadata": {},
     "output_type": "execute_result"
    }
   ],
   "source": [
    "# salvando o modelo de ML\n",
    "import joblib\n",
    "\n",
    "joblib.dump(best_lr_pipeline, \"best_lr.pkl\")"
   ]
  }
 ],
 "metadata": {
  "kernelspec": {
   "display_name": "Python 3 (ipykernel)",
   "language": "python",
   "name": "python3"
  },
  "language_info": {
   "codemirror_mode": {
    "name": "ipython",
    "version": 3
   },
   "file_extension": ".py",
   "mimetype": "text/x-python",
   "name": "python",
   "nbconvert_exporter": "python",
   "pygments_lexer": "ipython3",
   "version": "3.9.12"
  }
 },
 "nbformat": 4,
 "nbformat_minor": 5
}
