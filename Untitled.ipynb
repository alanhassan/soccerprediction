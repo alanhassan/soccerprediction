{
 "cells": [
  {
   "cell_type": "code",
   "execution_count": 1,
   "id": "ae4b44e1",
   "metadata": {},
   "outputs": [],
   "source": [
    "# imports\n",
    "import base64\n",
    "from pickle import TRUE\n",
    "import requests\n",
    "import pandas as pd\n",
    "import requests\n",
    "import time\n",
    "from bs4 import BeautifulSoup\n",
    "import warnings\n",
    "from git import Repo\n",
    "from tqdm import tqdm\n",
    "from selenium.webdriver.common.by import By\n",
    "from selenium import webdriver\n",
    "import os\n",
    "import base64\n",
    "import joblib\n",
    "from io import BytesIO\n",
    "from github import Github\n",
    "\n",
    "warnings.filterwarnings(\"ignore\")"
   ]
  },
  {
   "cell_type": "code",
   "execution_count": 2,
   "id": "3c16a4c6",
   "metadata": {},
   "outputs": [],
   "source": [
    "# conectando com github\n",
    "\n",
    "#token\n",
    "\n",
    "key = os.environ.get('API_Key')\n",
    "g = Github(key)\n",
    "\n",
    "#repositório\n",
    "repo = g.get_repo(\"alanhassan/soccerprediction\")\n",
    "\n",
    "# df_rolling\n",
    "url_df = 'https://github.com/alanhassan/soccerprediction/blob/main/df_rolling.xlsx?raw=true'\n",
    "data = requests.get(url_df).content\n",
    "df_rolling = pd.read_excel(data)\n",
    "\n",
    "# match_df_final\n",
    "url_df_l2r = 'https://github.com/alanhassan/soccerprediction/blob/main/match_df_final_all.xlsx?raw=true'\n",
    "data_l2r = requests.get(url_df_l2r).content\n",
    "match_df_final_all = pd.read_excel(data_l2r)\n",
    "\n",
    "#get ml model from github\n",
    "url_ml = 'https://github.com/alanhassan/soccerprediction/blob/main/best_lr.pkl?raw=true'\n",
    "\n",
    "file = BytesIO(requests.get(url_ml).content)\n",
    "\n",
    "ml = joblib.load(file)\n",
    "\n",
    "ml.fitted_ = True\n",
    "\n",
    "# funções \n",
    "# func home\n",
    "def home(df, team):\n",
    "    df = df.sort_values(by=['date'])\n",
    "    df = df[df['home'] == f'{team}'][-1:].drop(columns = ['date', 'comp', 'home', 'away',\n",
    "                                                            'gf_rolling_away', 'ga_rolling_away',\n",
    "                                                            'pont_rolling_away', 'Points last season_away'\n",
    "                                                            ], inplace=False)\n",
    "    df.rename(columns={\"gf_rolling_home\": \"gf_rolling\",\n",
    "                            \"ga_rolling_home\": \"ga_rolling\",\n",
    "                            \"pont_rolling_home\": \"pont_rolling\",\n",
    "                            \"Points last season_home\": \"Points last season\"}, inplace=True)\n",
    "    df = df[['Points last season', 'pont_rolling', 'gf_rolling', 'ga_rolling']].reset_index(drop=True)\n",
    "    return df\n",
    "\n",
    "# func away\n",
    "def away(df, team):\n",
    "    df = df.sort_values(by=['date'])\n",
    "    df = df[df['away'] == f'{team}'][-1:].drop(columns = ['date', 'comp', 'home', 'away',\n",
    "                                                            'gf_rolling_home', 'ga_rolling_home',\n",
    "                                                            'pont_rolling_home', 'Points last season_home'\n",
    "                                                            ], inplace=False)\n",
    "    df.rename(columns={\"gf_rolling_away\": \"gf_rolling\",\n",
    "                            \"ga_rolling_away\": \"ga_rolling\",\n",
    "                            \"pont_rolling_away\": \"pont_rolling\",\n",
    "                            \"Points last season_away\": \"Points last season\"}, inplace=True)\n",
    "    df = df[['Points last season', 'pont_rolling', 'gf_rolling', 'ga_rolling']].reset_index(drop=True)\n",
    "    df['pont_rolling'].replace(0, 1, inplace=True)\n",
    "    df['gf_rolling'].replace(0, 1, inplace=True)\n",
    "    df['ga_rolling'].replace(0, 1, inplace=True)\n",
    "    return df\n",
    "\n",
    "# func ratio\n",
    "def ratio(df, team1, team2):\n",
    "    df = home(df, f'{team1}')/away(df, f'{team2}')\n",
    "    df.rename(columns={\"Points last season\": \"points_last_season_ratio\",\n",
    "                        \"pont_rolling\": \"pont_rolling_ratio\",\n",
    "                        \"gf_rolling\": \"gf_rolling_ratio\",\n",
    "                        \"ga_rolling\": \"ga_rolling_ratio\"}, inplace=True)\n",
    "    return df\n",
    "\n",
    "# func for 'last_2_results'\n",
    "def last_2_results(df, team1, team2):\n",
    "    df = match_df_final_all.sort_values(by='date').reset_index(drop=True)\n",
    "    length = df[(df['team'] == f'{team1}') & (df['opponent'] == f'{team2}')].shape[0]\n",
    "    if length >= 2:\n",
    "        last_2_results_sum = df[(df['team'] == f'{team1}') & (df['opponent'] == f'{team2}')].iloc[-1]['last_2_results_sum']\n",
    "    elif length == 1:\n",
    "        last_2_results_sum = df[(df['team'] == f'{team1}') & (df['opponent'] == f'{team2}')].iloc[-1]['pont']\n",
    "    elif length == 0:\n",
    "        last_2_results_sum = 1\n",
    "    return last_2_results_sum\n",
    "\n"
   ]
  },
  {
   "cell_type": "code",
   "execution_count": 5,
   "id": "b793b108",
   "metadata": {},
   "outputs": [],
   "source": [
    "# Instanciando o Objeto ChromeOptions\n",
    "options = webdriver.ChromeOptions()\n",
    "\n",
    "# Passando algumas opções para esse ChromeOptions\n",
    "options.add_argument('--headless')\n",
    "options.add_argument('--no-sandbox')\n",
    "options.add_argument('--disable-dev-shm-usage')\n",
    "\n",
    "# Criação do WebDriver do Chrome\n",
    "wd_Chrome = webdriver.Chrome('chromedriver',options=options)\n",
    "\n",
    "# Com o WebDrive a gente consegue a pedir a página (URL)\n",
    "wd_Chrome.get(\"https://www.flashscore.com/\")\n",
    "\n",
    "# Fechando Botão de Cookies\n",
    "try:\n",
    "    button_cookies = wd_Chrome.find_element(By.CSS_SELECTOR,'button#onetrust-accept-btn-handler')\n",
    "    button_cookies.click()\n",
    "except:\n",
    "    pass\n",
    "\n",
    "ids = []  # create an empty list to store IDs\n",
    "\n",
    "time.sleep(5)\n",
    "for i in range(6):\n",
    "\n",
    "    # Selecionando o dia de amanhã\n",
    "    wd_Chrome.find_element(By.CSS_SELECTOR,'button.calendar__navigation--tomorrow').click()\n",
    "    time.sleep(3)\n",
    "\n",
    "    # Pegando o ID dos Jogos\n",
    "    id_jogos = []\n",
    "    jogos = wd_Chrome.find_elements(By.CSS_SELECTOR,'div.event__match--scheduled')\n",
    "\n",
    "    for i in jogos:\n",
    "        id_jogos.append(i.get_attribute(\"id\"))\n",
    "\n",
    "    # Exemplo de ID de um jogo: 'g_1_Gb7buXVt'    \n",
    "    id_jogos = [i[4:] for i in id_jogos]\n",
    "    \n",
    "    ids.append(id_jogos)\n",
    "        \n",
    "    i=+1\n",
    "\n",
    "jogo = {'Date':[],'Time':[],'Country':[],'League':[],'Home':[],'Away':[],'Odds_H':[],'Odds_D':[],'Odds_A':[]}    \n",
    "\n",
    "final_ids = []\n"
   ]
  },
  {
   "cell_type": "code",
   "execution_count": null,
   "id": "8fcdbaf9",
   "metadata": {},
   "outputs": [
    {
     "name": "stderr",
     "output_type": "stream",
     "text": [
      "  0%|                                                                               | 1/1721 [00:03<1:26:17,  3.01s/it]"
     ]
    },
    {
     "name": "stdout",
     "output_type": "stream",
     "text": [
      "22.08.2023 16:00 EUROPE CHAMPIONS LEAGUE - QUALIFICATION - FINAL Antwerp (Bel) AEK Athens FC (Gre) 2.10 3.60 3.50\n"
     ]
    },
    {
     "name": "stderr",
     "output_type": "stream",
     "text": [
      "\r",
      "  0%|                                                                               | 2/1721 [00:05<1:23:22,  2.91s/it]"
     ]
    },
    {
     "name": "stdout",
     "output_type": "stream",
     "text": [
      "22.08.2023 16:00 EUROPE CHAMPIONS LEAGUE - QUALIFICATION - FINAL Rakow (Pol) FC Copenhagen (Den) 2.55 3.30 2.90\n"
     ]
    },
    {
     "name": "stderr",
     "output_type": "stream",
     "text": [
      "\r",
      "  0%|▏                                                                              | 3/1721 [00:08<1:22:08,  2.87s/it]"
     ]
    },
    {
     "name": "stdout",
     "output_type": "stream",
     "text": [
      "22.08.2023 16:00 EUROPE CHAMPIONS LEAGUE - QUALIFICATION - FINAL Rangers (Sco) PSV (Ned) 2.75 3.75 2.45\n"
     ]
    },
    {
     "name": "stderr",
     "output_type": "stream",
     "text": [
      "\r",
      "  0%|▏                                                                              | 4/1721 [00:11<1:23:01,  2.90s/it]"
     ]
    },
    {
     "name": "stdout",
     "output_type": "stream",
     "text": [
      "22.08.2023 07:30 ASIA AFC CHAMPIONS LEAGUE - QUALIFICATION - FINAL Incheon (Kor) Hai Phong (Vie) 2.75 3.75 2.45\n"
     ]
    },
    {
     "name": "stderr",
     "output_type": "stream",
     "text": [
      "\r",
      "  0%|▏                                                                              | 5/1721 [00:14<1:23:46,  2.93s/it]"
     ]
    },
    {
     "name": "stdout",
     "output_type": "stream",
     "text": [
      "22.08.2023 07:30 ASIA AFC CHAMPIONS LEAGUE - QUALIFICATION - FINAL Urawa Reds (Jpn) Lee Man Warriors (Hkg) 1.22 5.00 10.00\n"
     ]
    },
    {
     "name": "stderr",
     "output_type": "stream",
     "text": [
      "\r",
      "  0%|▎                                                                              | 6/1721 [00:17<1:25:25,  2.99s/it]"
     ]
    },
    {
     "name": "stdout",
     "output_type": "stream",
     "text": [
      "22.08.2023 08:30 ASIA AFC CHAMPIONS LEAGUE - QUALIFICATION - FINAL Shanghai Port (Chn) Pathum United (Tha) 1.30 5.00 10.00\n"
     ]
    },
    {
     "name": "stderr",
     "output_type": "stream",
     "text": [
      "\r",
      "  0%|▎                                                                              | 7/1721 [00:21<1:28:35,  3.10s/it]"
     ]
    },
    {
     "name": "stdout",
     "output_type": "stream",
     "text": [
      "22.08.2023 08:30 ASIA AFC CHAMPIONS LEAGUE - QUALIFICATION - FINAL Zhejiang Professional (Chn) Port MTI FC (Tha) 1.78 3.75 4.20\n"
     ]
    },
    {
     "name": "stderr",
     "output_type": "stream",
     "text": [
      "\r",
      "  0%|▎                                                                              | 8/1721 [00:24<1:27:42,  3.07s/it]"
     ]
    },
    {
     "name": "stdout",
     "output_type": "stream",
     "text": [
      "22.08.2023 12:30 ASIA AFC CHAMPIONS LEAGUE - QUALIFICATION - FINAL Al Wakra (Qat) Navbahor Namangan (Uzb) 2.20 3.40 3.10\n"
     ]
    },
    {
     "name": "stderr",
     "output_type": "stream",
     "text": [
      "\r",
      "  1%|▍                                                                              | 9/1721 [00:27<1:28:22,  3.10s/it]"
     ]
    },
    {
     "name": "stdout",
     "output_type": "stream",
     "text": [
      "22.08.2023 13:00 ASIA AFC CHAMPIONS LEAGUE - QUALIFICATION - FINAL Tractor (Irn) Al Sharjah (Uae) 2.20 3.30 3.20\n"
     ]
    },
    {
     "name": "stderr",
     "output_type": "stream",
     "text": [
      "\r",
      "  1%|▍                                                                             | 10/1721 [00:30<1:30:02,  3.16s/it]"
     ]
    },
    {
     "name": "stdout",
     "output_type": "stream",
     "text": [
      "22.08.2023 14:20 ASIA AFC CHAMPIONS LEAGUE - QUALIFICATION - FINAL Al Nassr (Sau) Shabab Al-Ahli Dubai (Uae) 1.22 6.00 11.00\n"
     ]
    },
    {
     "name": "stderr",
     "output_type": "stream",
     "text": [
      "\r",
      "  1%|▍                                                                             | 11/1721 [00:33<1:28:38,  3.11s/it]"
     ]
    },
    {
     "name": "stdout",
     "output_type": "stream",
     "text": [
      "22.08.2023 14:30 ASIA AFC CHAMPIONS LEAGUE - QUALIFICATION - FINAL Al Arabi (Qat) OKMK (Uzb) 1.75 3.75 4.33\n"
     ]
    },
    {
     "name": "stderr",
     "output_type": "stream",
     "text": [
      "\r",
      "  1%|▌                                                                             | 12/1721 [00:36<1:27:40,  3.08s/it]"
     ]
    },
    {
     "name": "stdout",
     "output_type": "stream",
     "text": [
      "22.08.2023 08:00 ASIA AFC CUP - QUALIFICATION - PLAY OFFS - FINAL Khujand (Taj) Merw (Tkm) 1.75 3.75 4.33\n"
     ]
    },
    {
     "name": "stderr",
     "output_type": "stream",
     "text": [
      "\r",
      "  1%|▌                                                                             | 13/1721 [00:39<1:27:05,  3.06s/it]"
     ]
    },
    {
     "name": "stdout",
     "output_type": "stream",
     "text": [
      "22.08.2023 10:30 ASIA AFC CUP - QUALIFICATION - PLAY OFFS - FINAL Mohun Bagan (Ind) Abahani Limited (Ban) 1.75 3.75 4.33\n"
     ]
    },
    {
     "name": "stderr",
     "output_type": "stream",
     "text": [
      "\r",
      "  1%|▋                                                                             | 14/1721 [00:42<1:24:41,  2.98s/it]"
     ]
    },
    {
     "name": "stdout",
     "output_type": "stream",
     "text": [
      "22.08.2023 11:00 ASIA AFC CUP - QUALIFICATION - PLAY OFFS - FINAL Al-Ittihad (Syr) Al Khaleel (Pal) 1.75 3.75 4.33\n"
     ]
    },
    {
     "name": "stderr",
     "output_type": "stream",
     "text": [
      "\r",
      "  1%|▋                                                                             | 15/1721 [00:45<1:25:25,  3.00s/it]"
     ]
    },
    {
     "name": "stdout",
     "output_type": "stream",
     "text": [
      "22.08.2023 13:00 ASIA AFC CUP - QUALIFICATION - PLAY OFFS - FINAL Al Khalidiyah (Bhr) Al Nahda (Oma) 2.15 3.05 3.35\n"
     ]
    },
    {
     "name": "stderr",
     "output_type": "stream",
     "text": [
      "\r",
      "  1%|▋                                                                             | 16/1721 [00:48<1:24:57,  2.99s/it]"
     ]
    },
    {
     "name": "stdout",
     "output_type": "stream",
     "text": [
      "22.08.2023 10:00 ASIA AFF CHAMPIONSHIP U23 - ROUND 3 East Timor U23 Malaysia U23 20.00 10.00 1.05\n"
     ]
    },
    {
     "name": "stderr",
     "output_type": "stream",
     "text": [
      "\r",
      "  1%|▊                                                                             | 17/1721 [00:51<1:24:33,  2.98s/it]"
     ]
    },
    {
     "name": "stdout",
     "output_type": "stream",
     "text": [
      "22.08.2023 10:00 ASIA AFF CHAMPIONSHIP U23 - ROUND 3 Vietnam U23 Philippines U23 1.17 6.00 11.25\n"
     ]
    },
    {
     "name": "stderr",
     "output_type": "stream",
     "text": [
      "\r",
      "  1%|▊                                                                             | 18/1721 [00:54<1:24:55,  2.99s/it]"
     ]
    },
    {
     "name": "stdout",
     "output_type": "stream",
     "text": [
      "22.08.2023 13:30 AUSTRIA 2. LIGA - ROUND 2 Horn Liefering 2.75 3.75 2.25\n"
     ]
    },
    {
     "name": "stderr",
     "output_type": "stream",
     "text": [
      "\r",
      "  1%|▊                                                                             | 19/1721 [00:57<1:25:09,  3.00s/it]"
     ]
    },
    {
     "name": "stdout",
     "output_type": "stream",
     "text": [
      "22.08.2023 14:00 BELARUS VYSSHAYA LIGA - ROUND 18 Neman FC Gomel 1.59 3.94 5.75\n"
     ]
    },
    {
     "name": "stderr",
     "output_type": "stream",
     "text": [
      "\r",
      "  1%|▉                                                                             | 20/1721 [01:00<1:24:44,  2.99s/it]"
     ]
    },
    {
     "name": "stdout",
     "output_type": "stream",
     "text": [
      "22.08.2023 19:00 BRAZIL SERIE B - ROUND 25 Mirassol Juventude 2.00 3.10 4.00\n"
     ]
    }
   ],
   "source": [
    "for sublist in ids:\n",
    "    final_ids.extend(sublist)\n",
    "\n",
    "\n",
    "# Pegando as Informacoes Básicas do Jogo\n",
    "for link in tqdm(final_ids, total=len(final_ids)):\n",
    "    wd_Chrome.get(f'https://www.flashscore.com/match/{link}/#/match-summary')\n",
    "    \n",
    "    try:\n",
    "        Date = wd_Chrome.find_element(By.CSS_SELECTOR,'div.duelParticipant__startTime').text.split(' ')[0]\n",
    "        Time = wd_Chrome.find_element(By.CSS_SELECTOR,'div.duelParticipant__startTime').text.split(' ')[1]\n",
    "        Country = wd_Chrome.find_element(By.CSS_SELECTOR,'span.tournamentHeader__country').text.split(':')[0]\n",
    "        League = wd_Chrome.find_element(By.CSS_SELECTOR,'span.tournamentHeader__country')\n",
    "        League = League.find_element(By.CSS_SELECTOR,'a').text\n",
    "        Home = wd_Chrome.find_element(By.CSS_SELECTOR,'div.duelParticipant__home')\n",
    "        Home = Home.find_element(By.CSS_SELECTOR,'div.participant__participantName').text\n",
    "        Away = wd_Chrome.find_element(By.CSS_SELECTOR,'div.duelParticipant__away')\n",
    "        Away = Away.find_element(By.CSS_SELECTOR,'div.participant__participantName').text\n",
    "    except:\n",
    "        pass\n",
    "\n",
    "# Match Odds\n",
    "    try:\n",
    "        wd_Chrome.get(f'https://www.flashscore.com/match/{link}/#/odds-comparison/1x2-odds/full-time')\n",
    "        time.sleep(2)\n",
    "        \n",
    "        linhas = wd_Chrome.find_elements(By.CSS_SELECTOR,'div.ui-table__row')\n",
    "        \n",
    "        for linha in linhas:\n",
    "                Odds_H = linha.find_elements(By.CSS_SELECTOR,'a.oddsCell__odd')[0].text\n",
    "                Odds_D = linha.find_elements(By.CSS_SELECTOR,'a.oddsCell__odd')[1].text \n",
    "                Odds_A = linha.find_elements(By.CSS_SELECTOR,'a.oddsCell__odd')[2].text\n",
    "    except:\n",
    "        pass\n",
    "\n",
    "    print(Date,Time,Country,League,Home,Away,Odds_H,Odds_D,Odds_A) \n",
    "    \n",
    "    jogo['Date'].append(Date)\n",
    "    jogo['Time'].append(Time)\n",
    "    jogo['Country'].append(Country)\n",
    "    jogo['League'].append(League)\n",
    "    jogo['Home'].append(Home)\n",
    "    jogo['Away'].append(Away)\n",
    "    jogo['Odds_H'].append(Odds_H)\n",
    "    jogo['Odds_D'].append(Odds_D)\n",
    "    jogo['Odds_A'].append(Odds_A)\n",
    "\n",
    "df = pd.DataFrame(jogo)\n",
    "df.reset_index(inplace=True, drop=True)\n",
    "df.index = df.index.set_names(['Nº'])\n",
    "df = df.rename(index=lambda x: x + 1)\n"
   ]
  },
  {
   "cell_type": "code",
   "execution_count": null,
   "id": "3c97724e",
   "metadata": {},
   "outputs": [],
   "source": []
  }
 ],
 "metadata": {
  "kernelspec": {
   "display_name": "Python 3 (ipykernel)",
   "language": "python",
   "name": "python3"
  },
  "language_info": {
   "codemirror_mode": {
    "name": "ipython",
    "version": 3
   },
   "file_extension": ".py",
   "mimetype": "text/x-python",
   "name": "python",
   "nbconvert_exporter": "python",
   "pygments_lexer": "ipython3",
   "version": "3.9.12"
  }
 },
 "nbformat": 4,
 "nbformat_minor": 5
}
